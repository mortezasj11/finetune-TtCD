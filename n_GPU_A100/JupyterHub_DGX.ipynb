{
 "cells": [
  {
   "cell_type": "markdown",
   "id": "8f2aed02-3d9c-4f45-b9fd-92d71e1238b6",
   "metadata": {},
   "source": [
    "#  DDP"
   ]
  },
  {
   "cell_type": "markdown",
   "id": "dc22ab11-89d3-4805-9cff-b2ee1542fb68",
   "metadata": {},
   "source": [
    "### 1. running on our DGX\n",
    "- docker run -it --rm --gpus '\"device=4,5,6,7\"' -p 12344:12344 --name msalehjahromi --shm-size=192G  --user $(id -u):$(id -g) --group-add 1944259512 --cpuset-cpus=49-96 -v /rsrch7/home/ip_rsrch/wulab/:/rsrch7/home/ip_rsrch/wulab -v /rsrch1/ip/msalehjahromi/:/rsrch1/ip/msalehjahromi --name mori_jupyter nnunetv2:msalehjahromi\n",
    "- cd /rsrch1/ip/msalehjahromi/codes/FineTune/multiGPU/n_GPU_A100\n",
    "- jupyter notebook --ip 0.0.0.0 --port 12344\n",
    "- http://1mcprddgx05"
   ]
  },
  {
   "cell_type": "code",
   "execution_count": null,
   "id": "812ec4ab",
   "metadata": {},
   "outputs": [],
   "source": [
    "!gpustat"
   ]
  },
  {
   "cell_type": "markdown",
   "id": "b5180fba",
   "metadata": {},
   "source": [
    "### 2. Probably need installation, restart after and run 3"
   ]
  },
  {
   "cell_type": "code",
   "execution_count": 4,
   "id": "9e6f2e39-b110-4be8-82bd-5443f49ca638",
   "metadata": {},
   "outputs": [],
   "source": [
    "# ## !pip uninstall -q histolab -y\n",
    "# # Install required packages first\n",
    "# import os\n",
    "# import subprocess\n",
    "# pip_commands = [\n",
    "#     [\"pip\", \"install\",\"-q\", \"--extra-index-url\", \"https://download.pytorch.org/whl/cu117\", \n",
    "#      \"torch==2.0.0\", \"torchvision==0.15.0\", \"omegaconf\", \"torchmetrics==0.10.3\", \n",
    "#      \"fvcore\", \"iopath\", \"xformers==0.0.18\", \"submitit\", \"numpy<2.0\"],\n",
    "#     [\"pip\", \"install\", \"-q\",  \"--extra-index-url\", \"https://pypi.nvidia.com\", \"cuml-cu11\"],\n",
    "#     [\"pip\", \"install\",\"-q\",  \"black==22.6.0\", \"flake8==5.0.4\", \"pylint==2.15.0\"],\n",
    "#     [\"pip\", \"install\", \"-q\", \"mmsegmentation==0.27.0\"],\n",
    "#     [\"pip\", \"install\",\"-q\", \"mmcv-full==1.5.0\"],\n",
    "#     [\"pip\", \"install\",\"-q\", \"nibabel\"]\n",
    "# ]\n",
    "\n",
    "# for cmd in pip_commands:\n",
    "#     try:\n",
    "#         print(cmd)\n",
    "#         subprocess.run(cmd, check=True)\n",
    "#     except subprocess.CalledProcessError as e:\n",
    "#         print(f\"Failed to install packages with command: {cmd}\")\n",
    "#         print(f\"Error: {e}\")"
   ]
  },
  {
   "cell_type": "markdown",
   "id": "f6b58805",
   "metadata": {},
   "source": [
    "### 3. running, notice important hyperparams\n",
    "-  which model are use so vmin -1000., vmax +150, eps 0.00005\n",
    "- `num-workers`\n",
    "- `epochs`: 100\n",
    "- `accum-steps`: 2000 ?\n",
    "- `max-chunks`: 66 \n",
    "- `lr`:  lr*0.1 on base ?\n",
    "- `warmup-steps`: 5k\n",
    "- `print-every` : 5000\n",
    "- `val-every` : 40000"
   ]
  },
  {
   "cell_type": "code",
   "execution_count": 1,
   "id": "c853f80d",
   "metadata": {},
   "outputs": [
    {
     "name": "stderr",
     "output_type": "stream",
     "text": [
      "WARNING:torch.distributed.run:\n",
      "*****************************************\n",
      "Setting OMP_NUM_THREADS environment variable for each process to be 1 in default, to avoid your system being overloaded, please further tune the variable for optimal performance in your application as needed. \n",
      "*****************************************\n",
      "/rsrch1/ip/msalehjahromi/codes/dinov2-torchrun-dataloader6/dinov2/layers/swiglu_ffn.py:43: UserWarning: xFormers is available (SwiGLU)\n",
      "  warnings.warn(\"xFormers is available (SwiGLU)\")\n",
      "/rsrch1/ip/msalehjahromi/codes/dinov2-torchrun-dataloader6/dinov2/layers/swiglu_ffn.py:43: UserWarning: xFormers is available (SwiGLU)\n",
      "  warnings.warn(\"xFormers is available (SwiGLU)\")\n",
      "/rsrch1/ip/msalehjahromi/codes/dinov2-torchrun-dataloader6/dinov2/layers/attention.py:27: UserWarning: xFormers is available (Attention)\n",
      "  warnings.warn(\"xFormers is available (Attention)\")\n",
      "/rsrch1/ip/msalehjahromi/codes/dinov2-torchrun-dataloader6/dinov2/layers/attention.py:27: UserWarning: xFormers is available (Attention)\n",
      "  warnings.warn(\"xFormers is available (Attention)\")\n",
      "/rsrch1/ip/msalehjahromi/codes/dinov2-torchrun-dataloader6/dinov2/layers/block.py:33: UserWarning: xFormers is available (Block)\n",
      "  warnings.warn(\"xFormers is available (Block)\")\n",
      "/rsrch1/ip/msalehjahromi/codes/dinov2-torchrun-dataloader6/dinov2/layers/block.py:33: UserWarning: xFormers is available (Block)\n",
      "  warnings.warn(\"xFormers is available (Block)\")\n",
      "2025-05-28 04:51:09,298 - INFO - Starting training on 2 GPUs with full model copies (DDP)\n"
     ]
    },
    {
     "name": "stdout",
     "output_type": "stream",
     "text": [
      "Files in the directory: ['n_GPU_A100_v2', '._.gitignore', '._.DS_Store', '._See_attention.ipynb', '1_GPU_H100', 'See_attention.ipynb', 'n_GPU_A100', 'metrics_single_gpu', 'n_H100onH100', '.DS_Store', '1_GPU_A100', 'ReadMe.md', '.gitignore', 'metrics_multi_gpu', '.git']\n",
      "Files in the directory: ['n_GPU_A100_v2', '._.gitignore', '._.DS_Store', '._See_attention.ipynb', '1_GPU_H100', 'See_attention.ipynb', 'n_GPU_A100', 'metrics_single_gpu', 'n_H100onH100', '.DS_Store', '1_GPU_A100', 'ReadMe.md', '.gitignore', 'metrics_multi_gpu', '.git']\n",
      "Train dataset created on rank \n",
      "Train dataset created on rank \n",
      "\n",
      "==== Dataset Statistics ====\n",
      "Total samples: 43852\n",
      "Training samples: 38382\n",
      "Validation samples: 5470\n",
      "\n",
      "1-year-cancer:\n",
      "  Train positive: 1428 (3.72%)\n",
      "  Val positive: 188 (3.44%)\n",
      "\n",
      "2-year-cancer:\n",
      "  Train positive: 1891 (4.93%)\n",
      "  Val positive: 256 (4.68%)\n",
      "\n",
      "3-year-cancer:\n",
      "  Train positive: 2282 (5.95%)\n",
      "  Val positive: 315 (5.76%)\n",
      "\n",
      "4-year-cancer:\n",
      "  Train positive: 2586 (6.74%)\n",
      "  Val positive: 363 (6.64%)\n",
      "\n",
      "5-year-cancer:\n",
      "  Train positive: 2838 (7.39%)\n",
      "  Val positive: 403 (7.37%)\n",
      "\n",
      "6-year-cancer:\n",
      "  Train positive: 2988 (7.78%)\n",
      "  Val positive: 429 (7.84%)\n",
      "============================\n",
      "\n",
      "Total validation samples: 5470\n",
      "Created distributed validation loader, each rank processes ~2568 samples\n"
     ]
    },
    {
     "name": "stderr",
     "output_type": "stream",
     "text": [
      "2025-05-28 04:51:12,099 - INFO - using MLP layer as FFN\n"
     ]
    },
    {
     "name": "stdout",
     "output_type": "stream",
     "text": [
      "Model loaded on rank \n",
      "Model loaded on rank \n"
     ]
    },
    {
     "name": "stderr",
     "output_type": "stream",
     "text": [
      "/rsrch1/ip/msalehjahromi/codes/FineTune/multiGPU/n_GPU_A100/2_run_fineTune_ddp_full.py:118: UserWarning: TypedStorage is deprecated. It will be removed in the future and UntypedStorage will be the only storage class. This should only matter to you if you are using storages directly.  To access UntypedStorage directly, use tensor.untyped_storage() instead of tensor.storage()\n",
      "  if hasattr(m, n) and getattr(m, n).storage().size() == 0:\n",
      "/rsrch1/ip/msalehjahromi/codes/FineTune/multiGPU/n_GPU_A100/2_run_fineTune_ddp_full.py:118: UserWarning: TypedStorage is deprecated. It will be removed in the future and UntypedStorage will be the only storage class. This should only matter to you if you are using storages directly.  To access UntypedStorage directly, use tensor.untyped_storage() instead of tensor.storage()\n",
      "  if hasattr(m, n) and getattr(m, n).storage().size() == 0:\n"
     ]
    },
    {
     "name": "stdout",
     "output_type": "stream",
     "text": [
      "176 26\n",
      "Per-class pos_weight: [25.87815   18.887362  15.106485  12.721578   8.519028   4.3761716]\n",
      "176 26\n",
      "Will save metrics to: /rsrch1/ip/msalehjahromi/codes/FineTune/multiGPU/metrics_multi_gpu/training_metrics_nGPU_DDP_20250528_045125.jsonl\n",
      "Will save checkpoints to ./output_ddp_p16_23_1150_ac2000/checkpoints\n",
      "\n",
      "Training Configuration:\n",
      "Max chunks per sample: 72\n",
      "Learning rate: 0.0004\n",
      "Gradient accumulation steps: 500\n",
      "Number of tasks: 6\n",
      "Validation frequency: 150000 steps\n",
      "Number of epochs: 200\n",
      "Warmup steps: 5000\n",
      "World size: 2\n",
      "Device: cuda\n",
      "\n",
      "Epoch 1: All parameters already unfrozen (strategy: all)\n"
     ]
    },
    {
     "name": "stderr",
     "output_type": "stream",
     "text": [
      "/.local/lib/python3.10/site-packages/xformers/ops/fmha/flash.py:338: UserWarning: TypedStorage is deprecated. It will be removed in the future and UntypedStorage will be the only storage class. This should only matter to you if you are using storages directly.  To access UntypedStorage directly, use tensor.untyped_storage() instead of tensor.storage()\n",
      "  and inp.query.storage().data_ptr() == inp.key.storage().data_ptr()\n",
      "/.local/lib/python3.10/site-packages/xformers/ops/fmha/flash.py:339: UserWarning: TypedStorage is deprecated. It will be removed in the future and UntypedStorage will be the only storage class. This should only matter to you if you are using storages directly.  To access UntypedStorage directly, use tensor.untyped_storage() instead of tensor.storage()\n",
      "  and inp.query.storage().data_ptr() == inp.value.storage().data_ptr()\n",
      "/.local/lib/python3.10/site-packages/xformers/ops/unbind.py:46: UserWarning: TypedStorage is deprecated. It will be removed in the future and UntypedStorage will be the only storage class. This should only matter to you if you are using storages directly.  To access UntypedStorage directly, use tensor.untyped_storage() instead of tensor.storage()\n",
      "  storage_data_ptr = tensors[0].storage().data_ptr()\n",
      "/.local/lib/python3.10/site-packages/xformers/ops/unbind.py:48: UserWarning: TypedStorage is deprecated. It will be removed in the future and UntypedStorage will be the only storage class. This should only matter to you if you are using storages directly.  To access UntypedStorage directly, use tensor.untyped_storage() instead of tensor.storage()\n",
      "  if x.storage().data_ptr() != storage_data_ptr:\n",
      "/.local/lib/python3.10/site-packages/xformers/ops/fmha/flash.py:338: UserWarning: TypedStorage is deprecated. It will be removed in the future and UntypedStorage will be the only storage class. This should only matter to you if you are using storages directly.  To access UntypedStorage directly, use tensor.untyped_storage() instead of tensor.storage()\n",
      "  and inp.query.storage().data_ptr() == inp.key.storage().data_ptr()\n",
      "/.local/lib/python3.10/site-packages/xformers/ops/fmha/flash.py:339: UserWarning: TypedStorage is deprecated. It will be removed in the future and UntypedStorage will be the only storage class. This should only matter to you if you are using storages directly.  To access UntypedStorage directly, use tensor.untyped_storage() instead of tensor.storage()\n",
      "  and inp.query.storage().data_ptr() == inp.value.storage().data_ptr()\n",
      "/.local/lib/python3.10/site-packages/xformers/ops/unbind.py:46: UserWarning: TypedStorage is deprecated. It will be removed in the future and UntypedStorage will be the only storage class. This should only matter to you if you are using storages directly.  To access UntypedStorage directly, use tensor.untyped_storage() instead of tensor.storage()\n",
      "  storage_data_ptr = tensors[0].storage().data_ptr()\n",
      "/.local/lib/python3.10/site-packages/xformers/ops/unbind.py:48: UserWarning: TypedStorage is deprecated. It will be removed in the future and UntypedStorage will be the only storage class. This should only matter to you if you are using storages directly.  To access UntypedStorage directly, use tensor.untyped_storage() instead of tensor.storage()\n",
      "  if x.storage().data_ptr() != storage_data_ptr:\n",
      "/.local/lib/python3.10/site-packages/torch/optim/lr_scheduler.py:139: UserWarning: Detected call of `lr_scheduler.step()` before `optimizer.step()`. In PyTorch 1.1.0 and later, you should call them in the opposite order: `optimizer.step()` before `lr_scheduler.step()`.  Failure to do this will result in PyTorch skipping the first value of the learning rate schedule. See more details at https://pytorch.org/docs/stable/optim.html#how-to-adjust-learning-rate\n",
      "  warnings.warn(\"Detected call of `lr_scheduler.step()` before `optimizer.step()`. \"\n",
      "/.local/lib/python3.10/site-packages/torch/optim/lr_scheduler.py:139: UserWarning: Detected call of `lr_scheduler.step()` before `optimizer.step()`. In PyTorch 1.1.0 and later, you should call them in the opposite order: `optimizer.step()` before `lr_scheduler.step()`.  Failure to do this will result in PyTorch skipping the first value of the learning rate schedule. See more details at https://pytorch.org/docs/stable/optim.html#how-to-adjust-learning-rate\n",
      "  warnings.warn(\"Detected call of `lr_scheduler.step()` before `optimizer.step()`. \"\n"
     ]
    },
    {
     "name": "stdout",
     "output_type": "stream",
     "text": [
      "\n",
      "Step 1000 (Epoch 1):\n",
      "Loss: 0.9075\n",
      "Learning rate: 0.000016\n",
      "Accuracy:     T0:0.99  T1:0.03  T2:0.96  T3:0.95  T4:0.06  T5:0.64  \n",
      "Sensitivity:  T0:0.00  T1:1.00  T2:0.03  T3:0.00  T4:1.00  T5:0.23  \n",
      "Specificity:  T0:1.00  T1:0.00  T2:0.99  T3:1.00  T4:0.00  T5:0.69  \n"
     ]
    },
    {
     "name": "stderr",
     "output_type": "stream",
     "text": [
      "2025-05-28 05:08:42,094 - INFO - iteration: 1000 | epoch: 0 | loss: 0.9075 | lr: 0.0000 | type: training | acc_task0: 0.9860 | sens_task0: 0.0000 | spec_task0: 1.0000 | acc_task1: 0.0294 | sens_task1: 1.0000 | spec_task1: 0.0042 | acc_task2: 0.9607 | sens_task2: 0.0294 | spec_task2: 0.9946 | acc_task3: 0.9541 | sens_task3: 0.0000 | spec_task3: 1.0000 | acc_task4: 0.0635 | sens_task4: 1.0000 | spec_task4: 0.0000 | acc_task5: 0.6374 | sens_task5: 0.2340 | spec_task5: 0.6880\n"
     ]
    },
    {
     "name": "stdout",
     "output_type": "stream",
     "text": [
      "\n",
      "Step 3000 (Epoch 1):\n",
      "Loss: 0.3635\n",
      "Learning rate: 0.000016\n",
      "Accuracy:     T0:0.98  T1:0.03  T2:0.96  T3:0.96  T4:0.07  T5:0.62  \n",
      "Sensitivity:  T0:0.00  T1:1.00  T2:0.01  T3:0.00  T4:1.00  T5:0.23  \n",
      "Specificity:  T0:1.00  T1:0.00  T2:0.99  T3:1.00  T4:0.00  T5:0.67  \n"
     ]
    },
    {
     "name": "stderr",
     "output_type": "stream",
     "text": [
      "2025-05-28 05:43:20,763 - INFO - iteration: 3000 | epoch: 0 | loss: 0.3635 | lr: 0.0000 | type: training | acc_task0: 0.9840 | sens_task0: 0.0000 | spec_task0: 1.0000 | acc_task1: 0.0304 | sens_task1: 1.0000 | spec_task1: 0.0038 | acc_task2: 0.9591 | sens_task2: 0.0096 | spec_task2: 0.9943 | acc_task3: 0.9561 | sens_task3: 0.0000 | spec_task3: 1.0000 | acc_task4: 0.0662 | sens_task4: 1.0000 | spec_task4: 0.0000 | acc_task5: 0.6223 | sens_task5: 0.2349 | spec_task5: 0.6749\n"
     ]
    },
    {
     "name": "stdout",
     "output_type": "stream",
     "text": [
      "\n",
      "Step 4000 (Epoch 1):\n",
      "Loss: 0.4151\n",
      "Learning rate: 0.000016\n",
      "Accuracy:     T0:0.99  T1:0.09  T2:0.96  T3:0.96  T4:0.06  T5:0.65  \n",
      "Sensitivity:  T0:0.00  T1:0.97  T2:0.01  T3:0.00  T4:1.00  T5:0.22  \n",
      "Specificity:  T0:1.00  T1:0.07  T2:1.00  T3:1.00  T4:0.00  T5:0.71  \n"
     ]
    },
    {
     "name": "stderr",
     "output_type": "stream",
     "text": [
      "2025-05-28 06:01:55,988 - INFO - iteration: 4000 | epoch: 0 | loss: 0.4151 | lr: 0.0000 | type: training | acc_task0: 0.9860 | sens_task0: 0.0000 | spec_task0: 1.0000 | acc_task1: 0.0883 | sens_task1: 0.9703 | spec_task1: 0.0652 | acc_task2: 0.9621 | sens_task2: 0.0076 | spec_task2: 0.9955 | acc_task3: 0.9569 | sens_task3: 0.0000 | spec_task3: 1.0000 | acc_task4: 0.0647 | sens_task4: 1.0000 | spec_task4: 0.0000 | acc_task5: 0.6463 | sens_task5: 0.2165 | spec_task5: 0.7054\n"
     ]
    },
    {
     "name": "stdout",
     "output_type": "stream",
     "text": [
      "\n",
      "Step 5000 (Epoch 1):\n",
      "Loss: 0.4295\n",
      "Learning rate: 0.000016\n",
      "Accuracy:     T0:0.98  T1:0.25  T2:0.96  T3:0.96  T4:0.08  T5:0.68  \n",
      "Sensitivity:  T0:0.00  T1:0.75  T2:0.01  T3:0.00  T4:0.95  T5:0.17  \n",
      "Specificity:  T0:1.00  T1:0.24  T2:1.00  T3:1.00  T4:0.02  T5:0.75  \n"
     ]
    },
    {
     "name": "stderr",
     "output_type": "stream",
     "text": [
      "2025-05-28 06:19:42,508 - INFO - iteration: 5000 | epoch: 0 | loss: 0.4295 | lr: 0.0000 | type: training | acc_task0: 0.9846 | sens_task0: 0.0000 | spec_task0: 1.0000 | acc_task1: 0.2510 | sens_task1: 0.7500 | spec_task1: 0.2373 | acc_task2: 0.9603 | sens_task2: 0.0057 | spec_task2: 0.9961 | acc_task3: 0.9554 | sens_task3: 0.0000 | spec_task3: 1.0000 | acc_task4: 0.0814 | sens_task4: 0.9532 | spec_task4: 0.0194 | acc_task5: 0.6807 | sens_task5: 0.1673 | spec_task5: 0.7532\n"
     ]
    },
    {
     "name": "stdout",
     "output_type": "stream",
     "text": [
      "\n",
      "Step 6000 (Epoch 1):\n",
      "Loss: 0.3518\n",
      "Learning rate: 0.000016\n",
      "Accuracy:     T0:0.98  T1:0.37  T2:0.96  T3:0.96  T4:0.21  T5:0.72  \n",
      "Sensitivity:  T0:0.00  T1:0.66  T2:0.00  T3:0.00  T4:0.85  T5:0.14  \n",
      "Specificity:  T0:1.00  T1:0.36  T2:1.00  T3:1.00  T4:0.17  T5:0.79  \n"
     ]
    },
    {
     "name": "stderr",
     "output_type": "stream",
     "text": [
      "2025-05-28 06:39:15,735 - INFO - iteration: 6000 | epoch: 0 | loss: 0.3518 | lr: 0.0000 | type: training | acc_task0: 0.9848 | sens_task0: 0.0000 | spec_task0: 1.0000 | acc_task1: 0.3723 | sens_task1: 0.6600 | spec_task1: 0.3648 | acc_task2: 0.9620 | sens_task2: 0.0050 | spec_task2: 0.9964 | acc_task3: 0.9571 | sens_task3: 0.0000 | spec_task3: 1.0000 | acc_task4: 0.2088 | sens_task4: 0.8456 | spec_task4: 0.1652 | acc_task5: 0.7156 | sens_task5: 0.1433 | spec_task5: 0.7933\n"
     ]
    },
    {
     "name": "stdout",
     "output_type": "stream",
     "text": [
      "\n",
      "Step 7000 (Epoch 1):\n",
      "Loss: 0.2590\n",
      "Learning rate: 0.000016\n",
      "Accuracy:     T0:0.98  T1:0.46  T2:0.96  T3:0.96  T4:0.31  T5:0.74  \n",
      "Sensitivity:  T0:0.00  T1:0.57  T2:0.00  T3:0.00  T4:0.73  T5:0.13  \n",
      "Specificity:  T0:1.00  T1:0.46  T2:1.00  T3:1.00  T4:0.28  T5:0.82  \n"
     ]
    },
    {
     "name": "stderr",
     "output_type": "stream",
     "text": [
      "2025-05-28 07:02:31,966 - INFO - iteration: 7000 | epoch: 0 | loss: 0.2590 | lr: 0.0000 | type: training | acc_task0: 0.9849 | sens_task0: 0.0000 | spec_task0: 1.0000 | acc_task1: 0.4584 | sens_task1: 0.5690 | spec_task1: 0.4555 | acc_task2: 0.9622 | sens_task2: 0.0042 | spec_task2: 0.9969 | acc_task3: 0.9576 | sens_task3: 0.0000 | spec_task3: 1.0000 | acc_task4: 0.3129 | sens_task4: 0.7348 | spec_task4: 0.2844 | acc_task5: 0.7390 | sens_task5: 0.1280 | spec_task5: 0.8207\n"
     ]
    },
    {
     "name": "stdout",
     "output_type": "stream",
     "text": [
      "\n",
      "Step 9000 (Epoch 1):\n",
      "Loss: 0.2809\n",
      "Learning rate: 0.000016\n",
      "Accuracy:     T0:0.98  T1:0.57  T2:0.96  T3:0.96  T4:0.45  T5:0.77  \n",
      "Sensitivity:  T0:0.00  T1:0.43  T2:0.00  T3:0.00  T4:0.56  T5:0.10  \n",
      "Specificity:  T0:1.00  T1:0.58  T2:1.00  T3:1.00  T4:0.44  T5:0.86  \n"
     ]
    },
    {
     "name": "stderr",
     "output_type": "stream",
     "text": [
      "2025-05-28 07:44:52,872 - INFO - iteration: 9000 | epoch: 0 | loss: 0.2809 | lr: 0.0000 | type: training | acc_task0: 0.9842 | sens_task0: 0.0000 | spec_task0: 1.0000 | acc_task1: 0.5716 | sens_task1: 0.4286 | spec_task1: 0.5755 | acc_task2: 0.9622 | sens_task2: 0.0032 | spec_task2: 0.9975 | acc_task3: 0.9562 | sens_task3: 0.0000 | spec_task3: 0.9994 | acc_task4: 0.4489 | sens_task4: 0.5634 | spec_task4: 0.4409 | acc_task5: 0.7674 | sens_task5: 0.0991 | spec_task5: 0.8591\n"
     ]
    },
    {
     "name": "stdout",
     "output_type": "stream",
     "text": [
      "\n",
      "Step 10000 (Epoch 1):\n",
      "Loss: 0.3065\n",
      "Learning rate: 0.000016\n",
      "Accuracy:     T0:0.98  T1:0.61  T2:0.96  T3:0.95  T4:0.50  T5:0.78  \n",
      "Sensitivity:  T0:0.00  T1:0.38  T2:0.00  T3:0.00  T4:0.50  T5:0.09  \n",
      "Specificity:  T0:1.00  T1:0.62  T2:1.00  T3:1.00  T4:0.50  T5:0.87  \n"
     ]
    },
    {
     "name": "stderr",
     "output_type": "stream",
     "text": [
      "2025-05-28 08:05:28,053 - INFO - iteration: 10000 | epoch: 0 | loss: 0.3065 | lr: 0.0000 | type: training | acc_task0: 0.9836 | sens_task0: 0.0000 | spec_task0: 0.9999 | acc_task1: 0.6110 | sens_task1: 0.3764 | spec_task1: 0.6174 | acc_task2: 0.9622 | sens_task2: 0.0029 | spec_task2: 0.9977 | acc_task3: 0.9549 | sens_task3: 0.0000 | spec_task3: 0.9987 | acc_task4: 0.4979 | sens_task4: 0.5033 | spec_task4: 0.4976 | acc_task5: 0.7781 | sens_task5: 0.0884 | spec_task5: 0.8732\n"
     ]
    },
    {
     "name": "stdout",
     "output_type": "stream",
     "text": [
      "\n",
      "Step 11000 (Epoch 1):\n",
      "Loss: 0.3701\n",
      "Learning rate: 0.000016\n",
      "Accuracy:     T0:0.98  T1:0.64  T2:0.96  T3:0.95  T4:0.53  T5:0.78  \n",
      "Sensitivity:  T0:0.00  T1:0.34  T2:0.00  T3:0.00  T4:0.45  T5:0.08  \n",
      "Specificity:  T0:1.00  T1:0.65  T2:1.00  T3:1.00  T4:0.54  T5:0.88  \n"
     ]
    },
    {
     "name": "stderr",
     "output_type": "stream",
     "text": [
      "2025-05-28 08:26:44,631 - INFO - iteration: 11000 | epoch: 0 | loss: 0.3701 | lr: 0.0000 | type: training | acc_task0: 0.9838 | sens_task0: 0.0000 | spec_task0: 0.9999 | acc_task1: 0.6437 | sens_task1: 0.3414 | spec_task1: 0.6520 | acc_task2: 0.9617 | sens_task2: 0.0026 | spec_task2: 0.9979 | acc_task3: 0.9531 | sens_task3: 0.0022 | spec_task3: 0.9977 | acc_task4: 0.5345 | sens_task4: 0.4494 | spec_task4: 0.5405 | acc_task5: 0.7824 | sens_task5: 0.0808 | spec_task5: 0.8817\n"
     ]
    },
    {
     "name": "stdout",
     "output_type": "stream",
     "text": [
      "\n",
      "Step 12000 (Epoch 1):\n",
      "Loss: 0.3542\n",
      "Learning rate: 0.000016\n",
      "Accuracy:     T0:0.98  T1:0.67  T2:0.96  T3:0.95  T4:0.57  T5:0.79  \n",
      "Sensitivity:  T0:0.00  T1:0.31  T2:0.00  T3:0.00  T4:0.41  T5:0.08  \n",
      "Specificity:  T0:1.00  T1:0.68  T2:1.00  T3:1.00  T4:0.58  T5:0.89  \n"
     ]
    },
    {
     "name": "stderr",
     "output_type": "stream",
     "text": [
      "2025-05-28 08:47:28,340 - INFO - iteration: 12000 | epoch: 0 | loss: 0.3542 | lr: 0.0000 | type: training | acc_task0: 0.9837 | sens_task0: 0.0000 | spec_task0: 0.9998 | acc_task1: 0.6709 | sens_task1: 0.3103 | spec_task1: 0.6809 | acc_task2: 0.9617 | sens_task2: 0.0024 | spec_task2: 0.9980 | acc_task3: 0.9524 | sens_task3: 0.0020 | spec_task3: 0.9972 | acc_task4: 0.5688 | sens_task4: 0.4096 | spec_task4: 0.5801 | acc_task5: 0.7891 | sens_task5: 0.0778 | spec_task5: 0.8908\n"
     ]
    },
    {
     "name": "stdout",
     "output_type": "stream",
     "text": [
      "\n",
      "Step 13000 (Epoch 1):\n",
      "Loss: 0.4099\n",
      "Learning rate: 0.000016\n",
      "Accuracy:     T0:0.98  T1:0.69  T2:0.96  T3:0.95  T4:0.59  T5:0.79  \n",
      "Sensitivity:  T0:0.00  T1:0.29  T2:0.00  T3:0.00  T4:0.37  T5:0.08  \n",
      "Specificity:  T0:1.00  T1:0.71  T2:1.00  T3:1.00  T4:0.61  T5:0.90  \n"
     ]
    },
    {
     "name": "stderr",
     "output_type": "stream",
     "text": [
      "2025-05-28 09:07:59,608 - INFO - iteration: 13000 | epoch: 0 | loss: 0.4099 | lr: 0.0000 | type: training | acc_task0: 0.9838 | sens_task0: 0.0000 | spec_task0: 0.9998 | acc_task1: 0.6943 | sens_task1: 0.2878 | spec_task1: 0.7056 | acc_task2: 0.9614 | sens_task2: 0.0022 | spec_task2: 0.9980 | acc_task3: 0.9515 | sens_task3: 0.0018 | spec_task3: 0.9969 | acc_task4: 0.5949 | sens_task4: 0.3714 | spec_task4: 0.6111 | acc_task5: 0.7932 | sens_task5: 0.0753 | spec_task5: 0.8974\n"
     ]
    },
    {
     "name": "stdout",
     "output_type": "stream",
     "text": [
      "\n",
      "Step 14000 (Epoch 1):\n",
      "Loss: 0.4006\n",
      "Learning rate: 0.000016\n",
      "Accuracy:     T0:0.98  T1:0.71  T2:0.96  T3:0.95  T4:0.62  T5:0.80  \n",
      "Sensitivity:  T0:0.00  T1:0.27  T2:0.00  T3:0.00  T4:0.35  T5:0.07  \n",
      "Specificity:  T0:1.00  T1:0.73  T2:1.00  T3:1.00  T4:0.64  T5:0.90  \n"
     ]
    },
    {
     "name": "stderr",
     "output_type": "stream",
     "text": [
      "2025-05-28 09:29:54,864 - INFO - iteration: 14000 | epoch: 0 | loss: 0.4006 | lr: 0.0000 | type: training | acc_task0: 0.9841 | sens_task0: 0.0000 | spec_task0: 0.9999 | acc_task1: 0.7143 | sens_task1: 0.2698 | spec_task1: 0.7265 | acc_task2: 0.9612 | sens_task2: 0.0020 | spec_task2: 0.9978 | acc_task3: 0.9519 | sens_task3: 0.0017 | spec_task3: 0.9971 | acc_task4: 0.6181 | sens_task4: 0.3463 | spec_task4: 0.6378 | acc_task5: 0.7958 | sens_task5: 0.0714 | spec_task5: 0.9009\n"
     ]
    },
    {
     "name": "stdout",
     "output_type": "stream",
     "text": [
      "\n",
      "Step 15000 (Epoch 1):\n",
      "Loss: 0.3312\n",
      "Learning rate: 0.000016\n",
      "Accuracy:     T0:0.98  T1:0.73  T2:0.96  T3:0.95  T4:0.63  T5:0.80  \n",
      "Sensitivity:  T0:0.00  T1:0.26  T2:0.00  T3:0.00  T4:0.34  T5:0.07  \n",
      "Specificity:  T0:1.00  T1:0.74  T2:1.00  T3:1.00  T4:0.65  T5:0.90  \n"
     ]
    },
    {
     "name": "stderr",
     "output_type": "stream",
     "text": [
      "2025-05-28 09:52:05,607 - INFO - iteration: 15000 | epoch: 0 | loss: 0.3312 | lr: 0.0000 | type: training | acc_task0: 0.9845 | sens_task0: 0.0000 | spec_task0: 0.9999 | acc_task1: 0.7322 | sens_task1: 0.2598 | spec_task1: 0.7447 | acc_task2: 0.9624 | sens_task2: 0.0019 | spec_task2: 0.9979 | acc_task3: 0.9530 | sens_task3: 0.0016 | spec_task3: 0.9972 | acc_task4: 0.6296 | sens_task4: 0.3429 | spec_task4: 0.6498 | acc_task5: 0.8010 | sens_task5: 0.0698 | spec_task5: 0.9041\n"
     ]
    },
    {
     "name": "stdout",
     "output_type": "stream",
     "text": [
      "\n",
      "Step 16000 (Epoch 1):\n",
      "Loss: 0.2504\n",
      "Learning rate: 0.000016\n",
      "Accuracy:     T0:0.98  T1:0.75  T2:0.96  T3:0.95  T4:0.62  T5:0.80  \n",
      "Sensitivity:  T0:0.00  T1:0.24  T2:0.00  T3:0.00  T4:0.35  T5:0.07  \n",
      "Specificity:  T0:1.00  T1:0.76  T2:1.00  T3:1.00  T4:0.64  T5:0.91  \n"
     ]
    },
    {
     "name": "stderr",
     "output_type": "stream",
     "text": [
      "2025-05-28 10:14:36,888 - INFO - iteration: 16000 | epoch: 0 | loss: 0.2504 | lr: 0.0000 | type: training | acc_task0: 0.9847 | sens_task0: 0.0000 | spec_task0: 0.9999 | acc_task1: 0.7473 | sens_task1: 0.2438 | spec_task1: 0.7607 | acc_task2: 0.9626 | sens_task2: 0.0018 | spec_task2: 0.9980 | acc_task3: 0.9532 | sens_task3: 0.0015 | spec_task3: 0.9974 | acc_task4: 0.6212 | sens_task4: 0.3512 | spec_task4: 0.6403 | acc_task5: 0.8019 | sens_task5: 0.0691 | spec_task5: 0.9062\n"
     ]
    },
    {
     "name": "stdout",
     "output_type": "stream",
     "text": [
      "\n",
      "Step 17000 (Epoch 1):\n",
      "Loss: 0.3153\n",
      "Learning rate: 0.000016\n",
      "Accuracy:     T0:0.98  T1:0.76  T2:0.96  T3:0.95  T4:0.60  T5:0.81  \n",
      "Sensitivity:  T0:0.00  T1:0.23  T2:0.00  T3:0.00  T4:0.37  T5:0.07  \n",
      "Specificity:  T0:1.00  T1:0.77  T2:1.00  T3:1.00  T4:0.62  T5:0.91  \n"
     ]
    },
    {
     "name": "stderr",
     "output_type": "stream",
     "text": [
      "2025-05-28 10:37:17,642 - INFO - iteration: 17000 | epoch: 0 | loss: 0.3153 | lr: 0.0000 | type: training | acc_task0: 0.9844 | sens_task0: 0.0000 | spec_task0: 0.9999 | acc_task1: 0.7602 | sens_task1: 0.2255 | spec_task1: 0.7747 | acc_task2: 0.9622 | sens_task2: 0.0017 | spec_task2: 0.9982 | acc_task3: 0.9529 | sens_task3: 0.0014 | spec_task3: 0.9975 | acc_task4: 0.6030 | sens_task4: 0.3686 | spec_task4: 0.6198 | acc_task5: 0.8051 | sens_task5: 0.0700 | spec_task5: 0.9110\n"
     ]
    },
    {
     "name": "stdout",
     "output_type": "stream",
     "text": [
      "\n",
      "Step 18000 (Epoch 1):\n",
      "Loss: 11.6102\n",
      "Learning rate: 0.000016\n",
      "Accuracy:     T0:0.98  T1:0.77  T2:0.96  T3:0.95  T4:0.59  T5:0.81  \n",
      "Sensitivity:  T0:0.00  T1:0.21  T2:0.00  T3:0.00  T4:0.38  T5:0.07  \n",
      "Specificity:  T0:1.00  T1:0.79  T2:1.00  T3:1.00  T4:0.61  T5:0.91  \n"
     ]
    },
    {
     "name": "stderr",
     "output_type": "stream",
     "text": [
      "2025-05-28 11:00:03,703 - INFO - iteration: 18000 | epoch: 0 | loss: 11.6102 | lr: 0.0000 | type: training | acc_task0: 0.9837 | sens_task0: 0.0000 | spec_task0: 0.9999 | acc_task1: 0.7712 | sens_task1: 0.2067 | spec_task1: 0.7870 | acc_task2: 0.9615 | sens_task2: 0.0016 | spec_task2: 0.9983 | acc_task3: 0.9525 | sens_task3: 0.0013 | spec_task3: 0.9977 | acc_task4: 0.5928 | sens_task4: 0.3826 | spec_task4: 0.6080 | acc_task5: 0.8074 | sens_task5: 0.0677 | spec_task5: 0.9148\n"
     ]
    },
    {
     "name": "stdout",
     "output_type": "stream",
     "text": [
      "Saved model components to:\n",
      "  Base: base_model_epoch_1.pt\n",
      "  Aggregator: aggregator_epoch_1.pt\n",
      "Saved checkpoint at epoch 1 to ./output_ddp_p16_23_1150_ac2000/checkpoints/model_epoch_1.pt\n",
      "\n",
      "Saved checkpoint for epoch 1\n",
      "\n",
      "Step 19000 (Epoch 2):\n",
      "Loss: 0.3338\n",
      "Learning rate: 0.000016\n",
      "Accuracy:     T0:0.99  T1:0.98  T2:0.97  T3:0.96  T4:0.62  T5:0.87  \n",
      "Sensitivity:  T0:0.00  T1:0.00  T2:0.00  T3:0.00  T4:0.49  T5:0.00  \n",
      "Specificity:  T0:1.00  T1:1.00  T2:1.00  T3:1.00  T4:0.62  T5:0.98  \n"
     ]
    },
    {
     "name": "stderr",
     "output_type": "stream",
     "text": [
      "2025-05-28 11:35:20,895 - INFO - iteration: 19000 | epoch: 1 | loss: 0.3338 | lr: 0.0000 | type: training | acc_task0: 0.9880 | sens_task0: 0.0000 | spec_task0: 1.0000 | acc_task1: 0.9813 | sens_task1: 0.0000 | spec_task1: 1.0000 | acc_task2: 0.9719 | sens_task2: 0.0000 | spec_task2: 1.0000 | acc_task3: 0.9606 | sens_task3: 0.0000 | spec_task3: 1.0000 | acc_task4: 0.6154 | sens_task4: 0.4872 | spec_task4: 0.6234 | acc_task5: 0.8686 | sens_task5: 0.0000 | spec_task5: 0.9768\n"
     ]
    },
    {
     "name": "stdout",
     "output_type": "stream",
     "text": [
      "\n",
      "Step 20000 (Epoch 2):\n",
      "Loss: 0.3823\n",
      "Learning rate: 0.000016\n",
      "Accuracy:     T0:0.99  T1:0.98  T2:0.97  T3:0.96  T4:0.74  T5:0.88  \n",
      "Sensitivity:  T0:0.00  T1:0.00  T2:0.00  T3:0.00  T4:0.28  T5:0.01  \n",
      "Specificity:  T0:1.00  T1:1.00  T2:1.00  T3:1.00  T4:0.77  T5:0.98  \n"
     ]
    },
    {
     "name": "stderr",
     "output_type": "stream",
     "text": [
      "2025-05-28 12:17:48,495 - INFO - iteration: 20000 | epoch: 1 | loss: 0.3823 | lr: 0.0000 | type: training | acc_task0: 0.9864 | sens_task0: 0.0000 | spec_task0: 0.9995 | acc_task1: 0.9782 | sens_task1: 0.0000 | spec_task1: 1.0000 | acc_task2: 0.9697 | sens_task2: 0.0000 | spec_task2: 1.0000 | acc_task3: 0.9621 | sens_task3: 0.0000 | spec_task3: 0.9994 | acc_task4: 0.7395 | sens_task4: 0.2763 | spec_task4: 0.7669 | acc_task5: 0.8822 | sens_task5: 0.0120 | spec_task5: 0.9832\n"
     ]
    },
    {
     "name": "stdout",
     "output_type": "stream",
     "text": [
      "\n",
      "Step 21000 (Epoch 2):\n",
      "Loss: 0.3411\n",
      "Learning rate: 0.000016\n",
      "Accuracy:     T0:0.99  T1:0.97  T2:0.96  T3:0.96  T4:0.80  T5:0.87  \n",
      "Sensitivity:  T0:0.00  T1:0.00  T2:0.00  T3:0.00  T4:0.17  T5:0.01  \n",
      "Specificity:  T0:1.00  T1:1.00  T2:1.00  T3:1.00  T4:0.84  T5:0.98  \n"
     ]
    },
    {
     "name": "stderr",
     "output_type": "stream",
     "text": [
      "2025-05-28 12:51:30,534 - INFO - iteration: 21000 | epoch: 1 | loss: 0.3411 | lr: 0.0000 | type: training | acc_task0: 0.9863 | sens_task0: 0.0000 | spec_task0: 0.9997 | acc_task1: 0.9745 | sens_task1: 0.0000 | spec_task1: 1.0000 | acc_task2: 0.9647 | sens_task2: 0.0000 | spec_task2: 1.0000 | acc_task3: 0.9562 | sens_task3: 0.0000 | spec_task3: 0.9996 | acc_task4: 0.7976 | sens_task4: 0.1654 | spec_task4: 0.8415 | acc_task5: 0.8691 | sens_task5: 0.0140 | spec_task5: 0.9848\n"
     ]
    },
    {
     "name": "stdout",
     "output_type": "stream",
     "text": [
      "\n",
      "Step 22000 (Epoch 2):\n",
      "Loss: 0.4322\n",
      "Learning rate: 0.000016\n",
      "Accuracy:     T0:0.98  T1:0.97  T2:0.97  T3:0.96  T4:0.83  T5:0.87  \n",
      "Sensitivity:  T0:0.00  T1:0.00  T2:0.00  T3:0.00  T4:0.13  T5:0.02  \n",
      "Specificity:  T0:1.00  T1:1.00  T2:1.00  T3:1.00  T4:0.88  T5:0.99  \n"
     ]
    },
    {
     "name": "stderr",
     "output_type": "stream",
     "text": [
      "2025-05-28 13:18:18,400 - INFO - iteration: 22000 | epoch: 1 | loss: 0.4322 | lr: 0.0000 | type: training | acc_task0: 0.9847 | sens_task0: 0.0000 | spec_task0: 0.9997 | acc_task1: 0.9745 | sens_task1: 0.0000 | spec_task1: 1.0000 | acc_task2: 0.9652 | sens_task2: 0.0000 | spec_task2: 0.9997 | acc_task3: 0.9559 | sens_task3: 0.0000 | spec_task3: 0.9986 | acc_task4: 0.8318 | sens_task4: 0.1271 | spec_task4: 0.8816 | acc_task5: 0.8698 | sens_task5: 0.0207 | spec_task5: 0.9865\n"
     ]
    },
    {
     "name": "stdout",
     "output_type": "stream",
     "text": [
      "\n",
      "Step 23000 (Epoch 2):\n",
      "Loss: 0.4467\n",
      "Learning rate: 0.000016\n",
      "Accuracy:     T0:0.98  T1:0.97  T2:0.96  T3:0.95  T4:0.85  T5:0.87  \n",
      "Sensitivity:  T0:0.00  T1:0.00  T2:0.00  T3:0.00  T4:0.10  T5:0.02  \n",
      "Specificity:  T0:1.00  T1:1.00  T2:1.00  T3:1.00  T4:0.90  T5:0.99  \n"
     ]
    },
    {
     "name": "stderr",
     "output_type": "stream",
     "text": [
      "2025-05-28 13:41:36,038 - INFO - iteration: 23000 | epoch: 1 | loss: 0.4467 | lr: 0.0000 | type: training | acc_task0: 0.9850 | sens_task0: 0.0000 | spec_task0: 0.9998 | acc_task1: 0.9735 | sens_task1: 0.0000 | spec_task1: 1.0000 | acc_task2: 0.9628 | sens_task2: 0.0000 | spec_task2: 0.9991 | acc_task3: 0.9525 | sens_task3: 0.0049 | spec_task3: 0.9968 | acc_task4: 0.8492 | sens_task4: 0.0970 | spec_task4: 0.9050 | acc_task5: 0.8658 | sens_task5: 0.0199 | spec_task5: 0.9859\n"
     ]
    },
    {
     "name": "stdout",
     "output_type": "stream",
     "text": [
      "\n",
      "Step 24000 (Epoch 2):\n",
      "Loss: 0.4441\n",
      "Learning rate: 0.000016\n",
      "Accuracy:     T0:0.99  T1:0.97  T2:0.96  T3:0.95  T4:0.86  T5:0.87  \n",
      "Sensitivity:  T0:0.00  T1:0.00  T2:0.00  T3:0.00  T4:0.08  T5:0.02  \n",
      "Specificity:  T0:1.00  T1:1.00  T2:1.00  T3:0.99  T4:0.92  T5:0.99  \n"
     ]
    },
    {
     "name": "stderr",
     "output_type": "stream",
     "text": [
      "2025-05-28 14:03:02,314 - INFO - iteration: 24000 | epoch: 1 | loss: 0.4441 | lr: 0.0000 | type: training | acc_task0: 0.9853 | sens_task0: 0.0000 | spec_task0: 0.9998 | acc_task1: 0.9740 | sens_task1: 0.0000 | spec_task1: 1.0000 | acc_task2: 0.9633 | sens_task2: 0.0000 | spec_task2: 0.9993 | acc_task3: 0.9506 | sens_task3: 0.0041 | spec_task3: 0.9943 | acc_task4: 0.8648 | sens_task4: 0.0813 | spec_task4: 0.9219 | acc_task5: 0.8672 | sens_task5: 0.0200 | spec_task5: 0.9868\n"
     ]
    },
    {
     "name": "stdout",
     "output_type": "stream",
     "text": [
      "\n",
      "Step 25000 (Epoch 2):\n",
      "Loss: 0.3975\n",
      "Learning rate: 0.000016\n",
      "Accuracy:     T0:0.99  T1:0.97  T2:0.96  T3:0.95  T4:0.88  T5:0.87  \n",
      "Sensitivity:  T0:0.00  T1:0.00  T2:0.00  T3:0.01  T4:0.07  T5:0.03  \n",
      "Specificity:  T0:1.00  T1:1.00  T2:1.00  T3:0.99  T4:0.93  T5:0.99  \n"
     ]
    },
    {
     "name": "stderr",
     "output_type": "stream",
     "text": [
      "2025-05-28 14:25:06,813 - INFO - iteration: 25000 | epoch: 1 | loss: 0.3975 | lr: 0.0000 | type: training | acc_task0: 0.9855 | sens_task0: 0.0000 | spec_task0: 0.9999 | acc_task1: 0.9741 | sens_task1: 0.0000 | spec_task1: 1.0000 | acc_task2: 0.9638 | sens_task2: 0.0000 | spec_task2: 0.9994 | acc_task3: 0.9501 | sens_task3: 0.0072 | spec_task3: 0.9930 | acc_task4: 0.8752 | sens_task4: 0.0708 | spec_task4: 0.9329 | acc_task5: 0.8697 | sens_task5: 0.0258 | spec_task5: 0.9876\n"
     ]
    },
    {
     "name": "stdout",
     "output_type": "stream",
     "text": [
      "\n",
      "Step 26000 (Epoch 2):\n",
      "Loss: 0.3341\n",
      "Learning rate: 0.000016\n",
      "Accuracy:     T0:0.99  T1:0.97  T2:0.96  T3:0.95  T4:0.88  T5:0.87  \n",
      "Sensitivity:  T0:0.00  T1:0.00  T2:0.00  T3:0.01  T4:0.06  T5:0.02  \n",
      "Specificity:  T0:1.00  T1:1.00  T2:1.00  T3:0.99  T4:0.94  T5:0.99  \n"
     ]
    },
    {
     "name": "stderr",
     "output_type": "stream",
     "text": [
      "2025-05-28 14:47:15,607 - INFO - iteration: 26000 | epoch: 1 | loss: 0.3341 | lr: 0.0000 | type: training | acc_task0: 0.9857 | sens_task0: 0.0000 | spec_task0: 0.9999 | acc_task1: 0.9742 | sens_task1: 0.0000 | spec_task1: 1.0000 | acc_task2: 0.9647 | sens_task2: 0.0000 | spec_task2: 0.9995 | acc_task3: 0.9509 | sens_task3: 0.0095 | spec_task3: 0.9934 | acc_task4: 0.8829 | sens_task4: 0.0623 | spec_task4: 0.9413 | acc_task5: 0.8685 | sens_task5: 0.0226 | spec_task5: 0.9873\n"
     ]
    },
    {
     "name": "stdout",
     "output_type": "stream",
     "text": [
      "\n",
      "Step 27000 (Epoch 2):\n",
      "Loss: 0.3300\n",
      "Learning rate: 0.000016\n",
      "Accuracy:     T0:0.99  T1:0.97  T2:0.96  T3:0.95  T4:0.89  T5:0.87  \n",
      "Sensitivity:  T0:0.00  T1:0.00  T2:0.00  T3:0.01  T4:0.05  T5:0.03  \n",
      "Specificity:  T0:1.00  T1:1.00  T2:1.00  T3:0.99  T4:0.95  T5:0.99  \n"
     ]
    },
    {
     "name": "stderr",
     "output_type": "stream",
     "text": [
      "2025-05-28 15:09:50,521 - INFO - iteration: 27000 | epoch: 1 | loss: 0.3300 | lr: 0.0000 | type: training | acc_task0: 0.9851 | sens_task0: 0.0000 | spec_task0: 0.9999 | acc_task1: 0.9735 | sens_task1: 0.0000 | spec_task1: 1.0000 | acc_task2: 0.9643 | sens_task2: 0.0000 | spec_task2: 0.9995 | acc_task3: 0.9509 | sens_task3: 0.0083 | spec_task3: 0.9942 | acc_task4: 0.8874 | sens_task4: 0.0541 | spec_task4: 0.9480 | acc_task5: 0.8665 | sens_task5: 0.0260 | spec_task5: 0.9875\n"
     ]
    },
    {
     "name": "stdout",
     "output_type": "stream",
     "text": [
      "\n",
      "Step 28000 (Epoch 2):\n",
      "Loss: 4.6379\n",
      "Learning rate: 0.000016\n",
      "Accuracy:     T0:0.99  T1:0.97  T2:0.96  T3:0.95  T4:0.89  T5:0.87  \n",
      "Sensitivity:  T0:0.00  T1:0.00  T2:0.00  T3:0.01  T4:0.05  T5:0.03  \n",
      "Specificity:  T0:1.00  T1:1.00  T2:1.00  T3:0.99  T4:0.95  T5:0.99  \n"
     ]
    },
    {
     "name": "stderr",
     "output_type": "stream",
     "text": [
      "2025-05-28 15:31:51,973 - INFO - iteration: 28000 | epoch: 1 | loss: 4.6379 | lr: 0.0000 | type: training | acc_task0: 0.9851 | sens_task0: 0.0000 | spec_task0: 0.9999 | acc_task1: 0.9733 | sens_task1: 0.0000 | spec_task1: 1.0000 | acc_task2: 0.9642 | sens_task2: 0.0000 | spec_task2: 0.9996 | acc_task3: 0.9511 | sens_task3: 0.0074 | spec_task3: 0.9946 | acc_task4: 0.8919 | sens_task4: 0.0487 | spec_task4: 0.9532 | acc_task5: 0.8659 | sens_task5: 0.0255 | spec_task5: 0.9862\n"
     ]
    },
    {
     "name": "stdout",
     "output_type": "stream",
     "text": [
      "\n",
      "Step 29000 (Epoch 2):\n",
      "Loss: 0.3417\n",
      "Learning rate: 0.000016\n",
      "Accuracy:     T0:0.98  T1:0.97  T2:0.96  T3:0.95  T4:0.89  T5:0.86  \n",
      "Sensitivity:  T0:0.00  T1:0.00  T2:0.00  T3:0.01  T4:0.04  T5:0.02  \n",
      "Specificity:  T0:1.00  T1:1.00  T2:1.00  T3:1.00  T4:0.96  T5:0.99  \n"
     ]
    },
    {
     "name": "stderr",
     "output_type": "stream",
     "text": [
      "2025-05-28 15:54:29,519 - INFO - iteration: 29000 | epoch: 1 | loss: 0.3417 | lr: 0.0000 | type: training | acc_task0: 0.9849 | sens_task0: 0.0000 | spec_task0: 0.9999 | acc_task1: 0.9734 | sens_task1: 0.0000 | spec_task1: 1.0000 | acc_task2: 0.9641 | sens_task2: 0.0000 | spec_task2: 0.9996 | acc_task3: 0.9512 | sens_task3: 0.0067 | spec_task3: 0.9951 | acc_task4: 0.8947 | sens_task4: 0.0440 | spec_task4: 0.9571 | acc_task5: 0.8645 | sens_task5: 0.0248 | spec_task5: 0.9857\n"
     ]
    },
    {
     "name": "stdout",
     "output_type": "stream",
     "text": [
      "\n",
      "Step 30000 (Epoch 2):\n",
      "Loss: 0.3714\n",
      "Learning rate: 0.000016\n",
      "Accuracy:     T0:0.98  T1:0.97  T2:0.96  T3:0.95  T4:0.90  T5:0.86  \n",
      "Sensitivity:  T0:0.00  T1:0.00  T2:0.00  T3:0.01  T4:0.04  T5:0.02  \n",
      "Specificity:  T0:1.00  T1:1.00  T2:1.00  T3:1.00  T4:0.96  T5:0.99  \n"
     ]
    },
    {
     "name": "stderr",
     "output_type": "stream",
     "text": [
      "2025-05-28 16:22:14,930 - INFO - iteration: 30000 | epoch: 1 | loss: 0.3714 | lr: 0.0000 | type: training | acc_task0: 0.9844 | sens_task0: 0.0000 | spec_task0: 0.9999 | acc_task1: 0.9727 | sens_task1: 0.0000 | spec_task1: 1.0000 | acc_task2: 0.9628 | sens_task2: 0.0000 | spec_task2: 0.9996 | acc_task3: 0.9503 | sens_task3: 0.0060 | spec_task3: 0.9955 | acc_task4: 0.8966 | sens_task4: 0.0397 | spec_task4: 0.9604 | acc_task5: 0.8628 | sens_task5: 0.0224 | spec_task5: 0.9864\n"
     ]
    },
    {
     "name": "stdout",
     "output_type": "stream",
     "text": [
      "\n",
      "Step 31000 (Epoch 2):\n",
      "Loss: 0.3624\n",
      "Learning rate: 0.000016\n",
      "Accuracy:     T0:0.98  T1:0.97  T2:0.96  T3:0.95  T4:0.90  T5:0.86  \n",
      "Sensitivity:  T0:0.00  T1:0.00  T2:0.00  T3:0.01  T4:0.04  T5:0.02  \n",
      "Specificity:  T0:1.00  T1:1.00  T2:1.00  T3:1.00  T4:0.96  T5:0.99  \n"
     ]
    },
    {
     "name": "stderr",
     "output_type": "stream",
     "text": [
      "2025-05-28 16:44:27,113 - INFO - iteration: 31000 | epoch: 1 | loss: 0.3624 | lr: 0.0000 | type: training | acc_task0: 0.9842 | sens_task0: 0.0000 | spec_task0: 0.9999 | acc_task1: 0.9724 | sens_task1: 0.0000 | spec_task1: 1.0000 | acc_task2: 0.9626 | sens_task2: 0.0000 | spec_task2: 0.9997 | acc_task3: 0.9506 | sens_task3: 0.0055 | spec_task3: 0.9959 | acc_task4: 0.8990 | sens_task4: 0.0369 | spec_task4: 0.9627 | acc_task5: 0.8646 | sens_task5: 0.0223 | spec_task5: 0.9870\n"
     ]
    },
    {
     "name": "stdout",
     "output_type": "stream",
     "text": [
      "\n",
      "Step 32000 (Epoch 2):\n",
      "Loss: 0.2313\n",
      "Learning rate: 0.000016\n",
      "Accuracy:     T0:0.98  T1:0.97  T2:0.96  T3:0.95  T4:0.90  T5:0.86  \n",
      "Sensitivity:  T0:0.00  T1:0.00  T2:0.00  T3:0.01  T4:0.04  T5:0.02  \n",
      "Specificity:  T0:1.00  T1:1.00  T2:1.00  T3:1.00  T4:0.96  T5:0.99  \n"
     ]
    },
    {
     "name": "stderr",
     "output_type": "stream",
     "text": [
      "2025-05-28 17:07:49,077 - INFO - iteration: 32000 | epoch: 1 | loss: 0.2313 | lr: 0.0000 | type: training | acc_task0: 0.9843 | sens_task0: 0.0000 | spec_task0: 0.9999 | acc_task1: 0.9727 | sens_task1: 0.0000 | spec_task1: 1.0000 | acc_task2: 0.9629 | sens_task2: 0.0000 | spec_task2: 0.9997 | acc_task3: 0.9512 | sens_task3: 0.0051 | spec_task3: 0.9962 | acc_task4: 0.9004 | sens_task4: 0.0375 | spec_task4: 0.9638 | acc_task5: 0.8649 | sens_task5: 0.0209 | spec_task5: 0.9873\n"
     ]
    },
    {
     "name": "stdout",
     "output_type": "stream",
     "text": [
      "\n",
      "Step 33000 (Epoch 2):\n",
      "Loss: 0.3453\n",
      "Learning rate: 0.000016\n",
      "Accuracy:     T0:0.98  T1:0.97  T2:0.96  T3:0.95  T4:0.90  T5:0.87  \n",
      "Sensitivity:  T0:0.00  T1:0.00  T2:0.00  T3:0.00  T4:0.04  T5:0.02  \n",
      "Specificity:  T0:1.00  T1:1.00  T2:1.00  T3:1.00  T4:0.97  T5:0.99  \n"
     ]
    },
    {
     "name": "stderr",
     "output_type": "stream",
     "text": [
      "2025-05-28 17:30:33,757 - INFO - iteration: 33000 | epoch: 1 | loss: 0.3453 | lr: 0.0000 | type: training | acc_task0: 0.9844 | sens_task0: 0.0000 | spec_task0: 0.9999 | acc_task1: 0.9731 | sens_task1: 0.0000 | spec_task1: 1.0000 | acc_task2: 0.9634 | sens_task2: 0.0000 | spec_task2: 0.9997 | acc_task3: 0.9517 | sens_task3: 0.0048 | spec_task3: 0.9964 | acc_task4: 0.9024 | sens_task4: 0.0367 | spec_task4: 0.9654 | acc_task5: 0.8665 | sens_task5: 0.0210 | spec_task5: 0.9874\n"
     ]
    },
    {
     "name": "stdout",
     "output_type": "stream",
     "text": [
      "\n",
      "Step 34000 (Epoch 2):\n",
      "Loss: 0.2122\n",
      "Learning rate: 0.000016\n",
      "Accuracy:     T0:0.98  T1:0.97  T2:0.96  T3:0.95  T4:0.90  T5:0.86  \n",
      "Sensitivity:  T0:0.00  T1:0.00  T2:0.00  T3:0.00  T4:0.04  T5:0.02  \n",
      "Specificity:  T0:1.00  T1:1.00  T2:1.00  T3:1.00  T4:0.97  T5:0.99  \n"
     ]
    },
    {
     "name": "stderr",
     "output_type": "stream",
     "text": [
      "2025-05-28 17:57:16,348 - INFO - iteration: 34000 | epoch: 1 | loss: 0.2122 | lr: 0.0000 | type: training | acc_task0: 0.9840 | sens_task0: 0.0000 | spec_task0: 0.9999 | acc_task1: 0.9727 | sens_task1: 0.0000 | spec_task1: 1.0000 | acc_task2: 0.9627 | sens_task2: 0.0000 | spec_task2: 0.9997 | acc_task3: 0.9510 | sens_task3: 0.0044 | spec_task3: 0.9967 | acc_task4: 0.9023 | sens_task4: 0.0362 | spec_task4: 0.9669 | acc_task5: 0.8642 | sens_task5: 0.0193 | spec_task5: 0.9880\n"
     ]
    },
    {
     "name": "stdout",
     "output_type": "stream",
     "text": [
      "\n",
      "Step 35000 (Epoch 2):\n",
      "Loss: 0.3975\n",
      "Learning rate: 0.000016\n",
      "Accuracy:     T0:0.98  T1:0.97  T2:0.96  T3:0.95  T4:0.90  T5:0.86  \n",
      "Sensitivity:  T0:0.00  T1:0.00  T2:0.00  T3:0.00  T4:0.03  T5:0.02  \n",
      "Specificity:  T0:1.00  T1:1.00  T2:1.00  T3:1.00  T4:0.97  T5:0.99  \n"
     ]
    },
    {
     "name": "stderr",
     "output_type": "stream",
     "text": [
      "2025-05-28 18:29:59,223 - INFO - iteration: 35000 | epoch: 1 | loss: 0.3975 | lr: 0.0000 | type: training | acc_task0: 0.9843 | sens_task0: 0.0000 | spec_task0: 0.9999 | acc_task1: 0.9727 | sens_task1: 0.0000 | spec_task1: 1.0000 | acc_task2: 0.9626 | sens_task2: 0.0000 | spec_task2: 0.9997 | acc_task3: 0.9509 | sens_task3: 0.0042 | spec_task3: 0.9967 | acc_task4: 0.9030 | sens_task4: 0.0339 | spec_task4: 0.9681 | acc_task5: 0.8639 | sens_task5: 0.0181 | spec_task5: 0.9884\n"
     ]
    },
    {
     "name": "stdout",
     "output_type": "stream",
     "text": [
      "\n",
      "Step 36000 (Epoch 2):\n",
      "Loss: 0.3538\n",
      "Learning rate: 0.000016\n",
      "Accuracy:     T0:0.98  T1:0.97  T2:0.96  T3:0.95  T4:0.90  T5:0.86  \n",
      "Sensitivity:  T0:0.00  T1:0.00  T2:0.00  T3:0.00  T4:0.03  T5:0.02  \n",
      "Specificity:  T0:1.00  T1:1.00  T2:1.00  T3:1.00  T4:0.97  T5:0.99  \n"
     ]
    },
    {
     "name": "stderr",
     "output_type": "stream",
     "text": [
      "2025-05-28 19:00:36,305 - INFO - iteration: 36000 | epoch: 1 | loss: 0.3538 | lr: 0.0000 | type: training | acc_task0: 0.9842 | sens_task0: 0.0000 | spec_task0: 0.9999 | acc_task1: 0.9727 | sens_task1: 0.0000 | spec_task1: 1.0000 | acc_task2: 0.9622 | sens_task2: 0.0000 | spec_task2: 0.9996 | acc_task3: 0.9509 | sens_task3: 0.0039 | spec_task3: 0.9968 | acc_task4: 0.9035 | sens_task4: 0.0330 | spec_task4: 0.9691 | acc_task5: 0.8637 | sens_task5: 0.0169 | spec_task5: 0.9887\n"
     ]
    },
    {
     "name": "stdout",
     "output_type": "stream",
     "text": [
      "Saved model components to:\n",
      "  Base: base_model_epoch_2.pt\n",
      "  Aggregator: aggregator_epoch_2.pt\n",
      "Saved checkpoint at epoch 2 to ./output_ddp_p16_23_1150_ac2000/checkpoints/model_epoch_2.pt\n",
      "\n",
      "Saved checkpoint for epoch 2\n",
      "\n",
      "Step 37000 (Epoch 3):\n",
      "Loss: 0.4822\n",
      "Learning rate: 0.000016\n",
      "Accuracy:     T0:0.99  T1:0.98  T2:0.97  T3:0.95  T4:0.93  T5:0.87  \n",
      "Sensitivity:  T0:0.00  T1:0.00  T2:0.00  T3:0.00  T4:0.03  T5:0.00  \n",
      "Specificity:  T0:1.00  T1:1.00  T2:1.00  T3:0.99  T4:0.99  T5:0.99  \n"
     ]
    },
    {
     "name": "stderr",
     "output_type": "stream",
     "text": [
      "2025-05-28 19:36:03,652 - INFO - iteration: 37000 | epoch: 2 | loss: 0.4822 | lr: 0.0000 | type: training | acc_task0: 0.9880 | sens_task0: 0.0000 | spec_task0: 1.0000 | acc_task1: 0.9792 | sens_task1: 0.0000 | spec_task1: 1.0000 | acc_task2: 0.9675 | sens_task2: 0.0000 | spec_task2: 0.9987 | acc_task3: 0.9537 | sens_task3: 0.0000 | spec_task3: 0.9946 | acc_task4: 0.9272 | sens_task4: 0.0263 | spec_task4: 0.9892 | acc_task5: 0.8688 | sens_task5: 0.0000 | spec_task5: 0.9900\n"
     ]
    },
    {
     "name": "stdout",
     "output_type": "stream",
     "text": [
      "\n",
      "Step 38000 (Epoch 3):\n",
      "Loss: 0.3486\n",
      "Learning rate: 0.000016\n",
      "Accuracy:     T0:0.99  T1:0.98  T2:0.97  T3:0.95  T4:0.93  T5:0.86  \n",
      "Sensitivity:  T0:0.00  T1:0.00  T2:0.00  T3:0.00  T4:0.01  T5:0.00  \n",
      "Specificity:  T0:1.00  T1:1.00  T2:1.00  T3:1.00  T4:1.00  T5:0.99  \n"
     ]
    },
    {
     "name": "stderr",
     "output_type": "stream",
     "text": [
      "2025-05-28 20:06:39,353 - INFO - iteration: 38000 | epoch: 2 | loss: 0.3486 | lr: 0.0000 | type: training | acc_task0: 0.9869 | sens_task0: 0.0000 | spec_task0: 1.0000 | acc_task1: 0.9761 | sens_task1: 0.0000 | spec_task1: 1.0000 | acc_task2: 0.9658 | sens_task2: 0.0000 | spec_task2: 0.9994 | acc_task3: 0.9544 | sens_task3: 0.0000 | spec_task3: 0.9969 | acc_task4: 0.9296 | sens_task4: 0.0116 | spec_task4: 0.9950 | acc_task5: 0.8636 | sens_task5: 0.0000 | spec_task5: 0.9905\n"
     ]
    },
    {
     "name": "stdout",
     "output_type": "stream",
     "text": [
      "\n",
      "Step 39000 (Epoch 3):\n",
      "Loss: 0.2924\n",
      "Learning rate: 0.000016\n",
      "Accuracy:     T0:0.99  T1:0.97  T2:0.96  T3:0.95  T4:0.93  T5:0.86  \n",
      "Sensitivity:  T0:0.00  T1:0.00  T2:0.00  T3:0.00  T4:0.01  T5:0.00  \n",
      "Specificity:  T0:1.00  T1:1.00  T2:1.00  T3:1.00  T4:1.00  T5:0.99  \n"
     ]
    },
    {
     "name": "stderr",
     "output_type": "stream",
     "text": [
      "2025-05-28 20:40:28,867 - INFO - iteration: 39000 | epoch: 2 | loss: 0.2924 | lr: 0.0000 | type: training | acc_task0: 0.9855 | sens_task0: 0.0000 | spec_task0: 1.0000 | acc_task1: 0.9740 | sens_task1: 0.0000 | spec_task1: 1.0000 | acc_task2: 0.9628 | sens_task2: 0.0000 | spec_task2: 0.9992 | acc_task3: 0.9518 | sens_task3: 0.0000 | spec_task3: 0.9968 | acc_task4: 0.9285 | sens_task4: 0.0073 | spec_task4: 0.9962 | acc_task5: 0.8593 | sens_task5: 0.0000 | spec_task5: 0.9909\n"
     ]
    },
    {
     "name": "stdout",
     "output_type": "stream",
     "text": [
      "\n",
      "Step 40000 (Epoch 3):\n",
      "Loss: 0.3211\n",
      "Learning rate: 0.000016\n",
      "Accuracy:     T0:0.99  T1:0.98  T2:0.96  T3:0.95  T4:0.93  T5:0.87  \n",
      "Sensitivity:  T0:0.00  T1:0.00  T2:0.00  T3:0.00  T4:0.01  T5:0.00  \n",
      "Specificity:  T0:1.00  T1:1.00  T2:1.00  T3:1.00  T4:1.00  T5:0.99  \n"
     ]
    },
    {
     "name": "stderr",
     "output_type": "stream",
     "text": [
      "2025-05-28 21:14:48,498 - INFO - iteration: 40000 | epoch: 2 | loss: 0.3211 | lr: 0.0000 | type: training | acc_task0: 0.9864 | sens_task0: 0.0000 | spec_task0: 1.0000 | acc_task1: 0.9760 | sens_task1: 0.0000 | spec_task1: 1.0000 | acc_task2: 0.9643 | sens_task2: 0.0000 | spec_task2: 0.9994 | acc_task3: 0.9549 | sens_task3: 0.0000 | spec_task3: 0.9977 | acc_task4: 0.9335 | sens_task4: 0.0058 | spec_task4: 0.9972 | acc_task5: 0.8693 | sens_task5: 0.0000 | spec_task5: 0.9918\n"
     ]
    },
    {
     "name": "stdout",
     "output_type": "stream",
     "text": [
      "\n",
      "Step 41000 (Epoch 3):\n",
      "Loss: 0.2853\n",
      "Learning rate: 0.000016\n",
      "Accuracy:     T0:0.99  T1:0.97  T2:0.96  T3:0.95  T4:0.93  T5:0.86  \n",
      "Sensitivity:  T0:0.00  T1:0.00  T2:0.00  T3:0.00  T4:0.00  T5:0.00  \n",
      "Specificity:  T0:1.00  T1:1.00  T2:1.00  T3:1.00  T4:1.00  T5:0.99  \n"
     ]
    },
    {
     "name": "stderr",
     "output_type": "stream",
     "text": [
      "2025-05-28 21:45:18,594 - INFO - iteration: 41000 | epoch: 2 | loss: 0.2853 | lr: 0.0000 | type: training | acc_task0: 0.9851 | sens_task0: 0.0000 | spec_task0: 1.0000 | acc_task1: 0.9734 | sens_task1: 0.0000 | spec_task1: 1.0000 | acc_task2: 0.9610 | sens_task2: 0.0000 | spec_task2: 0.9996 | acc_task3: 0.9514 | sens_task3: 0.0000 | spec_task3: 0.9981 | acc_task4: 0.9290 | sens_task4: 0.0043 | spec_task4: 0.9972 | acc_task5: 0.8614 | sens_task5: 0.0000 | spec_task5: 0.9930\n"
     ]
    },
    {
     "name": "stdout",
     "output_type": "stream",
     "text": [
      "\n",
      "Step 43000 (Epoch 3):\n",
      "Loss: 0.3659\n",
      "Learning rate: 0.000016\n",
      "Accuracy:     T0:0.99  T1:0.97  T2:0.96  T3:0.95  T4:0.93  T5:0.87  \n",
      "Sensitivity:  T0:0.00  T1:0.00  T2:0.00  T3:0.00  T4:0.00  T5:0.00  \n",
      "Specificity:  T0:1.00  T1:1.00  T2:1.00  T3:1.00  T4:1.00  T5:0.99  \n"
     ]
    },
    {
     "name": "stderr",
     "output_type": "stream",
     "text": [
      "2025-05-28 22:43:51,984 - INFO - iteration: 43000 | epoch: 2 | loss: 0.3659 | lr: 0.0000 | type: training | acc_task0: 0.9862 | sens_task0: 0.0000 | spec_task0: 1.0000 | acc_task1: 0.9746 | sens_task1: 0.0000 | spec_task1: 1.0000 | acc_task2: 0.9621 | sens_task2: 0.0000 | spec_task2: 0.9997 | acc_task3: 0.9531 | sens_task3: 0.0000 | spec_task3: 0.9984 | acc_task4: 0.9311 | sens_task4: 0.0031 | spec_task4: 0.9980 | acc_task5: 0.8679 | sens_task5: 0.0028 | spec_task5: 0.9938\n"
     ]
    },
    {
     "name": "stdout",
     "output_type": "stream",
     "text": [
      "\n",
      "Step 44000 (Epoch 3):\n",
      "Loss: 0.3377\n",
      "Learning rate: 0.000016\n",
      "Accuracy:     T0:0.99  T1:0.97  T2:0.96  T3:0.95  T4:0.93  T5:0.87  \n",
      "Sensitivity:  T0:0.00  T1:0.00  T2:0.00  T3:0.00  T4:0.00  T5:0.01  \n",
      "Specificity:  T0:1.00  T1:1.00  T2:1.00  T3:1.00  T4:1.00  T5:0.99  \n"
     ]
    },
    {
     "name": "stderr",
     "output_type": "stream",
     "text": [
      "2025-05-28 23:13:16,056 - INFO - iteration: 44000 | epoch: 2 | loss: 0.3377 | lr: 0.0000 | type: training | acc_task0: 0.9865 | sens_task0: 0.0000 | spec_task0: 1.0000 | acc_task1: 0.9747 | sens_task1: 0.0000 | spec_task1: 1.0000 | acc_task2: 0.9630 | sens_task2: 0.0000 | spec_task2: 0.9997 | acc_task3: 0.9540 | sens_task3: 0.0031 | spec_task3: 0.9983 | acc_task4: 0.9326 | sens_task4: 0.0028 | spec_task4: 0.9982 | acc_task5: 0.8702 | sens_task5: 0.0050 | spec_task5: 0.9925\n",
      "WARNING:torch.distributed.elastic.agent.server.api:Received 2 death signal, shutting down workers\n",
      "WARNING:torch.distributed.elastic.multiprocessing.api:Sending process 28238 closing signal SIGINT\n",
      "WARNING:torch.distributed.elastic.multiprocessing.api:Sending process 28239 closing signal SIGINT\n"
     ]
    },
    {
     "ename": "KeyboardInterrupt",
     "evalue": "",
     "output_type": "error",
     "traceback": [
      "\u001b[0;31m---------------------------------------------------------------------------\u001b[0m",
      "\u001b[0;31mKeyboardInterrupt\u001b[0m                         Traceback (most recent call last)",
      "Cell \u001b[0;32mIn[1], line 37\u001b[0m\n\u001b[1;32m     35\u001b[0m \u001b[38;5;66;03m# Run the command\u001b[39;00m\n\u001b[1;32m     36\u001b[0m \u001b[38;5;28;01mtry\u001b[39;00m:\n\u001b[0;32m---> 37\u001b[0m     \u001b[43msubprocess\u001b[49m\u001b[38;5;241;43m.\u001b[39;49m\u001b[43mrun\u001b[49m\u001b[43m(\u001b[49m\u001b[43mcommand\u001b[49m\u001b[43m,\u001b[49m\u001b[43m \u001b[49m\u001b[43mcheck\u001b[49m\u001b[38;5;241;43m=\u001b[39;49m\u001b[38;5;28;43;01mTrue\u001b[39;49;00m\u001b[43m)\u001b[49m\n\u001b[1;32m     38\u001b[0m \u001b[38;5;28;01mexcept\u001b[39;00m subprocess\u001b[38;5;241m.\u001b[39mCalledProcessError \u001b[38;5;28;01mas\u001b[39;00m e:\n\u001b[1;32m     39\u001b[0m     \u001b[38;5;28mprint\u001b[39m(\u001b[38;5;124mf\u001b[39m\u001b[38;5;124m\"\u001b[39m\u001b[38;5;124mError occurred: \u001b[39m\u001b[38;5;132;01m{\u001b[39;00me\u001b[38;5;132;01m}\u001b[39;00m\u001b[38;5;124m\"\u001b[39m)\n",
      "File \u001b[0;32m~usr/lib/python3.10/subprocess.py:505\u001b[0m, in \u001b[0;36mrun\u001b[0;34m(input, capture_output, timeout, check, *popenargs, **kwargs)\u001b[0m\n\u001b[1;32m    503\u001b[0m \u001b[38;5;28;01mwith\u001b[39;00m Popen(\u001b[38;5;241m*\u001b[39mpopenargs, \u001b[38;5;241m*\u001b[39m\u001b[38;5;241m*\u001b[39mkwargs) \u001b[38;5;28;01mas\u001b[39;00m process:\n\u001b[1;32m    504\u001b[0m     \u001b[38;5;28;01mtry\u001b[39;00m:\n\u001b[0;32m--> 505\u001b[0m         stdout, stderr \u001b[38;5;241m=\u001b[39m \u001b[43mprocess\u001b[49m\u001b[38;5;241;43m.\u001b[39;49m\u001b[43mcommunicate\u001b[49m\u001b[43m(\u001b[49m\u001b[38;5;28;43minput\u001b[39;49m\u001b[43m,\u001b[49m\u001b[43m \u001b[49m\u001b[43mtimeout\u001b[49m\u001b[38;5;241;43m=\u001b[39;49m\u001b[43mtimeout\u001b[49m\u001b[43m)\u001b[49m\n\u001b[1;32m    506\u001b[0m     \u001b[38;5;28;01mexcept\u001b[39;00m TimeoutExpired \u001b[38;5;28;01mas\u001b[39;00m exc:\n\u001b[1;32m    507\u001b[0m         process\u001b[38;5;241m.\u001b[39mkill()\n",
      "File \u001b[0;32m~usr/lib/python3.10/subprocess.py:1146\u001b[0m, in \u001b[0;36mPopen.communicate\u001b[0;34m(self, input, timeout)\u001b[0m\n\u001b[1;32m   1144\u001b[0m         stderr \u001b[38;5;241m=\u001b[39m \u001b[38;5;28mself\u001b[39m\u001b[38;5;241m.\u001b[39mstderr\u001b[38;5;241m.\u001b[39mread()\n\u001b[1;32m   1145\u001b[0m         \u001b[38;5;28mself\u001b[39m\u001b[38;5;241m.\u001b[39mstderr\u001b[38;5;241m.\u001b[39mclose()\n\u001b[0;32m-> 1146\u001b[0m     \u001b[38;5;28;43mself\u001b[39;49m\u001b[38;5;241;43m.\u001b[39;49m\u001b[43mwait\u001b[49m\u001b[43m(\u001b[49m\u001b[43m)\u001b[49m\n\u001b[1;32m   1147\u001b[0m \u001b[38;5;28;01melse\u001b[39;00m:\n\u001b[1;32m   1148\u001b[0m     \u001b[38;5;28;01mif\u001b[39;00m timeout \u001b[38;5;129;01mis\u001b[39;00m \u001b[38;5;129;01mnot\u001b[39;00m \u001b[38;5;28;01mNone\u001b[39;00m:\n",
      "File \u001b[0;32m~usr/lib/python3.10/subprocess.py:1209\u001b[0m, in \u001b[0;36mPopen.wait\u001b[0;34m(self, timeout)\u001b[0m\n\u001b[1;32m   1207\u001b[0m     endtime \u001b[38;5;241m=\u001b[39m _time() \u001b[38;5;241m+\u001b[39m timeout\n\u001b[1;32m   1208\u001b[0m \u001b[38;5;28;01mtry\u001b[39;00m:\n\u001b[0;32m-> 1209\u001b[0m     \u001b[38;5;28;01mreturn\u001b[39;00m \u001b[38;5;28;43mself\u001b[39;49m\u001b[38;5;241;43m.\u001b[39;49m\u001b[43m_wait\u001b[49m\u001b[43m(\u001b[49m\u001b[43mtimeout\u001b[49m\u001b[38;5;241;43m=\u001b[39;49m\u001b[43mtimeout\u001b[49m\u001b[43m)\u001b[49m\n\u001b[1;32m   1210\u001b[0m \u001b[38;5;28;01mexcept\u001b[39;00m \u001b[38;5;167;01mKeyboardInterrupt\u001b[39;00m:\n\u001b[1;32m   1211\u001b[0m     \u001b[38;5;66;03m# https://bugs.python.org/issue25942\u001b[39;00m\n\u001b[1;32m   1212\u001b[0m     \u001b[38;5;66;03m# The first keyboard interrupt waits briefly for the child to\u001b[39;00m\n\u001b[1;32m   1213\u001b[0m     \u001b[38;5;66;03m# exit under the common assumption that it also received the ^C\u001b[39;00m\n\u001b[1;32m   1214\u001b[0m     \u001b[38;5;66;03m# generated SIGINT and will exit rapidly.\u001b[39;00m\n\u001b[1;32m   1215\u001b[0m     \u001b[38;5;28;01mif\u001b[39;00m timeout \u001b[38;5;129;01mis\u001b[39;00m \u001b[38;5;129;01mnot\u001b[39;00m \u001b[38;5;28;01mNone\u001b[39;00m:\n",
      "File \u001b[0;32m~usr/lib/python3.10/subprocess.py:1959\u001b[0m, in \u001b[0;36mPopen._wait\u001b[0;34m(self, timeout)\u001b[0m\n\u001b[1;32m   1957\u001b[0m \u001b[38;5;28;01mif\u001b[39;00m \u001b[38;5;28mself\u001b[39m\u001b[38;5;241m.\u001b[39mreturncode \u001b[38;5;129;01mis\u001b[39;00m \u001b[38;5;129;01mnot\u001b[39;00m \u001b[38;5;28;01mNone\u001b[39;00m:\n\u001b[1;32m   1958\u001b[0m     \u001b[38;5;28;01mbreak\u001b[39;00m  \u001b[38;5;66;03m# Another thread waited.\u001b[39;00m\n\u001b[0;32m-> 1959\u001b[0m (pid, sts) \u001b[38;5;241m=\u001b[39m \u001b[38;5;28;43mself\u001b[39;49m\u001b[38;5;241;43m.\u001b[39;49m\u001b[43m_try_wait\u001b[49m\u001b[43m(\u001b[49m\u001b[38;5;241;43m0\u001b[39;49m\u001b[43m)\u001b[49m\n\u001b[1;32m   1960\u001b[0m \u001b[38;5;66;03m# Check the pid and loop as waitpid has been known to\u001b[39;00m\n\u001b[1;32m   1961\u001b[0m \u001b[38;5;66;03m# return 0 even without WNOHANG in odd situations.\u001b[39;00m\n\u001b[1;32m   1962\u001b[0m \u001b[38;5;66;03m# http://bugs.python.org/issue14396.\u001b[39;00m\n\u001b[1;32m   1963\u001b[0m \u001b[38;5;28;01mif\u001b[39;00m pid \u001b[38;5;241m==\u001b[39m \u001b[38;5;28mself\u001b[39m\u001b[38;5;241m.\u001b[39mpid:\n",
      "File \u001b[0;32m~usr/lib/python3.10/subprocess.py:1917\u001b[0m, in \u001b[0;36mPopen._try_wait\u001b[0;34m(self, wait_flags)\u001b[0m\n\u001b[1;32m   1915\u001b[0m \u001b[38;5;250m\u001b[39m\u001b[38;5;124;03m\"\"\"All callers to this function MUST hold self._waitpid_lock.\"\"\"\u001b[39;00m\n\u001b[1;32m   1916\u001b[0m \u001b[38;5;28;01mtry\u001b[39;00m:\n\u001b[0;32m-> 1917\u001b[0m     (pid, sts) \u001b[38;5;241m=\u001b[39m \u001b[43mos\u001b[49m\u001b[38;5;241;43m.\u001b[39;49m\u001b[43mwaitpid\u001b[49m\u001b[43m(\u001b[49m\u001b[38;5;28;43mself\u001b[39;49m\u001b[38;5;241;43m.\u001b[39;49m\u001b[43mpid\u001b[49m\u001b[43m,\u001b[49m\u001b[43m \u001b[49m\u001b[43mwait_flags\u001b[49m\u001b[43m)\u001b[49m\n\u001b[1;32m   1918\u001b[0m \u001b[38;5;28;01mexcept\u001b[39;00m \u001b[38;5;167;01mChildProcessError\u001b[39;00m:\n\u001b[1;32m   1919\u001b[0m     \u001b[38;5;66;03m# This happens if SIGCLD is set to be ignored or waiting\u001b[39;00m\n\u001b[1;32m   1920\u001b[0m     \u001b[38;5;66;03m# for child processes has otherwise been disabled for our\u001b[39;00m\n\u001b[1;32m   1921\u001b[0m     \u001b[38;5;66;03m# process.  This child is dead, we can't get the status.\u001b[39;00m\n\u001b[1;32m   1922\u001b[0m     pid \u001b[38;5;241m=\u001b[39m \u001b[38;5;28mself\u001b[39m\u001b[38;5;241m.\u001b[39mpid\n",
      "\u001b[0;31mKeyboardInterrupt\u001b[0m: "
     ]
    }
   ],
   "source": [
    "## Install required packages first\n",
    "\n",
    "import os\n",
    "import subprocess\n",
    "# Set required environment variables\n",
    "os.environ[\"MASTER_ADDR\"] = \"localhost\"\n",
    "os.environ[\"MASTER_PORT\"] = \"29500\"\n",
    "os.environ[\"RANK\"] = \"0\"\n",
    "os.environ[\"WORLD_SIZE\"] = \"2\"\n",
    "os.environ[\"LOCAL_RANK\"] = \"0\"\n",
    "os.environ[\"LOCAL_WORLD_SIZE\"] = \"2\"\n",
    "\n",
    "# Build the command with --install-packages flag removed\n",
    "command = [\n",
    "    \"python3\",\n",
    "    \"/rsrch1/ip/msalehjahromi/codes/FineTune/multiGPU/n_GPU_A100/2_run_fineTune_ddp_launcher.py\",\n",
    "    \"--num-gpus\", \"2\",\n",
    "    \"--csv\", \"/rsrch1/ip/msalehjahromi/codes/FineTune/nlst_event_train_val_.csv\",\n",
    "    \"--accum-steps\", \"500\", ###############\n",
    "    \"--num-workers\", \"5\",\n",
    "    \"--epochs\", \"200\", ###############\n",
    "    \"--lr\", \"0.0004\", ###############\n",
    "    \"--weight-decay\", \"0.0001\",\n",
    "    \"--optimizer\", \"adamw\",\n",
    "    \"--num-attn-heads\", \"3\",\n",
    "    \"--num-layers\", \"2\",\n",
    "    \"--dropout\", \"0.35\",\n",
    "    \"--unfreeze-strategy\", \"all\",  \n",
    "    \"--output\", \"./output_ddp_p16_23_1150_ac2000\",\n",
    "    \"--print-every\", \"1000\", ################ 2000\n",
    "    \"--val-every\", \"150000\", ################ 50k\n",
    "    \"--metrics-dir\", \"/rsrch1/ip/msalehjahromi/codes/FineTune/multiGPU/metrics_multi_gpu\"\n",
    "]\n",
    "\n",
    "# Run the command\n",
    "try:\n",
    "    subprocess.run(command, check=True)\n",
    "except subprocess.CalledProcessError as e:\n",
    "    print(f\"Error occurred: {e}\")\n",
    "    print(f\"Command output: {e.output if hasattr(e, 'output') else 'No output available'}\")"
   ]
  },
  {
   "cell_type": "code",
   "execution_count": null,
   "id": "7ee68b16",
   "metadata": {},
   "outputs": [],
   "source": [
    "# avg_loss: 0.1475 | auc_task0: 0.5047 | acc_task0: 0.9849 | auc_task1: 0.5704 | acc_task1: 0.9735 | auc_task2: 0.5494 | acc_task2: 0.9630 | auc_task3: 0.5722 | acc_task3: 0.9544 | auc_task4: 0.5695 | acc_task4: 0.9301 | auc_task5: 0.6018 | acc_task5: 0.8697 \n",
    "# avg_loss: 0.1471 | auc_task0: 0.5660 | acc_task0: 0.9849 | auc_task1: 0.5836 | acc_task1: 0.9735 | auc_task2: 0.6109 | acc_task2: 0.9630 | auc_task3: 0.6124 | acc_task3: 0.9544 | auc_task4: 0.5813 | acc_task4: 0.9301 | auc_task5: 0.6018 | acc_task5: 0.8697 \n",
    "# avg_loss: 0.1455 | auc_task0: 0.6144 | acc_task0: 0.9849 | auc_task1: 0.5950 | acc_task1: 0.9735 | auc_task2: 0.6072 | acc_task2: 0.9630 | auc_task3: 0.6141 | acc_task3: 0.9544 | auc_task4: 0.5864 | acc_task4: 0.9301 | auc_task5: 0.6156 | acc_task5: 0.8697 "
   ]
  },
  {
   "cell_type": "code",
   "execution_count": null,
   "id": "89188a29",
   "metadata": {},
   "outputs": [],
   "source": [
    "epoch 4 :    auc_task0: 0.5047 | auc_task1: 0.5704 | auc_task2: 0.5494 | auc_task3: 0.5722 | auc_task4: 0.5695 | auc_task5: 0.6018 \n",
    "epoch 8 :    auc_task0: 0.5660 | auc_task1: 0.5836 | auc_task2: 0.6109 | auc_task3: 0.6124 | auc_task4: 0.5813 | auc_task5: 0.6018 \n",
    "epoch 12:    auc_task0: 0.6144 | auc_task1: 0.5950 | auc_task2: 0.6072 | auc_task3: 0.6141 | auc_task4: 0.5864 | auc_task5: 0.6156 \n",
    "epock 16:    auc_task0: 0.5645 | auc_task1: 0.5985 | auc_task2: 0.5974 | auc_task3: 0.6174 | auc_task4: 0.5977 | auc_task5: 0.6161 "
   ]
  }
 ],
 "metadata": {
  "kernelspec": {
   "display_name": "Python 3 (ipykernel)",
   "language": "python",
   "name": "python3"
  },
  "language_info": {
   "codemirror_mode": {
    "name": "ipython",
    "version": 3
   },
   "file_extension": ".py",
   "mimetype": "text/x-python",
   "name": "python",
   "nbconvert_exporter": "python",
   "pygments_lexer": "ipython3",
   "version": "3.10.12"
  }
 },
 "nbformat": 4,
 "nbformat_minor": 5
}
