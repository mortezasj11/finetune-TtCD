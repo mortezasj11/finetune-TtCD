{
 "cells": [
  {
   "cell_type": "markdown",
   "id": "8f2aed02-3d9c-4f45-b9fd-92d71e1238b6",
   "metadata": {},
   "source": [
    "# 1. DDP"
   ]
  },
  {
   "cell_type": "code",
   "execution_count": 2,
   "id": "baeaf912-771e-48be-8d7e-56dbdd7b5709",
   "metadata": {},
   "outputs": [],
   "source": [
    "#integration syncronization impliment integrate"
   ]
  },
  {
   "cell_type": "code",
   "execution_count": 1,
   "id": "9e6f2e39-b110-4be8-82bd-5443f49ca638",
   "metadata": {},
   "outputs": [
    {
     "name": "stdout",
     "output_type": "stream",
     "text": [
      "['pip', 'install', '-q', '--extra-index-url', 'https://download.pytorch.org/whl/cu117', 'torch==2.0.0', 'torchvision==0.15.0', 'omegaconf', 'torchmetrics==0.10.3', 'fvcore', 'iopath', 'xformers==0.0.18', 'submitit', 'numpy<2.0']\n",
      "['pip', 'install', '-q', '--extra-index-url', 'https://pypi.nvidia.com', 'cuml-cu11']\n",
      "['pip', 'install', '-q', 'black==22.6.0', 'flake8==5.0.4', 'pylint==2.15.0']\n",
      "['pip', 'install', '-q', 'mmsegmentation==0.27.0']\n",
      "['pip', 'install', '-q', 'mmcv-full==1.5.0']\n",
      "['pip', 'install', '-q', 'nibabel']\n"
     ]
    }
   ],
   "source": [
    "# Install required packages first\n",
    "import os\n",
    "import subprocess\n",
    "pip_commands = [\n",
    "    [\"pip\", \"install\",\"-q\", \"--extra-index-url\", \"https://download.pytorch.org/whl/cu117\", \n",
    "     \"torch==2.0.0\", \"torchvision==0.15.0\", \"omegaconf\", \"torchmetrics==0.10.3\", \n",
    "     \"fvcore\", \"iopath\", \"xformers==0.0.18\", \"submitit\", \"numpy<2.0\"],\n",
    "    [\"pip\", \"install\", \"-q\",  \"--extra-index-url\", \"https://pypi.nvidia.com\", \"cuml-cu11\"],\n",
    "    [\"pip\", \"install\",\"-q\",  \"black==22.6.0\", \"flake8==5.0.4\", \"pylint==2.15.0\"],\n",
    "    [\"pip\", \"install\", \"-q\", \"mmsegmentation==0.27.0\"],\n",
    "    [\"pip\", \"install\",\"-q\", \"mmcv-full==1.5.0\"],\n",
    "    [\"pip\", \"install\",\"-q\", \"nibabel\"]\n",
    "]\n",
    "\n",
    "for cmd in pip_commands:\n",
    "    try:\n",
    "        print(cmd)\n",
    "        subprocess.run(cmd, check=True)\n",
    "    except subprocess.CalledProcessError as e:\n",
    "        print(f\"Failed to install packages with command: {cmd}\")\n",
    "        print(f\"Error: {e}\")"
   ]
  },
  {
   "cell_type": "markdown",
   "id": "abdcbc99-2187-44d4-ba49-db2ff8a4ed85",
   "metadata": {},
   "source": [
    "### The following (x_ddp.py not x_ddp_full.py) got stuck after\n",
    "\n",
    "2025-05-05 22:04:16,876 - INFO - Step 100 | Loss: 3.616974\n",
    "\n",
    "2025-05-05 22:05:19,696 - INFO - Step 200 | Loss: 0.003891\n",
    "\n",
    "2025-05-05 22:06:32,967 - INFO - Step 300 | Loss: 0.032542\n",
    "\n",
    "2025-05-05 22:08:02,341 - INFO - Step 400 | Loss: 0.011597\n",
    "\n",
    "### and also did not save the loss."
   ]
  },
  {
   "cell_type": "code",
   "execution_count": null,
   "id": "05767f94-9f7b-48ca-ba19-0d76d8e0b7e0",
   "metadata": {},
   "outputs": [
    {
     "name": "stderr",
     "output_type": "stream",
     "text": [
      "WARNING:torch.distributed.run:\n",
      "*****************************************\n",
      "Setting OMP_NUM_THREADS environment variable for each process to be 1 in default, to avoid your system being overloaded, please further tune the variable for optimal performance in your application as needed. \n",
      "*****************************************\n",
      "/rsrch1/ip/msalehjahromi/codes/dinov2-torchrun-dataloader6/dinov2/layers/swiglu_ffn.py:43: UserWarning: xFormers is available (SwiGLU)\n",
      "  warnings.warn(\"xFormers is available (SwiGLU)\")\n",
      "/rsrch1/ip/msalehjahromi/codes/dinov2-torchrun-dataloader6/dinov2/layers/attention.py:27: UserWarning: xFormers is available (Attention)\n",
      "  warnings.warn(\"xFormers is available (Attention)\")\n",
      "/rsrch1/ip/msalehjahromi/codes/dinov2-torchrun-dataloader6/dinov2/layers/block.py:33: UserWarning: xFormers is available (Block)\n",
      "  warnings.warn(\"xFormers is available (Block)\")\n"
     ]
    },
    {
     "name": "stdout",
     "output_type": "stream",
     "text": [
      "Files in the directory: ['._.DS_Store', '1_GPU_H100', 'n_GPU_A100', 'metrics_single_gpu', 'n_H100onH100', '.DS_Store', '1_GPU_A100', 'ReadMe.md', '.gitignore', 'metrics_multi_gpu', '.git']\n"
     ]
    },
    {
     "name": "stderr",
     "output_type": "stream",
     "text": [
      "/rsrch1/ip/msalehjahromi/codes/dinov2-torchrun-dataloader6/dinov2/layers/swiglu_ffn.py:43: UserWarning: xFormers is available (SwiGLU)\n",
      "  warnings.warn(\"xFormers is available (SwiGLU)\")\n",
      "/rsrch1/ip/msalehjahromi/codes/dinov2-torchrun-dataloader6/dinov2/layers/attention.py:27: UserWarning: xFormers is available (Attention)\n",
      "  warnings.warn(\"xFormers is available (Attention)\")\n",
      "/rsrch1/ip/msalehjahromi/codes/dinov2-torchrun-dataloader6/dinov2/layers/block.py:33: UserWarning: xFormers is available (Block)\n",
      "  warnings.warn(\"xFormers is available (Block)\")\n",
      "2025-05-10 01:24:40,041 - INFO - Starting training on 2 GPUs with full model copies (DDP)\n"
     ]
    },
    {
     "name": "stdout",
     "output_type": "stream",
     "text": [
      "Files in the directory: ['._.DS_Store', '1_GPU_H100', 'n_GPU_A100', 'metrics_single_gpu', 'n_H100onH100', '.DS_Store', '1_GPU_A100', 'ReadMe.md', '.gitignore', 'metrics_multi_gpu', '.git']\n",
      "\n",
      "==== Dataset Statistics ====\n",
      "Total samples: 43852\n",
      "Training samples: 32922\n",
      "Validation samples: 5460\n",
      "\n",
      "1-year-cancer:\n",
      "  Train positive: 1242 (3.77%)\n",
      "  Val positive: 186 (3.41%)\n",
      "\n",
      "2-year-cancer:\n",
      "  Train positive: 1638 (4.98%)\n",
      "  Val positive: 253 (4.63%)\n",
      "\n",
      "3-year-cancer:\n",
      "  Train positive: 1970 (5.98%)\n",
      "  Val positive: 312 (5.71%)\n",
      "\n",
      "4-year-cancer:\n",
      "  Train positive: 2226 (6.76%)\n",
      "  Val positive: 360 (6.59%)\n",
      "\n",
      "5-year-cancer:\n",
      "  Train positive: 2436 (7.40%)\n",
      "  Val positive: 402 (7.36%)\n",
      "\n",
      "6-year-cancer:\n",
      "  Train positive: 2562 (7.78%)\n",
      "  Val positive: 426 (7.80%)\n",
      "============================\n",
      "\n",
      "Total validation samples: 5460\n",
      "Created distributed validation loader, each rank processes ~2577 samples\n"
     ]
    },
    {
     "name": "stderr",
     "output_type": "stream",
     "text": [
      "2025-05-10 01:24:42,126 - INFO - using MLP layer as FFN\n"
     ]
    },
    {
     "name": "stdout",
     "output_type": "stream",
     "text": [
      "Found cls_token in weights with shape: torch.Size([1, 1, 768])\n",
      "Cls token shape after loading: torch.Size([1, 1, 768]), requires_grad: True, storage size: 768\n",
      "Found cls_token in weights with shape: torch.Size([1, 1, 768])\n"
     ]
    },
    {
     "name": "stderr",
     "output_type": "stream",
     "text": [
      "/rsrch1/ip/msalehjahromi/codes/FineTune/multiGPU/n_GPU_A100/2_run_fineTune_ddp_full.py:826: UserWarning: TypedStorage is deprecated. It will be removed in the future and UntypedStorage will be the only storage class. This should only matter to you if you are using storages directly.  To access UntypedStorage directly, use tensor.untyped_storage() instead of tensor.storage()\n",
      "  f\"storage size: {model_ct.cls_token.storage().size()}\")\n",
      "/rsrch1/ip/msalehjahromi/codes/FineTune/multiGPU/n_GPU_A100/2_run_fineTune_ddp_full.py:817: UserWarning: TypedStorage is deprecated. It will be removed in the future and UntypedStorage will be the only storage class. This should only matter to you if you are using storages directly.  To access UntypedStorage directly, use tensor.untyped_storage() instead of tensor.storage()\n",
      "  if hasattr(m, n) and getattr(m, n).storage().size() == 0:  # Check if meta/empty\n",
      "/rsrch1/ip/msalehjahromi/codes/FineTune/multiGPU/n_GPU_A100/2_run_fineTune_ddp_full.py:826: UserWarning: TypedStorage is deprecated. It will be removed in the future and UntypedStorage will be the only storage class. This should only matter to you if you are using storages directly.  To access UntypedStorage directly, use tensor.untyped_storage() instead of tensor.storage()\n",
      "  f\"storage size: {model_ct.cls_token.storage().size()}\")\n",
      "/rsrch1/ip/msalehjahromi/codes/FineTune/multiGPU/n_GPU_A100/2_run_fineTune_ddp_full.py:817: UserWarning: TypedStorage is deprecated. It will be removed in the future and UntypedStorage will be the only storage class. This should only matter to you if you are using storages directly.  To access UntypedStorage directly, use tensor.untyped_storage() instead of tensor.storage()\n",
      "  if hasattr(m, n) and getattr(m, n).storage().size() == 0:  # Check if meta/empty\n"
     ]
    },
    {
     "name": "stdout",
     "output_type": "stream",
     "text": [
      "Cls token shape after loading: torch.Size([1, 1, 768]), requires_grad: True, storage size: 768\n",
      "Verifying all parameters are on cuda:0\n",
      "All parameters successfully verified on cuda:0\n"
     ]
    },
    {
     "name": "stderr",
     "output_type": "stream",
     "text": [
      "2025-05-10 01:24:43,942 - INFO - DinoVisionTransformer parameters: 176 (LR: 1.0000000000000002e-06)\n",
      "2025-05-10 01:24:43,942 - INFO - Aggregator parameters: 26 (LR: 0.0001)\n",
      "2025-05-10 01:24:43,942 - INFO - Setting unfreeze_strategy to 'all' to avoid DDP synchronization issues\n",
      "2025-05-10 01:24:43,946 - INFO - using MLP layer as FFN\n",
      "/rsrch1/ip/msalehjahromi/codes/FineTune/multiGPU/n_GPU_A100/2_run_fineTune_ddp_full.py:116: UserWarning: TypedStorage is deprecated. It will be removed in the future and UntypedStorage will be the only storage class. This should only matter to you if you are using storages directly.  To access UntypedStorage directly, use tensor.untyped_storage() instead of tensor.storage()\n",
      "  if hasattr(m, n) and getattr(m, n).storage().size() == 0:\n",
      "/rsrch1/ip/msalehjahromi/codes/FineTune/multiGPU/n_GPU_A100/2_run_fineTune_ddp_full.py:116: UserWarning: TypedStorage is deprecated. It will be removed in the future and UntypedStorage will be the only storage class. This should only matter to you if you are using storages directly.  To access UntypedStorage directly, use tensor.untyped_storage() instead of tensor.storage()\n",
      "  if hasattr(m, n) and getattr(m, n).storage().size() == 0:\n"
     ]
    },
    {
     "name": "stdout",
     "output_type": "stream",
     "text": [
      "Will save metrics to: /rsrch1/ip/msalehjahromi/codes/FineTune/multiGPU/metrics_multi_gpu/training_metrics_nGPU_DDP_20250510_012446.jsonl\n",
      "Will save checkpoints to ./output_ddp/checkpoints\n",
      "\n",
      "Training Configuration:\n",
      "Max chunks per sample: 48\n",
      "Learning rate: 0.0001\n",
      "Number of tasks: 6\n",
      "Validation frequency: 50000 steps\n",
      "Number of epochs: 10\n",
      "Warmup steps: 1000\n",
      "World size: 2\n",
      "Device: cuda\n",
      "\n",
      "Epoch 1: All parameters already unfrozen (strategy: all)\n"
     ]
    },
    {
     "name": "stderr",
     "output_type": "stream",
     "text": [
      "/home/msalehjahromi/.local/lib/python3.10/site-packages/xformers/ops/fmha/flash.py:338: UserWarning: TypedStorage is deprecated. It will be removed in the future and UntypedStorage will be the only storage class. This should only matter to you if you are using storages directly.  To access UntypedStorage directly, use tensor.untyped_storage() instead of tensor.storage()\n",
      "  and inp.query.storage().data_ptr() == inp.key.storage().data_ptr()\n",
      "/home/msalehjahromi/.local/lib/python3.10/site-packages/xformers/ops/fmha/flash.py:339: UserWarning: TypedStorage is deprecated. It will be removed in the future and UntypedStorage will be the only storage class. This should only matter to you if you are using storages directly.  To access UntypedStorage directly, use tensor.untyped_storage() instead of tensor.storage()\n",
      "  and inp.query.storage().data_ptr() == inp.value.storage().data_ptr()\n",
      "/home/msalehjahromi/.local/lib/python3.10/site-packages/xformers/ops/unbind.py:46: UserWarning: TypedStorage is deprecated. It will be removed in the future and UntypedStorage will be the only storage class. This should only matter to you if you are using storages directly.  To access UntypedStorage directly, use tensor.untyped_storage() instead of tensor.storage()\n",
      "  storage_data_ptr = tensors[0].storage().data_ptr()\n",
      "/home/msalehjahromi/.local/lib/python3.10/site-packages/xformers/ops/unbind.py:48: UserWarning: TypedStorage is deprecated. It will be removed in the future and UntypedStorage will be the only storage class. This should only matter to you if you are using storages directly.  To access UntypedStorage directly, use tensor.untyped_storage() instead of tensor.storage()\n",
      "  if x.storage().data_ptr() != storage_data_ptr:\n",
      "/home/msalehjahromi/.local/lib/python3.10/site-packages/xformers/ops/fmha/flash.py:338: UserWarning: TypedStorage is deprecated. It will be removed in the future and UntypedStorage will be the only storage class. This should only matter to you if you are using storages directly.  To access UntypedStorage directly, use tensor.untyped_storage() instead of tensor.storage()\n",
      "  and inp.query.storage().data_ptr() == inp.key.storage().data_ptr()\n",
      "/home/msalehjahromi/.local/lib/python3.10/site-packages/xformers/ops/fmha/flash.py:339: UserWarning: TypedStorage is deprecated. It will be removed in the future and UntypedStorage will be the only storage class. This should only matter to you if you are using storages directly.  To access UntypedStorage directly, use tensor.untyped_storage() instead of tensor.storage()\n",
      "  and inp.query.storage().data_ptr() == inp.value.storage().data_ptr()\n",
      "/home/msalehjahromi/.local/lib/python3.10/site-packages/xformers/ops/unbind.py:46: UserWarning: TypedStorage is deprecated. It will be removed in the future and UntypedStorage will be the only storage class. This should only matter to you if you are using storages directly.  To access UntypedStorage directly, use tensor.untyped_storage() instead of tensor.storage()\n",
      "  storage_data_ptr = tensors[0].storage().data_ptr()\n",
      "/home/msalehjahromi/.local/lib/python3.10/site-packages/xformers/ops/unbind.py:48: UserWarning: TypedStorage is deprecated. It will be removed in the future and UntypedStorage will be the only storage class. This should only matter to you if you are using storages directly.  To access UntypedStorage directly, use tensor.untyped_storage() instead of tensor.storage()\n",
      "  if x.storage().data_ptr() != storage_data_ptr:\n",
      "/home/msalehjahromi/.local/lib/python3.10/site-packages/torch/optim/lr_scheduler.py:139: UserWarning: Detected call of `lr_scheduler.step()` before `optimizer.step()`. In PyTorch 1.1.0 and later, you should call them in the opposite order: `optimizer.step()` before `lr_scheduler.step()`.  Failure to do this will result in PyTorch skipping the first value of the learning rate schedule. See more details at https://pytorch.org/docs/stable/optim.html#how-to-adjust-learning-rate\n",
      "  warnings.warn(\"Detected call of `lr_scheduler.step()` before `optimizer.step()`. \"\n",
      "/home/msalehjahromi/.local/lib/python3.10/site-packages/torch/optim/lr_scheduler.py:139: UserWarning: Detected call of `lr_scheduler.step()` before `optimizer.step()`. In PyTorch 1.1.0 and later, you should call them in the opposite order: `optimizer.step()` before `lr_scheduler.step()`.  Failure to do this will result in PyTorch skipping the first value of the learning rate schedule. See more details at https://pytorch.org/docs/stable/optim.html#how-to-adjust-learning-rate\n",
      "  warnings.warn(\"Detected call of `lr_scheduler.step()` before `optimizer.step()`. \"\n"
     ]
    },
    {
     "name": "stdout",
     "output_type": "stream",
     "text": [
      "\n",
      "Step 500 (Epoch 1):\n",
      "Loss: 0.0636\n",
      "Learning rate: 0.000052\n",
      "Accuracy: Task 0: 0.98 | Task 1: 0.97 | Task 2: 0.96 | Task 3: 0.92 | Task 4: 0.89 | Task 5: 0.84\n"
     ]
    },
    {
     "name": "stderr",
     "output_type": "stream",
     "text": [
      "2025-05-10 01:39:50,522 - INFO - iteration: 500 | epoch: 0 | loss: 0.0636 | lr: 0.0001 | type: training | acc_task0: 0.9820 | acc_task1: 0.9654 | acc_task2: 0.9588 | acc_task3: 0.9158 | acc_task4: 0.8864 | acc_task5: 0.8398\n"
     ]
    },
    {
     "name": "stdout",
     "output_type": "stream",
     "text": [
      "\n",
      "Step 1000 (Epoch 1):\n",
      "Loss: 1.3689\n",
      "Learning rate: 0.000100\n",
      "Accuracy: Task 0: 0.98 | Task 1: 0.97 | Task 2: 0.96 | Task 3: 0.93 | Task 4: 0.91 | Task 5: 0.85\n"
     ]
    },
    {
     "name": "stderr",
     "output_type": "stream",
     "text": [
      "2025-05-10 01:56:14,064 - INFO - iteration: 1000 | epoch: 0 | loss: 1.3689 | lr: 0.0001 | type: training | acc_task0: 0.9810 | acc_task1: 0.9694 | acc_task2: 0.9584 | acc_task3: 0.9329 | acc_task4: 0.9053 | acc_task5: 0.8545\n"
     ]
    },
    {
     "name": "stdout",
     "output_type": "stream",
     "text": [
      "\n",
      "Step 1500 (Epoch 1):\n",
      "Loss: 0.0414\n",
      "Learning rate: 0.000100\n",
      "Accuracy: Task 0: 0.99 | Task 1: 0.97 | Task 2: 0.96 | Task 3: 0.94 | Task 4: 0.92 | Task 5: 0.86\n"
     ]
    },
    {
     "name": "stderr",
     "output_type": "stream",
     "text": [
      "2025-05-10 02:07:16,610 - INFO - iteration: 1500 | epoch: 0 | loss: 0.0414 | lr: 0.0001 | type: training | acc_task0: 0.9853 | acc_task1: 0.9727 | acc_task2: 0.9630 | acc_task3: 0.9419 | acc_task4: 0.9165 | acc_task5: 0.8587\n"
     ]
    },
    {
     "name": "stdout",
     "output_type": "stream",
     "text": [
      "\n",
      "Step 2000 (Epoch 1):\n",
      "Loss: 0.0382\n",
      "Learning rate: 0.000100\n",
      "Accuracy: Task 0: 0.98 | Task 1: 0.97 | Task 2: 0.96 | Task 3: 0.95 | Task 4: 0.92 | Task 5: 0.87\n"
     ]
    },
    {
     "name": "stderr",
     "output_type": "stream",
     "text": [
      "2025-05-10 02:17:00,249 - INFO - iteration: 2000 | epoch: 0 | loss: 0.0382 | lr: 0.0001 | type: training | acc_task0: 0.9850 | acc_task1: 0.9719 | acc_task2: 0.9629 | acc_task3: 0.9458 | acc_task4: 0.9214 | acc_task5: 0.8667\n"
     ]
    },
    {
     "name": "stdout",
     "output_type": "stream",
     "text": [
      "\n",
      "Step 2500 (Epoch 1):\n",
      "Loss: 0.0208\n",
      "Learning rate: 0.000100\n",
      "Accuracy: Task 0: 0.99 | Task 1: 0.97 | Task 2: 0.97 | Task 3: 0.95 | Task 4: 0.93 | Task 5: 0.88\n"
     ]
    },
    {
     "name": "stderr",
     "output_type": "stream",
     "text": [
      "2025-05-10 02:26:41,560 - INFO - iteration: 2500 | epoch: 0 | loss: 0.0208 | lr: 0.0001 | type: training | acc_task0: 0.9852 | acc_task1: 0.9734 | acc_task2: 0.9656 | acc_task3: 0.9499 | acc_task4: 0.9270 | acc_task5: 0.8754\n"
     ]
    },
    {
     "name": "stdout",
     "output_type": "stream",
     "text": [
      "\n",
      "Step 3000 (Epoch 1):\n",
      "Loss: 0.0072\n",
      "Learning rate: 0.000100\n",
      "Accuracy: Task 0: 0.99 | Task 1: 0.98 | Task 2: 0.97 | Task 3: 0.95 | Task 4: 0.93 | Task 5: 0.88\n"
     ]
    },
    {
     "name": "stderr",
     "output_type": "stream",
     "text": [
      "2025-05-10 02:36:30,795 - INFO - iteration: 3000 | epoch: 0 | loss: 0.0072 | lr: 0.0001 | type: training | acc_task0: 0.9863 | acc_task1: 0.9751 | acc_task2: 0.9682 | acc_task3: 0.9536 | acc_task4: 0.9331 | acc_task5: 0.8817\n"
     ]
    },
    {
     "name": "stdout",
     "output_type": "stream",
     "text": [
      "\n",
      "Step 3500 (Epoch 1):\n",
      "Loss: 0.0182\n",
      "Learning rate: 0.000100\n",
      "Accuracy: Task 0: 0.99 | Task 1: 0.97 | Task 2: 0.97 | Task 3: 0.95 | Task 4: 0.93 | Task 5: 0.88\n"
     ]
    },
    {
     "name": "stderr",
     "output_type": "stream",
     "text": [
      "2025-05-10 02:46:33,736 - INFO - iteration: 3500 | epoch: 0 | loss: 0.0182 | lr: 0.0001 | type: training | acc_task0: 0.9866 | acc_task1: 0.9749 | acc_task2: 0.9671 | acc_task3: 0.9530 | acc_task4: 0.9323 | acc_task5: 0.8783\n"
     ]
    },
    {
     "name": "stdout",
     "output_type": "stream",
     "text": [
      "\n",
      "Step 4500 (Epoch 1):\n",
      "Loss: 0.0081\n",
      "Learning rate: 0.000100\n",
      "Accuracy: Task 0: 0.99 | Task 1: 0.98 | Task 2: 0.97 | Task 3: 0.95 | Task 4: 0.93 | Task 5: 0.88\n"
     ]
    },
    {
     "name": "stderr",
     "output_type": "stream",
     "text": [
      "2025-05-10 03:06:41,750 - INFO - iteration: 4500 | epoch: 0 | loss: 0.0081 | lr: 0.0001 | type: training | acc_task0: 0.9864 | acc_task1: 0.9757 | acc_task2: 0.9685 | acc_task3: 0.9546 | acc_task4: 0.9347 | acc_task5: 0.8823\n"
     ]
    },
    {
     "name": "stdout",
     "output_type": "stream",
     "text": [
      "\n",
      "Step 5000 (Epoch 1):\n",
      "Loss: 0.0261\n",
      "Learning rate: 0.000100\n",
      "Accuracy: Task 0: 0.99 | Task 1: 0.97 | Task 2: 0.97 | Task 3: 0.95 | Task 4: 0.93 | Task 5: 0.88\n"
     ]
    },
    {
     "name": "stderr",
     "output_type": "stream",
     "text": [
      "2025-05-10 03:16:43,797 - INFO - iteration: 5000 | epoch: 0 | loss: 0.0261 | lr: 0.0001 | type: training | acc_task0: 0.9860 | acc_task1: 0.9749 | acc_task2: 0.9679 | acc_task3: 0.9546 | acc_task4: 0.9340 | acc_task5: 0.8811\n"
     ]
    },
    {
     "name": "stdout",
     "output_type": "stream",
     "text": [
      "\n",
      "Step 5500 (Epoch 1):\n",
      "Loss: 0.0507\n",
      "Learning rate: 0.000100\n",
      "Accuracy: Task 0: 0.98 | Task 1: 0.97 | Task 2: 0.97 | Task 3: 0.95 | Task 4: 0.93 | Task 5: 0.88\n"
     ]
    },
    {
     "name": "stderr",
     "output_type": "stream",
     "text": [
      "2025-05-10 03:26:51,074 - INFO - iteration: 5500 | epoch: 0 | loss: 0.0507 | lr: 0.0001 | type: training | acc_task0: 0.9845 | acc_task1: 0.9733 | acc_task2: 0.9659 | acc_task3: 0.9533 | acc_task4: 0.9327 | acc_task5: 0.8766\n"
     ]
    },
    {
     "name": "stdout",
     "output_type": "stream",
     "text": [
      "\n",
      "Step 6000 (Epoch 1):\n",
      "Loss: 0.0193\n",
      "Learning rate: 0.000100\n",
      "Accuracy: Task 0: 0.98 | Task 1: 0.97 | Task 2: 0.96 | Task 3: 0.95 | Task 4: 0.93 | Task 5: 0.87\n"
     ]
    },
    {
     "name": "stderr",
     "output_type": "stream",
     "text": [
      "2025-05-10 03:37:20,453 - INFO - iteration: 6000 | epoch: 0 | loss: 0.0193 | lr: 0.0001 | type: training | acc_task0: 0.9832 | acc_task1: 0.9721 | acc_task2: 0.9645 | acc_task3: 0.9523 | acc_task4: 0.9313 | acc_task5: 0.8743\n"
     ]
    },
    {
     "name": "stdout",
     "output_type": "stream",
     "text": [
      "\n",
      "Step 7000 (Epoch 1):\n",
      "Loss: 0.0144\n",
      "Learning rate: 0.000100\n",
      "Accuracy: Task 0: 0.98 | Task 1: 0.97 | Task 2: 0.97 | Task 3: 0.95 | Task 4: 0.93 | Task 5: 0.88\n"
     ]
    },
    {
     "name": "stderr",
     "output_type": "stream",
     "text": [
      "2025-05-10 03:57:19,926 - INFO - iteration: 7000 | epoch: 0 | loss: 0.0144 | lr: 0.0001 | type: training | acc_task0: 0.9843 | acc_task1: 0.9735 | acc_task2: 0.9655 | acc_task3: 0.9542 | acc_task4: 0.9333 | acc_task5: 0.8763\n"
     ]
    },
    {
     "name": "stdout",
     "output_type": "stream",
     "text": [
      "\n",
      "Step 8000 (Epoch 1):\n",
      "Loss: 0.0836\n",
      "Learning rate: 0.000099\n",
      "Accuracy: Task 0: 0.98 | Task 1: 0.97 | Task 2: 0.96 | Task 3: 0.95 | Task 4: 0.93 | Task 5: 0.88\n"
     ]
    },
    {
     "name": "stderr",
     "output_type": "stream",
     "text": [
      "2025-05-10 04:18:15,842 - INFO - iteration: 8000 | epoch: 0 | loss: 0.0836 | lr: 0.0001 | type: training | acc_task0: 0.9840 | acc_task1: 0.9729 | acc_task2: 0.9645 | acc_task3: 0.9537 | acc_task4: 0.9324 | acc_task5: 0.8753\n"
     ]
    },
    {
     "name": "stdout",
     "output_type": "stream",
     "text": [
      "\n",
      "Step 8500 (Epoch 1):\n",
      "Loss: 0.0743\n",
      "Learning rate: 0.000099\n",
      "Accuracy: Task 0: 0.98 | Task 1: 0.97 | Task 2: 0.96 | Task 3: 0.95 | Task 4: 0.93 | Task 5: 0.87\n"
     ]
    },
    {
     "name": "stderr",
     "output_type": "stream",
     "text": [
      "2025-05-10 04:28:53,200 - INFO - iteration: 8500 | epoch: 0 | loss: 0.0743 | lr: 0.0001 | type: training | acc_task0: 0.9841 | acc_task1: 0.9730 | acc_task2: 0.9644 | acc_task3: 0.9536 | acc_task4: 0.9316 | acc_task5: 0.8745\n"
     ]
    },
    {
     "name": "stdout",
     "output_type": "stream",
     "text": [
      "\n",
      "Step 9500 (Epoch 1):\n",
      "Loss: 0.0056\n",
      "Learning rate: 0.000099\n",
      "Accuracy: Task 0: 0.98 | Task 1: 0.97 | Task 2: 0.96 | Task 3: 0.95 | Task 4: 0.93 | Task 5: 0.88\n"
     ]
    },
    {
     "name": "stderr",
     "output_type": "stream",
     "text": [
      "2025-05-10 04:49:06,971 - INFO - iteration: 9500 | epoch: 0 | loss: 0.0056 | lr: 0.0001 | type: training | acc_task0: 0.9845 | acc_task1: 0.9734 | acc_task2: 0.9649 | acc_task3: 0.9549 | acc_task4: 0.9325 | acc_task5: 0.8754\n"
     ]
    },
    {
     "name": "stdout",
     "output_type": "stream",
     "text": [
      "\n",
      "Step 10000 (Epoch 1):\n",
      "Loss: 0.0121\n",
      "Learning rate: 0.000099\n",
      "Accuracy: Task 0: 0.98 | Task 1: 0.97 | Task 2: 0.97 | Task 3: 0.96 | Task 4: 0.93 | Task 5: 0.88\n"
     ]
    },
    {
     "name": "stderr",
     "output_type": "stream",
     "text": [
      "2025-05-10 04:59:11,923 - INFO - iteration: 10000 | epoch: 0 | loss: 0.0121 | lr: 0.0001 | type: training | acc_task0: 0.9849 | acc_task1: 0.9734 | acc_task2: 0.9652 | acc_task3: 0.9554 | acc_task4: 0.9332 | acc_task5: 0.8753\n"
     ]
    },
    {
     "name": "stdout",
     "output_type": "stream",
     "text": [
      "\n",
      "Step 10500 (Epoch 1):\n",
      "Loss: 0.0373\n",
      "Learning rate: 0.000099\n",
      "Accuracy: Task 0: 0.98 | Task 1: 0.97 | Task 2: 0.97 | Task 3: 0.95 | Task 4: 0.93 | Task 5: 0.87\n"
     ]
    },
    {
     "name": "stderr",
     "output_type": "stream",
     "text": [
      "2025-05-10 05:09:36,413 - INFO - iteration: 10500 | epoch: 0 | loss: 0.0373 | lr: 0.0001 | type: training | acc_task0: 0.9848 | acc_task1: 0.9733 | acc_task2: 0.9651 | acc_task3: 0.9549 | acc_task4: 0.9328 | acc_task5: 0.8748\n"
     ]
    },
    {
     "name": "stdout",
     "output_type": "stream",
     "text": [
      "\n",
      "Step 11000 (Epoch 1):\n",
      "Loss: 0.0159\n",
      "Learning rate: 0.000099\n",
      "Accuracy: Task 0: 0.98 | Task 1: 0.97 | Task 2: 0.97 | Task 3: 0.96 | Task 4: 0.93 | Task 5: 0.87\n"
     ]
    },
    {
     "name": "stderr",
     "output_type": "stream",
     "text": [
      "2025-05-10 05:19:33,973 - INFO - iteration: 11000 | epoch: 0 | loss: 0.0159 | lr: 0.0001 | type: training | acc_task0: 0.9848 | acc_task1: 0.9733 | acc_task2: 0.9650 | acc_task3: 0.9552 | acc_task4: 0.9327 | acc_task5: 0.8741\n"
     ]
    },
    {
     "name": "stdout",
     "output_type": "stream",
     "text": [
      "\n",
      "Step 11500 (Epoch 1):\n",
      "Loss: 0.0177\n",
      "Learning rate: 0.000099\n",
      "Accuracy: Task 0: 0.98 | Task 1: 0.97 | Task 2: 0.97 | Task 3: 0.96 | Task 4: 0.93 | Task 5: 0.88\n"
     ]
    },
    {
     "name": "stderr",
     "output_type": "stream",
     "text": [
      "2025-05-10 05:30:37,077 - INFO - iteration: 11500 | epoch: 0 | loss: 0.0177 | lr: 0.0001 | type: training | acc_task0: 0.9849 | acc_task1: 0.9736 | acc_task2: 0.9655 | acc_task3: 0.9557 | acc_task4: 0.9336 | acc_task5: 0.8758\n"
     ]
    },
    {
     "name": "stdout",
     "output_type": "stream",
     "text": [
      "\n",
      "Step 12000 (Epoch 1):\n",
      "Loss: 0.0080\n",
      "Learning rate: 0.000099\n",
      "Accuracy: Task 0: 0.99 | Task 1: 0.97 | Task 2: 0.97 | Task 3: 0.96 | Task 4: 0.93 | Task 5: 0.88\n"
     ]
    },
    {
     "name": "stderr",
     "output_type": "stream",
     "text": [
      "2025-05-10 05:40:30,725 - INFO - iteration: 12000 | epoch: 0 | loss: 0.0080 | lr: 0.0001 | type: training | acc_task0: 0.9852 | acc_task1: 0.9741 | acc_task2: 0.9661 | acc_task3: 0.9565 | acc_task4: 0.9344 | acc_task5: 0.8768\n"
     ]
    },
    {
     "name": "stdout",
     "output_type": "stream",
     "text": [
      "\n",
      "Step 12500 (Epoch 1):\n",
      "Loss: 0.0145\n",
      "Learning rate: 0.000099\n",
      "Accuracy: Task 0: 0.99 | Task 1: 0.97 | Task 2: 0.97 | Task 3: 0.96 | Task 4: 0.93 | Task 5: 0.88\n"
     ]
    },
    {
     "name": "stderr",
     "output_type": "stream",
     "text": [
      "2025-05-10 05:50:32,865 - INFO - iteration: 12500 | epoch: 0 | loss: 0.0145 | lr: 0.0001 | type: training | acc_task0: 0.9850 | acc_task1: 0.9739 | acc_task2: 0.9662 | acc_task3: 0.9566 | acc_task4: 0.9342 | acc_task5: 0.8763\n"
     ]
    },
    {
     "name": "stdout",
     "output_type": "stream",
     "text": [
      "\n",
      "Step 13000 (Epoch 1):\n",
      "Loss: 0.0193\n",
      "Learning rate: 0.000099\n",
      "Accuracy: Task 0: 0.99 | Task 1: 0.97 | Task 2: 0.97 | Task 3: 0.96 | Task 4: 0.93 | Task 5: 0.88\n"
     ]
    },
    {
     "name": "stderr",
     "output_type": "stream",
     "text": [
      "2025-05-10 06:00:52,645 - INFO - iteration: 13000 | epoch: 0 | loss: 0.0193 | lr: 0.0001 | type: training | acc_task0: 0.9851 | acc_task1: 0.9738 | acc_task2: 0.9657 | acc_task3: 0.9563 | acc_task4: 0.9341 | acc_task5: 0.8765\n"
     ]
    },
    {
     "name": "stdout",
     "output_type": "stream",
     "text": [
      "\n",
      "Step 13500 (Epoch 1):\n",
      "Loss: 0.0466\n",
      "Learning rate: 0.000098\n",
      "Accuracy: Task 0: 0.98 | Task 1: 0.97 | Task 2: 0.97 | Task 3: 0.96 | Task 4: 0.93 | Task 5: 0.88\n"
     ]
    },
    {
     "name": "stderr",
     "output_type": "stream",
     "text": [
      "2025-05-10 06:11:44,481 - INFO - iteration: 13500 | epoch: 0 | loss: 0.0466 | lr: 0.0001 | type: training | acc_task0: 0.9848 | acc_task1: 0.9738 | acc_task2: 0.9655 | acc_task3: 0.9560 | acc_task4: 0.9339 | acc_task5: 0.8766\n"
     ]
    },
    {
     "name": "stdout",
     "output_type": "stream",
     "text": [
      "\n",
      "Step 14000 (Epoch 1):\n",
      "Loss: 0.7989\n",
      "Learning rate: 0.000098\n",
      "Accuracy: Task 0: 0.98 | Task 1: 0.97 | Task 2: 0.97 | Task 3: 0.96 | Task 4: 0.93 | Task 5: 0.88\n"
     ]
    },
    {
     "name": "stderr",
     "output_type": "stream",
     "text": [
      "2025-05-10 06:22:04,610 - INFO - iteration: 14000 | epoch: 0 | loss: 0.7989 | lr: 0.0001 | type: training | acc_task0: 0.9850 | acc_task1: 0.9738 | acc_task2: 0.9652 | acc_task3: 0.9560 | acc_task4: 0.9339 | acc_task5: 0.8763\n"
     ]
    },
    {
     "name": "stdout",
     "output_type": "stream",
     "text": [
      "\n",
      "Step 14500 (Epoch 1):\n",
      "Loss: 0.0085\n",
      "Learning rate: 0.000098\n",
      "Accuracy: Task 0: 0.98 | Task 1: 0.97 | Task 2: 0.97 | Task 3: 0.96 | Task 4: 0.93 | Task 5: 0.88\n"
     ]
    },
    {
     "name": "stderr",
     "output_type": "stream",
     "text": [
      "2025-05-10 06:32:36,147 - INFO - iteration: 14500 | epoch: 0 | loss: 0.0085 | lr: 0.0001 | type: training | acc_task0: 0.9849 | acc_task1: 0.9740 | acc_task2: 0.9655 | acc_task3: 0.9565 | acc_task4: 0.9347 | acc_task5: 0.8770\n"
     ]
    },
    {
     "name": "stdout",
     "output_type": "stream",
     "text": [
      "\n",
      "Step 15000 (Epoch 1):\n",
      "Loss: 0.0514\n",
      "Learning rate: 0.000098\n",
      "Accuracy: Task 0: 0.98 | Task 1: 0.97 | Task 2: 0.97 | Task 3: 0.96 | Task 4: 0.93 | Task 5: 0.88\n"
     ]
    },
    {
     "name": "stderr",
     "output_type": "stream",
     "text": [
      "2025-05-10 06:42:37,743 - INFO - iteration: 15000 | epoch: 0 | loss: 0.0514 | lr: 0.0001 | type: training | acc_task0: 0.9849 | acc_task1: 0.9741 | acc_task2: 0.9658 | acc_task3: 0.9567 | acc_task4: 0.9349 | acc_task5: 0.8766\n"
     ]
    },
    {
     "name": "stdout",
     "output_type": "stream",
     "text": [
      "\n",
      "Step 15500 (Epoch 1):\n",
      "Loss: 0.0169\n",
      "Learning rate: 0.000098\n",
      "Accuracy: Task 0: 0.99 | Task 1: 0.97 | Task 2: 0.97 | Task 3: 0.96 | Task 4: 0.94 | Task 5: 0.88\n"
     ]
    },
    {
     "name": "stderr",
     "output_type": "stream",
     "text": [
      "2025-05-10 06:52:47,330 - INFO - iteration: 15500 | epoch: 0 | loss: 0.0169 | lr: 0.0001 | type: training | acc_task0: 0.9853 | acc_task1: 0.9745 | acc_task2: 0.9662 | acc_task3: 0.9569 | acc_task4: 0.9351 | acc_task5: 0.8767\n"
     ]
    },
    {
     "name": "stdout",
     "output_type": "stream",
     "text": [
      "\n",
      "Step 16000 (Epoch 2):\n",
      "Loss: 0.9779\n",
      "Learning rate: 0.000098\n",
      "Accuracy: Task 0: 0.97 | Task 1: 0.96 | Task 2: 0.95 | Task 3: 0.93 | Task 4: 0.90 | Task 5: 0.83\n"
     ]
    },
    {
     "name": "stderr",
     "output_type": "stream",
     "text": [
      "2025-05-10 07:03:30,283 - INFO - iteration: 16000 | epoch: 1 | loss: 0.9779 | lr: 0.0001 | type: training | acc_task0: 0.9716 | acc_task1: 0.9588 | acc_task2: 0.9474 | acc_task3: 0.9310 | acc_task4: 0.9008 | acc_task5: 0.8302\n"
     ]
    },
    {
     "name": "stdout",
     "output_type": "stream",
     "text": [
      "\n",
      "Step 17000 (Epoch 2):\n",
      "Loss: 0.0431\n",
      "Learning rate: 0.000097\n",
      "Accuracy: Task 0: 0.98 | Task 1: 0.97 | Task 2: 0.96 | Task 3: 0.95 | Task 4: 0.92 | Task 5: 0.86\n"
     ]
    },
    {
     "name": "stderr",
     "output_type": "stream",
     "text": [
      "2025-05-10 07:23:34,441 - INFO - iteration: 17000 | epoch: 1 | loss: 0.0431 | lr: 0.0001 | type: training | acc_task0: 0.9833 | acc_task1: 0.9700 | acc_task2: 0.9582 | acc_task3: 0.9461 | acc_task4: 0.9229 | acc_task5: 0.8586\n"
     ]
    },
    {
     "name": "stdout",
     "output_type": "stream",
     "text": [
      "\n",
      "Step 17500 (Epoch 2):\n",
      "Loss: 0.0157\n",
      "Learning rate: 0.000097\n",
      "Accuracy: Task 0: 0.98 | Task 1: 0.97 | Task 2: 0.96 | Task 3: 0.95 | Task 4: 0.93 | Task 5: 0.86\n"
     ]
    },
    {
     "name": "stderr",
     "output_type": "stream",
     "text": [
      "2025-05-10 07:33:49,605 - INFO - iteration: 17500 | epoch: 1 | loss: 0.0157 | lr: 0.0001 | type: training | acc_task0: 0.9844 | acc_task1: 0.9704 | acc_task2: 0.9610 | acc_task3: 0.9494 | acc_task4: 0.9265 | acc_task5: 0.8595\n"
     ]
    },
    {
     "name": "stdout",
     "output_type": "stream",
     "text": [
      "\n",
      "Step 18500 (Epoch 2):\n",
      "Loss: 0.1041\n",
      "Learning rate: 0.000097\n",
      "Accuracy: Task 0: 0.98 | Task 1: 0.97 | Task 2: 0.96 | Task 3: 0.95 | Task 4: 0.93 | Task 5: 0.87\n"
     ]
    },
    {
     "name": "stderr",
     "output_type": "stream",
     "text": [
      "2025-05-10 07:54:41,743 - INFO - iteration: 18500 | epoch: 1 | loss: 0.1041 | lr: 0.0001 | type: training | acc_task0: 0.9846 | acc_task1: 0.9728 | acc_task2: 0.9643 | acc_task3: 0.9533 | acc_task4: 0.9316 | acc_task5: 0.8703\n"
     ]
    },
    {
     "name": "stdout",
     "output_type": "stream",
     "text": [
      "\n",
      "Step 19000 (Epoch 2):\n",
      "Loss: 0.0381\n",
      "Learning rate: 0.000097\n",
      "Accuracy: Task 0: 0.99 | Task 1: 0.97 | Task 2: 0.97 | Task 3: 0.96 | Task 4: 0.94 | Task 5: 0.88\n"
     ]
    },
    {
     "name": "stderr",
     "output_type": "stream",
     "text": [
      "2025-05-10 08:05:10,987 - INFO - iteration: 19000 | epoch: 1 | loss: 0.0381 | lr: 0.0001 | type: training | acc_task0: 0.9854 | acc_task1: 0.9744 | acc_task2: 0.9652 | acc_task3: 0.9556 | acc_task4: 0.9351 | acc_task5: 0.8762\n"
     ]
    },
    {
     "name": "stdout",
     "output_type": "stream",
     "text": [
      "\n",
      "Step 19500 (Epoch 2):\n",
      "Loss: 0.0244\n",
      "Learning rate: 0.000096\n",
      "Accuracy: Task 0: 0.99 | Task 1: 0.97 | Task 2: 0.97 | Task 3: 0.96 | Task 4: 0.94 | Task 5: 0.88\n"
     ]
    },
    {
     "name": "stderr",
     "output_type": "stream",
     "text": [
      "2025-05-10 08:15:10,459 - INFO - iteration: 19500 | epoch: 1 | loss: 0.0244 | lr: 0.0001 | type: training | acc_task0: 0.9852 | acc_task1: 0.9743 | acc_task2: 0.9651 | acc_task3: 0.9558 | acc_task4: 0.9350 | acc_task5: 0.8755\n"
     ]
    },
    {
     "name": "stdout",
     "output_type": "stream",
     "text": [
      "\n",
      "Step 20000 (Epoch 2):\n",
      "Loss: 0.0255\n",
      "Learning rate: 0.000096\n",
      "Accuracy: Task 0: 0.99 | Task 1: 0.97 | Task 2: 0.97 | Task 3: 0.96 | Task 4: 0.93 | Task 5: 0.87\n"
     ]
    },
    {
     "name": "stderr",
     "output_type": "stream",
     "text": [
      "2025-05-10 08:25:10,485 - INFO - iteration: 20000 | epoch: 1 | loss: 0.0255 | lr: 0.0001 | type: training | acc_task0: 0.9851 | acc_task1: 0.9740 | acc_task2: 0.9651 | acc_task3: 0.9554 | acc_task4: 0.9338 | acc_task5: 0.8719\n"
     ]
    },
    {
     "name": "stdout",
     "output_type": "stream",
     "text": [
      "\n",
      "Step 20500 (Epoch 2):\n",
      "Loss: 0.0026\n",
      "Learning rate: 0.000096\n",
      "Accuracy: Task 0: 0.98 | Task 1: 0.97 | Task 2: 0.96 | Task 3: 0.95 | Task 4: 0.93 | Task 5: 0.87\n"
     ]
    },
    {
     "name": "stderr",
     "output_type": "stream",
     "text": [
      "2025-05-10 08:35:13,667 - INFO - iteration: 20500 | epoch: 1 | loss: 0.0026 | lr: 0.0001 | type: training | acc_task0: 0.9850 | acc_task1: 0.9739 | acc_task2: 0.9643 | acc_task3: 0.9545 | acc_task4: 0.9321 | acc_task5: 0.8686\n"
     ]
    },
    {
     "name": "stdout",
     "output_type": "stream",
     "text": [
      "\n",
      "Step 22000 (Epoch 2):\n",
      "Loss: 0.0214\n",
      "Learning rate: 0.000095\n",
      "Accuracy: Task 0: 0.99 | Task 1: 0.98 | Task 2: 0.97 | Task 3: 0.96 | Task 4: 0.93 | Task 5: 0.88\n"
     ]
    },
    {
     "name": "stderr",
     "output_type": "stream",
     "text": [
      "2025-05-10 09:05:42,479 - INFO - iteration: 22000 | epoch: 1 | loss: 0.0214 | lr: 0.0001 | type: training | acc_task0: 0.9854 | acc_task1: 0.9751 | acc_task2: 0.9665 | acc_task3: 0.9563 | acc_task4: 0.9348 | acc_task5: 0.8758\n"
     ]
    },
    {
     "name": "stdout",
     "output_type": "stream",
     "text": [
      "\n",
      "Step 23500 (Epoch 2):\n",
      "Loss: 0.0941\n",
      "Learning rate: 0.000095\n",
      "Accuracy: Task 0: 0.99 | Task 1: 0.97 | Task 2: 0.97 | Task 3: 0.96 | Task 4: 0.94 | Task 5: 0.88\n"
     ]
    },
    {
     "name": "stderr",
     "output_type": "stream",
     "text": [
      "2025-05-10 09:37:01,216 - INFO - iteration: 23500 | epoch: 1 | loss: 0.0941 | lr: 0.0001 | type: training | acc_task0: 0.9859 | acc_task1: 0.9745 | acc_task2: 0.9657 | acc_task3: 0.9564 | acc_task4: 0.9351 | acc_task5: 0.8766\n"
     ]
    },
    {
     "name": "stdout",
     "output_type": "stream",
     "text": [
      "\n",
      "Step 24000 (Epoch 2):\n",
      "Loss: 4.2202\n",
      "Learning rate: 0.000095\n",
      "Accuracy: Task 0: 0.99 | Task 1: 0.97 | Task 2: 0.97 | Task 3: 0.96 | Task 4: 0.93 | Task 5: 0.88\n"
     ]
    },
    {
     "name": "stderr",
     "output_type": "stream",
     "text": [
      "2025-05-10 09:47:18,150 - INFO - iteration: 24000 | epoch: 1 | loss: 4.2202 | lr: 0.0001 | type: training | acc_task0: 0.9860 | acc_task1: 0.9743 | acc_task2: 0.9651 | acc_task3: 0.9561 | acc_task4: 0.9348 | acc_task5: 0.8764\n"
     ]
    },
    {
     "name": "stdout",
     "output_type": "stream",
     "text": [
      "\n",
      "Step 25000 (Epoch 2):\n",
      "Loss: 0.6869\n",
      "Learning rate: 0.000094\n",
      "Accuracy: Task 0: 0.99 | Task 1: 0.97 | Task 2: 0.97 | Task 3: 0.96 | Task 4: 0.94 | Task 5: 0.88\n"
     ]
    },
    {
     "name": "stderr",
     "output_type": "stream",
     "text": [
      "2025-05-10 10:08:36,156 - INFO - iteration: 25000 | epoch: 1 | loss: 0.6869 | lr: 0.0001 | type: training | acc_task0: 0.9860 | acc_task1: 0.9747 | acc_task2: 0.9656 | acc_task3: 0.9569 | acc_task4: 0.9353 | acc_task5: 0.8768\n"
     ]
    },
    {
     "name": "stdout",
     "output_type": "stream",
     "text": [
      "\n",
      "Step 25500 (Epoch 2):\n",
      "Loss: 0.0255\n",
      "Learning rate: 0.000094\n",
      "Accuracy: Task 0: 0.99 | Task 1: 0.97 | Task 2: 0.97 | Task 3: 0.96 | Task 4: 0.93 | Task 5: 0.88\n"
     ]
    },
    {
     "name": "stderr",
     "output_type": "stream",
     "text": [
      "2025-05-10 10:19:18,830 - INFO - iteration: 25500 | epoch: 1 | loss: 0.0255 | lr: 0.0001 | type: training | acc_task0: 0.9861 | acc_task1: 0.9749 | acc_task2: 0.9661 | acc_task3: 0.9569 | acc_task4: 0.9349 | acc_task5: 0.8760\n"
     ]
    },
    {
     "name": "stdout",
     "output_type": "stream",
     "text": [
      "\n",
      "Step 26000 (Epoch 2):\n",
      "Loss: 0.0229\n",
      "Learning rate: 0.000094\n",
      "Accuracy: Task 0: 0.99 | Task 1: 0.97 | Task 2: 0.97 | Task 3: 0.96 | Task 4: 0.93 | Task 5: 0.88\n"
     ]
    },
    {
     "name": "stderr",
     "output_type": "stream",
     "text": [
      "2025-05-10 10:29:44,648 - INFO - iteration: 26000 | epoch: 1 | loss: 0.0229 | lr: 0.0001 | type: training | acc_task0: 0.9858 | acc_task1: 0.9745 | acc_task2: 0.9658 | acc_task3: 0.9566 | acc_task4: 0.9344 | acc_task5: 0.8751\n"
     ]
    },
    {
     "name": "stdout",
     "output_type": "stream",
     "text": [
      "\n",
      "Step 26500 (Epoch 2):\n",
      "Loss: 0.1214\n",
      "Learning rate: 0.000093\n",
      "Accuracy: Task 0: 0.99 | Task 1: 0.97 | Task 2: 0.97 | Task 3: 0.96 | Task 4: 0.93 | Task 5: 0.87\n"
     ]
    },
    {
     "name": "stderr",
     "output_type": "stream",
     "text": [
      "2025-05-10 10:40:07,300 - INFO - iteration: 26500 | epoch: 1 | loss: 0.1214 | lr: 0.0001 | type: training | acc_task0: 0.9855 | acc_task1: 0.9739 | acc_task2: 0.9653 | acc_task3: 0.9561 | acc_task4: 0.9337 | acc_task5: 0.8744\n"
     ]
    },
    {
     "name": "stdout",
     "output_type": "stream",
     "text": [
      "\n",
      "Step 27000 (Epoch 2):\n",
      "Loss: 0.0464\n",
      "Learning rate: 0.000093\n",
      "Accuracy: Task 0: 0.99 | Task 1: 0.97 | Task 2: 0.97 | Task 3: 0.96 | Task 4: 0.93 | Task 5: 0.87\n"
     ]
    },
    {
     "name": "stderr",
     "output_type": "stream",
     "text": [
      "2025-05-10 10:50:20,632 - INFO - iteration: 27000 | epoch: 1 | loss: 0.0464 | lr: 0.0001 | type: training | acc_task0: 0.9857 | acc_task1: 0.9743 | acc_task2: 0.9656 | acc_task3: 0.9560 | acc_task4: 0.9336 | acc_task5: 0.8749\n"
     ]
    },
    {
     "name": "stdout",
     "output_type": "stream",
     "text": [
      "\n",
      "Step 27500 (Epoch 2):\n",
      "Loss: 0.0269\n",
      "Learning rate: 0.000093\n",
      "Accuracy: Task 0: 0.99 | Task 1: 0.97 | Task 2: 0.97 | Task 3: 0.96 | Task 4: 0.93 | Task 5: 0.87\n"
     ]
    },
    {
     "name": "stderr",
     "output_type": "stream",
     "text": [
      "2025-05-10 11:01:00,558 - INFO - iteration: 27500 | epoch: 1 | loss: 0.0269 | lr: 0.0001 | type: training | acc_task0: 0.9857 | acc_task1: 0.9744 | acc_task2: 0.9658 | acc_task3: 0.9563 | acc_task4: 0.9336 | acc_task5: 0.8743\n"
     ]
    },
    {
     "name": "stdout",
     "output_type": "stream",
     "text": [
      "\n",
      "Step 28000 (Epoch 2):\n",
      "Loss: 0.1025\n",
      "Learning rate: 0.000093\n",
      "Accuracy: Task 0: 0.99 | Task 1: 0.97 | Task 2: 0.97 | Task 3: 0.96 | Task 4: 0.93 | Task 5: 0.87\n"
     ]
    },
    {
     "name": "stderr",
     "output_type": "stream",
     "text": [
      "2025-05-10 11:11:20,310 - INFO - iteration: 28000 | epoch: 1 | loss: 0.1025 | lr: 0.0001 | type: training | acc_task0: 0.9855 | acc_task1: 0.9743 | acc_task2: 0.9654 | acc_task3: 0.9562 | acc_task4: 0.9336 | acc_task5: 0.8744\n"
     ]
    },
    {
     "name": "stdout",
     "output_type": "stream",
     "text": [
      "\n",
      "Step 28500 (Epoch 2):\n",
      "Loss: 0.0327\n",
      "Learning rate: 0.000092\n",
      "Accuracy: Task 0: 0.99 | Task 1: 0.97 | Task 2: 0.97 | Task 3: 0.96 | Task 4: 0.93 | Task 5: 0.87\n"
     ]
    },
    {
     "name": "stderr",
     "output_type": "stream",
     "text": [
      "2025-05-10 11:21:51,875 - INFO - iteration: 28500 | epoch: 1 | loss: 0.0327 | lr: 0.0001 | type: training | acc_task0: 0.9857 | acc_task1: 0.9745 | acc_task2: 0.9654 | acc_task3: 0.9564 | acc_task4: 0.9339 | acc_task5: 0.8745\n"
     ]
    },
    {
     "name": "stdout",
     "output_type": "stream",
     "text": [
      "\n",
      "Step 29000 (Epoch 2):\n",
      "Loss: 0.0156\n",
      "Learning rate: 0.000092\n",
      "Accuracy: Task 0: 0.99 | Task 1: 0.97 | Task 2: 0.97 | Task 3: 0.96 | Task 4: 0.93 | Task 5: 0.87\n"
     ]
    },
    {
     "name": "stderr",
     "output_type": "stream",
     "text": [
      "2025-05-10 11:32:26,991 - INFO - iteration: 29000 | epoch: 1 | loss: 0.0156 | lr: 0.0001 | type: training | acc_task0: 0.9858 | acc_task1: 0.9747 | acc_task2: 0.9655 | acc_task3: 0.9562 | acc_task4: 0.9337 | acc_task5: 0.8743\n"
     ]
    },
    {
     "name": "stdout",
     "output_type": "stream",
     "text": [
      "\n",
      "Step 29500 (Epoch 2):\n",
      "Loss: 0.1155\n",
      "Learning rate: 0.000092\n",
      "Accuracy: Task 0: 0.99 | Task 1: 0.97 | Task 2: 0.97 | Task 3: 0.96 | Task 4: 0.93 | Task 5: 0.87\n"
     ]
    },
    {
     "name": "stderr",
     "output_type": "stream",
     "text": [
      "2025-05-10 11:43:31,965 - INFO - iteration: 29500 | epoch: 1 | loss: 0.1155 | lr: 0.0001 | type: training | acc_task0: 0.9858 | acc_task1: 0.9748 | acc_task2: 0.9652 | acc_task3: 0.9557 | acc_task4: 0.9330 | acc_task5: 0.8730\n"
     ]
    },
    {
     "name": "stdout",
     "output_type": "stream",
     "text": [
      "\n",
      "Step 30000 (Epoch 2):\n",
      "Loss: 0.0147\n",
      "Learning rate: 0.000092\n",
      "Accuracy: Task 0: 0.99 | Task 1: 0.97 | Task 2: 0.97 | Task 3: 0.96 | Task 4: 0.93 | Task 5: 0.87\n"
     ]
    },
    {
     "name": "stderr",
     "output_type": "stream",
     "text": [
      "2025-05-10 11:54:26,939 - INFO - iteration: 30000 | epoch: 1 | loss: 0.0147 | lr: 0.0001 | type: training | acc_task0: 0.9856 | acc_task1: 0.9748 | acc_task2: 0.9650 | acc_task3: 0.9556 | acc_task4: 0.9329 | acc_task5: 0.8726\n"
     ]
    },
    {
     "name": "stdout",
     "output_type": "stream",
     "text": [
      "\n",
      "Step 30500 (Epoch 2):\n",
      "Loss: 0.0126\n",
      "Learning rate: 0.000091\n",
      "Accuracy: Task 0: 0.99 | Task 1: 0.97 | Task 2: 0.96 | Task 3: 0.96 | Task 4: 0.93 | Task 5: 0.87\n"
     ]
    },
    {
     "name": "stderr",
     "output_type": "stream",
     "text": [
      "2025-05-10 12:05:39,005 - INFO - iteration: 30500 | epoch: 1 | loss: 0.0126 | lr: 0.0001 | type: training | acc_task0: 0.9855 | acc_task1: 0.9746 | acc_task2: 0.9648 | acc_task3: 0.9554 | acc_task4: 0.9326 | acc_task5: 0.8723\n"
     ]
    },
    {
     "name": "stdout",
     "output_type": "stream",
     "text": [
      "\n",
      "Step 31500 (Epoch 3):\n",
      "Loss: 0.0250\n",
      "Learning rate: 0.000091\n",
      "Accuracy: Task 0: 0.99 | Task 1: 0.98 | Task 2: 0.97 | Task 3: 0.96 | Task 4: 0.93 | Task 5: 0.86\n"
     ]
    },
    {
     "name": "stderr",
     "output_type": "stream",
     "text": [
      "2025-05-10 12:28:03,382 - INFO - iteration: 31500 | epoch: 2 | loss: 0.0250 | lr: 0.0001 | type: training | acc_task0: 0.9856 | acc_task1: 0.9790 | acc_task2: 0.9700 | acc_task3: 0.9625 | acc_task4: 0.9314 | acc_task5: 0.8579\n"
     ]
    },
    {
     "name": "stdout",
     "output_type": "stream",
     "text": [
      "\n",
      "Step 32000 (Epoch 3):\n",
      "Loss: 0.0640\n",
      "Learning rate: 0.000090\n",
      "Accuracy: Task 0: 0.99 | Task 1: 0.98 | Task 2: 0.97 | Task 3: 0.96 | Task 4: 0.93 | Task 5: 0.86\n"
     ]
    },
    {
     "name": "stderr",
     "output_type": "stream",
     "text": [
      "2025-05-10 12:39:11,944 - INFO - iteration: 32000 | epoch: 2 | loss: 0.0640 | lr: 0.0001 | type: training | acc_task0: 0.9878 | acc_task1: 0.9762 | acc_task2: 0.9672 | acc_task3: 0.9594 | acc_task4: 0.9304 | acc_task5: 0.8615\n"
     ]
    },
    {
     "name": "stdout",
     "output_type": "stream",
     "text": [
      "\n",
      "Step 32500 (Epoch 3):\n",
      "Loss: 0.0222\n",
      "Learning rate: 0.000090\n",
      "Accuracy: Task 0: 0.98 | Task 1: 0.97 | Task 2: 0.97 | Task 3: 0.96 | Task 4: 0.93 | Task 5: 0.87\n"
     ]
    },
    {
     "name": "stderr",
     "output_type": "stream",
     "text": [
      "2025-05-10 12:49:53,085 - INFO - iteration: 32500 | epoch: 2 | loss: 0.0222 | lr: 0.0001 | type: training | acc_task0: 0.9845 | acc_task1: 0.9745 | acc_task2: 0.9675 | acc_task3: 0.9574 | acc_task4: 0.9305 | acc_task5: 0.8656\n"
     ]
    },
    {
     "name": "stdout",
     "output_type": "stream",
     "text": [
      "\n",
      "Step 33000 (Epoch 3):\n",
      "Loss: 0.0411\n",
      "Learning rate: 0.000090\n",
      "Accuracy: Task 0: 0.98 | Task 1: 0.97 | Task 2: 0.97 | Task 3: 0.95 | Task 4: 0.93 | Task 5: 0.87\n"
     ]
    },
    {
     "name": "stderr",
     "output_type": "stream",
     "text": [
      "2025-05-10 12:59:56,317 - INFO - iteration: 33000 | epoch: 2 | loss: 0.0411 | lr: 0.0001 | type: training | acc_task0: 0.9844 | acc_task1: 0.9743 | acc_task2: 0.9651 | acc_task3: 0.9549 | acc_task4: 0.9299 | acc_task5: 0.8669\n"
     ]
    },
    {
     "name": "stdout",
     "output_type": "stream",
     "text": [
      "\n",
      "Step 33500 (Epoch 3):\n",
      "Loss: 0.0174\n",
      "Learning rate: 0.000089\n",
      "Accuracy: Task 0: 0.98 | Task 1: 0.97 | Task 2: 0.96 | Task 3: 0.95 | Task 4: 0.93 | Task 5: 0.86\n"
     ]
    },
    {
     "name": "stderr",
     "output_type": "stream",
     "text": [
      "2025-05-10 13:09:57,455 - INFO - iteration: 33500 | epoch: 2 | loss: 0.0174 | lr: 0.0001 | type: training | acc_task0: 0.9831 | acc_task1: 0.9716 | acc_task2: 0.9627 | acc_task3: 0.9538 | acc_task4: 0.9283 | acc_task5: 0.8649\n"
     ]
    },
    {
     "name": "stdout",
     "output_type": "stream",
     "text": [
      "\n",
      "Step 34000 (Epoch 3):\n",
      "Loss: 0.0537\n",
      "Learning rate: 0.000089\n",
      "Accuracy: Task 0: 0.98 | Task 1: 0.97 | Task 2: 0.96 | Task 3: 0.95 | Task 4: 0.93 | Task 5: 0.86\n"
     ]
    },
    {
     "name": "stderr",
     "output_type": "stream",
     "text": [
      "2025-05-10 13:19:53,818 - INFO - iteration: 34000 | epoch: 2 | loss: 0.0537 | lr: 0.0001 | type: training | acc_task0: 0.9833 | acc_task1: 0.9709 | acc_task2: 0.9614 | acc_task3: 0.9534 | acc_task4: 0.9272 | acc_task5: 0.8631\n"
     ]
    },
    {
     "name": "stdout",
     "output_type": "stream",
     "text": [
      "\n",
      "Step 34500 (Epoch 3):\n",
      "Loss: 0.0343\n",
      "Learning rate: 0.000089\n",
      "Accuracy: Task 0: 0.98 | Task 1: 0.97 | Task 2: 0.96 | Task 3: 0.95 | Task 4: 0.93 | Task 5: 0.86\n"
     ]
    },
    {
     "name": "stderr",
     "output_type": "stream",
     "text": [
      "2025-05-10 13:29:55,116 - INFO - iteration: 34500 | epoch: 2 | loss: 0.0343 | lr: 0.0001 | type: training | acc_task0: 0.9839 | acc_task1: 0.9710 | acc_task2: 0.9621 | acc_task3: 0.9527 | acc_task4: 0.9272 | acc_task5: 0.8606\n"
     ]
    },
    {
     "name": "stdout",
     "output_type": "stream",
     "text": [
      "\n",
      "Step 35500 (Epoch 3):\n",
      "Loss: 0.0141\n",
      "Learning rate: 0.000088\n",
      "Accuracy: Task 0: 0.98 | Task 1: 0.97 | Task 2: 0.96 | Task 3: 0.95 | Task 4: 0.93 | Task 5: 0.86\n"
     ]
    },
    {
     "name": "stderr",
     "output_type": "stream",
     "text": [
      "2025-05-10 13:50:18,927 - INFO - iteration: 35500 | epoch: 2 | loss: 0.0141 | lr: 0.0001 | type: training | acc_task0: 0.9846 | acc_task1: 0.9729 | acc_task2: 0.9638 | acc_task3: 0.9545 | acc_task4: 0.9297 | acc_task5: 0.8635\n"
     ]
    },
    {
     "name": "stdout",
     "output_type": "stream",
     "text": [
      "\n",
      "Step 36000 (Epoch 3):\n",
      "Loss: 0.0642\n",
      "Learning rate: 0.000088\n",
      "Accuracy: Task 0: 0.98 | Task 1: 0.97 | Task 2: 0.96 | Task 3: 0.95 | Task 4: 0.93 | Task 5: 0.86\n"
     ]
    },
    {
     "name": "stderr",
     "output_type": "stream",
     "text": [
      "2025-05-10 14:01:09,783 - INFO - iteration: 36000 | epoch: 2 | loss: 0.0642 | lr: 0.0001 | type: training | acc_task0: 0.9842 | acc_task1: 0.9716 | acc_task2: 0.9613 | acc_task3: 0.9512 | acc_task4: 0.9257 | acc_task5: 0.8553\n"
     ]
    },
    {
     "name": "stdout",
     "output_type": "stream",
     "text": [
      "\n",
      "Step 36500 (Epoch 3):\n",
      "Loss: 0.0352\n",
      "Learning rate: 0.000087\n",
      "Accuracy: Task 0: 0.99 | Task 1: 0.97 | Task 2: 0.96 | Task 3: 0.95 | Task 4: 0.93 | Task 5: 0.86\n"
     ]
    },
    {
     "name": "stderr",
     "output_type": "stream",
     "text": [
      "2025-05-10 14:11:45,830 - INFO - iteration: 36500 | epoch: 2 | loss: 0.0352 | lr: 0.0001 | type: training | acc_task0: 0.9852 | acc_task1: 0.9728 | acc_task2: 0.9618 | acc_task3: 0.9522 | acc_task4: 0.9277 | acc_task5: 0.8592\n"
     ]
    },
    {
     "name": "stdout",
     "output_type": "stream",
     "text": [
      "\n",
      "Step 37500 (Epoch 3):\n",
      "Loss: 0.0136\n",
      "Learning rate: 0.000087\n",
      "Accuracy: Task 0: 0.99 | Task 1: 0.97 | Task 2: 0.96 | Task 3: 0.95 | Task 4: 0.93 | Task 5: 0.86\n"
     ]
    },
    {
     "name": "stderr",
     "output_type": "stream",
     "text": [
      "2025-05-10 14:33:20,670 - INFO - iteration: 37500 | epoch: 2 | loss: 0.0136 | lr: 0.0001 | type: training | acc_task0: 0.9860 | acc_task1: 0.9734 | acc_task2: 0.9627 | acc_task3: 0.9534 | acc_task4: 0.9284 | acc_task5: 0.8615\n"
     ]
    },
    {
     "name": "stdout",
     "output_type": "stream",
     "text": [
      "\n",
      "Step 38000 (Epoch 3):\n",
      "Loss: 0.0290\n",
      "Learning rate: 0.000086\n",
      "Accuracy: Task 0: 0.99 | Task 1: 0.97 | Task 2: 0.96 | Task 3: 0.95 | Task 4: 0.93 | Task 5: 0.86\n"
     ]
    },
    {
     "name": "stderr",
     "output_type": "stream",
     "text": [
      "2025-05-10 14:43:55,189 - INFO - iteration: 38000 | epoch: 2 | loss: 0.0290 | lr: 0.0001 | type: training | acc_task0: 0.9858 | acc_task1: 0.9736 | acc_task2: 0.9631 | acc_task3: 0.9541 | acc_task4: 0.9295 | acc_task5: 0.8633\n"
     ]
    },
    {
     "name": "stdout",
     "output_type": "stream",
     "text": [
      "\n",
      "Step 39000 (Epoch 3):\n",
      "Loss: 0.0206\n",
      "Learning rate: 0.000086\n",
      "Accuracy: Task 0: 0.99 | Task 1: 0.97 | Task 2: 0.96 | Task 3: 0.95 | Task 4: 0.93 | Task 5: 0.87\n"
     ]
    },
    {
     "name": "stderr",
     "output_type": "stream",
     "text": [
      "2025-05-10 15:05:19,170 - INFO - iteration: 39000 | epoch: 2 | loss: 0.0206 | lr: 0.0001 | type: training | acc_task0: 0.9856 | acc_task1: 0.9735 | acc_task2: 0.9628 | acc_task3: 0.9544 | acc_task4: 0.9308 | acc_task5: 0.8654\n"
     ]
    },
    {
     "name": "stdout",
     "output_type": "stream",
     "text": [
      "\n",
      "Step 39500 (Epoch 3):\n",
      "Loss: 0.0360\n",
      "Learning rate: 0.000085\n",
      "Accuracy: Task 0: 0.99 | Task 1: 0.97 | Task 2: 0.96 | Task 3: 0.95 | Task 4: 0.93 | Task 5: 0.87\n"
     ]
    },
    {
     "name": "stderr",
     "output_type": "stream",
     "text": [
      "2025-05-10 15:16:10,291 - INFO - iteration: 39500 | epoch: 2 | loss: 0.0360 | lr: 0.0001 | type: training | acc_task0: 0.9853 | acc_task1: 0.9735 | acc_task2: 0.9630 | acc_task3: 0.9546 | acc_task4: 0.9312 | acc_task5: 0.8664\n"
     ]
    },
    {
     "name": "stdout",
     "output_type": "stream",
     "text": [
      "\n",
      "Step 40000 (Epoch 3):\n",
      "Loss: 0.0064\n",
      "Learning rate: 0.000085\n",
      "Accuracy: Task 0: 0.99 | Task 1: 0.97 | Task 2: 0.96 | Task 3: 0.96 | Task 4: 0.93 | Task 5: 0.87\n"
     ]
    },
    {
     "name": "stderr",
     "output_type": "stream",
     "text": [
      "2025-05-10 15:26:58,401 - INFO - iteration: 40000 | epoch: 2 | loss: 0.0064 | lr: 0.0001 | type: training | acc_task0: 0.9853 | acc_task1: 0.9739 | acc_task2: 0.9636 | acc_task3: 0.9550 | acc_task4: 0.9314 | acc_task5: 0.8669\n"
     ]
    },
    {
     "name": "stdout",
     "output_type": "stream",
     "text": [
      "\n",
      "Step 40500 (Epoch 3):\n",
      "Loss: 0.0420\n",
      "Learning rate: 0.000085\n",
      "Accuracy: Task 0: 0.99 | Task 1: 0.97 | Task 2: 0.96 | Task 3: 0.96 | Task 4: 0.93 | Task 5: 0.87\n"
     ]
    },
    {
     "name": "stderr",
     "output_type": "stream",
     "text": [
      "2025-05-10 15:38:17,209 - INFO - iteration: 40500 | epoch: 2 | loss: 0.0420 | lr: 0.0001 | type: training | acc_task0: 0.9855 | acc_task1: 0.9741 | acc_task2: 0.9641 | acc_task3: 0.9556 | acc_task4: 0.9323 | acc_task5: 0.8688\n"
     ]
    },
    {
     "name": "stdout",
     "output_type": "stream",
     "text": [
      "\n",
      "Step 41000 (Epoch 3):\n",
      "Loss: 0.0096\n",
      "Learning rate: 0.000084\n",
      "Accuracy: Task 0: 0.99 | Task 1: 0.97 | Task 2: 0.96 | Task 3: 0.96 | Task 4: 0.93 | Task 5: 0.87\n"
     ]
    },
    {
     "name": "stderr",
     "output_type": "stream",
     "text": [
      "2025-05-10 15:48:58,416 - INFO - iteration: 41000 | epoch: 2 | loss: 0.0096 | lr: 0.0001 | type: training | acc_task0: 0.9857 | acc_task1: 0.9741 | acc_task2: 0.9642 | acc_task3: 0.9555 | acc_task4: 0.9325 | acc_task5: 0.8694\n"
     ]
    },
    {
     "name": "stdout",
     "output_type": "stream",
     "text": [
      "\n",
      "Step 41500 (Epoch 3):\n",
      "Loss: 0.1075\n",
      "Learning rate: 0.000084\n",
      "Accuracy: Task 0: 0.99 | Task 1: 0.97 | Task 2: 0.96 | Task 3: 0.96 | Task 4: 0.93 | Task 5: 0.87\n"
     ]
    },
    {
     "name": "stderr",
     "output_type": "stream",
     "text": [
      "2025-05-10 15:59:38,516 - INFO - iteration: 41500 | epoch: 2 | loss: 0.1075 | lr: 0.0001 | type: training | acc_task0: 0.9859 | acc_task1: 0.9746 | acc_task2: 0.9645 | acc_task3: 0.9557 | acc_task4: 0.9328 | acc_task5: 0.8706\n"
     ]
    },
    {
     "name": "stdout",
     "output_type": "stream",
     "text": [
      "\n",
      "Step 42500 (Epoch 3):\n",
      "Loss: 0.0175\n",
      "Learning rate: 0.000083\n",
      "Accuracy: Task 0: 0.99 | Task 1: 0.97 | Task 2: 0.97 | Task 3: 0.96 | Task 4: 0.93 | Task 5: 0.87\n"
     ]
    },
    {
     "name": "stderr",
     "output_type": "stream",
     "text": [
      "2025-05-10 16:20:31,634 - INFO - iteration: 42500 | epoch: 2 | loss: 0.0175 | lr: 0.0001 | type: training | acc_task0: 0.9863 | acc_task1: 0.9749 | acc_task2: 0.9652 | acc_task3: 0.9563 | acc_task4: 0.9335 | acc_task5: 0.8725\n"
     ]
    },
    {
     "name": "stdout",
     "output_type": "stream",
     "text": [
      "\n",
      "Step 43000 (Epoch 3):\n",
      "Loss: 0.0399\n",
      "Learning rate: 0.000083\n",
      "Accuracy: Task 0: 0.99 | Task 1: 0.97 | Task 2: 0.96 | Task 3: 0.96 | Task 4: 0.93 | Task 5: 0.87\n"
     ]
    },
    {
     "name": "stderr",
     "output_type": "stream",
     "text": [
      "2025-05-10 16:30:44,383 - INFO - iteration: 43000 | epoch: 2 | loss: 0.0399 | lr: 0.0001 | type: training | acc_task0: 0.9854 | acc_task1: 0.9740 | acc_task2: 0.9641 | acc_task3: 0.9553 | acc_task4: 0.9322 | acc_task5: 0.8707\n"
     ]
    },
    {
     "name": "stdout",
     "output_type": "stream",
     "text": [
      "\n",
      "Step 44000 (Epoch 3):\n",
      "Loss: 0.1237\n",
      "Learning rate: 0.000082\n",
      "Accuracy: Task 0: 0.99 | Task 1: 0.97 | Task 2: 0.96 | Task 3: 0.96 | Task 4: 0.93 | Task 5: 0.87\n"
     ]
    },
    {
     "name": "stderr",
     "output_type": "stream",
     "text": [
      "2025-05-10 16:51:04,697 - INFO - iteration: 44000 | epoch: 2 | loss: 0.1237 | lr: 0.0001 | type: training | acc_task0: 0.9854 | acc_task1: 0.9741 | acc_task2: 0.9640 | acc_task3: 0.9552 | acc_task4: 0.9321 | acc_task5: 0.8709\n"
     ]
    },
    {
     "name": "stdout",
     "output_type": "stream",
     "text": [
      "\n",
      "Step 44500 (Epoch 3):\n",
      "Loss: 0.0417\n",
      "Learning rate: 0.000082\n",
      "Accuracy: Task 0: 0.99 | Task 1: 0.97 | Task 2: 0.96 | Task 3: 0.96 | Task 4: 0.93 | Task 5: 0.87\n"
     ]
    },
    {
     "name": "stderr",
     "output_type": "stream",
     "text": [
      "2025-05-10 17:01:13,266 - INFO - iteration: 44500 | epoch: 2 | loss: 0.0417 | lr: 0.0001 | type: training | acc_task0: 0.9855 | acc_task1: 0.9744 | acc_task2: 0.9641 | acc_task3: 0.9553 | acc_task4: 0.9321 | acc_task5: 0.8707\n"
     ]
    },
    {
     "name": "stdout",
     "output_type": "stream",
     "text": [
      "\n",
      "Step 45000 (Epoch 3):\n",
      "Loss: 0.0222\n",
      "Learning rate: 0.000081\n",
      "Accuracy: Task 0: 0.99 | Task 1: 0.97 | Task 2: 0.96 | Task 3: 0.96 | Task 4: 0.93 | Task 5: 0.87\n"
     ]
    },
    {
     "name": "stderr",
     "output_type": "stream",
     "text": [
      "2025-05-10 17:11:23,328 - INFO - iteration: 45000 | epoch: 2 | loss: 0.0222 | lr: 0.0001 | type: training | acc_task0: 0.9856 | acc_task1: 0.9747 | acc_task2: 0.9645 | acc_task3: 0.9558 | acc_task4: 0.9324 | acc_task5: 0.8716\n"
     ]
    },
    {
     "name": "stdout",
     "output_type": "stream",
     "text": [
      "\n",
      "Step 45500 (Epoch 3):\n",
      "Loss: 0.0408\n",
      "Learning rate: 0.000081\n",
      "Accuracy: Task 0: 0.99 | Task 1: 0.97 | Task 2: 0.96 | Task 3: 0.96 | Task 4: 0.93 | Task 5: 0.87\n"
     ]
    },
    {
     "name": "stderr",
     "output_type": "stream",
     "text": [
      "2025-05-10 17:21:40,143 - INFO - iteration: 45500 | epoch: 2 | loss: 0.0408 | lr: 0.0001 | type: training | acc_task0: 0.9855 | acc_task1: 0.9748 | acc_task2: 0.9648 | acc_task3: 0.9559 | acc_task4: 0.9326 | acc_task5: 0.8722\n"
     ]
    },
    {
     "name": "stdout",
     "output_type": "stream",
     "text": [
      "\n",
      "Step 46000 (Epoch 3):\n",
      "Loss: 0.0103\n",
      "Learning rate: 0.000080\n",
      "Accuracy: Task 0: 0.99 | Task 1: 0.97 | Task 2: 0.96 | Task 3: 0.96 | Task 4: 0.93 | Task 5: 0.87\n"
     ]
    },
    {
     "name": "stderr",
     "output_type": "stream",
     "text": [
      "2025-05-10 17:32:16,562 - INFO - iteration: 46000 | epoch: 2 | loss: 0.0103 | lr: 0.0001 | type: training | acc_task0: 0.9857 | acc_task1: 0.9746 | acc_task2: 0.9647 | acc_task3: 0.9559 | acc_task4: 0.9325 | acc_task5: 0.8724\n"
     ]
    }
   ],
   "source": [
    "# Install required packages first\n",
    "\n",
    "import os\n",
    "import subprocess\n",
    "# Set required environment variables\n",
    "os.environ[\"MASTER_ADDR\"] = \"localhost\"\n",
    "os.environ[\"MASTER_PORT\"] = \"29500\"\n",
    "os.environ[\"RANK\"] = \"0\"\n",
    "os.environ[\"WORLD_SIZE\"] = \"4\"\n",
    "os.environ[\"LOCAL_RANK\"] = \"0\"\n",
    "os.environ[\"LOCAL_WORLD_SIZE\"] = \"2\"\n",
    "\n",
    "# Build the command with --install-packages flag removed\n",
    "command = [\n",
    "    \"python3\",\n",
    "    \"/rsrch1/ip/msalehjahromi/codes/FineTune/multiGPU/n_GPU_A100/2_run_fineTune_ddp_launcher.py\",\n",
    "    \"--num-gpus\", \"2\",\n",
    "    \"--csv\", \"/rsrch1/ip/msalehjahromi/codes/FineTune/nlst_event_train_val_test_.csv\",\n",
    "    \"--accum-steps\", \"200\",\n",
    "    \"--num-workers\", \"5\",\n",
    "    \"--epochs\", \"10\",\n",
    "    \"--lr\", \"0.0001\",\n",
    "    \"--weight-decay\", \"0.0001\",\n",
    "    \"--optimizer\", \"adamw\",\n",
    "    \"--num-attn-heads\", \"3\",\n",
    "    \"--num-layers\", \"2\",\n",
    "    \"--dropout\", \"0.3\",\n",
    "    \"--unfreeze-strategy\", \"all\",  ##\n",
    "    \"--output\", \"./output_ddp\",\n",
    "    \"--print-every\", \"500\",\n",
    "    \"--val-every\", \"50000\",\n",
    "    \"--metrics-dir\", \"/rsrch1/ip/msalehjahromi/codes/FineTune/multiGPU/metrics_multi_gpu\"\n",
    "]\n",
    "\n",
    "# Run the command\n",
    "try:\n",
    "    subprocess.run(command, check=True)\n",
    "except subprocess.CalledProcessError as e:\n",
    "    print(f\"Error occurred: {e}\")\n",
    "    print(f\"Command output: {e.output if hasattr(e, 'output') else 'No output available'}\")"
   ]
  },
  {
   "cell_type": "code",
   "execution_count": null,
   "id": "351f09fe-7240-4938-805d-dc5e1434916a",
   "metadata": {},
   "outputs": [],
   "source": []
  }
 ],
 "metadata": {
  "kernelspec": {
   "display_name": "msalehjahromi (py3.10.12)",
   "language": "python",
   "name": "msalehjahromi"
  },
  "language_info": {
   "codemirror_mode": {
    "name": "ipython",
    "version": 3
   },
   "file_extension": ".py",
   "mimetype": "text/x-python",
   "name": "python",
   "nbconvert_exporter": "python",
   "pygments_lexer": "ipython3",
   "version": "3.10.12"
  }
 },
 "nbformat": 4,
 "nbformat_minor": 5
}
