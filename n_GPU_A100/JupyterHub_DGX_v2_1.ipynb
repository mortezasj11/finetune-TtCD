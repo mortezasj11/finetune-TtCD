{
 "cells": [
  {
   "cell_type": "markdown",
   "id": "8f2aed02-3d9c-4f45-b9fd-92d71e1238b6",
   "metadata": {},
   "source": [
    "#  DDP"
   ]
  },
  {
   "cell_type": "markdown",
   "id": "dc22ab11-89d3-4805-9cff-b2ee1542fb68",
   "metadata": {},
   "source": [
    "### 1. running on our DGX\n",
    "- docker run -it --rm --gpus '\"device=4,5,6,7\"' -p 12344:12344 --name msalehjahromi --shm-size=192G  --user $(id -u):$(id -g) --group-add 1944259512 --cpuset-cpus=49-96 -v /rsrch7/home/ip_rsrch/wulab/:/rsrch7/home/ip_rsrch/wulab -v /rsrch1/ip/msalehjahromi/:/rsrch1/ip/msalehjahromi --name mori_jupyter nnunetv2:msalehjahromi\n",
    "- cd /rsrch1/ip/msalehjahromi/codes/FineTune/multiGPU/n_GPU_A100\n",
    "- jupyter notebook --ip 0.0.0.0 --port 12344\n",
    "- http://1mcprddgx05"
   ]
  },
  {
   "cell_type": "code",
   "execution_count": 1,
   "id": "dcb4b0a4",
   "metadata": {},
   "outputs": [
    {
     "name": "stdout",
     "output_type": "stream",
     "text": [
      "\u001b[1m\u001b[37m2a974e97ed31            \u001b[m  Wed May 28 23:46:10 2025  \u001b[1m\u001b[30m535.216.01\u001b[m\r\n",
      "\u001b[36m[0]\u001b[m \u001b[34mNVIDIA A100-SXM4-40GB\u001b[m |\u001b[31m 27'C\u001b[m, \u001b[32m  0 %\u001b[m | \u001b[36m\u001b[1m\u001b[33m  628\u001b[m / \u001b[33m40960\u001b[m MB |\r\n",
      "\u001b[36m[1]\u001b[m \u001b[34mNVIDIA A100-SXM4-40GB\u001b[m |\u001b[31m 27'C\u001b[m, \u001b[32m  0 %\u001b[m | \u001b[36m\u001b[1m\u001b[33m  626\u001b[m / \u001b[33m40960\u001b[m MB |\r\n",
      "\u001b[36m[2]\u001b[m \u001b[34mNVIDIA A100-SXM4-40GB\u001b[m |\u001b[1m\u001b[31m 56'C\u001b[m, \u001b[1m\u001b[32m100 %\u001b[m | \u001b[36m\u001b[1m\u001b[33m 4287\u001b[m / \u001b[33m40960\u001b[m MB |\r\n",
      "\u001b[36m[3]\u001b[m \u001b[34mNVIDIA A100-SXM4-40GB\u001b[m |\u001b[1m\u001b[31m 50'C\u001b[m, \u001b[1m\u001b[32m 83 %\u001b[m | \u001b[36m\u001b[1m\u001b[33m 4845\u001b[m / \u001b[33m40960\u001b[m MB |\r\n"
     ]
    }
   ],
   "source": [
    "!gpustat"
   ]
  },
  {
   "cell_type": "code",
   "execution_count": 3,
   "id": "95f668c7",
   "metadata": {},
   "outputs": [
    {
     "name": "stdout",
     "output_type": "stream",
     "text": [
      "2\n",
      "0\n"
     ]
    }
   ],
   "source": [
    "import os\n",
    "os.environ[\"CUDA_VISIBLE_DEVICES\"] = \"0,1\"\n",
    "\n",
    "import torch\n",
    "print(torch.cuda.device_count())   # → 2\n",
    "print(torch.cuda.current_device()) # → 0 (this maps to your original GPU 2)\n"
   ]
  },
  {
   "cell_type": "markdown",
   "id": "b5180fba",
   "metadata": {},
   "source": [
    "### 2. Probably need installation, restart after and run 3"
   ]
  },
  {
   "cell_type": "code",
   "execution_count": 4,
   "id": "9e6f2e39-b110-4be8-82bd-5443f49ca638",
   "metadata": {},
   "outputs": [],
   "source": [
    "# ## !pip uninstall -q histolab -y\n",
    "# # Install required packages first\n",
    "# import os\n",
    "# import subprocess\n",
    "# pip_commands = [\n",
    "#     [\"pip\", \"install\",\"-q\", \"--extra-index-url\", \"https://download.pytorch.org/whl/cu117\", \n",
    "#      \"torch==2.0.0\", \"torchvision==0.15.0\", \"omegaconf\", \"torchmetrics==0.10.3\", \n",
    "#      \"fvcore\", \"iopath\", \"xformers==0.0.18\", \"submitit\", \"numpy<2.0\"],\n",
    "#     [\"pip\", \"install\", \"-q\",  \"--extra-index-url\", \"https://pypi.nvidia.com\", \"cuml-cu11\"],\n",
    "#     [\"pip\", \"install\",\"-q\",  \"black==22.6.0\", \"flake8==5.0.4\", \"pylint==2.15.0\"],\n",
    "#     [\"pip\", \"install\", \"-q\", \"mmsegmentation==0.27.0\"],\n",
    "#     [\"pip\", \"install\",\"-q\", \"mmcv-full==1.5.0\"],\n",
    "#     [\"pip\", \"install\",\"-q\", \"nibabel\"]\n",
    "# ]\n",
    "\n",
    "# for cmd in pip_commands:\n",
    "#     try:\n",
    "#         print(cmd)\n",
    "#         subprocess.run(cmd, check=True)\n",
    "#     except subprocess.CalledProcessError as e:\n",
    "#         print(f\"Failed to install packages with command: {cmd}\")\n",
    "#         print(f\"Error: {e}\")"
   ]
  },
  {
   "cell_type": "markdown",
   "id": "f6b58805",
   "metadata": {},
   "source": [
    "### 3. running, notice important hyperparams\n",
    "-  which model are use so vmin -1000., vmax +150, eps 0.00005\n",
    "- `num-workers`\n",
    "- `epochs`: 100\n",
    "- `accum-steps`: 2000 ?\n",
    "- `max-chunks`: 66 \n",
    "- `lr`:  lr*0.1 on base ?\n",
    "- `warmup-steps`: 5k\n",
    "- `print-every` : 5000\n",
    "- `val-every` : 40000"
   ]
  },
  {
   "cell_type": "code",
   "execution_count": null,
   "id": "47a4d328",
   "metadata": {},
   "outputs": [
    {
     "name": "stderr",
     "output_type": "stream",
     "text": [
      "WARNING:torch.distributed.run:\n",
      "*****************************************\n",
      "Setting OMP_NUM_THREADS environment variable for each process to be 1 in default, to avoid your system being overloaded, please further tune the variable for optimal performance in your application as needed. \n",
      "*****************************************\n",
      "/rsrch1/ip/msalehjahromi/codes/dinov2-torchrun-dataloader6/dinov2/layers/swiglu_ffn.py:43: UserWarning: xFormers is available (SwiGLU)\n",
      "  warnings.warn(\"xFormers is available (SwiGLU)\")\n",
      "/rsrch1/ip/msalehjahromi/codes/dinov2-torchrun-dataloader6/dinov2/layers/swiglu_ffn.py:43: UserWarning: xFormers is available (SwiGLU)\n",
      "  warnings.warn(\"xFormers is available (SwiGLU)\")\n",
      "/rsrch1/ip/msalehjahromi/codes/dinov2-torchrun-dataloader6/dinov2/layers/attention.py:27: UserWarning: xFormers is available (Attention)\n",
      "  warnings.warn(\"xFormers is available (Attention)\")\n",
      "/rsrch1/ip/msalehjahromi/codes/dinov2-torchrun-dataloader6/dinov2/layers/attention.py:27: UserWarning: xFormers is available (Attention)\n",
      "  warnings.warn(\"xFormers is available (Attention)\")\n",
      "/rsrch1/ip/msalehjahromi/codes/dinov2-torchrun-dataloader6/dinov2/layers/block.py:33: UserWarning: xFormers is available (Block)\n",
      "  warnings.warn(\"xFormers is available (Block)\")\n",
      "/rsrch1/ip/msalehjahromi/codes/dinov2-torchrun-dataloader6/dinov2/layers/block.py:33: UserWarning: xFormers is available (Block)\n",
      "  warnings.warn(\"xFormers is available (Block)\")\n"
     ]
    },
    {
     "name": "stdout",
     "output_type": "stream",
     "text": [
      "Files in the directory: ['n_GPU_A100_v2', '._.gitignore', '._.DS_Store', '._See_attention.ipynb', '1_GPU_H100', 'See_attention.ipynb', 'n_GPU_A100', 'metrics_single_gpu', 'n_H100onH100', '.DS_Store', '1_GPU_A100', 'ReadMe.md', '.gitignore', 'metrics_multi_gpu', '.git']\n",
      "Files in the directory: ['n_GPU_A100_v2', '._.gitignore', '._.DS_Store', '._See_attention.ipynb', '1_GPU_H100', 'See_attention.ipynb', 'n_GPU_A100', 'metrics_single_gpu', 'n_H100onH100', '.DS_Store', '1_GPU_A100', 'ReadMe.md', '.gitignore', 'metrics_multi_gpu', '.git']\n"
     ]
    },
    {
     "name": "stderr",
     "output_type": "stream",
     "text": [
      "2025-05-28 23:55:59,098 - INFO - Starting training on 2 GPUs with full model copies (DDP)\n"
     ]
    },
    {
     "name": "stdout",
     "output_type": "stream",
     "text": [
      "Train dataset created on rank \n",
      "Train dataset created on rank \n",
      "\n",
      "==== Dataset Statistics ====\n",
      "Total samples: 43852\n",
      "Training samples: 38382\n",
      "Validation samples: 5470\n",
      "\n",
      "1-year-cancer:\n",
      "  Train positive: 1428 (3.72%)\n",
      "  Val positive: 188 (3.44%)\n",
      "\n",
      "2-year-cancer:\n",
      "  Train positive: 1891 (4.93%)\n",
      "  Val positive: 256 (4.68%)\n",
      "\n",
      "3-year-cancer:\n",
      "  Train positive: 2282 (5.95%)\n",
      "  Val positive: 315 (5.76%)\n",
      "\n",
      "4-year-cancer:\n",
      "  Train positive: 2586 (6.74%)\n",
      "  Val positive: 363 (6.64%)\n",
      "\n",
      "5-year-cancer:\n",
      "  Train positive: 2838 (7.39%)\n",
      "  Val positive: 403 (7.37%)\n",
      "\n",
      "6-year-cancer:\n",
      "  Train positive: 2988 (7.78%)\n",
      "  Val positive: 429 (7.84%)\n",
      "============================\n",
      "\n",
      "Total validation samples: 5470\n",
      "Created distributed validation loader, each rank processes ~2568 samples\n"
     ]
    },
    {
     "name": "stderr",
     "output_type": "stream",
     "text": [
      "2025-05-28 23:56:01,871 - INFO - using MLP layer as FFN\n"
     ]
    },
    {
     "name": "stdout",
     "output_type": "stream",
     "text": [
      "Model loaded on rank \n",
      "Model loaded on rank \n",
      "[resume] no /rsrch1/ip/msalehjahromi/codes/FineTune/multiGPU/n_GPU_A100_v2/output_ddp_p16_23_1150_ac200_/checkpoints — fresh run\n",
      "Using unweighted BCEWithLogitsLoss\n",
      "Will save metrics to: /rsrch1/ip/msalehjahromi/codes/FineTune/multiGPU/metrics_multi_gpu/training_metrics_nGPU_DDP_20250528_235633.jsonl\n",
      "Will save checkpoints to /rsrch1/ip/msalehjahromi/codes/FineTune/multiGPU/n_GPU_A100_v2/output_ddp_p16_23_1150_ac200_/checkpoints\n",
      "\n",
      "Training Configuration:\n",
      "Max chunks per sample: 72\n",
      "Learning rate: 0.001\n",
      "Gradient accumulation steps: 200\n",
      "Number of tasks: 6\n",
      "Validation frequency: 70000 steps\n",
      "Number of epochs: 200\n",
      "Warmup steps: 5000\n",
      "World size: 2\n",
      "Device: cuda\n",
      "\n",
      "Epoch 1: All parameters already unfrozen (strategy: all)\n"
     ]
    },
    {
     "name": "stderr",
     "output_type": "stream",
     "text": [
      "/rsrch1/ip/msalehjahromi/codes/FineTune/multiGPU/n_GPU_A100_v2/2_run_fineTune_ddp_full.py:119: UserWarning: TypedStorage is deprecated. It will be removed in the future and UntypedStorage will be the only storage class. This should only matter to you if you are using storages directly.  To access UntypedStorage directly, use tensor.untyped_storage() instead of tensor.storage()\n",
      "  if hasattr(m, n) and getattr(m, n).storage().size() == 0:\n",
      "/rsrch1/ip/msalehjahromi/codes/FineTune/multiGPU/n_GPU_A100_v2/2_run_fineTune_ddp_full.py:119: UserWarning: TypedStorage is deprecated. It will be removed in the future and UntypedStorage will be the only storage class. This should only matter to you if you are using storages directly.  To access UntypedStorage directly, use tensor.untyped_storage() instead of tensor.storage()\n",
      "  if hasattr(m, n) and getattr(m, n).storage().size() == 0:\n",
      "/.local/lib/python3.10/site-packages/xformers/ops/fmha/flash.py:338: UserWarning: TypedStorage is deprecated. It will be removed in the future and UntypedStorage will be the only storage class. This should only matter to you if you are using storages directly.  To access UntypedStorage directly, use tensor.untyped_storage() instead of tensor.storage()\n",
      "  and inp.query.storage().data_ptr() == inp.key.storage().data_ptr()\n",
      "/.local/lib/python3.10/site-packages/xformers/ops/fmha/flash.py:339: UserWarning: TypedStorage is deprecated. It will be removed in the future and UntypedStorage will be the only storage class. This should only matter to you if you are using storages directly.  To access UntypedStorage directly, use tensor.untyped_storage() instead of tensor.storage()\n",
      "  and inp.query.storage().data_ptr() == inp.value.storage().data_ptr()\n",
      "/.local/lib/python3.10/site-packages/xformers/ops/unbind.py:46: UserWarning: TypedStorage is deprecated. It will be removed in the future and UntypedStorage will be the only storage class. This should only matter to you if you are using storages directly.  To access UntypedStorage directly, use tensor.untyped_storage() instead of tensor.storage()\n",
      "  storage_data_ptr = tensors[0].storage().data_ptr()\n",
      "/.local/lib/python3.10/site-packages/xformers/ops/unbind.py:48: UserWarning: TypedStorage is deprecated. It will be removed in the future and UntypedStorage will be the only storage class. This should only matter to you if you are using storages directly.  To access UntypedStorage directly, use tensor.untyped_storage() instead of tensor.storage()\n",
      "  if x.storage().data_ptr() != storage_data_ptr:\n",
      "/.local/lib/python3.10/site-packages/xformers/ops/fmha/flash.py:338: UserWarning: TypedStorage is deprecated. It will be removed in the future and UntypedStorage will be the only storage class. This should only matter to you if you are using storages directly.  To access UntypedStorage directly, use tensor.untyped_storage() instead of tensor.storage()\n",
      "  and inp.query.storage().data_ptr() == inp.key.storage().data_ptr()\n",
      "/.local/lib/python3.10/site-packages/xformers/ops/fmha/flash.py:339: UserWarning: TypedStorage is deprecated. It will be removed in the future and UntypedStorage will be the only storage class. This should only matter to you if you are using storages directly.  To access UntypedStorage directly, use tensor.untyped_storage() instead of tensor.storage()\n",
      "  and inp.query.storage().data_ptr() == inp.value.storage().data_ptr()\n",
      "/.local/lib/python3.10/site-packages/xformers/ops/unbind.py:46: UserWarning: TypedStorage is deprecated. It will be removed in the future and UntypedStorage will be the only storage class. This should only matter to you if you are using storages directly.  To access UntypedStorage directly, use tensor.untyped_storage() instead of tensor.storage()\n",
      "  storage_data_ptr = tensors[0].storage().data_ptr()\n",
      "/.local/lib/python3.10/site-packages/xformers/ops/unbind.py:48: UserWarning: TypedStorage is deprecated. It will be removed in the future and UntypedStorage will be the only storage class. This should only matter to you if you are using storages directly.  To access UntypedStorage directly, use tensor.untyped_storage() instead of tensor.storage()\n",
      "  if x.storage().data_ptr() != storage_data_ptr:\n",
      "/.local/lib/python3.10/site-packages/torch/optim/lr_scheduler.py:139: UserWarning: Detected call of `lr_scheduler.step()` before `optimizer.step()`. In PyTorch 1.1.0 and later, you should call them in the opposite order: `optimizer.step()` before `lr_scheduler.step()`.  Failure to do this will result in PyTorch skipping the first value of the learning rate schedule. See more details at https://pytorch.org/docs/stable/optim.html#how-to-adjust-learning-rate\n",
      "  warnings.warn(\"Detected call of `lr_scheduler.step()` before `optimizer.step()`. \"\n",
      "/.local/lib/python3.10/site-packages/torch/optim/lr_scheduler.py:139: UserWarning: Detected call of `lr_scheduler.step()` before `optimizer.step()`. In PyTorch 1.1.0 and later, you should call them in the opposite order: `optimizer.step()` before `lr_scheduler.step()`.  Failure to do this will result in PyTorch skipping the first value of the learning rate schedule. See more details at https://pytorch.org/docs/stable/optim.html#how-to-adjust-learning-rate\n",
      "  warnings.warn(\"Detected call of `lr_scheduler.step()` before `optimizer.step()`. \"\n"
     ]
    },
    {
     "name": "stdout",
     "output_type": "stream",
     "text": [
      "\n",
      "Step 1000 (Epoch 1):\n",
      "Loss: 0.8646\n",
      "Learning rate: 0.000040\n",
      "Accuracy:     T0:0.52  T1:0.49  T2:0.50  T3:0.46  T4:0.62  T5:0.75  \n",
      "Sensitivity:  T0:0.13  T1:0.05  T2:0.28  T3:0.00  T4:0.95  T5:1.00  \n",
      "Specificity:  T0:0.89  T1:0.93  T2:0.74  T3:1.00  T4:0.08  T5:0.00  \n"
     ]
    },
    {
     "name": "stderr",
     "output_type": "stream",
     "text": [
      "2025-05-29 00:19:54,324 - INFO - iteration: 1000 | epoch: 0 | loss: 0.8646 | lr: 0.0000 | type: training | acc_task0: 0.5170 | sens_task0: 0.1341 | spec_task0: 0.8878 | acc_task1: 0.4904 | sens_task1: 0.0543 | spec_task1: 0.9327 | acc_task2: 0.5015 | sens_task2: 0.2758 | spec_task2: 0.7431 | acc_task3: 0.4633 | sens_task3: 0.0020 | spec_task3: 0.9955 | acc_task4: 0.6187 | sens_task4: 0.9515 | spec_task4: 0.0815 | acc_task5: 0.7496 | sens_task5: 1.0000 | spec_task5: 0.0000\n"
     ]
    },
    {
     "name": "stdout",
     "output_type": "stream",
     "text": [
      "\n",
      "Step 2000 (Epoch 1):\n",
      "Loss: 0.6731\n",
      "Learning rate: 0.000040\n",
      "Accuracy:     T0:0.51  T1:0.49  T2:0.51  T3:0.49  T4:0.61  T5:0.74  \n",
      "Sensitivity:  T0:0.12  T1:0.38  T2:0.33  T3:0.47  T4:0.93  T5:1.00  \n",
      "Specificity:  T0:0.88  T1:0.61  T2:0.71  T3:0.52  T4:0.10  T5:0.00  \n"
     ]
    },
    {
     "name": "stderr",
     "output_type": "stream",
     "text": [
      "2025-05-29 00:45:29,845 - INFO - iteration: 2000 | epoch: 0 | loss: 0.6731 | lr: 0.0000 | type: training | acc_task0: 0.5065 | sens_task0: 0.1250 | spec_task0: 0.8819 | acc_task1: 0.4909 | sens_task1: 0.3756 | spec_task1: 0.6090 | acc_task2: 0.5128 | sens_task2: 0.3258 | spec_task2: 0.7137 | acc_task3: 0.4901 | sens_task3: 0.4663 | spec_task3: 0.5173 | acc_task4: 0.6079 | sens_task4: 0.9302 | spec_task4: 0.0994 | acc_task5: 0.7356 | sens_task5: 1.0000 | spec_task5: 0.0000\n"
     ]
    },
    {
     "name": "stdout",
     "output_type": "stream",
     "text": [
      "\n",
      "Step 3000 (Epoch 1):\n",
      "Loss: 0.7724\n",
      "Learning rate: 0.000040\n",
      "Accuracy:     T0:0.51  T1:0.49  T2:0.51  T3:0.49  T4:0.60  T5:0.73  \n",
      "Sensitivity:  T0:0.11  T1:0.28  T2:0.36  T3:0.44  T4:0.95  T5:1.00  \n",
      "Specificity:  T0:0.90  T1:0.71  T2:0.68  T3:0.55  T4:0.07  T5:0.00  \n"
     ]
    },
    {
     "name": "stderr",
     "output_type": "stream",
     "text": [
      "2025-05-29 01:10:08,066 - INFO - iteration: 3000 | epoch: 0 | loss: 0.7724 | lr: 0.0000 | type: training | acc_task0: 0.5093 | sens_task0: 0.1123 | spec_task0: 0.8995 | acc_task1: 0.4923 | sens_task1: 0.2841 | spec_task1: 0.7058 | acc_task2: 0.5133 | sens_task2: 0.3616 | spec_task2: 0.6758 | acc_task3: 0.4912 | sens_task3: 0.4432 | spec_task3: 0.5453 | acc_task4: 0.6040 | sens_task4: 0.9521 | spec_task4: 0.0669 | acc_task5: 0.7321 | sens_task5: 1.0000 | spec_task5: 0.0000\n"
     ]
    },
    {
     "name": "stdout",
     "output_type": "stream",
     "text": [
      "\n",
      "Step 4000 (Epoch 1):\n",
      "Loss: 0.6959\n",
      "Learning rate: 0.000040\n",
      "Accuracy:     T0:0.50  T1:0.49  T2:0.52  T3:0.48  T4:0.61  T5:0.74  \n",
      "Sensitivity:  T0:0.09  T1:0.26  T2:0.36  T3:0.35  T4:0.96  T5:1.00  \n",
      "Specificity:  T0:0.92  T1:0.73  T2:0.70  T3:0.64  T4:0.05  T5:0.00  \n"
     ]
    },
    {
     "name": "stderr",
     "output_type": "stream",
     "text": [
      "2025-05-29 01:33:47,531 - INFO - iteration: 4000 | epoch: 0 | loss: 0.6959 | lr: 0.0000 | type: training | acc_task0: 0.5038 | sens_task0: 0.0939 | spec_task0: 0.9185 | acc_task1: 0.4895 | sens_task1: 0.2581 | spec_task1: 0.7328 | acc_task2: 0.5189 | sens_task2: 0.3566 | spec_task2: 0.6972 | acc_task3: 0.4843 | sens_task3: 0.3507 | spec_task3: 0.6391 | acc_task4: 0.6111 | sens_task4: 0.9631 | spec_task4: 0.0545 | acc_task5: 0.7381 | sens_task5: 1.0000 | spec_task5: 0.0000\n"
     ]
    },
    {
     "name": "stdout",
     "output_type": "stream",
     "text": [
      "\n",
      "Step 5000 (Epoch 1):\n",
      "Loss: 0.7175\n",
      "Learning rate: 0.000040\n",
      "Accuracy:     T0:0.50  T1:0.49  T2:0.53  T3:0.49  T4:0.61  T5:0.74  \n",
      "Sensitivity:  T0:0.09  T1:0.23  T2:0.34  T3:0.46  T4:0.97  T5:1.00  \n",
      "Specificity:  T0:0.92  T1:0.76  T2:0.73  T3:0.53  T4:0.05  T5:0.00  \n"
     ]
    },
    {
     "name": "stderr",
     "output_type": "stream",
     "text": [
      "2025-05-29 01:57:40,551 - INFO - iteration: 5000 | epoch: 0 | loss: 0.7175 | lr: 0.0000 | type: training | acc_task0: 0.5030 | sens_task0: 0.0935 | spec_task0: 0.9201 | acc_task1: 0.4909 | sens_task1: 0.2340 | spec_task1: 0.7630 | acc_task2: 0.5252 | sens_task2: 0.3440 | spec_task2: 0.7255 | acc_task3: 0.4938 | sens_task3: 0.4649 | spec_task3: 0.5274 | acc_task4: 0.6114 | sens_task4: 0.9679 | spec_task4: 0.0483 | acc_task5: 0.7378 | sens_task5: 1.0000 | spec_task5: 0.0000\n"
     ]
    },
    {
     "name": "stdout",
     "output_type": "stream",
     "text": [
      "\n",
      "Step 6000 (Epoch 1):\n",
      "Loss: 0.5386\n",
      "Learning rate: 0.000040\n",
      "Accuracy:     T0:0.51  T1:0.50  T2:0.53  T3:0.50  T4:0.61  T5:0.74  \n",
      "Sensitivity:  T0:0.14  T1:0.28  T2:0.39  T3:0.55  T4:0.97  T5:1.00  \n",
      "Specificity:  T0:0.89  T1:0.73  T2:0.68  T3:0.44  T4:0.04  T5:0.00  \n"
     ]
    },
    {
     "name": "stderr",
     "output_type": "stream",
     "text": [
      "2025-05-29 02:21:23,849 - INFO - iteration: 6000 | epoch: 0 | loss: 0.5386 | lr: 0.0000 | type: training | acc_task0: 0.5087 | sens_task0: 0.1374 | spec_task0: 0.8852 | acc_task1: 0.5027 | sens_task1: 0.2835 | spec_task1: 0.7339 | acc_task2: 0.5274 | sens_task2: 0.3931 | spec_task2: 0.6756 | acc_task3: 0.5003 | sens_task3: 0.5480 | spec_task3: 0.4447 | acc_task4: 0.6131 | sens_task4: 0.9725 | spec_task4: 0.0421 | acc_task5: 0.7427 | sens_task5: 1.0000 | spec_task5: 0.0000\n"
     ]
    },
    {
     "name": "stdout",
     "output_type": "stream",
     "text": [
      "\n",
      "Step 7000 (Epoch 1):\n",
      "Loss: 0.8393\n",
      "Learning rate: 0.000040\n",
      "Accuracy:     T0:0.50  T1:0.50  T2:0.52  T3:0.50  T4:0.62  T5:0.75  \n",
      "Sensitivity:  T0:0.12  T1:0.25  T2:0.35  T3:0.50  T4:0.97  T5:1.00  \n",
      "Specificity:  T0:0.90  T1:0.77  T2:0.71  T3:0.49  T4:0.05  T5:0.00  \n"
     ]
    },
    {
     "name": "stderr",
     "output_type": "stream",
     "text": [
      "2025-05-29 02:45:10,268 - INFO - iteration: 7000 | epoch: 0 | loss: 0.8393 | lr: 0.0000 | type: training | acc_task0: 0.5034 | sens_task0: 0.1178 | spec_task0: 0.9000 | acc_task1: 0.4997 | sens_task1: 0.2511 | spec_task1: 0.7651 | acc_task2: 0.5200 | sens_task2: 0.3467 | spec_task2: 0.7134 | acc_task3: 0.4951 | sens_task3: 0.4996 | spec_task3: 0.4898 | acc_task4: 0.6164 | sens_task4: 0.9700 | spec_task4: 0.0486 | acc_task5: 0.7464 | sens_task5: 1.0000 | spec_task5: 0.0000\n"
     ]
    },
    {
     "name": "stdout",
     "output_type": "stream",
     "text": [
      "\n",
      "Step 8000 (Epoch 1):\n",
      "Loss: 0.6917\n",
      "Learning rate: 0.000040\n",
      "Accuracy:     T0:0.51  T1:0.50  T2:0.52  T3:0.49  T4:0.62  T5:0.75  \n",
      "Sensitivity:  T0:0.14  T1:0.26  T2:0.37  T3:0.44  T4:0.97  T5:1.00  \n",
      "Specificity:  T0:0.89  T1:0.77  T2:0.70  T3:0.55  T4:0.05  T5:0.00  \n"
     ]
    },
    {
     "name": "stderr",
     "output_type": "stream",
     "text": [
      "2025-05-29 03:10:06,940 - INFO - iteration: 8000 | epoch: 0 | loss: 0.6917 | lr: 0.0000 | type: training | acc_task0: 0.5086 | sens_task0: 0.1375 | spec_task0: 0.8933 | acc_task1: 0.5037 | sens_task1: 0.2588 | spec_task1: 0.7677 | acc_task2: 0.5246 | sens_task2: 0.3657 | spec_task2: 0.7033 | acc_task3: 0.4906 | sens_task3: 0.4404 | spec_task3: 0.5500 | acc_task4: 0.6193 | sens_task4: 0.9722 | spec_task4: 0.0477 | acc_task5: 0.7496 | sens_task5: 1.0000 | spec_task5: 0.0000\n"
     ]
    },
    {
     "name": "stdout",
     "output_type": "stream",
     "text": [
      "\n",
      "Step 9000 (Epoch 1):\n",
      "Loss: 0.8054\n",
      "Learning rate: 0.000040\n",
      "Accuracy:     T0:0.52  T1:0.51  T2:0.53  T3:0.49  T4:0.62  T5:0.75  \n",
      "Sensitivity:  T0:0.16  T1:0.27  T2:0.41  T3:0.45  T4:0.97  T5:1.00  \n",
      "Specificity:  T0:0.88  T1:0.76  T2:0.67  T3:0.55  T4:0.04  T5:0.00  \n"
     ]
    },
    {
     "name": "stderr",
     "output_type": "stream",
     "text": [
      "2025-05-29 03:33:52,343 - INFO - iteration: 9000 | epoch: 0 | loss: 0.8054 | lr: 0.0000 | type: training | acc_task0: 0.5163 | sens_task0: 0.1627 | spec_task0: 0.8757 | acc_task1: 0.5095 | sens_task1: 0.2718 | spec_task1: 0.7613 | acc_task2: 0.5296 | sens_task2: 0.4072 | spec_task2: 0.6652 | acc_task3: 0.4942 | sens_task3: 0.4463 | spec_task3: 0.5500 | acc_task4: 0.6160 | sens_task4: 0.9749 | spec_task4: 0.0435 | acc_task5: 0.7452 | sens_task5: 1.0000 | spec_task5: 0.0000\n"
     ]
    },
    {
     "name": "stdout",
     "output_type": "stream",
     "text": [
      "\n",
      "Step 10000 (Epoch 1):\n",
      "Loss: 0.7294\n",
      "Learning rate: 0.000040\n",
      "Accuracy:     T0:0.51  T1:0.51  T2:0.53  T3:0.50  T4:0.62  T5:0.74  \n",
      "Sensitivity:  T0:0.15  T1:0.25  T2:0.38  T3:0.49  T4:0.97  T5:1.00  \n",
      "Specificity:  T0:0.89  T1:0.78  T2:0.70  T3:0.51  T4:0.06  T5:0.00  \n"
     ]
    },
    {
     "name": "stderr",
     "output_type": "stream",
     "text": [
      "2025-05-29 03:58:51,506 - INFO - iteration: 10000 | epoch: 0 | loss: 0.7294 | lr: 0.0000 | type: training | acc_task0: 0.5148 | sens_task0: 0.1492 | spec_task0: 0.8872 | acc_task1: 0.5097 | sens_task1: 0.2520 | spec_task1: 0.7827 | acc_task2: 0.5283 | sens_task2: 0.3763 | spec_task2: 0.6963 | acc_task3: 0.4977 | sens_task3: 0.4877 | spec_task3: 0.5093 | acc_task4: 0.6163 | sens_task4: 0.9691 | spec_task4: 0.0574 | acc_task5: 0.7449 | sens_task5: 1.0000 | spec_task5: 0.0000\n"
     ]
    },
    {
     "name": "stdout",
     "output_type": "stream",
     "text": [
      "\n",
      "Step 12000 (Epoch 1):\n",
      "Loss: 0.6194\n",
      "Learning rate: 0.000040\n",
      "Accuracy:     T0:0.53  T1:0.52  T2:0.54  T3:0.50  T4:0.62  T5:0.75  \n",
      "Sensitivity:  T0:0.19  T1:0.30  T2:0.40  T3:0.50  T4:0.97  T5:1.00  \n",
      "Specificity:  T0:0.87  T1:0.74  T2:0.68  T3:0.50  T4:0.06  T5:0.00  \n"
     ]
    },
    {
     "name": "stderr",
     "output_type": "stream",
     "text": [
      "2025-05-29 04:51:05,104 - INFO - iteration: 12000 | epoch: 0 | loss: 0.6194 | lr: 0.0000 | type: training | acc_task0: 0.5258 | sens_task0: 0.1853 | spec_task0: 0.8681 | acc_task1: 0.5184 | sens_task1: 0.3016 | spec_task1: 0.7450 | acc_task2: 0.5360 | sens_task2: 0.4041 | spec_task2: 0.6800 | acc_task3: 0.5023 | sens_task3: 0.5040 | spec_task3: 0.5003 | acc_task4: 0.6153 | sens_task4: 0.9708 | spec_task4: 0.0584 | acc_task5: 0.7451 | sens_task5: 1.0000 | spec_task5: 0.0000\n"
     ]
    },
    {
     "name": "stdout",
     "output_type": "stream",
     "text": [
      "\n",
      "Step 13000 (Epoch 1):\n",
      "Loss: 0.6221\n",
      "Learning rate: 0.000040\n",
      "Accuracy:     T0:0.53  T1:0.52  T2:0.54  T3:0.50  T4:0.62  T5:0.74  \n",
      "Sensitivity:  T0:0.18  T1:0.29  T2:0.40  T3:0.48  T4:0.96  T5:1.00  \n",
      "Specificity:  T0:0.87  T1:0.76  T2:0.69  T3:0.53  T4:0.07  T5:0.00  \n"
     ]
    },
    {
     "name": "stderr",
     "output_type": "stream",
     "text": [
      "2025-05-29 05:14:47,236 - INFO - iteration: 13000 | epoch: 0 | loss: 0.6221 | lr: 0.0000 | type: training | acc_task0: 0.5269 | sens_task0: 0.1811 | spec_task0: 0.8746 | acc_task1: 0.5181 | sens_task1: 0.2861 | spec_task1: 0.7606 | acc_task2: 0.5389 | sens_task2: 0.3991 | spec_task2: 0.6915 | acc_task3: 0.5035 | sens_task3: 0.4806 | spec_task3: 0.5297 | acc_task4: 0.6160 | sens_task4: 0.9638 | spec_task4: 0.0704 | acc_task5: 0.7443 | sens_task5: 1.0000 | spec_task5: 0.0004\n"
     ]
    },
    {
     "name": "stdout",
     "output_type": "stream",
     "text": [
      "\n",
      "Step 14000 (Epoch 1):\n",
      "Loss: 0.5280\n",
      "Learning rate: 0.000040\n",
      "Accuracy:     T0:0.53  T1:0.52  T2:0.54  T3:0.51  T4:0.62  T5:0.74  \n",
      "Sensitivity:  T0:0.18  T1:0.30  T2:0.40  T3:0.48  T4:0.96  T5:1.00  \n",
      "Specificity:  T0:0.88  T1:0.76  T2:0.70  T3:0.55  T4:0.09  T5:0.00  \n"
     ]
    },
    {
     "name": "stderr",
     "output_type": "stream",
     "text": [
      "2025-05-29 05:40:01,652 - INFO - iteration: 14000 | epoch: 0 | loss: 0.5280 | lr: 0.0000 | type: training | acc_task0: 0.5291 | sens_task0: 0.1836 | spec_task0: 0.8757 | acc_task1: 0.5230 | sens_task1: 0.2954 | spec_task1: 0.7602 | acc_task2: 0.5428 | sens_task2: 0.3980 | spec_task2: 0.7004 | acc_task3: 0.5084 | sens_task3: 0.4761 | spec_task3: 0.5453 | acc_task4: 0.6184 | sens_task4: 0.9599 | spec_task4: 0.0850 | acc_task5: 0.7433 | sens_task5: 1.0000 | spec_task5: 0.0004\n"
     ]
    },
    {
     "name": "stdout",
     "output_type": "stream",
     "text": [
      "\n",
      "Step 15000 (Epoch 1):\n",
      "Loss: 0.6124\n",
      "Learning rate: 0.000041\n",
      "Accuracy:     T0:0.53  T1:0.53  T2:0.55  T3:0.51  T4:0.62  T5:0.74  \n",
      "Sensitivity:  T0:0.20  T1:0.31  T2:0.41  T3:0.49  T4:0.96  T5:1.00  \n",
      "Specificity:  T0:0.87  T1:0.76  T2:0.70  T3:0.54  T4:0.09  T5:0.00  \n"
     ]
    },
    {
     "name": "stderr",
     "output_type": "stream",
     "text": [
      "2025-05-29 06:05:02,057 - INFO - iteration: 15000 | epoch: 0 | loss: 0.6124 | lr: 0.0000 | type: training | acc_task0: 0.5336 | sens_task0: 0.1969 | spec_task0: 0.8723 | acc_task1: 0.5276 | sens_task1: 0.3079 | spec_task1: 0.7571 | acc_task2: 0.5463 | sens_task2: 0.4074 | spec_task2: 0.6980 | acc_task3: 0.5130 | sens_task3: 0.4869 | spec_task3: 0.5428 | acc_task4: 0.6199 | sens_task4: 0.9569 | spec_task4: 0.0925 | acc_task5: 0.7442 | sens_task5: 1.0000 | spec_task5: 0.0004\n"
     ]
    },
    {
     "name": "stdout",
     "output_type": "stream",
     "text": [
      "\n",
      "Step 16000 (Epoch 1):\n",
      "Loss: 0.3654\n",
      "Learning rate: 0.000041\n",
      "Accuracy:     T0:0.53  T1:0.53  T2:0.55  T3:0.52  T4:0.62  T5:0.74  \n",
      "Sensitivity:  T0:0.20  T1:0.30  T2:0.41  T3:0.49  T4:0.94  T5:1.00  \n",
      "Specificity:  T0:0.87  T1:0.77  T2:0.70  T3:0.55  T4:0.11  T5:0.00  \n"
     ]
    },
    {
     "name": "stderr",
     "output_type": "stream",
     "text": [
      "2025-05-29 06:30:18,996 - INFO - iteration: 16000 | epoch: 0 | loss: 0.3654 | lr: 0.0000 | type: training | acc_task0: 0.5344 | sens_task0: 0.1965 | spec_task0: 0.8746 | acc_task1: 0.5294 | sens_task1: 0.3030 | spec_task1: 0.7661 | acc_task2: 0.5481 | sens_task2: 0.4069 | spec_task2: 0.7023 | acc_task3: 0.5175 | sens_task3: 0.4909 | spec_task3: 0.5480 | acc_task4: 0.6189 | sens_task4: 0.9421 | spec_task4: 0.1119 | acc_task5: 0.7438 | sens_task5: 1.0000 | spec_task5: 0.0003\n"
     ]
    },
    {
     "name": "stdout",
     "output_type": "stream",
     "text": [
      "\n",
      "Step 17000 (Epoch 1):\n",
      "Loss: 0.4853\n",
      "Learning rate: 0.000041\n",
      "Accuracy:     T0:0.54  T1:0.53  T2:0.55  T3:0.52  T4:0.62  T5:0.74  \n",
      "Sensitivity:  T0:0.20  T1:0.31  T2:0.41  T3:0.49  T4:0.94  T5:1.00  \n",
      "Specificity:  T0:0.87  T1:0.77  T2:0.71  T3:0.56  T4:0.12  T5:0.00  \n"
     ]
    },
    {
     "name": "stderr",
     "output_type": "stream",
     "text": [
      "2025-05-29 06:53:37,504 - INFO - iteration: 17000 | epoch: 0 | loss: 0.4853 | lr: 0.0000 | type: training | acc_task0: 0.5362 | sens_task0: 0.2029 | spec_task0: 0.8721 | acc_task1: 0.5324 | sens_task1: 0.3101 | spec_task1: 0.7650 | acc_task2: 0.5494 | sens_task2: 0.4066 | spec_task2: 0.7056 | acc_task3: 0.5198 | sens_task3: 0.4872 | spec_task3: 0.5574 | acc_task4: 0.6203 | sens_task4: 0.9393 | spec_task4: 0.1194 | acc_task5: 0.7441 | sens_task5: 1.0000 | spec_task5: 0.0007\n"
     ]
    },
    {
     "name": "stdout",
     "output_type": "stream",
     "text": [
      "\n",
      "Step 18000 (Epoch 1):\n",
      "Loss: 0.9913\n",
      "Learning rate: 0.000041\n",
      "Accuracy:     T0:0.54  T1:0.54  T2:0.55  T3:0.52  T4:0.62  T5:0.74  \n",
      "Sensitivity:  T0:0.21  T1:0.31  T2:0.41  T3:0.48  T4:0.93  T5:1.00  \n",
      "Specificity:  T0:0.87  T1:0.77  T2:0.71  T3:0.57  T4:0.13  T5:0.00  \n"
     ]
    },
    {
     "name": "stderr",
     "output_type": "stream",
     "text": [
      "2025-05-29 07:17:29,440 - INFO - iteration: 18000 | epoch: 0 | loss: 0.9913 | lr: 0.0000 | type: training | acc_task0: 0.5393 | sens_task0: 0.2089 | spec_task0: 0.8721 | acc_task1: 0.5359 | sens_task1: 0.3128 | spec_task1: 0.7693 | acc_task2: 0.5529 | sens_task2: 0.4095 | spec_task2: 0.7096 | acc_task3: 0.5221 | sens_task3: 0.4826 | spec_task3: 0.5674 | acc_task4: 0.6213 | sens_task4: 0.9317 | spec_task4: 0.1331 | acc_task5: 0.7446 | sens_task5: 1.0000 | spec_task5: 0.0006\n"
     ]
    },
    {
     "name": "stdout",
     "output_type": "stream",
     "text": [
      "\n",
      "Step 19000 (Epoch 1):\n",
      "Loss: 0.4167\n",
      "Learning rate: 0.000041\n",
      "Accuracy:     T0:0.54  T1:0.54  T2:0.55  T3:0.53  T4:0.62  T5:0.75  \n",
      "Sensitivity:  T0:0.22  T1:0.32  T2:0.41  T3:0.49  T4:0.93  T5:1.00  \n",
      "Specificity:  T0:0.87  T1:0.77  T2:0.71  T3:0.57  T4:0.15  T5:0.00  \n"
     ]
    },
    {
     "name": "stderr",
     "output_type": "stream",
     "text": [
      "2025-05-29 07:42:44,282 - INFO - iteration: 19000 | epoch: 0 | loss: 0.4167 | lr: 0.0000 | type: training | acc_task0: 0.5410 | sens_task0: 0.2170 | spec_task0: 0.8679 | acc_task1: 0.5387 | sens_task1: 0.3184 | spec_task1: 0.7697 | acc_task2: 0.5550 | sens_task2: 0.4145 | spec_task2: 0.7088 | acc_task3: 0.5256 | sens_task3: 0.4860 | spec_task3: 0.5714 | acc_task4: 0.6239 | sens_task4: 0.9277 | spec_task4: 0.1451 | acc_task5: 0.7456 | sens_task5: 1.0000 | spec_task5: 0.0009\n"
     ]
    },
    {
     "name": "stdout",
     "output_type": "stream",
     "text": [
      "\n",
      "Step 20000 (Epoch 1):\n",
      "Loss: 1.0256\n",
      "Learning rate: 0.000041\n",
      "Accuracy:     T0:0.54  T1:0.54  T2:0.56  T3:0.53  T4:0.63  T5:0.75  \n",
      "Sensitivity:  T0:0.22  T1:0.33  T2:0.41  T3:0.49  T4:0.92  T5:1.00  \n",
      "Specificity:  T0:0.87  T1:0.77  T2:0.71  T3:0.58  T4:0.16  T5:0.00  \n"
     ]
    },
    {
     "name": "stderr",
     "output_type": "stream",
     "text": [
      "2025-05-29 08:07:54,425 - INFO - iteration: 20000 | epoch: 0 | loss: 1.0256 | lr: 0.0000 | type: training | acc_task0: 0.5429 | sens_task0: 0.2234 | spec_task0: 0.8671 | acc_task1: 0.5420 | sens_task1: 0.3259 | spec_task1: 0.7701 | acc_task2: 0.5561 | sens_task2: 0.4131 | spec_task2: 0.7137 | acc_task3: 0.5294 | sens_task3: 0.4900 | spec_task3: 0.5752 | acc_task4: 0.6266 | sens_task4: 0.9228 | spec_task4: 0.1571 | acc_task5: 0.7467 | sens_task5: 1.0000 | spec_task5: 0.0011\n"
     ]
    },
    {
     "name": "stdout",
     "output_type": "stream",
     "text": [
      "\n",
      "Step 21000 (Epoch 1):\n",
      "Loss: 0.9630\n",
      "Learning rate: 0.000041\n",
      "Accuracy:     T0:0.55  T1:0.55  T2:0.56  T3:0.53  T4:0.63  T5:0.75  \n",
      "Sensitivity:  T0:0.23  T1:0.33  T2:0.42  T3:0.50  T4:0.92  T5:1.00  \n",
      "Specificity:  T0:0.86  T1:0.77  T2:0.71  T3:0.58  T4:0.17  T5:0.00  \n"
     ]
    },
    {
     "name": "stderr",
     "output_type": "stream",
     "text": [
      "2025-05-29 08:31:54,562 - INFO - iteration: 21000 | epoch: 0 | loss: 0.9630 | lr: 0.0000 | type: training | acc_task0: 0.5454 | sens_task0: 0.2314 | spec_task0: 0.8641 | acc_task1: 0.5458 | sens_task1: 0.3328 | spec_task1: 0.7708 | acc_task2: 0.5601 | sens_task2: 0.4203 | spec_task2: 0.7141 | acc_task3: 0.5349 | sens_task3: 0.4970 | spec_task3: 0.5788 | acc_task4: 0.6290 | sens_task4: 0.9178 | spec_task4: 0.1714 | acc_task5: 0.7468 | sens_task5: 1.0000 | spec_task5: 0.0016\n"
     ]
    },
    {
     "name": "stdout",
     "output_type": "stream",
     "text": [
      "\n",
      "Step 22000 (Epoch 1):\n",
      "Loss: 0.6981\n",
      "Learning rate: 0.000041\n",
      "Accuracy:     T0:0.55  T1:0.55  T2:0.57  T3:0.54  T4:0.63  T5:0.75  \n",
      "Sensitivity:  T0:0.24  T1:0.34  T2:0.43  T3:0.50  T4:0.91  T5:1.00  \n",
      "Specificity:  T0:0.86  T1:0.77  T2:0.71  T3:0.59  T4:0.18  T5:0.00  \n"
     ]
    },
    {
     "name": "stderr",
     "output_type": "stream",
     "text": [
      "2025-05-29 08:57:29,733 - INFO - iteration: 22000 | epoch: 0 | loss: 0.6981 | lr: 0.0000 | type: training | acc_task0: 0.5490 | sens_task0: 0.2396 | spec_task0: 0.8629 | acc_task1: 0.5510 | sens_task1: 0.3426 | spec_task1: 0.7712 | acc_task2: 0.5651 | sens_task2: 0.4291 | spec_task2: 0.7149 | acc_task3: 0.5404 | sens_task3: 0.5014 | spec_task3: 0.5857 | acc_task4: 0.6311 | sens_task4: 0.9126 | spec_task4: 0.1842 | acc_task5: 0.7471 | sens_task5: 1.0000 | spec_task5: 0.0028\n"
     ]
    },
    {
     "name": "stdout",
     "output_type": "stream",
     "text": [
      "\n",
      "Step 24000 (Epoch 1):\n",
      "Loss: 0.4733\n",
      "Learning rate: 0.000041\n",
      "Accuracy:     T0:0.56  T1:0.56  T2:0.57  T3:0.55  T4:0.63  T5:0.75  \n",
      "Sensitivity:  T0:0.26  T1:0.36  T2:0.44  T3:0.52  T4:0.90  T5:1.00  \n",
      "Specificity:  T0:0.85  T1:0.77  T2:0.71  T3:0.59  T4:0.21  T5:0.01  \n"
     ]
    },
    {
     "name": "stderr",
     "output_type": "stream",
     "text": [
      "2025-05-29 09:48:36,711 - INFO - iteration: 24000 | epoch: 0 | loss: 0.4733 | lr: 0.0000 | type: training | acc_task0: 0.5557 | sens_task0: 0.2619 | spec_task0: 0.8535 | acc_task1: 0.5591 | sens_task1: 0.3609 | spec_task1: 0.7682 | acc_task2: 0.5714 | sens_task2: 0.4415 | spec_task2: 0.7145 | acc_task3: 0.5504 | sens_task3: 0.5161 | spec_task3: 0.5900 | acc_task4: 0.6342 | sens_task4: 0.9035 | spec_task4: 0.2069 | acc_task5: 0.7468 | sens_task5: 0.9989 | spec_task5: 0.0052\n"
     ]
    },
    {
     "name": "stdout",
     "output_type": "stream",
     "text": [
      "\n",
      "Step 25000 (Epoch 1):\n",
      "Loss: 0.4061\n",
      "Learning rate: 0.000041\n",
      "Accuracy:     T0:0.56  T1:0.56  T2:0.57  T3:0.55  T4:0.64  T5:0.75  \n",
      "Sensitivity:  T0:0.27  T1:0.37  T2:0.45  T3:0.52  T4:0.90  T5:1.00  \n",
      "Specificity:  T0:0.85  T1:0.77  T2:0.72  T3:0.60  T4:0.22  T5:0.02  \n"
     ]
    },
    {
     "name": "stderr",
     "output_type": "stream",
     "text": [
      "2025-05-29 10:14:30,279 - INFO - iteration: 25000 | epoch: 0 | loss: 0.4061 | lr: 0.0000 | type: training | acc_task0: 0.5584 | sens_task0: 0.2698 | spec_task0: 0.8509 | acc_task1: 0.5626 | sens_task1: 0.3671 | spec_task1: 0.7686 | acc_task2: 0.5742 | sens_task2: 0.4458 | spec_task2: 0.7153 | acc_task3: 0.5541 | sens_task3: 0.5184 | spec_task3: 0.5953 | acc_task4: 0.6358 | sens_task4: 0.8976 | spec_task4: 0.2210 | acc_task5: 0.7469 | sens_task5: 0.9956 | spec_task5: 0.0160\n"
     ]
    },
    {
     "name": "stdout",
     "output_type": "stream",
     "text": [
      "\n",
      "Step 27000 (Epoch 1):\n",
      "Loss: 1.2801\n",
      "Learning rate: 0.000042\n",
      "Accuracy:     T0:0.57  T1:0.57  T2:0.58  T3:0.56  T4:0.64  T5:0.75  \n",
      "Sensitivity:  T0:0.29  T1:0.38  T2:0.46  T3:0.53  T4:0.89  T5:0.99  \n",
      "Specificity:  T0:0.85  T1:0.77  T2:0.71  T3:0.60  T4:0.24  T5:0.03  \n"
     ]
    },
    {
     "name": "stderr",
     "output_type": "stream",
     "text": [
      "2025-05-29 11:05:01,791 - INFO - iteration: 27000 | epoch: 0 | loss: 1.2801 | lr: 0.0000 | type: training | acc_task0: 0.5653 | sens_task0: 0.2880 | spec_task0: 0.8458 | acc_task1: 0.5698 | sens_task1: 0.3831 | spec_task1: 0.7664 | acc_task2: 0.5807 | sens_task2: 0.4588 | spec_task2: 0.7147 | acc_task3: 0.5619 | sens_task3: 0.5278 | spec_task3: 0.6013 | acc_task4: 0.6397 | sens_task4: 0.8898 | spec_task4: 0.2440 | acc_task5: 0.7478 | sens_task5: 0.9930 | spec_task5: 0.0293\n"
     ]
    },
    {
     "name": "stdout",
     "output_type": "stream",
     "text": [
      "\n",
      "Step 28000 (Epoch 1):\n",
      "Loss: 0.5113\n",
      "Learning rate: 0.000042\n",
      "Accuracy:     T0:0.57  T1:0.57  T2:0.58  T3:0.57  T4:0.64  T5:0.75  \n",
      "Sensitivity:  T0:0.30  T1:0.39  T2:0.46  T3:0.53  T4:0.89  T5:0.99  \n",
      "Specificity:  T0:0.84  T1:0.77  T2:0.72  T3:0.60  T4:0.25  T5:0.04  \n"
     ]
    },
    {
     "name": "stderr",
     "output_type": "stream",
     "text": [
      "2025-05-29 11:30:33,077 - INFO - iteration: 28000 | epoch: 0 | loss: 0.5113 | lr: 0.0000 | type: training | acc_task0: 0.5687 | sens_task0: 0.2964 | spec_task0: 0.8444 | acc_task1: 0.5735 | sens_task1: 0.3901 | spec_task1: 0.7668 | acc_task2: 0.5839 | sens_task2: 0.4637 | spec_task2: 0.7161 | acc_task3: 0.5661 | sens_task3: 0.5341 | spec_task3: 0.6032 | acc_task4: 0.6424 | sens_task4: 0.8875 | spec_task4: 0.2544 | acc_task5: 0.7490 | sens_task5: 0.9922 | spec_task5: 0.0374\n"
     ]
    },
    {
     "name": "stdout",
     "output_type": "stream",
     "text": [
      "\n",
      "Step 29000 (Epoch 1):\n",
      "Loss: 0.7958\n",
      "Learning rate: 0.000042\n",
      "Accuracy:     T0:0.57  T1:0.58  T2:0.59  T3:0.57  T4:0.64  T5:0.75  \n",
      "Sensitivity:  T0:0.31  T1:0.40  T2:0.47  T3:0.54  T4:0.89  T5:0.99  \n",
      "Specificity:  T0:0.84  T1:0.77  T2:0.72  T3:0.61  T4:0.26  T5:0.05  \n"
     ]
    },
    {
     "name": "stderr",
     "output_type": "stream",
     "text": [
      "2025-05-29 11:56:21,802 - INFO - iteration: 29000 | epoch: 0 | loss: 0.7958 | lr: 0.0000 | type: training | acc_task0: 0.5723 | sens_task0: 0.3055 | spec_task0: 0.8418 | acc_task1: 0.5768 | sens_task1: 0.3970 | spec_task1: 0.7660 | acc_task2: 0.5865 | sens_task2: 0.4690 | spec_task2: 0.7156 | acc_task3: 0.5698 | sens_task3: 0.5390 | spec_task3: 0.6054 | acc_task4: 0.6447 | sens_task4: 0.8861 | spec_task4: 0.2632 | acc_task5: 0.7498 | sens_task5: 0.9914 | spec_task5: 0.0455\n"
     ]
    },
    {
     "name": "stdout",
     "output_type": "stream",
     "text": [
      "\n",
      "Step 30000 (Epoch 1):\n",
      "Loss: 0.2995\n",
      "Learning rate: 0.000042\n",
      "Accuracy:     T0:0.58  T1:0.58  T2:0.59  T3:0.57  T4:0.65  T5:0.75  \n",
      "Sensitivity:  T0:0.32  T1:0.41  T2:0.48  T3:0.54  T4:0.88  T5:0.99  \n",
      "Specificity:  T0:0.84  T1:0.76  T2:0.71  T3:0.61  T4:0.27  T5:0.06  \n"
     ]
    },
    {
     "name": "stderr",
     "output_type": "stream",
     "text": [
      "2025-05-29 12:21:31,496 - INFO - iteration: 30000 | epoch: 0 | loss: 0.2995 | lr: 0.0000 | type: training | acc_task0: 0.5758 | sens_task0: 0.3153 | spec_task0: 0.8388 | acc_task1: 0.5807 | sens_task1: 0.4064 | spec_task1: 0.7640 | acc_task2: 0.5899 | sens_task2: 0.4761 | spec_task2: 0.7148 | acc_task3: 0.5734 | sens_task3: 0.5434 | spec_task3: 0.6081 | acc_task4: 0.6465 | sens_task4: 0.8836 | spec_task4: 0.2712 | acc_task5: 0.7509 | sens_task5: 0.9893 | spec_task5: 0.0552\n"
     ]
    },
    {
     "name": "stdout",
     "output_type": "stream",
     "text": [
      "\n",
      "Step 31000 (Epoch 1):\n",
      "Loss: 1.2698\n",
      "Learning rate: 0.000042\n",
      "Accuracy:     T0:0.58  T1:0.58  T2:0.59  T3:0.58  T4:0.65  T5:0.75  \n",
      "Sensitivity:  T0:0.32  T1:0.41  T2:0.48  T3:0.55  T4:0.88  T5:0.99  \n",
      "Specificity:  T0:0.84  T1:0.77  T2:0.72  T3:0.61  T4:0.28  T5:0.07  \n"
     ]
    },
    {
     "name": "stderr",
     "output_type": "stream",
     "text": [
      "2025-05-29 12:46:27,200 - INFO - iteration: 31000 | epoch: 0 | loss: 1.2698 | lr: 0.0000 | type: training | acc_task0: 0.5793 | sens_task0: 0.3222 | spec_task0: 0.8378 | acc_task1: 0.5843 | sens_task1: 0.4114 | spec_task1: 0.7656 | acc_task2: 0.5931 | sens_task2: 0.4802 | spec_task2: 0.7166 | acc_task3: 0.5776 | sens_task3: 0.5483 | spec_task3: 0.6114 | acc_task4: 0.6491 | sens_task4: 0.8811 | spec_task4: 0.2826 | acc_task5: 0.7515 | sens_task5: 0.9870 | spec_task5: 0.0660\n"
     ]
    },
    {
     "name": "stdout",
     "output_type": "stream",
     "text": [
      "\n",
      "Step 32000 (Epoch 1):\n",
      "Loss: 0.1595\n",
      "Learning rate: 0.000042\n",
      "Accuracy:     T0:0.58  T1:0.59  T2:0.60  T3:0.58  T4:0.65  T5:0.75  \n",
      "Sensitivity:  T0:0.33  T1:0.42  T2:0.49  T3:0.55  T4:0.88  T5:0.99  \n",
      "Specificity:  T0:0.84  T1:0.77  T2:0.72  T3:0.61  T4:0.29  T5:0.07  \n"
     ]
    },
    {
     "name": "stderr",
     "output_type": "stream",
     "text": [
      "2025-05-29 13:11:32,346 - INFO - iteration: 32000 | epoch: 0 | loss: 0.1595 | lr: 0.0000 | type: training | acc_task0: 0.5833 | sens_task0: 0.3315 | spec_task0: 0.8369 | acc_task1: 0.5878 | sens_task1: 0.4183 | spec_task1: 0.7657 | acc_task2: 0.5959 | sens_task2: 0.4851 | spec_task2: 0.7176 | acc_task3: 0.5814 | sens_task3: 0.5539 | spec_task3: 0.6132 | acc_task4: 0.6514 | sens_task4: 0.8792 | spec_task4: 0.2905 | acc_task5: 0.7533 | sens_task5: 0.9862 | spec_task5: 0.0725\n"
     ]
    },
    {
     "name": "stdout",
     "output_type": "stream",
     "text": [
      "\n",
      "Step 33000 (Epoch 1):\n",
      "Loss: 0.6333\n",
      "Learning rate: 0.000043\n",
      "Accuracy:     T0:0.59  T1:0.59  T2:0.60  T3:0.59  T4:0.65  T5:0.75  \n",
      "Sensitivity:  T0:0.34  T1:0.43  T2:0.49  T3:0.56  T4:0.88  T5:0.98  \n",
      "Specificity:  T0:0.83  T1:0.76  T2:0.72  T3:0.61  T4:0.30  T5:0.08  \n"
     ]
    },
    {
     "name": "stderr",
     "output_type": "stream",
     "text": [
      "2025-05-29 13:36:16,548 - INFO - iteration: 33000 | epoch: 0 | loss: 0.6333 | lr: 0.0000 | type: training | acc_task0: 0.5862 | sens_task0: 0.3400 | spec_task0: 0.8343 | acc_task1: 0.5908 | sens_task1: 0.4261 | spec_task1: 0.7636 | acc_task2: 0.5991 | sens_task2: 0.4920 | spec_task2: 0.7166 | acc_task3: 0.5850 | sens_task3: 0.5592 | spec_task3: 0.6149 | acc_task4: 0.6534 | sens_task4: 0.8770 | spec_task4: 0.2993 | acc_task5: 0.7542 | sens_task5: 0.9848 | spec_task5: 0.0815\n"
     ]
    },
    {
     "name": "stdout",
     "output_type": "stream",
     "text": [
      "\n",
      "Step 34000 (Epoch 1):\n",
      "Loss: 0.9388\n",
      "Learning rate: 0.000043\n",
      "Accuracy:     T0:0.59  T1:0.60  T2:0.60  T3:0.59  T4:0.66  T5:0.76  \n",
      "Sensitivity:  T0:0.35  T1:0.43  T2:0.50  T3:0.57  T4:0.88  T5:0.98  \n",
      "Specificity:  T0:0.83  T1:0.76  T2:0.72  T3:0.62  T4:0.31  T5:0.09  \n"
     ]
    },
    {
     "name": "stderr",
     "output_type": "stream",
     "text": [
      "2025-05-29 14:02:17,524 - INFO - iteration: 34000 | epoch: 0 | loss: 0.9388 | lr: 0.0000 | type: training | acc_task0: 0.5911 | sens_task0: 0.3507 | spec_task0: 0.8332 | acc_task1: 0.5952 | sens_task1: 0.4345 | spec_task1: 0.7638 | acc_task2: 0.6033 | sens_task2: 0.4987 | spec_task2: 0.7180 | acc_task3: 0.5899 | sens_task3: 0.5652 | spec_task3: 0.6184 | acc_task4: 0.6569 | sens_task4: 0.8763 | spec_task4: 0.3093 | acc_task5: 0.7562 | sens_task5: 0.9836 | spec_task5: 0.0925\n"
     ]
    }
   ],
   "source": [
    "## Install required packages first\n",
    "\n",
    "import os\n",
    "import subprocess\n",
    "# Set required environment variables\n",
    "os.environ[\"MASTER_ADDR\"] = \"localhost\"\n",
    "os.environ[\"MASTER_PORT\"] = \"29500\"\n",
    "os.environ[\"RANK\"] = \"0\"\n",
    "os.environ[\"WORLD_SIZE\"] = \"2\"\n",
    "os.environ[\"LOCAL_RANK\"] = \"0\"\n",
    "os.environ[\"LOCAL_WORLD_SIZE\"] = \"2\"\n",
    "\n",
    "# Build the command with --install-packages flag removed\n",
    "command = [\n",
    "    \"python3\",\n",
    "    \"/rsrch1/ip/msalehjahromi/codes/FineTune/multiGPU/n_GPU_A100_v2/2_run_fineTune_ddp_launcher.py\", ##changed\n",
    "    \"--num-gpus\", \"2\",\n",
    "    \"--csv\", \"/rsrch1/ip/msalehjahromi/codes/FineTune/nlst_event_train_val_.csv\",\n",
    "    \"--accum-steps\", \"200\", ###############\n",
    "    \"--num-workers\", \"5\",\n",
    "    \"--epochs\", \"200\", ###############\n",
    "    \"--lr\", \"0.001\", ###############\n",
    "    \"--weight-decay\", \"0.0001\",\n",
    "    \"--optimizer\", \"adamw\",\n",
    "    \"--num-attn-heads\", \"3\",\n",
    "    \"--num-layers\", \"2\",\n",
    "    \"--dropout\", \"0.35\",\n",
    "    \"--unfreeze-strategy\", \"all\",  \n",
    "    \"--output\", \"/rsrch1/ip/msalehjahromi/codes/FineTune/multiGPU/n_GPU_A100_v2/output_ddp_p16_23_1150_ac200_\",\n",
    "    \"--print-every\", \"1000\", ################ 2000\n",
    "    \"--val-every\", \"70000\", ################ 50k\n",
    "    \"--metrics-dir\", \"/rsrch1/ip/msalehjahromi/codes/FineTune/multiGPU/metrics_multi_gpu\"\n",
    "]\n",
    "\n",
    "# Run the command\n",
    "try:\n",
    "    subprocess.run(command, check=True)\n",
    "except subprocess.CalledProcessError as e:\n",
    "    print(f\"Error occurred: {e}\")\n",
    "    print(f\"Command output: {e.output if hasattr(e, 'output') else 'No output available'}\")"
   ]
  },
  {
   "cell_type": "code",
   "execution_count": null,
   "id": "7ee68b16",
   "metadata": {},
   "outputs": [],
   "source": []
  },
  {
   "cell_type": "code",
   "execution_count": null,
   "id": "89188a29",
   "metadata": {},
   "outputs": [],
   "source": []
  }
 ],
 "metadata": {
  "kernelspec": {
   "display_name": "Python 3 (ipykernel)",
   "language": "python",
   "name": "python3"
  },
  "language_info": {
   "codemirror_mode": {
    "name": "ipython",
    "version": 3
   },
   "file_extension": ".py",
   "mimetype": "text/x-python",
   "name": "python",
   "nbconvert_exporter": "python",
   "pygments_lexer": "ipython3",
   "version": "3.10.12"
  }
 },
 "nbformat": 4,
 "nbformat_minor": 5
}
