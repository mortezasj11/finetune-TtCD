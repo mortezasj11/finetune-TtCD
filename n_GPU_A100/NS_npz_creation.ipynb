{
 "cells": [
  {
   "cell_type": "code",
   "execution_count": 1,
   "id": "6c75eaa8-6a65-42b9-99e4-07eb35ae969a",
   "metadata": {},
   "outputs": [],
   "source": [
    "# 31000/4"
   ]
  },
  {
   "cell_type": "code",
   "execution_count": 5,
   "id": "7f8cbe93",
   "metadata": {},
   "outputs": [
    {
     "name": "stdout",
     "output_type": "stream",
     "text": [
      "\u001b[1m\u001b[37m2a974e97ed31            \u001b[m  Sun Jun  8 06:47:27 2025  \u001b[1m\u001b[30m535.216.01\u001b[m\r\n",
      "\u001b[36m[0]\u001b[m \u001b[34mNVIDIA A100-SXM4-40GB\u001b[m |\u001b[31m 25'C\u001b[m, \u001b[32m  0 %\u001b[m | \u001b[36m\u001b[1m\u001b[33m  628\u001b[m / \u001b[33m40960\u001b[m MB |\r\n",
      "\u001b[36m[1]\u001b[m \u001b[34mNVIDIA A100-SXM4-40GB\u001b[m |\u001b[31m 25'C\u001b[m, \u001b[32m  0 %\u001b[m | \u001b[36m\u001b[1m\u001b[33m  626\u001b[m / \u001b[33m40960\u001b[m MB |\r\n",
      "\u001b[36m[2]\u001b[m \u001b[34mNVIDIA A100-SXM4-40GB\u001b[m |\u001b[31m 24'C\u001b[m, \u001b[32m  0 %\u001b[m | \u001b[36m\u001b[1m\u001b[33m  628\u001b[m / \u001b[33m40960\u001b[m MB |\r\n",
      "\u001b[36m[3]\u001b[m \u001b[34mNVIDIA A100-SXM4-40GB\u001b[m |\u001b[31m 31'C\u001b[m, \u001b[1m\u001b[32m 72 %\u001b[m | \u001b[36m\u001b[1m\u001b[33m25103\u001b[m / \u001b[33m40960\u001b[m MB |\r\n"
     ]
    }
   ],
   "source": [
    "!gpustat"
   ]
  },
  {
   "cell_type": "code",
   "execution_count": 8,
   "id": "1cc0b938-85e3-4774-a9e9-75da0bf59904",
   "metadata": {},
   "outputs": [],
   "source": [
    "# 7750.0 * 100\n"
   ]
  },
  {
   "cell_type": "code",
   "execution_count": 5,
   "id": "929aa1cf-b558-4d55-aa50-26491a15d851",
   "metadata": {},
   "outputs": [],
   "source": [
    "# 775000/5000 "
   ]
  },
  {
   "cell_type": "code",
   "execution_count": 6,
   "id": "524ab008-2578-4cb9-b690-b1810981bb8b",
   "metadata": {},
   "outputs": [],
   "source": [
    "# 155*3/24"
   ]
  },
  {
   "cell_type": "code",
   "execution_count": 7,
   "id": "cdc6e52c-ac25-4247-8e51-580c2c7636bf",
   "metadata": {},
   "outputs": [],
   "source": [
    "# import pandas as pd\n",
    "# import numpy as np\n",
    "# import os\n",
    "# !pip install nibabel"
   ]
  },
  {
   "cell_type": "code",
   "execution_count": 8,
   "id": "d34714d7-07b5-4d44-a6f9-5a02da7888f3",
   "metadata": {},
   "outputs": [],
   "source": [
    "# csv_path = \"/rsrch7/home/ip_rsrch/wulab/Mori/non_smoker_May/pyradiomics_sybil_demog_CV.csv\""
   ]
  },
  {
   "cell_type": "code",
   "execution_count": 9,
   "id": "e367ac62-49d8-4397-bcb9-4dbcd1f1d24e",
   "metadata": {},
   "outputs": [],
   "source": [
    "# df = pd.read_csv(csv_path)\n",
    "# print(df.shape)\n",
    "# print(df.columns[:4],df.columns[-10:])\n",
    "# df.head(2)"
   ]
  },
  {
   "cell_type": "code",
   "execution_count": 10,
   "id": "c7c32156-332f-4a53-82bc-4dd0b30f3cb1",
   "metadata": {},
   "outputs": [],
   "source": [
    "# df[df[\"MRN\"]==\"1093523\"]"
   ]
  },
  {
   "cell_type": "markdown",
   "id": "5658f512",
   "metadata": {},
   "source": [
    "# This code has a bug, if the date starts with 0, it will be missed"
   ]
  },
  {
   "cell_type": "code",
   "execution_count": 15,
   "id": "3e13501a-83af-4b12-8326-a120709d954b",
   "metadata": {},
   "outputs": [
    {
     "name": "stdout",
     "output_type": "stream",
     "text": [
      "/rsrch7/home/ip_rsrch/wulab/Mori/non_smoker_May/477516_D\n"
     ]
    },
    {
     "ename": "NameError",
     "evalue": "name 'out_path' is not defined",
     "output_type": "error",
     "traceback": [
      "\u001b[0;31m---------------------------------------------------------------------------\u001b[0m",
      "\u001b[0;31mNameError\u001b[0m                                 Traceback (most recent call last)",
      "Cell \u001b[0;32mIn[15], line 78\u001b[0m\n\u001b[1;32m     70\u001b[0m     \u001b[38;5;28mprint\u001b[39m(\u001b[38;5;124m\"\u001b[39m\u001b[38;5;124msaving in \u001b[39m\u001b[38;5;124m\"\u001b[39m, out_path)\n\u001b[1;32m     71\u001b[0m     np\u001b[38;5;241m.\u001b[39msavez(\n\u001b[1;32m     72\u001b[0m         out_path,\n\u001b[1;32m     73\u001b[0m         spacing_ct\u001b[38;5;241m=\u001b[39mspacing_ct,\n\u001b[0;32m   (...)\u001b[0m\n\u001b[1;32m     76\u001b[0m         \u001b[38;5;241m*\u001b[39m\u001b[38;5;241m*\u001b[39minfo_dict\n\u001b[1;32m     77\u001b[0m     )\n\u001b[0;32m---> 78\u001b[0m \u001b[38;5;28mprint\u001b[39m(\u001b[38;5;124m\"\u001b[39m\u001b[38;5;124mSaved:\u001b[39m\u001b[38;5;124m\"\u001b[39m, \u001b[43mout_path\u001b[49m)\n\u001b[1;32m     79\u001b[0m \u001b[38;5;28mprint\u001b[39m()\n",
      "\u001b[0;31mNameError\u001b[0m: name 'out_path' is not defined"
     ]
    }
   ],
   "source": [
    "root_path = \"/rsrch7/home/ip_rsrch/wulab/Mori/non_smoker_May/\"\n",
    "saving_path = \"/rsrch7/home/ip_rsrch/wulab/Lung_Foundation_Model_Data_/Down-stream_tasks/NS_forFineTune/\"\n",
    "import os\n",
    "import nibabel as nib\n",
    "import numpy as np\n",
    "import pandas as pd\n",
    "csv_path = \"/rsrch7/home/ip_rsrch/wulab/Mori/non_smoker_May/pyradiomics_sybil_demog_CV.csv\"\n",
    "df = pd.read_csv(csv_path)\n",
    "def which_address_exist(add1, add2):\n",
    "    if os.path.exists(add1):\n",
    "        return add1\n",
    "    elif os.path.exists(add2):\n",
    "        return add2\n",
    "    else:\n",
    "        return None\n",
    "\n",
    "def get_base_name(filename):\n",
    "    \"\"\"Remove .nii.gz or .nii from filename cleanly.\"\"\"\n",
    "    if filename.endswith(\".nii.gz\"):\n",
    "        return filename[:-7]\n",
    "    elif filename.endswith(\".nii\"):\n",
    "        return filename[:-4]\n",
    "    else:\n",
    "        return os.path.splitext(filename)[0]\n",
    "\n",
    "#missing_MRNs = ['477516', '730556', '737729', '281227', '333062', '297791A', '422865', '2338015B', '754274', '370975']\n",
    "for mrn in set(df[\"MRN\"].to_list()):\n",
    "  \n",
    "    root_mrn = os.path.join(root_path, mrn+\"_D\")\n",
    "    print(root_mrn)\n",
    "    if os.path.exists(root_mrn):\n",
    "        dates = df[df[\"MRN\"]==mrn ][\"date\"].to_list()\n",
    "        dates = [str(date) for date in dates]\n",
    "        #print(dates)\n",
    "        for date in dates:\n",
    "            add1 = os.path.join(root_mrn, date)\n",
    "            add2 = os.path.join(root_mrn, date+\"_\")\n",
    "            root_mrn_date = which_address_exist(add1, add2)\n",
    "            if root_mrn_date is None:\n",
    "                continue\n",
    "            df_mrn = df[(df[\"MRN\"] == mrn) & (df[\"date\"] == int(date))]\n",
    "            info = df_mrn[['date', 'Date_To_Cancer', '1_year_risk', '2_year_risk', '3_year_risk', '4_year_risk','5_year_risk', '6_year_risk', 'age at dx', 'Sex', 'Race','Tobacco Use']]\n",
    "            info_dict = info.iloc[0].to_dict()\n",
    "            #print(df_mrn)\n",
    "            #print(info)\n",
    "            #print(info_dict)\n",
    "            #print(mrn, root_mrn_date)\n",
    "            ct_ = [i for i in os.listdir(root_mrn_date) if i.endswith(\".nii.gz\") and not any(x in i.lower() for x in [\"_p\", \"seg\", \"sybil\"])]\n",
    "            seg_ = [i for i in os.listdir(root_mrn_date) if i.endswith(\".nii.gz\") and \"_p\" in i.lower()]\n",
    "            if len(ct_)!=1 and len(seg_)!=1:\n",
    "                print(len(ct_), len(seg_))\n",
    "                continue\n",
    "            ct = os.path.join(root_mrn_date, ct_[0])\n",
    "            seg = os.path.join(root_mrn_date, seg_[0])\n",
    "            #print(ct)\n",
    "            #print(seg)\n",
    "            ct_w = nib.load(ct)\n",
    "            seg_w = nib.load(ct)\n",
    "            # Check number of slices (assumes axial slices along third dimension)\n",
    "            if ct_w.shape != seg_w.shape:\n",
    "                print(\"Shape mismatch:\", ct_w.shape, seg_w.shape, \"→ Skipping\", mrn, date)\n",
    "                continue\n",
    "\n",
    "            spacing_ct = ct_w.header.get_zooms()\n",
    "            spacing_seg = seg_w.header.get_zooms()\n",
    "\n",
    "            base_name = get_base_name(ct_[0])\n",
    "            # Save data\n",
    "            out_path = os.path.join(saving_path, base_name + \".npz\")\n",
    "            print(\"saving in \", out_path)\n",
    "            np.savez(\n",
    "                out_path,\n",
    "                spacing_ct=spacing_ct,\n",
    "                ct=ct_w.get_fdata(),  # native dtype\n",
    "                seg=seg_w.get_fdata(),  # native dtype\n",
    "                **info_dict\n",
    "            )\n",
    "        print(\"Saved:\", out_path)\n",
    "        print()"
   ]
  },
  {
   "cell_type": "code",
   "execution_count": 4,
   "id": "bec009e0-a59f-4465-95c9-ab8a5016d933",
   "metadata": {},
   "outputs": [],
   "source": [
    "import numpy as np\n",
    "a = np.load(\"/rsrch7/home/ip_rsrch/wulab/Mori/non_smoker_May/420022_160315__3.11__.nii.npz\")"
   ]
  },
  {
   "cell_type": "code",
   "execution_count": 6,
   "id": "f7ac84fb-a8c4-49f0-ba04-4238b4094a5b",
   "metadata": {},
   "outputs": [],
   "source": [
    "a = np.load(\"/rsrch7/home/ip_rsrch/wulab/Lung_Foundation_Model_Data_/Down-stream_tasks/NS_forFineTune/420022_160315__3.11__.npz\")"
   ]
  },
  {
   "cell_type": "code",
   "execution_count": 7,
   "id": "f9d68eb1-8225-476c-aea9-c6b533d1fd9b",
   "metadata": {},
   "outputs": [
    {
     "name": "stdout",
     "output_type": "stream",
     "text": [
      "spacing_ct\n",
      "ct\n",
      "seg\n",
      "date\n",
      "Date_To_Cancer\n",
      "1_year_risk\n",
      "2_year_risk\n",
      "3_year_risk\n",
      "4_year_risk\n",
      "5_year_risk\n",
      "6_year_risk\n",
      "age at dx\n",
      "Sex\n",
      "Race\n",
      "Tobacco Use\n"
     ]
    }
   ],
   "source": [
    "for i in a.keys():\n",
    "    print(i)"
   ]
  },
  {
   "cell_type": "code",
   "execution_count": 9,
   "id": "91eac82e-fa82-4531-a4dd-ca8fd23e6577",
   "metadata": {},
   "outputs": [
    {
     "data": {
      "text/plain": [
       "(512, 512, 140)"
      ]
     },
     "execution_count": 9,
     "metadata": {},
     "output_type": "execute_result"
    }
   ],
   "source": [
    "a[\"ct\"].shape"
   ]
  },
  {
   "cell_type": "code",
   "execution_count": 11,
   "id": "42f7dd49-4d1d-4e4a-84de-ba31115812fb",
   "metadata": {},
   "outputs": [
    {
     "data": {
      "text/plain": [
       "(512, 512, 140)"
      ]
     },
     "execution_count": 11,
     "metadata": {},
     "output_type": "execute_result"
    }
   ],
   "source": [
    "a[\"seg\"].shape"
   ]
  },
  {
   "cell_type": "code",
   "execution_count": 12,
   "id": "b148a856-dc97-4f80-914a-0ebe659eb1ff",
   "metadata": {},
   "outputs": [
    {
     "data": {
      "text/plain": [
       "dtype('float64')"
      ]
     },
     "execution_count": 12,
     "metadata": {},
     "output_type": "execute_result"
    }
   ],
   "source": [
    "a[\"ct\"].dtype"
   ]
  },
  {
   "cell_type": "code",
   "execution_count": 13,
   "id": "02f7e6b4-fd8a-4d51-ba6f-c609bdaa93b9",
   "metadata": {},
   "outputs": [
    {
     "data": {
      "text/plain": [
       "dtype('float64')"
      ]
     },
     "execution_count": 13,
     "metadata": {},
     "output_type": "execute_result"
    }
   ],
   "source": [
    "a[\"seg\"].dtype"
   ]
  },
  {
   "cell_type": "code",
   "execution_count": 1,
   "id": "899f1234-5824-4ce9-84e4-a1d0c6a4caa1",
   "metadata": {},
   "outputs": [],
   "source": [
    "# import numpy as np\n",
    "# spacing_ct = np.array([0.7, 0.7, 2.0])\n",
    "# ct = np.random.randint(-1000, 200, (512, 512, 140), dtype=np.int16)\n",
    "# seg = np.zeros((512, 512, 140), dtype=np.uint8)\n",
    "# seg[200:220, 200:220, 60:65] = 1  # small cuboid region set to 1\n",
    "# age = 63\n",
    "# Sex = \"Male\"\n",
    "# Race = \"Asian\"\n",
    "# histology_label = 1  # ← squamous\n",
    "# histology_adc = 0\n",
    "# histology_squ = 1\n",
    "# histology_smc = 0\n",
    "# np.savez(\"synthetic_lung_case.npz\",\n",
    "#          spacing_ct=spacing_ct,\n",
    "#          ct=ct,\n",
    "#          seg=seg,\n",
    "#          age=age,\n",
    "#          Sex=Sex,\n",
    "#          Race=Race,\n",
    "#          histology_label=histology_label,\n",
    "#          histology_adc=histology_adc,\n",
    "#          histology_squ=histology_squ,\n",
    "#          histology_smc=histology_smc)"
   ]
  },
  {
   "cell_type": "code",
   "execution_count": 10,
   "id": "8a1bc2b2-96cc-417c-be35-3ab3f0ac32d8",
   "metadata": {},
   "outputs": [
    {
     "name": "stdout",
     "output_type": "stream",
     "text": [
      "CT shape: (512, 512, 140)\n",
      "Seg shape: (512, 512, 140) Unique labels: [0 1]\n",
      "Spacing: [0.7 0.7 2. ]\n",
      "Age: 63\n",
      "Sex: Male\n",
      "Race: Asian\n"
     ]
    }
   ],
   "source": [
    "# data = np.load(\"synthetic_lung_case.npz\")\n",
    "\n",
    "# # Access elements\n",
    "# ct = data[\"ct\"]\n",
    "# seg = data[\"seg\"]\n",
    "# spacing_ct = data[\"spacing_ct\"]\n",
    "# age = int(data[\"age\"])\n",
    "# Sex = str(data[\"Sex\"])\n",
    "# Race = str(data[\"Race\"])\n",
    "\n",
    "# print(\"CT shape:\", ct.shape)\n",
    "# print(\"Seg shape:\", seg.shape, \"Unique labels:\", np.unique(seg))\n",
    "# print(\"Spacing:\", spacing_ct)\n",
    "# print(\"Age:\", age)\n",
    "# print(\"Sex:\", Sex)\n",
    "# print(\"Race:\", Race)\n"
   ]
  },
  {
   "cell_type": "code",
   "execution_count": null,
   "id": "b6966e98-bdb2-4623-b741-2041a167819c",
   "metadata": {},
   "outputs": [],
   "source": []
  },
  {
   "cell_type": "code",
   "execution_count": null,
   "id": "5d114fe9",
   "metadata": {},
   "outputs": [],
   "source": []
  },
  {
   "cell_type": "code",
   "execution_count": null,
   "id": "285681df",
   "metadata": {},
   "outputs": [],
   "source": []
  },
  {
   "cell_type": "code",
   "execution_count": 2,
   "id": "be8af8a4",
   "metadata": {},
   "outputs": [],
   "source": [
    "root_path = \"/rsrch7/home/ip_rsrch/wulab/Mori/non_smoker_May/\"\n",
    "saving_path = \"/rsrch7/home/ip_rsrch/wulab/Lung_Foundation_Model_Data_/Down-stream_tasks/NS_forFineTune/\"\n",
    "import os\n",
    "import nibabel as nib\n",
    "import numpy as np\n",
    "import pandas as pd\n",
    "csv_path = \"/rsrch7/home/ip_rsrch/wulab/Mori/non_smoker_May/pyradiomics_sybil_demog_CV.csv\"\n",
    "df = pd.read_csv(csv_path)"
   ]
  },
  {
   "cell_type": "code",
   "execution_count": 7,
   "id": "c80a0e64",
   "metadata": {},
   "outputs": [
    {
     "data": {
      "text/plain": [
       "122"
      ]
     },
     "execution_count": 7,
     "metadata": {},
     "output_type": "execute_result"
    }
   ],
   "source": [
    "len(list(set(df[\"MRN\"].to_list())))\n",
    "len(list(set([i.split(\"_\")[0] for i in os.listdir(saving_path)])))"
   ]
  },
  {
   "cell_type": "code",
   "execution_count": 23,
   "id": "f62e3065",
   "metadata": {},
   "outputs": [
    {
     "name": "stdout",
     "output_type": "stream",
     "text": [
      "2 MRN(s) in df not found in filenames:\n",
      "{'297791A', '2338015B'}\n"
     ]
    }
   ],
   "source": [
    "# 1) all MRNs in your DataFrame\n",
    "mrn_set = set(df[\"MRN\"].to_list())\n",
    "\n",
    "# 2) all MRNs as taken from the filenames (prefix before \"_\")\n",
    "file_mrn_set = set(i.split(\"_\")[0] for i in os.listdir(saving_path))\n",
    "\n",
    "# (a) MRNs present in df but missing on disk:\n",
    "missing_on_disk = mrn_set - file_mrn_set\n",
    "print(f\"{len(missing_on_disk)} MRN(s) in df not found in filenames:\")\n",
    "print(missing_on_disk)"
   ]
  },
  {
   "cell_type": "code",
   "execution_count": 26,
   "id": "4032c44b",
   "metadata": {},
   "outputs": [
    {
     "data": {
      "text/html": [
       "<div>\n",
       "<style scoped>\n",
       "    .dataframe tbody tr th:only-of-type {\n",
       "        vertical-align: middle;\n",
       "    }\n",
       "\n",
       "    .dataframe tbody tr th {\n",
       "        vertical-align: top;\n",
       "    }\n",
       "\n",
       "    .dataframe thead th {\n",
       "        text-align: right;\n",
       "    }\n",
       "</style>\n",
       "<table border=\"1\" class=\"dataframe\">\n",
       "  <thead>\n",
       "    <tr style=\"text-align: right;\">\n",
       "      <th></th>\n",
       "      <th>Unnamed: 0</th>\n",
       "      <th>MRN</th>\n",
       "      <th>date</th>\n",
       "      <th>Date_To_Cancer</th>\n",
       "      <th>original_shape_Elongation</th>\n",
       "      <th>original_shape_Flatness</th>\n",
       "      <th>original_shape_LeastAxisLength</th>\n",
       "      <th>original_shape_MajorAxisLength</th>\n",
       "      <th>original_shape_Maximum2DDiameterColumn</th>\n",
       "      <th>original_shape_Maximum2DDiameterRow</th>\n",
       "      <th>...</th>\n",
       "      <th>1_year_risk</th>\n",
       "      <th>2_year_risk</th>\n",
       "      <th>3_year_risk</th>\n",
       "      <th>4_year_risk</th>\n",
       "      <th>5_year_risk</th>\n",
       "      <th>6_year_risk</th>\n",
       "      <th>age at dx</th>\n",
       "      <th>Sex</th>\n",
       "      <th>Race</th>\n",
       "      <th>Tobacco Use</th>\n",
       "    </tr>\n",
       "  </thead>\n",
       "  <tbody>\n",
       "    <tr>\n",
       "      <th>0</th>\n",
       "      <td>171</td>\n",
       "      <td>2147359</td>\n",
       "      <td>170222</td>\n",
       "      <td>0.00</td>\n",
       "      <td>0.818949</td>\n",
       "      <td>0.635424</td>\n",
       "      <td>10.010605</td>\n",
       "      <td>15.754225</td>\n",
       "      <td>18.292267</td>\n",
       "      <td>17.721337</td>\n",
       "      <td>...</td>\n",
       "      <td>0.021629</td>\n",
       "      <td>0.038573</td>\n",
       "      <td>0.071919</td>\n",
       "      <td>0.079270</td>\n",
       "      <td>0.095846</td>\n",
       "      <td>0.135681</td>\n",
       "      <td>75.989041</td>\n",
       "      <td>M</td>\n",
       "      <td>Asian NOS</td>\n",
       "      <td>Former</td>\n",
       "    </tr>\n",
       "    <tr>\n",
       "      <th>1</th>\n",
       "      <td>172</td>\n",
       "      <td>2147359</td>\n",
       "      <td>160309</td>\n",
       "      <td>0.96</td>\n",
       "      <td>0.957088</td>\n",
       "      <td>0.469376</td>\n",
       "      <td>6.676237</td>\n",
       "      <td>14.223633</td>\n",
       "      <td>16.563390</td>\n",
       "      <td>16.781006</td>\n",
       "      <td>...</td>\n",
       "      <td>0.021629</td>\n",
       "      <td>0.038573</td>\n",
       "      <td>0.071919</td>\n",
       "      <td>0.079270</td>\n",
       "      <td>0.095846</td>\n",
       "      <td>0.135681</td>\n",
       "      <td>75.989041</td>\n",
       "      <td>M</td>\n",
       "      <td>Asian NOS</td>\n",
       "      <td>Former</td>\n",
       "    </tr>\n",
       "    <tr>\n",
       "      <th>2</th>\n",
       "      <td>170</td>\n",
       "      <td>2147359</td>\n",
       "      <td>161006</td>\n",
       "      <td>0.38</td>\n",
       "      <td>0.812699</td>\n",
       "      <td>0.466205</td>\n",
       "      <td>8.742538</td>\n",
       "      <td>18.752558</td>\n",
       "      <td>20.767153</td>\n",
       "      <td>19.788782</td>\n",
       "      <td>...</td>\n",
       "      <td>0.028122</td>\n",
       "      <td>0.058385</td>\n",
       "      <td>0.084379</td>\n",
       "      <td>0.096455</td>\n",
       "      <td>0.105678</td>\n",
       "      <td>0.150757</td>\n",
       "      <td>75.989041</td>\n",
       "      <td>M</td>\n",
       "      <td>Asian NOS</td>\n",
       "      <td>Former</td>\n",
       "    </tr>\n",
       "    <tr>\n",
       "      <th>3</th>\n",
       "      <td>58</td>\n",
       "      <td>2229583</td>\n",
       "      <td>170428</td>\n",
       "      <td>0.51</td>\n",
       "      <td>0.619535</td>\n",
       "      <td>0.527080</td>\n",
       "      <td>11.811456</td>\n",
       "      <td>22.409217</td>\n",
       "      <td>22.841933</td>\n",
       "      <td>25.943905</td>\n",
       "      <td>...</td>\n",
       "      <td>0.017994</td>\n",
       "      <td>0.034271</td>\n",
       "      <td>0.060600</td>\n",
       "      <td>0.069836</td>\n",
       "      <td>0.081818</td>\n",
       "      <td>0.125812</td>\n",
       "      <td>69.728767</td>\n",
       "      <td>F</td>\n",
       "      <td>Asian NOS</td>\n",
       "      <td>Never (&lt;100 lifetime cigarettes)</td>\n",
       "    </tr>\n",
       "    <tr>\n",
       "      <th>4</th>\n",
       "      <td>59</td>\n",
       "      <td>2229583</td>\n",
       "      <td>171101</td>\n",
       "      <td>0.00</td>\n",
       "      <td>0.695085</td>\n",
       "      <td>0.506186</td>\n",
       "      <td>12.781377</td>\n",
       "      <td>25.250358</td>\n",
       "      <td>27.158481</td>\n",
       "      <td>29.406367</td>\n",
       "      <td>...</td>\n",
       "      <td>0.017994</td>\n",
       "      <td>0.029688</td>\n",
       "      <td>0.052035</td>\n",
       "      <td>0.069836</td>\n",
       "      <td>0.081818</td>\n",
       "      <td>0.125812</td>\n",
       "      <td>69.728767</td>\n",
       "      <td>F</td>\n",
       "      <td>Asian NOS</td>\n",
       "      <td>Never (&lt;100 lifetime cigarettes)</td>\n",
       "    </tr>\n",
       "    <tr>\n",
       "      <th>...</th>\n",
       "      <td>...</td>\n",
       "      <td>...</td>\n",
       "      <td>...</td>\n",
       "      <td>...</td>\n",
       "      <td>...</td>\n",
       "      <td>...</td>\n",
       "      <td>...</td>\n",
       "      <td>...</td>\n",
       "      <td>...</td>\n",
       "      <td>...</td>\n",
       "      <td>...</td>\n",
       "      <td>...</td>\n",
       "      <td>...</td>\n",
       "      <td>...</td>\n",
       "      <td>...</td>\n",
       "      <td>...</td>\n",
       "      <td>...</td>\n",
       "      <td>...</td>\n",
       "      <td>...</td>\n",
       "      <td>...</td>\n",
       "      <td>...</td>\n",
       "    </tr>\n",
       "    <tr>\n",
       "      <th>683</th>\n",
       "      <td>402</td>\n",
       "      <td>900183</td>\n",
       "      <td>110811</td>\n",
       "      <td>5.31</td>\n",
       "      <td>0.654120</td>\n",
       "      <td>0.567661</td>\n",
       "      <td>9.712776</td>\n",
       "      <td>17.110174</td>\n",
       "      <td>15.584518</td>\n",
       "      <td>18.419615</td>\n",
       "      <td>...</td>\n",
       "      <td>0.021629</td>\n",
       "      <td>0.038573</td>\n",
       "      <td>0.071919</td>\n",
       "      <td>0.079270</td>\n",
       "      <td>0.095846</td>\n",
       "      <td>0.135681</td>\n",
       "      <td>67.790000</td>\n",
       "      <td>F</td>\n",
       "      <td>Other</td>\n",
       "      <td>Never (&lt;100 lifetime cigarettes)</td>\n",
       "    </tr>\n",
       "    <tr>\n",
       "      <th>684</th>\n",
       "      <td>403</td>\n",
       "      <td>900183</td>\n",
       "      <td>120517</td>\n",
       "      <td>4.54</td>\n",
       "      <td>0.517663</td>\n",
       "      <td>0.368625</td>\n",
       "      <td>8.281930</td>\n",
       "      <td>22.467092</td>\n",
       "      <td>15.283425</td>\n",
       "      <td>21.569436</td>\n",
       "      <td>...</td>\n",
       "      <td>0.028122</td>\n",
       "      <td>0.050187</td>\n",
       "      <td>0.071919</td>\n",
       "      <td>0.079270</td>\n",
       "      <td>0.095846</td>\n",
       "      <td>0.135681</td>\n",
       "      <td>67.790000</td>\n",
       "      <td>F</td>\n",
       "      <td>Other</td>\n",
       "      <td>Never (&lt;100 lifetime cigarettes)</td>\n",
       "    </tr>\n",
       "    <tr>\n",
       "      <th>685</th>\n",
       "      <td>405</td>\n",
       "      <td>900183</td>\n",
       "      <td>150522</td>\n",
       "      <td>1.53</td>\n",
       "      <td>0.681813</td>\n",
       "      <td>0.462026</td>\n",
       "      <td>12.084474</td>\n",
       "      <td>26.155378</td>\n",
       "      <td>22.947482</td>\n",
       "      <td>28.627883</td>\n",
       "      <td>...</td>\n",
       "      <td>0.021629</td>\n",
       "      <td>0.045262</td>\n",
       "      <td>0.071919</td>\n",
       "      <td>0.079270</td>\n",
       "      <td>0.095846</td>\n",
       "      <td>0.135681</td>\n",
       "      <td>67.790000</td>\n",
       "      <td>F</td>\n",
       "      <td>Other</td>\n",
       "      <td>Never (&lt;100 lifetime cigarettes)</td>\n",
       "    </tr>\n",
       "    <tr>\n",
       "      <th>686</th>\n",
       "      <td>395</td>\n",
       "      <td>900183</td>\n",
       "      <td>141111</td>\n",
       "      <td>2.06</td>\n",
       "      <td>0.749123</td>\n",
       "      <td>0.430171</td>\n",
       "      <td>10.595525</td>\n",
       "      <td>24.630975</td>\n",
       "      <td>22.947482</td>\n",
       "      <td>26.562500</td>\n",
       "      <td>...</td>\n",
       "      <td>0.028122</td>\n",
       "      <td>0.054802</td>\n",
       "      <td>0.080800</td>\n",
       "      <td>0.089659</td>\n",
       "      <td>0.100888</td>\n",
       "      <td>0.146625</td>\n",
       "      <td>67.790000</td>\n",
       "      <td>F</td>\n",
       "      <td>Other</td>\n",
       "      <td>Never (&lt;100 lifetime cigarettes)</td>\n",
       "    </tr>\n",
       "    <tr>\n",
       "      <th>687</th>\n",
       "      <td>400</td>\n",
       "      <td>900183</td>\n",
       "      <td>120203</td>\n",
       "      <td>4.83</td>\n",
       "      <td>0.655790</td>\n",
       "      <td>0.460457</td>\n",
       "      <td>9.250903</td>\n",
       "      <td>20.090706</td>\n",
       "      <td>16.405501</td>\n",
       "      <td>20.781277</td>\n",
       "      <td>...</td>\n",
       "      <td>0.046352</td>\n",
       "      <td>0.070862</td>\n",
       "      <td>0.094007</td>\n",
       "      <td>0.133786</td>\n",
       "      <td>0.141098</td>\n",
       "      <td>0.194953</td>\n",
       "      <td>67.790000</td>\n",
       "      <td>F</td>\n",
       "      <td>Other</td>\n",
       "      <td>Never (&lt;100 lifetime cigarettes)</td>\n",
       "    </tr>\n",
       "  </tbody>\n",
       "</table>\n",
       "<p>688 rows × 121 columns</p>\n",
       "</div>"
      ],
      "text/plain": [
       "     Unnamed: 0      MRN    date  Date_To_Cancer  original_shape_Elongation  \\\n",
       "0           171  2147359  170222            0.00                   0.818949   \n",
       "1           172  2147359  160309            0.96                   0.957088   \n",
       "2           170  2147359  161006            0.38                   0.812699   \n",
       "3            58  2229583  170428            0.51                   0.619535   \n",
       "4            59  2229583  171101            0.00                   0.695085   \n",
       "..          ...      ...     ...             ...                        ...   \n",
       "683         402   900183  110811            5.31                   0.654120   \n",
       "684         403   900183  120517            4.54                   0.517663   \n",
       "685         405   900183  150522            1.53                   0.681813   \n",
       "686         395   900183  141111            2.06                   0.749123   \n",
       "687         400   900183  120203            4.83                   0.655790   \n",
       "\n",
       "     original_shape_Flatness  original_shape_LeastAxisLength  \\\n",
       "0                   0.635424                       10.010605   \n",
       "1                   0.469376                        6.676237   \n",
       "2                   0.466205                        8.742538   \n",
       "3                   0.527080                       11.811456   \n",
       "4                   0.506186                       12.781377   \n",
       "..                       ...                             ...   \n",
       "683                 0.567661                        9.712776   \n",
       "684                 0.368625                        8.281930   \n",
       "685                 0.462026                       12.084474   \n",
       "686                 0.430171                       10.595525   \n",
       "687                 0.460457                        9.250903   \n",
       "\n",
       "     original_shape_MajorAxisLength  original_shape_Maximum2DDiameterColumn  \\\n",
       "0                         15.754225                               18.292267   \n",
       "1                         14.223633                               16.563390   \n",
       "2                         18.752558                               20.767153   \n",
       "3                         22.409217                               22.841933   \n",
       "4                         25.250358                               27.158481   \n",
       "..                              ...                                     ...   \n",
       "683                       17.110174                               15.584518   \n",
       "684                       22.467092                               15.283425   \n",
       "685                       26.155378                               22.947482   \n",
       "686                       24.630975                               22.947482   \n",
       "687                       20.090706                               16.405501   \n",
       "\n",
       "     original_shape_Maximum2DDiameterRow  ...  1_year_risk  2_year_risk  \\\n",
       "0                              17.721337  ...     0.021629     0.038573   \n",
       "1                              16.781006  ...     0.021629     0.038573   \n",
       "2                              19.788782  ...     0.028122     0.058385   \n",
       "3                              25.943905  ...     0.017994     0.034271   \n",
       "4                              29.406367  ...     0.017994     0.029688   \n",
       "..                                   ...  ...          ...          ...   \n",
       "683                            18.419615  ...     0.021629     0.038573   \n",
       "684                            21.569436  ...     0.028122     0.050187   \n",
       "685                            28.627883  ...     0.021629     0.045262   \n",
       "686                            26.562500  ...     0.028122     0.054802   \n",
       "687                            20.781277  ...     0.046352     0.070862   \n",
       "\n",
       "     3_year_risk  4_year_risk  5_year_risk  6_year_risk  age at dx  Sex  \\\n",
       "0       0.071919     0.079270     0.095846     0.135681  75.989041    M   \n",
       "1       0.071919     0.079270     0.095846     0.135681  75.989041    M   \n",
       "2       0.084379     0.096455     0.105678     0.150757  75.989041    M   \n",
       "3       0.060600     0.069836     0.081818     0.125812  69.728767    F   \n",
       "4       0.052035     0.069836     0.081818     0.125812  69.728767    F   \n",
       "..           ...          ...          ...          ...        ...  ...   \n",
       "683     0.071919     0.079270     0.095846     0.135681  67.790000    F   \n",
       "684     0.071919     0.079270     0.095846     0.135681  67.790000    F   \n",
       "685     0.071919     0.079270     0.095846     0.135681  67.790000    F   \n",
       "686     0.080800     0.089659     0.100888     0.146625  67.790000    F   \n",
       "687     0.094007     0.133786     0.141098     0.194953  67.790000    F   \n",
       "\n",
       "          Race                       Tobacco Use  \n",
       "0    Asian NOS                            Former  \n",
       "1    Asian NOS                            Former  \n",
       "2    Asian NOS                            Former  \n",
       "3    Asian NOS  Never (<100 lifetime cigarettes)  \n",
       "4    Asian NOS  Never (<100 lifetime cigarettes)  \n",
       "..         ...                               ...  \n",
       "683      Other  Never (<100 lifetime cigarettes)  \n",
       "684      Other  Never (<100 lifetime cigarettes)  \n",
       "685      Other  Never (<100 lifetime cigarettes)  \n",
       "686      Other  Never (<100 lifetime cigarettes)  \n",
       "687      Other  Never (<100 lifetime cigarettes)  \n",
       "\n",
       "[688 rows x 121 columns]"
      ]
     },
     "execution_count": 26,
     "metadata": {},
     "output_type": "execute_result"
    }
   ],
   "source": [
    "df"
   ]
  },
  {
   "cell_type": "markdown",
   "id": "3eef077c",
   "metadata": {},
   "source": []
  },
  {
   "cell_type": "markdown",
   "id": "618cf2a3",
   "metadata": {},
   "source": []
  },
  {
   "cell_type": "markdown",
   "id": "a73c898e",
   "metadata": {},
   "source": []
  },
  {
   "cell_type": "markdown",
   "id": "86978154",
   "metadata": {},
   "source": []
  },
  {
   "cell_type": "code",
   "execution_count": 20,
   "id": "b7ba0dd7",
   "metadata": {},
   "outputs": [
    {
     "name": "stdout",
     "output_type": "stream",
     "text": [
      "/rsrch7/home/ip_rsrch/wulab/Mori/non_smoker_May/1094315_D\n",
      "['141125']\n",
      "root_mrn_date:  /rsrch7/home/ip_rsrch/wulab/Mori/non_smoker_May/1094315_D/141125\n",
      "saving in  /rsrch7/home/ip_rsrch/wulab/Lung_Foundation_Model_Data_/Down-stream_tasks/NS_forFineTune/1094315_141125__1.96__.npz\n"
     ]
    },
    {
     "ename": "EOFError",
     "evalue": "Compressed file ended before the end-of-stream marker was reached",
     "output_type": "error",
     "traceback": [
      "\u001b[0;31m---------------------------------------------------------------------------\u001b[0m",
      "\u001b[0;31mEOFError\u001b[0m                                  Traceback (most recent call last)",
      "Cell \u001b[0;32mIn[20], line 91\u001b[0m\n\u001b[1;32m     89\u001b[0m out_path \u001b[38;5;241m=\u001b[39m os\u001b[38;5;241m.\u001b[39mpath\u001b[38;5;241m.\u001b[39mjoin(saving_path, base_name \u001b[38;5;241m+\u001b[39m \u001b[38;5;124m\"\u001b[39m\u001b[38;5;124m.npz\u001b[39m\u001b[38;5;124m\"\u001b[39m)\n\u001b[1;32m     90\u001b[0m \u001b[38;5;28mprint\u001b[39m(\u001b[38;5;124m\"\u001b[39m\u001b[38;5;124msaving in \u001b[39m\u001b[38;5;124m\"\u001b[39m, out_path)\n\u001b[0;32m---> 91\u001b[0m \u001b[38;5;28mprint\u001b[39m(\u001b[43mct_w\u001b[49m\u001b[38;5;241;43m.\u001b[39;49m\u001b[43mget_fdata\u001b[49m\u001b[43m(\u001b[49m\u001b[43m)\u001b[49m)\n\u001b[1;32m     92\u001b[0m np\u001b[38;5;241m.\u001b[39msavez(\n\u001b[1;32m     93\u001b[0m     out_path,\n\u001b[1;32m     94\u001b[0m     spacing_ct\u001b[38;5;241m=\u001b[39mspacing_ct,\n\u001b[0;32m   (...)\u001b[0m\n\u001b[1;32m     97\u001b[0m     \u001b[38;5;241m*\u001b[39m\u001b[38;5;241m*\u001b[39minfo_dict\n\u001b[1;32m     98\u001b[0m )\n\u001b[1;32m     99\u001b[0m \u001b[38;5;28mprint\u001b[39m(\u001b[38;5;124m\"\u001b[39m\u001b[38;5;124mSaved:\u001b[39m\u001b[38;5;124m\"\u001b[39m, out_path)\n",
      "File \u001b[0;32m~usr/local/lib/python3.10/dist-packages/nibabel/dataobj_images.py:374\u001b[0m, in \u001b[0;36mDataobjImage.get_fdata\u001b[0;34m(self, caching, dtype)\u001b[0m\n\u001b[1;32m    370\u001b[0m         \u001b[38;5;28;01mreturn\u001b[39;00m \u001b[38;5;28mself\u001b[39m\u001b[38;5;241m.\u001b[39m_fdata_cache\n\u001b[1;32m    371\u001b[0m \u001b[38;5;66;03m# Always return requested data type\u001b[39;00m\n\u001b[1;32m    372\u001b[0m \u001b[38;5;66;03m# For array proxies, will attempt to confine data array to dtype\u001b[39;00m\n\u001b[1;32m    373\u001b[0m \u001b[38;5;66;03m# during scaling\u001b[39;00m\n\u001b[0;32m--> 374\u001b[0m data \u001b[38;5;241m=\u001b[39m \u001b[43mnp\u001b[49m\u001b[38;5;241;43m.\u001b[39;49m\u001b[43masanyarray\u001b[49m\u001b[43m(\u001b[49m\u001b[38;5;28;43mself\u001b[39;49m\u001b[38;5;241;43m.\u001b[39;49m\u001b[43m_dataobj\u001b[49m\u001b[43m,\u001b[49m\u001b[43m \u001b[49m\u001b[43mdtype\u001b[49m\u001b[38;5;241;43m=\u001b[39;49m\u001b[43mdtype\u001b[49m\u001b[43m)\u001b[49m\n\u001b[1;32m    375\u001b[0m \u001b[38;5;28;01mif\u001b[39;00m caching \u001b[38;5;241m==\u001b[39m \u001b[38;5;124m'\u001b[39m\u001b[38;5;124mfill\u001b[39m\u001b[38;5;124m'\u001b[39m:\n\u001b[1;32m    376\u001b[0m     \u001b[38;5;28mself\u001b[39m\u001b[38;5;241m.\u001b[39m_fdata_cache \u001b[38;5;241m=\u001b[39m data\n",
      "File \u001b[0;32m~usr/local/lib/python3.10/dist-packages/nibabel/arrayproxy.py:454\u001b[0m, in \u001b[0;36mArrayProxy.__array__\u001b[0;34m(self, dtype)\u001b[0m\n\u001b[1;32m    433\u001b[0m \u001b[38;5;28;01mdef\u001b[39;00m\u001b[38;5;250m \u001b[39m\u001b[38;5;21m__array__\u001b[39m(\u001b[38;5;28mself\u001b[39m, dtype\u001b[38;5;241m=\u001b[39m\u001b[38;5;28;01mNone\u001b[39;00m):\n\u001b[1;32m    434\u001b[0m \u001b[38;5;250m    \u001b[39m\u001b[38;5;124;03m\"\"\"Read data from file and apply scaling, casting to ``dtype``\u001b[39;00m\n\u001b[1;32m    435\u001b[0m \n\u001b[1;32m    436\u001b[0m \u001b[38;5;124;03m    If ``dtype`` is unspecified, the dtype of the returned array is the\u001b[39;00m\n\u001b[0;32m   (...)\u001b[0m\n\u001b[1;32m    452\u001b[0m \u001b[38;5;124;03m        Scaled image data with type `dtype`.\u001b[39;00m\n\u001b[1;32m    453\u001b[0m \u001b[38;5;124;03m    \"\"\"\u001b[39;00m\n\u001b[0;32m--> 454\u001b[0m     arr \u001b[38;5;241m=\u001b[39m \u001b[38;5;28;43mself\u001b[39;49m\u001b[38;5;241;43m.\u001b[39;49m\u001b[43m_get_scaled\u001b[49m\u001b[43m(\u001b[49m\u001b[43mdtype\u001b[49m\u001b[38;5;241;43m=\u001b[39;49m\u001b[43mdtype\u001b[49m\u001b[43m,\u001b[49m\u001b[43m \u001b[49m\u001b[43mslicer\u001b[49m\u001b[38;5;241;43m=\u001b[39;49m\u001b[43m(\u001b[49m\u001b[43m)\u001b[49m\u001b[43m)\u001b[49m\n\u001b[1;32m    455\u001b[0m     \u001b[38;5;28;01mif\u001b[39;00m dtype \u001b[38;5;129;01mis\u001b[39;00m \u001b[38;5;129;01mnot\u001b[39;00m \u001b[38;5;28;01mNone\u001b[39;00m:\n\u001b[1;32m    456\u001b[0m         arr \u001b[38;5;241m=\u001b[39m arr\u001b[38;5;241m.\u001b[39mastype(dtype, copy\u001b[38;5;241m=\u001b[39m\u001b[38;5;28;01mFalse\u001b[39;00m)\n",
      "File \u001b[0;32m~usr/local/lib/python3.10/dist-packages/nibabel/arrayproxy.py:421\u001b[0m, in \u001b[0;36mArrayProxy._get_scaled\u001b[0;34m(self, dtype, slicer)\u001b[0m\n\u001b[1;32m    419\u001b[0m     scl_inter \u001b[38;5;241m=\u001b[39m scl_inter\u001b[38;5;241m.\u001b[39mastype(use_dtype)\n\u001b[1;32m    420\u001b[0m \u001b[38;5;66;03m# Read array and upcast as necessary for big slopes, intercepts\u001b[39;00m\n\u001b[0;32m--> 421\u001b[0m scaled \u001b[38;5;241m=\u001b[39m apply_read_scaling(\u001b[38;5;28;43mself\u001b[39;49m\u001b[38;5;241;43m.\u001b[39;49m\u001b[43m_get_unscaled\u001b[49m\u001b[43m(\u001b[49m\u001b[43mslicer\u001b[49m\u001b[38;5;241;43m=\u001b[39;49m\u001b[43mslicer\u001b[49m\u001b[43m)\u001b[49m, scl_slope, scl_inter)\n\u001b[1;32m    422\u001b[0m \u001b[38;5;28;01mif\u001b[39;00m dtype \u001b[38;5;129;01mis\u001b[39;00m \u001b[38;5;129;01mnot\u001b[39;00m \u001b[38;5;28;01mNone\u001b[39;00m:\n\u001b[1;32m    423\u001b[0m     scaled \u001b[38;5;241m=\u001b[39m scaled\u001b[38;5;241m.\u001b[39mastype(np\u001b[38;5;241m.\u001b[39mpromote_types(scaled\u001b[38;5;241m.\u001b[39mdtype, dtype), copy\u001b[38;5;241m=\u001b[39m\u001b[38;5;28;01mFalse\u001b[39;00m)\n",
      "File \u001b[0;32m~usr/local/lib/python3.10/dist-packages/nibabel/arrayproxy.py:391\u001b[0m, in \u001b[0;36mArrayProxy._get_unscaled\u001b[0;34m(self, slicer)\u001b[0m\n\u001b[1;32m    387\u001b[0m \u001b[38;5;28;01mif\u001b[39;00m canonical_slicers(slicer, \u001b[38;5;28mself\u001b[39m\u001b[38;5;241m.\u001b[39m_shape, \u001b[38;5;28;01mFalse\u001b[39;00m) \u001b[38;5;241m==\u001b[39m canonical_slicers(\n\u001b[1;32m    388\u001b[0m     (), \u001b[38;5;28mself\u001b[39m\u001b[38;5;241m.\u001b[39m_shape, \u001b[38;5;28;01mFalse\u001b[39;00m\n\u001b[1;32m    389\u001b[0m ):\n\u001b[1;32m    390\u001b[0m     \u001b[38;5;28;01mwith\u001b[39;00m \u001b[38;5;28mself\u001b[39m\u001b[38;5;241m.\u001b[39m_get_fileobj() \u001b[38;5;28;01mas\u001b[39;00m fileobj, \u001b[38;5;28mself\u001b[39m\u001b[38;5;241m.\u001b[39m_lock:\n\u001b[0;32m--> 391\u001b[0m         \u001b[38;5;28;01mreturn\u001b[39;00m \u001b[43marray_from_file\u001b[49m\u001b[43m(\u001b[49m\n\u001b[1;32m    392\u001b[0m \u001b[43m            \u001b[49m\u001b[38;5;28;43mself\u001b[39;49m\u001b[38;5;241;43m.\u001b[39;49m\u001b[43m_shape\u001b[49m\u001b[43m,\u001b[49m\n\u001b[1;32m    393\u001b[0m \u001b[43m            \u001b[49m\u001b[38;5;28;43mself\u001b[39;49m\u001b[38;5;241;43m.\u001b[39;49m\u001b[43m_dtype\u001b[49m\u001b[43m,\u001b[49m\n\u001b[1;32m    394\u001b[0m \u001b[43m            \u001b[49m\u001b[43mfileobj\u001b[49m\u001b[43m,\u001b[49m\n\u001b[1;32m    395\u001b[0m \u001b[43m            \u001b[49m\u001b[43moffset\u001b[49m\u001b[38;5;241;43m=\u001b[39;49m\u001b[38;5;28;43mself\u001b[39;49m\u001b[38;5;241;43m.\u001b[39;49m\u001b[43m_offset\u001b[49m\u001b[43m,\u001b[49m\n\u001b[1;32m    396\u001b[0m \u001b[43m            \u001b[49m\u001b[43morder\u001b[49m\u001b[38;5;241;43m=\u001b[39;49m\u001b[38;5;28;43mself\u001b[39;49m\u001b[38;5;241;43m.\u001b[39;49m\u001b[43morder\u001b[49m\u001b[43m,\u001b[49m\n\u001b[1;32m    397\u001b[0m \u001b[43m            \u001b[49m\u001b[43mmmap\u001b[49m\u001b[38;5;241;43m=\u001b[39;49m\u001b[38;5;28;43mself\u001b[39;49m\u001b[38;5;241;43m.\u001b[39;49m\u001b[43m_mmap\u001b[49m\u001b[43m,\u001b[49m\n\u001b[1;32m    398\u001b[0m \u001b[43m        \u001b[49m\u001b[43m)\u001b[49m\n\u001b[1;32m    399\u001b[0m \u001b[38;5;28;01mwith\u001b[39;00m \u001b[38;5;28mself\u001b[39m\u001b[38;5;241m.\u001b[39m_get_fileobj() \u001b[38;5;28;01mas\u001b[39;00m fileobj:\n\u001b[1;32m    400\u001b[0m     \u001b[38;5;28;01mreturn\u001b[39;00m fileslice(\n\u001b[1;32m    401\u001b[0m         fileobj,\n\u001b[1;32m    402\u001b[0m         slicer,\n\u001b[0;32m   (...)\u001b[0m\n\u001b[1;32m    407\u001b[0m         lock\u001b[38;5;241m=\u001b[39m\u001b[38;5;28mself\u001b[39m\u001b[38;5;241m.\u001b[39m_lock,\n\u001b[1;32m    408\u001b[0m     )\n",
      "File \u001b[0;32m~usr/local/lib/python3.10/dist-packages/nibabel/volumeutils.py:467\u001b[0m, in \u001b[0;36marray_from_file\u001b[0;34m(shape, in_dtype, infile, offset, order, mmap)\u001b[0m\n\u001b[1;32m    465\u001b[0m \u001b[38;5;28;01mif\u001b[39;00m \u001b[38;5;28mhasattr\u001b[39m(infile, \u001b[38;5;124m'\u001b[39m\u001b[38;5;124mreadinto\u001b[39m\u001b[38;5;124m'\u001b[39m):\n\u001b[1;32m    466\u001b[0m     data_bytes \u001b[38;5;241m=\u001b[39m \u001b[38;5;28mbytearray\u001b[39m(n_bytes)\n\u001b[0;32m--> 467\u001b[0m     n_read \u001b[38;5;241m=\u001b[39m \u001b[43minfile\u001b[49m\u001b[38;5;241;43m.\u001b[39;49m\u001b[43mreadinto\u001b[49m\u001b[43m(\u001b[49m\u001b[43mdata_bytes\u001b[49m\u001b[43m)\u001b[49m\n\u001b[1;32m    468\u001b[0m     needs_copy \u001b[38;5;241m=\u001b[39m \u001b[38;5;28;01mFalse\u001b[39;00m\n\u001b[1;32m    469\u001b[0m \u001b[38;5;28;01melse\u001b[39;00m:\n",
      "File \u001b[0;32m~usr/lib/python3.10/gzip.py:301\u001b[0m, in \u001b[0;36mGzipFile.read\u001b[0;34m(self, size)\u001b[0m\n\u001b[1;32m    299\u001b[0m     \u001b[38;5;28;01mimport\u001b[39;00m\u001b[38;5;250m \u001b[39m\u001b[38;5;21;01merrno\u001b[39;00m\n\u001b[1;32m    300\u001b[0m     \u001b[38;5;28;01mraise\u001b[39;00m \u001b[38;5;167;01mOSError\u001b[39;00m(errno\u001b[38;5;241m.\u001b[39mEBADF, \u001b[38;5;124m\"\u001b[39m\u001b[38;5;124mread() on write-only GzipFile object\u001b[39m\u001b[38;5;124m\"\u001b[39m)\n\u001b[0;32m--> 301\u001b[0m \u001b[38;5;28;01mreturn\u001b[39;00m \u001b[38;5;28;43mself\u001b[39;49m\u001b[38;5;241;43m.\u001b[39;49m\u001b[43m_buffer\u001b[49m\u001b[38;5;241;43m.\u001b[39;49m\u001b[43mread\u001b[49m\u001b[43m(\u001b[49m\u001b[43msize\u001b[49m\u001b[43m)\u001b[49m\n",
      "File \u001b[0;32m~usr/lib/python3.10/_compression.py:68\u001b[0m, in \u001b[0;36mDecompressReader.readinto\u001b[0;34m(self, b)\u001b[0m\n\u001b[1;32m     66\u001b[0m \u001b[38;5;28;01mdef\u001b[39;00m\u001b[38;5;250m \u001b[39m\u001b[38;5;21mreadinto\u001b[39m(\u001b[38;5;28mself\u001b[39m, b):\n\u001b[1;32m     67\u001b[0m     \u001b[38;5;28;01mwith\u001b[39;00m \u001b[38;5;28mmemoryview\u001b[39m(b) \u001b[38;5;28;01mas\u001b[39;00m view, view\u001b[38;5;241m.\u001b[39mcast(\u001b[38;5;124m\"\u001b[39m\u001b[38;5;124mB\u001b[39m\u001b[38;5;124m\"\u001b[39m) \u001b[38;5;28;01mas\u001b[39;00m byte_view:\n\u001b[0;32m---> 68\u001b[0m         data \u001b[38;5;241m=\u001b[39m \u001b[38;5;28;43mself\u001b[39;49m\u001b[38;5;241;43m.\u001b[39;49m\u001b[43mread\u001b[49m\u001b[43m(\u001b[49m\u001b[38;5;28;43mlen\u001b[39;49m\u001b[43m(\u001b[49m\u001b[43mbyte_view\u001b[49m\u001b[43m)\u001b[49m\u001b[43m)\u001b[49m\n\u001b[1;32m     69\u001b[0m         byte_view[:\u001b[38;5;28mlen\u001b[39m(data)] \u001b[38;5;241m=\u001b[39m data\n\u001b[1;32m     70\u001b[0m     \u001b[38;5;28;01mreturn\u001b[39;00m \u001b[38;5;28mlen\u001b[39m(data)\n",
      "File \u001b[0;32m~usr/lib/python3.10/gzip.py:507\u001b[0m, in \u001b[0;36m_GzipReader.read\u001b[0;34m(self, size)\u001b[0m\n\u001b[1;32m    505\u001b[0m         \u001b[38;5;28;01mbreak\u001b[39;00m\n\u001b[1;32m    506\u001b[0m     \u001b[38;5;28;01mif\u001b[39;00m buf \u001b[38;5;241m==\u001b[39m \u001b[38;5;124mb\u001b[39m\u001b[38;5;124m\"\u001b[39m\u001b[38;5;124m\"\u001b[39m:\n\u001b[0;32m--> 507\u001b[0m         \u001b[38;5;28;01mraise\u001b[39;00m \u001b[38;5;167;01mEOFError\u001b[39;00m(\u001b[38;5;124m\"\u001b[39m\u001b[38;5;124mCompressed file ended before the \u001b[39m\u001b[38;5;124m\"\u001b[39m\n\u001b[1;32m    508\u001b[0m                        \u001b[38;5;124m\"\u001b[39m\u001b[38;5;124mend-of-stream marker was reached\u001b[39m\u001b[38;5;124m\"\u001b[39m)\n\u001b[1;32m    510\u001b[0m \u001b[38;5;28mself\u001b[39m\u001b[38;5;241m.\u001b[39m_add_read_data( uncompress )\n\u001b[1;32m    511\u001b[0m \u001b[38;5;28mself\u001b[39m\u001b[38;5;241m.\u001b[39m_pos \u001b[38;5;241m+\u001b[39m\u001b[38;5;241m=\u001b[39m \u001b[38;5;28mlen\u001b[39m(uncompress)\n",
      "\u001b[0;31mEOFError\u001b[0m: Compressed file ended before the end-of-stream marker was reached"
     ]
    }
   ],
   "source": [
    "root_path = \"/rsrch7/home/ip_rsrch/wulab/Mori/non_smoker_May/\"\n",
    "saving_path = \"/rsrch7/home/ip_rsrch/wulab/Lung_Foundation_Model_Data_/Down-stream_tasks/NS_forFineTune/\"\n",
    "import os\n",
    "import nibabel as nib\n",
    "import numpy as np\n",
    "import pandas as pd\n",
    "csv_path = \"/rsrch7/home/ip_rsrch/wulab/Mori/non_smoker_May/pyradiomics_sybil_demog_CV.csv\"\n",
    "csv_path = \"/rsrch7/home/ip_rsrch/wulab/Mori/non_smoker_May/all_pyradiomics_sybil_demog_not_all.csv\"\n",
    "df = pd.read_csv(csv_path)\n",
    "def which_address_exist(add1, add2):\n",
    "    if os.path.exists(add1):\n",
    "        return add1\n",
    "    elif os.path.exists(add2):\n",
    "        return add2\n",
    "    else:\n",
    "        return None\n",
    "\n",
    "def get_base_name(filename):\n",
    "    \"\"\"Remove .nii.gz or .nii from filename cleanly.\"\"\"\n",
    "    if filename.endswith(\".nii.gz\"):\n",
    "        return filename[:-7]\n",
    "    elif filename.endswith(\".nii\"):\n",
    "        return filename[:-4]\n",
    "    else:\n",
    "        return os.path.splitext(filename)[0]\n",
    "\n",
    "missing_MRNs = ['477516', '730556', '737729', '281227', '333062', '297791A', '422865', '2338015B', '754274', '370975']\n",
    "missing_MRNs = [\"1094315\"]\n",
    "for mrn in missing_MRNs: \n",
    "# for mrn in set(df[\"MRN\"].to_list()):\n",
    "\n",
    "    root_mrn = os.path.join(root_path, mrn+\"_D\")\n",
    "    print(root_mrn)\n",
    "    if os.path.exists(root_mrn):\n",
    "        dates = df[df[\"MRN\"]==mrn ][\"date\"].to_list()\n",
    "        #print(dates)\n",
    "        dates = [str(date) for date in dates]\n",
    "        #dates = [\"141125\"]\n",
    "        print(dates)\n",
    "        for date in dates:\n",
    "\n",
    "            # The csv is wrong showing 030623 as 30623 !!!!\n",
    "            #print(len(date), date, date*2)#date is str\n",
    "            if len(date) == 6:\n",
    "                pass\n",
    "                #continue\n",
    "            elif len(date) == 5:\n",
    "                date = \"0\"+date\n",
    "                continue\n",
    "            elif len(date) == 4:\n",
    "                date = \"00\"+date\n",
    "            add1 = os.path.join(root_mrn, date)\n",
    "            add2 = os.path.join(root_mrn, date+\"_\")\n",
    "\n",
    "            root_mrn_date = which_address_exist(add1, add2)\n",
    "            print(\"root_mrn_date: \", root_mrn_date)\n",
    "            if root_mrn_date is None:\n",
    "                continue\n",
    "            df_mrn = df[(df[\"MRN\"] == mrn) & (df[\"date\"] == int(date))]\n",
    "            info = df_mrn[['date', 'Date_To_Cancer', '1_year_risk', '2_year_risk', '3_year_risk', '4_year_risk','5_year_risk', '6_year_risk', 'age at dx', 'Sex', 'Race','Tobacco Use']]\n",
    "            #info = df_mrn[['date', 'Date_To_Cancer', '1_year_risk', '2_year_risk', '3_year_risk', '4_year_risk','5_year_risk', '6_year_risk', 'Sex', 'Race','Tobacco Use']]\n",
    "\n",
    "            info_dict = info.iloc[0].to_dict()\n",
    "            #print(df_mrn)\n",
    "            #print(info)\n",
    "            #print(info_dict)\n",
    "            #print(mrn, root_mrn_date)\n",
    "            ct_ = [i for i in os.listdir(root_mrn_date) if i.endswith(\".nii.gz\") and not any(x in i.lower() for x in [\"_p\", \"seg\", \"sybil\"])]\n",
    "            seg_ = [i for i in os.listdir(root_mrn_date) if i.endswith(\".nii.gz\") and \"_p\" in i.lower()]\n",
    "            if len(ct_)!=1 and len(seg_)!=1:\n",
    "                print(len(ct_), len(seg_))\n",
    "                continue\n",
    "            ct = os.path.join(root_mrn_date, ct_[0])\n",
    "            seg = os.path.join(root_mrn_date, seg_[0])\n",
    "            #print(ct)\n",
    "            #print(seg)\n",
    "            ct_w = nib.load(ct)\n",
    "            seg_w = nib.load(ct)\n",
    "            # Check number of slices (assumes axial slices along third dimension)\n",
    "            if ct_w.shape != seg_w.shape:\n",
    "                print(\"Shape mismatch:\", ct_w.shape, seg_w.shape, \"→ Skipping\", mrn, date)\n",
    "                continue\n",
    "\n",
    "            spacing_ct = ct_w.header.get_zooms()\n",
    "            spacing_seg = seg_w.header.get_zooms()\n",
    "\n",
    "            base_name = get_base_name(ct_[0])\n",
    "            # Save data\n",
    "            out_path = os.path.join(saving_path, base_name + \".npz\")\n",
    "            print(\"saving in \", out_path)\n",
    "            np.savez(\n",
    "                out_path,\n",
    "                spacing_ct=spacing_ct,\n",
    "                ct=ct_w.get_fdata(),  # native dtype\n",
    "                seg=seg_w.get_fdata(),  # native dtype\n",
    "                **info_dict\n",
    "            )\n",
    "            print(\"Saved:\", out_path)\n",
    "            print()"
   ]
  },
  {
   "cell_type": "code",
   "execution_count": null,
   "id": "787b848d",
   "metadata": {},
   "outputs": [],
   "source": []
  },
  {
   "cell_type": "code",
   "execution_count": null,
   "id": "a395a475",
   "metadata": {},
   "outputs": [],
   "source": []
  },
  {
   "cell_type": "code",
   "execution_count": null,
   "id": "fa36ab4d",
   "metadata": {},
   "outputs": [],
   "source": []
  },
  {
   "cell_type": "code",
   "execution_count": 10,
   "id": "670668ca",
   "metadata": {},
   "outputs": [],
   "source": [
    "\n",
    "saving_path = \"/rsrch7/home/ip_rsrch/wulab/Lung_Foundation_Model_Data_/Down-stream_tasks/NS_forFineTune/\"\n",
    "import os\n",
    "list_dir = [i.split(\"_\")[0] for i in os.listdir(saving_path)]\n",
    "d_dir = {}\n",
    "for i in list_dir:\n",
    "    if i in d_dir:\n",
    "        d_dir[i] += 1\n",
    "    else:\n",
    "        d_dir[i] = 1\n",
    "\n"
   ]
  },
  {
   "cell_type": "code",
   "execution_count": 11,
   "id": "3c4f491f",
   "metadata": {},
   "outputs": [
    {
     "data": {
      "text/plain": [
       "(623, 118)"
      ]
     },
     "execution_count": 11,
     "metadata": {},
     "output_type": "execute_result"
    }
   ],
   "source": [
    "#csv_path = \"/rsrch7/home/ip_rsrch/wulab/Mori/non_smoker_May/pyradiomics_sybil_demog_CV.csv\"\n",
    "csv_path = \"/rsrch7/home/ip_rsrch/wulab/Mori/non_smoker_May/all_pyradiomics_sybil.csv\"\n",
    "import pandas as pd\n",
    "df = pd.read_csv(csv_path)\n",
    "df.shape"
   ]
  },
  {
   "cell_type": "code",
   "execution_count": 12,
   "id": "520536dc",
   "metadata": {},
   "outputs": [
    {
     "data": {
      "text/plain": [
       "122"
      ]
     },
     "execution_count": 12,
     "metadata": {},
     "output_type": "execute_result"
    }
   ],
   "source": [
    "d_df = {}\n",
    "for i in df[\"MRN\"].to_list():\n",
    "    if i in d_df:\n",
    "        d_df[i] += 1\n",
    "    else:\n",
    "        d_df[i] = 1\n",
    "len(d_df)"
   ]
  },
  {
   "cell_type": "code",
   "execution_count": 13,
   "id": "1ee60ade",
   "metadata": {},
   "outputs": [
    {
     "name": "stdout",
     "output_type": "stream",
     "text": [
      "in dir not in df:    {'297791', '2338015'}\n",
      "in df not in dir:  {'2338015B', '297791A'}\n",
      "modified: {'1094315': (4, 3)}\n",
      "same:     {'730556', '753033', '1151940', '2298483', '2179573', '939056', '2261315', '2317085', '754274', '937154', '1263077', '2391023', '845792', '2487906', '2166737', '831719', '823747', '2147359', '839203', '744086', '2246010', '2072002', '2343814', '872574', '1137934', '2109263', '748229', '802160', '2145117', '2281565', '838996', '281227', '1016339', '812470', '2432712', '422865', '477516', '2429727', '895053', '2521327', '944266', '1046669', '934625', '2388171', '311130', '2250825', '1093875', '2268709', '2389243', '1208921', '871833', '916855', '950270', '493464', '2079755', '619865', '2266872', '1105317', '2455935', '502083', '630484', '2424680', '743544', '2068766', '1093523', '2247360', '616175', '2280834', '2026140', '2247693', '1011153', '662995', '630766', '2321900', '420022', '2405062', '2413869', '842261', '809781', '2212191', '2280528', '2296044', '2454687', '2332706', '1056770', '2225705', '1056721', '2349231', '2240639', '501735', '766903', '2327923', '891568', '2397567', '749835', '753569', '414938', '333062', '921223', '335414', '1066184', '404012', '921691', '900183', '2229583', '737729', '370975', '1045772', '2328832', '899441', '2159408', '2089749', '2192714', '2168116', '2252956', '1004647', '2219517', '846916', '2303759'}\n"
     ]
    }
   ],
   "source": [
    "def dict_diff(d1, d2):\n",
    "    # keys in each\n",
    "    k1 = set(d1.keys())\n",
    "    k2 = set(d2.keys())\n",
    "\n",
    "    added    = k2 - k1                # in d2 not in d1\n",
    "    removed  = k1 - k2                # in d1 not in d2\n",
    "    # keys present in both but with different values\n",
    "    modified = {k: (d1[k], d2[k]) for k in k1 & k2 if d1[k] != d2[k]}\n",
    "    # keys present in both and same value\n",
    "    same     = {k for k in k1 & k2 if d1[k] == d2[k]}\n",
    "\n",
    "    return added, removed, modified, same\n",
    "\n",
    "# example\n",
    "d1 = d_df\n",
    "d2 = d_dir\n",
    "\n",
    "added, removed, modified, same = dict_diff(d1, d2)\n",
    "print(\"in dir not in df:   \", added)      # {'d'}\n",
    "print(\"in df not in dir: \", removed)    # {'a'}\n",
    "print(\"modified:\", modified)   # {'c': (3, 4)}\n",
    "print(\"same:    \", same)       # {'b'}\n"
   ]
  },
  {
   "cell_type": "code",
   "execution_count": 24,
   "id": "9fbe416a",
   "metadata": {},
   "outputs": [
    {
     "data": {
      "text/plain": [
       "(623, 111)"
      ]
     },
     "execution_count": 24,
     "metadata": {},
     "output_type": "execute_result"
    }
   ],
   "source": [
    "df.shape"
   ]
  },
  {
   "cell_type": "code",
   "execution_count": 1,
   "id": "4882f5c1",
   "metadata": {},
   "outputs": [
    {
     "ename": "NameError",
     "evalue": "name 'os' is not defined",
     "output_type": "error",
     "traceback": [
      "\u001b[0;31m---------------------------------------------------------------------------\u001b[0m",
      "\u001b[0;31mNameError\u001b[0m                                 Traceback (most recent call last)",
      "Cell \u001b[0;32mIn[1], line 1\u001b[0m\n\u001b[0;32m----> 1\u001b[0m [i \u001b[38;5;28;01mfor\u001b[39;00m i \u001b[38;5;129;01min\u001b[39;00m \u001b[43mos\u001b[49m\u001b[38;5;241m.\u001b[39mlistdir(saving_path) \u001b[38;5;28;01mif\u001b[39;00m i\u001b[38;5;241m.\u001b[39mstartswith(\u001b[38;5;124m\"\u001b[39m\u001b[38;5;124m1094315\u001b[39m\u001b[38;5;124m\"\u001b[39m)] \u001b[38;5;66;03m#   422865\u001b[39;00m\n",
      "\u001b[0;31mNameError\u001b[0m: name 'os' is not defined"
     ]
    }
   ],
   "source": [
    "[i for i in os.listdir(saving_path) if i.startswith(\"1094315\")] #   422865"
   ]
  },
  {
   "cell_type": "code",
   "execution_count": null,
   "id": "96133ec3",
   "metadata": {},
   "outputs": [],
   "source": []
  }
 ],
 "metadata": {
  "kernelspec": {
   "display_name": "Python 3 (ipykernel)",
   "language": "python",
   "name": "python3"
  },
  "language_info": {
   "codemirror_mode": {
    "name": "ipython",
    "version": 3
   },
   "file_extension": ".py",
   "mimetype": "text/x-python",
   "name": "python",
   "nbconvert_exporter": "python",
   "pygments_lexer": "ipython3",
   "version": "3.10.12"
  }
 },
 "nbformat": 4,
 "nbformat_minor": 5
}
