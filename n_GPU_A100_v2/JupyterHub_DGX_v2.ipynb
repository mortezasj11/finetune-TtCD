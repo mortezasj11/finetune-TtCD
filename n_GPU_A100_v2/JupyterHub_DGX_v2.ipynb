{
 "cells": [
  {
   "cell_type": "markdown",
   "id": "8f2aed02-3d9c-4f45-b9fd-92d71e1238b6",
   "metadata": {},
   "source": [
    "#  DDP"
   ]
  },
  {
   "cell_type": "markdown",
   "id": "dc22ab11-89d3-4805-9cff-b2ee1542fb68",
   "metadata": {},
   "source": [
    "### 1. running on our DGX\n",
    "- docker run -it --rm --gpus '\"device=4,5,6,7\"' -p 12344:12344 --name msalehjahromi --shm-size=192G  --user $(id -u):$(id -g) --group-add 1944259512 --cpuset-cpus=49-96 -v /rsrch7/home/ip_rsrch/wulab/:/rsrch7/home/ip_rsrch/wulab -v /rsrch1/ip/msalehjahromi/:/rsrch1/ip/msalehjahromi --name mori_jupyter nnunetv2:msalehjahromi\n",
    "- cd /rsrch1/ip/msalehjahromi/codes/FineTune/multiGPU/n_GPU_A100\n",
    "- jupyter notebook --ip 0.0.0.0 --port 12344\n",
    "- http://1mcprddgx05"
   ]
  },
  {
   "cell_type": "code",
   "execution_count": 3,
   "id": "dcb4b0a4",
   "metadata": {},
   "outputs": [
    {
     "name": "stdout",
     "output_type": "stream",
     "text": [
      "\u001b[1m\u001b[37m2a974e97ed31            \u001b[m  Wed May 28 17:59:21 2025  \u001b[1m\u001b[30m535.216.01\u001b[m\r\n",
      "\u001b[36m[0]\u001b[m \u001b[34mNVIDIA A100-SXM4-40GB\u001b[m |\u001b[31m 37'C\u001b[m, \u001b[1m\u001b[32m 77 %\u001b[m | \u001b[36m\u001b[1m\u001b[33m26949\u001b[m / \u001b[33m40960\u001b[m MB |\r\n",
      "\u001b[36m[1]\u001b[m \u001b[34mNVIDIA A100-SXM4-40GB\u001b[m |\u001b[31m 41'C\u001b[m, \u001b[1m\u001b[32m 64 %\u001b[m | \u001b[36m\u001b[1m\u001b[33m26203\u001b[m / \u001b[33m40960\u001b[m MB |\r\n",
      "\u001b[36m[2]\u001b[m \u001b[34mNVIDIA A100-SXM4-40GB\u001b[m |\u001b[31m 27'C\u001b[m, \u001b[32m  0 %\u001b[m | \u001b[36m\u001b[1m\u001b[33m  628\u001b[m / \u001b[33m40960\u001b[m MB |\r\n",
      "\u001b[36m[3]\u001b[m \u001b[34mNVIDIA A100-SXM4-40GB\u001b[m |\u001b[31m 29'C\u001b[m, \u001b[32m  0 %\u001b[m | \u001b[36m\u001b[1m\u001b[33m  628\u001b[m / \u001b[33m40960\u001b[m MB |\r\n"
     ]
    }
   ],
   "source": [
    "!gpustat"
   ]
  },
  {
   "cell_type": "code",
   "execution_count": 4,
   "id": "95f668c7",
   "metadata": {},
   "outputs": [
    {
     "name": "stdout",
     "output_type": "stream",
     "text": [
      "2\n",
      "0\n"
     ]
    }
   ],
   "source": [
    "import os\n",
    "os.environ[\"CUDA_VISIBLE_DEVICES\"] = \"2,3\"\n",
    "\n",
    "import torch\n",
    "print(torch.cuda.device_count())   # → 2\n",
    "print(torch.cuda.current_device()) # → 0 (this maps to your original GPU 2)\n"
   ]
  },
  {
   "cell_type": "markdown",
   "id": "b5180fba",
   "metadata": {},
   "source": [
    "### 2. Probably need installation, restart after and run 3"
   ]
  },
  {
   "cell_type": "code",
   "execution_count": 5,
   "id": "9e6f2e39-b110-4be8-82bd-5443f49ca638",
   "metadata": {},
   "outputs": [],
   "source": [
    "# ## !pip uninstall -q histolab -y\n",
    "# # Install required packages first\n",
    "# import os\n",
    "# import subprocess\n",
    "# pip_commands = [\n",
    "#     [\"pip\", \"install\",\"-q\", \"--extra-index-url\", \"https://download.pytorch.org/whl/cu117\", \n",
    "#      \"torch==2.0.0\", \"torchvision==0.15.0\", \"omegaconf\", \"torchmetrics==0.10.3\", \n",
    "#      \"fvcore\", \"iopath\", \"xformers==0.0.18\", \"submitit\", \"numpy<2.0\"],\n",
    "#     [\"pip\", \"install\", \"-q\",  \"--extra-index-url\", \"https://pypi.nvidia.com\", \"cuml-cu11\"],\n",
    "#     [\"pip\", \"install\",\"-q\",  \"black==22.6.0\", \"flake8==5.0.4\", \"pylint==2.15.0\"],\n",
    "#     [\"pip\", \"install\", \"-q\", \"mmsegmentation==0.27.0\"],\n",
    "#     [\"pip\", \"install\",\"-q\", \"mmcv-full==1.5.0\"],\n",
    "#     [\"pip\", \"install\",\"-q\", \"nibabel\"]\n",
    "# ]\n",
    "\n",
    "# for cmd in pip_commands:\n",
    "#     try:\n",
    "#         print(cmd)\n",
    "#         subprocess.run(cmd, check=True)\n",
    "#     except subprocess.CalledProcessError as e:\n",
    "#         print(f\"Failed to install packages with command: {cmd}\")\n",
    "#         print(f\"Error: {e}\")"
   ]
  },
  {
   "cell_type": "markdown",
   "id": "f6b58805",
   "metadata": {},
   "source": [
    "### 3. running, notice important hyperparams\n",
    "-  which model are use so vmin -1000., vmax +150, eps 0.00005\n",
    "- `num-workers`\n",
    "- `epochs`: 100\n",
    "- `accum-steps`: 2000 ?\n",
    "- `max-chunks`: 66 \n",
    "- `lr`:  lr*0.1 on base ?\n",
    "- `warmup-steps`: 5k\n",
    "- `print-every` : 5000\n",
    "- `val-every` : 40000"
   ]
  },
  {
   "cell_type": "code",
   "execution_count": null,
   "id": "47a4d328",
   "metadata": {},
   "outputs": [
    {
     "name": "stderr",
     "output_type": "stream",
     "text": [
      "WARNING:torch.distributed.run:\n",
      "*****************************************\n",
      "Setting OMP_NUM_THREADS environment variable for each process to be 1 in default, to avoid your system being overloaded, please further tune the variable for optimal performance in your application as needed. \n",
      "*****************************************\n",
      "/rsrch1/ip/msalehjahromi/codes/dinov2-torchrun-dataloader6/dinov2/layers/swiglu_ffn.py:43: UserWarning: xFormers is available (SwiGLU)\n",
      "  warnings.warn(\"xFormers is available (SwiGLU)\")\n",
      "/rsrch1/ip/msalehjahromi/codes/dinov2-torchrun-dataloader6/dinov2/layers/attention.py:27: UserWarning: xFormers is available (Attention)\n",
      "  warnings.warn(\"xFormers is available (Attention)\")\n",
      "/rsrch1/ip/msalehjahromi/codes/dinov2-torchrun-dataloader6/dinov2/layers/block.py:33: UserWarning: xFormers is available (Block)\n",
      "  warnings.warn(\"xFormers is available (Block)\")\n",
      "/rsrch1/ip/msalehjahromi/codes/dinov2-torchrun-dataloader6/dinov2/layers/swiglu_ffn.py:43: UserWarning: xFormers is available (SwiGLU)\n",
      "  warnings.warn(\"xFormers is available (SwiGLU)\")\n",
      "/rsrch1/ip/msalehjahromi/codes/dinov2-torchrun-dataloader6/dinov2/layers/attention.py:27: UserWarning: xFormers is available (Attention)\n",
      "  warnings.warn(\"xFormers is available (Attention)\")\n",
      "/rsrch1/ip/msalehjahromi/codes/dinov2-torchrun-dataloader6/dinov2/layers/block.py:33: UserWarning: xFormers is available (Block)\n",
      "  warnings.warn(\"xFormers is available (Block)\")\n"
     ]
    },
    {
     "name": "stdout",
     "output_type": "stream",
     "text": [
      "Files in the directory: ['n_GPU_A100_v2', '._.gitignore', '._.DS_Store', '._See_attention.ipynb', '1_GPU_H100', 'See_attention.ipynb', 'n_GPU_A100', 'metrics_single_gpu', 'n_H100onH100', '.DS_Store', '1_GPU_A100', 'ReadMe.md', '.gitignore', 'metrics_multi_gpu', '.git']\n",
      "Files in the directory: ['n_GPU_A100_v2', '._.gitignore', '._.DS_Store', '._See_attention.ipynb', '1_GPU_H100', 'See_attention.ipynb', 'n_GPU_A100', 'metrics_single_gpu', 'n_H100onH100', '.DS_Store', '1_GPU_A100', 'ReadMe.md', '.gitignore', 'metrics_multi_gpu', '.git']\n"
     ]
    },
    {
     "name": "stderr",
     "output_type": "stream",
     "text": [
      "2025-05-28 17:59:41,333 - INFO - Starting training on 2 GPUs with full model copies (DDP)\n"
     ]
    },
    {
     "name": "stdout",
     "output_type": "stream",
     "text": [
      "Train dataset created on rank \n",
      "Train dataset created on rank \n",
      "\n",
      "==== Dataset Statistics ====\n",
      "Total samples: 43852\n",
      "Training samples: 38382\n",
      "Validation samples: 5470\n",
      "\n",
      "1-year-cancer:\n",
      "  Train positive: 1428 (3.72%)\n",
      "  Val positive: 188 (3.44%)\n",
      "\n",
      "2-year-cancer:\n",
      "  Train positive: 1891 (4.93%)\n",
      "  Val positive: 256 (4.68%)\n",
      "\n",
      "3-year-cancer:\n",
      "  Train positive: 2282 (5.95%)\n",
      "  Val positive: 315 (5.76%)\n",
      "\n",
      "4-year-cancer:\n",
      "  Train positive: 2586 (6.74%)\n",
      "  Val positive: 363 (6.64%)\n",
      "\n",
      "5-year-cancer:\n",
      "  Train positive: 2838 (7.39%)\n",
      "  Val positive: 403 (7.37%)\n",
      "\n",
      "6-year-cancer:\n",
      "  Train positive: 2988 (7.78%)\n",
      "  Val positive: 429 (7.84%)\n",
      "============================\n",
      "\n",
      "Total validation samples: 5470\n",
      "Created distributed validation loader, each rank processes ~2568 samples\n"
     ]
    },
    {
     "name": "stderr",
     "output_type": "stream",
     "text": [
      "2025-05-28 17:59:43,249 - INFO - using MLP layer as FFN\n"
     ]
    },
    {
     "name": "stdout",
     "output_type": "stream",
     "text": [
      "Model loaded on rank \n",
      "Model loaded on rank \n"
     ]
    },
    {
     "name": "stderr",
     "output_type": "stream",
     "text": [
      "/rsrch1/ip/msalehjahromi/codes/FineTune/multiGPU/n_GPU_A100_v2/2_run_fineTune_ddp_full.py:119: UserWarning: TypedStorage is deprecated. It will be removed in the future and UntypedStorage will be the only storage class. This should only matter to you if you are using storages directly.  To access UntypedStorage directly, use tensor.untyped_storage() instead of tensor.storage()\n",
      "  if hasattr(m, n) and getattr(m, n).storage().size() == 0:\n",
      "/rsrch1/ip/msalehjahromi/codes/FineTune/multiGPU/n_GPU_A100_v2/2_run_fineTune_ddp_full.py:119: UserWarning: TypedStorage is deprecated. It will be removed in the future and UntypedStorage will be the only storage class. This should only matter to you if you are using storages directly.  To access UntypedStorage directly, use tensor.untyped_storage() instead of tensor.storage()\n",
      "  if hasattr(m, n) and getattr(m, n).storage().size() == 0:\n"
     ]
    },
    {
     "name": "stdout",
     "output_type": "stream",
     "text": [
      "[resume] no model_epoch_*.pt — fresh run\n",
      "Using unweighted BCEWithLogitsLoss\n",
      "176 26\n",
      "Will save metrics to: /rsrch1/ip/msalehjahromi/codes/FineTune/multiGPU/metrics_multi_gpu/training_metrics_nGPU_DDP_20250528_175944.jsonl\n",
      "176 26\n",
      "Will save checkpoints to /rsrch1/ip/msalehjahromi/codes/FineTune/multiGPU/n_GPU_A100_v2/output_ddp_p16_23_1150_ac2000/checkpoints\n",
      "\n",
      "Training Configuration:\n",
      "Max chunks per sample: 72\n",
      "Learning rate: 0.0004\n",
      "Gradient accumulation steps: 500\n",
      "Number of tasks: 6\n",
      "Validation frequency: 10000 steps\n",
      "Number of epochs: 200\n",
      "Warmup steps: 5000\n",
      "World size: 2\n",
      "Device: cuda\n",
      "\n",
      "Epoch 1: All parameters already unfrozen (strategy: all)\n"
     ]
    },
    {
     "name": "stderr",
     "output_type": "stream",
     "text": [
      "/.local/lib/python3.10/site-packages/xformers/ops/fmha/flash.py:338: UserWarning: TypedStorage is deprecated. It will be removed in the future and UntypedStorage will be the only storage class. This should only matter to you if you are using storages directly.  To access UntypedStorage directly, use tensor.untyped_storage() instead of tensor.storage()\n",
      "  and inp.query.storage().data_ptr() == inp.key.storage().data_ptr()\n",
      "/.local/lib/python3.10/site-packages/xformers/ops/fmha/flash.py:339: UserWarning: TypedStorage is deprecated. It will be removed in the future and UntypedStorage will be the only storage class. This should only matter to you if you are using storages directly.  To access UntypedStorage directly, use tensor.untyped_storage() instead of tensor.storage()\n",
      "  and inp.query.storage().data_ptr() == inp.value.storage().data_ptr()\n",
      "/.local/lib/python3.10/site-packages/xformers/ops/unbind.py:46: UserWarning: TypedStorage is deprecated. It will be removed in the future and UntypedStorage will be the only storage class. This should only matter to you if you are using storages directly.  To access UntypedStorage directly, use tensor.untyped_storage() instead of tensor.storage()\n",
      "  storage_data_ptr = tensors[0].storage().data_ptr()\n",
      "/.local/lib/python3.10/site-packages/xformers/ops/unbind.py:48: UserWarning: TypedStorage is deprecated. It will be removed in the future and UntypedStorage will be the only storage class. This should only matter to you if you are using storages directly.  To access UntypedStorage directly, use tensor.untyped_storage() instead of tensor.storage()\n",
      "  if x.storage().data_ptr() != storage_data_ptr:\n",
      "/.local/lib/python3.10/site-packages/xformers/ops/fmha/flash.py:338: UserWarning: TypedStorage is deprecated. It will be removed in the future and UntypedStorage will be the only storage class. This should only matter to you if you are using storages directly.  To access UntypedStorage directly, use tensor.untyped_storage() instead of tensor.storage()\n",
      "  and inp.query.storage().data_ptr() == inp.key.storage().data_ptr()\n",
      "/.local/lib/python3.10/site-packages/xformers/ops/fmha/flash.py:339: UserWarning: TypedStorage is deprecated. It will be removed in the future and UntypedStorage will be the only storage class. This should only matter to you if you are using storages directly.  To access UntypedStorage directly, use tensor.untyped_storage() instead of tensor.storage()\n",
      "  and inp.query.storage().data_ptr() == inp.value.storage().data_ptr()\n",
      "/.local/lib/python3.10/site-packages/xformers/ops/unbind.py:46: UserWarning: TypedStorage is deprecated. It will be removed in the future and UntypedStorage will be the only storage class. This should only matter to you if you are using storages directly.  To access UntypedStorage directly, use tensor.untyped_storage() instead of tensor.storage()\n",
      "  storage_data_ptr = tensors[0].storage().data_ptr()\n",
      "/.local/lib/python3.10/site-packages/xformers/ops/unbind.py:48: UserWarning: TypedStorage is deprecated. It will be removed in the future and UntypedStorage will be the only storage class. This should only matter to you if you are using storages directly.  To access UntypedStorage directly, use tensor.untyped_storage() instead of tensor.storage()\n",
      "  if x.storage().data_ptr() != storage_data_ptr:\n"
     ]
    },
    {
     "name": "stdout",
     "output_type": "stream",
     "text": [
      "\n",
      "Step 50 (Epoch 1):\n",
      "Loss: 1.4839\n",
      "Learning rate: 0.000016\n",
      "Accuracy:     T0:0.58  T1:0.44  T2:0.55  T3:0.44  T4:0.52  T5:0.67  \n",
      "Sensitivity:  T0:0.00  T1:1.00  T2:0.00  T3:0.86  T4:1.00  T5:1.00  \n",
      "Specificity:  T0:1.00  T1:0.00  T2:1.00  T3:0.08  T4:0.00  T5:0.00  \n"
     ]
    },
    {
     "name": "stderr",
     "output_type": "stream",
     "text": [
      "2025-05-28 18:01:34,670 - INFO - iteration: 50 | epoch: 0 | loss: 1.4839 | lr: 0.0000 | type: training | acc_task0: 0.5800 | sens_task0: 0.0000 | spec_task0: 1.0000 | acc_task1: 0.4400 | sens_task1: 1.0000 | spec_task1: 0.0000 | acc_task2: 0.5510 | sens_task2: 0.0000 | spec_task2: 1.0000 | acc_task3: 0.4375 | sens_task3: 0.8636 | spec_task3: 0.0769 | acc_task4: 0.5238 | sens_task4: 1.0000 | spec_task4: 0.0000 | acc_task5: 0.6667 | sens_task5: 1.0000 | spec_task5: 0.0000\n"
     ]
    },
    {
     "name": "stdout",
     "output_type": "stream",
     "text": [
      "\n",
      "Step 100 (Epoch 1):\n",
      "Loss: 1.1349\n",
      "Learning rate: 0.000016\n",
      "Accuracy:     T0:0.51  T1:0.51  T2:0.48  T3:0.48  T4:0.58  T5:0.70  \n",
      "Sensitivity:  T0:0.00  T1:1.00  T2:0.00  T3:0.86  T4:1.00  T5:1.00  \n",
      "Specificity:  T0:1.00  T1:0.00  T2:1.00  T3:0.07  T4:0.00  T5:0.00  \n"
     ]
    },
    {
     "name": "stderr",
     "output_type": "stream",
     "text": [
      "2025-05-28 18:03:19,320 - INFO - iteration: 100 | epoch: 0 | loss: 1.1349 | lr: 0.0000 | type: training | acc_task0: 0.5100 | sens_task0: 0.0000 | spec_task0: 1.0000 | acc_task1: 0.5100 | sens_task1: 1.0000 | spec_task1: 0.0000 | acc_task2: 0.4848 | sens_task2: 0.0000 | spec_task2: 1.0000 | acc_task3: 0.4845 | sens_task3: 0.8627 | spec_task3: 0.0652 | acc_task4: 0.5795 | sens_task4: 1.0000 | spec_task4: 0.0000 | acc_task5: 0.6986 | sens_task5: 1.0000 | spec_task5: 0.0000\n"
     ]
    },
    {
     "name": "stdout",
     "output_type": "stream",
     "text": [
      "\n",
      "Step 150 (Epoch 1):\n",
      "Loss: 1.0233\n",
      "Learning rate: 0.000016\n",
      "Accuracy:     T0:0.52  T1:0.49  T2:0.50  T3:0.48  T4:0.57  T5:0.69  \n",
      "Sensitivity:  T0:0.00  T1:1.00  T2:0.00  T3:0.88  T4:1.00  T5:1.00  \n",
      "Specificity:  T0:1.00  T1:0.00  T2:1.00  T3:0.06  T4:0.00  T5:0.00  \n"
     ]
    },
    {
     "name": "stderr",
     "output_type": "stream",
     "text": [
      "2025-05-28 18:04:59,739 - INFO - iteration: 150 | epoch: 0 | loss: 1.0233 | lr: 0.0000 | type: training | acc_task0: 0.5200 | sens_task0: 0.0000 | spec_task0: 1.0000 | acc_task1: 0.4933 | sens_task1: 1.0000 | spec_task1: 0.0000 | acc_task2: 0.4966 | sens_task2: 0.0000 | spec_task2: 1.0000 | acc_task3: 0.4759 | sens_task3: 0.8784 | spec_task3: 0.0563 | acc_task4: 0.5736 | sens_task4: 1.0000 | spec_task4: 0.0000 | acc_task5: 0.6944 | sens_task5: 1.0000 | spec_task5: 0.0000\n"
     ]
    },
    {
     "name": "stdout",
     "output_type": "stream",
     "text": [
      "\n",
      "Step 250 (Epoch 1):\n",
      "Loss: 1.2149\n",
      "Learning rate: 0.000016\n",
      "Accuracy:     T0:0.54  T1:0.47  T2:0.52  T3:0.47  T4:0.57  T5:0.72  \n",
      "Sensitivity:  T0:0.00  T1:1.00  T2:0.00  T3:0.91  T4:1.00  T5:1.00  \n",
      "Specificity:  T0:1.00  T1:0.00  T2:1.00  T3:0.06  T4:0.00  T5:0.00  \n"
     ]
    },
    {
     "name": "stderr",
     "output_type": "stream",
     "text": [
      "2025-05-28 18:08:45,173 - INFO - iteration: 250 | epoch: 0 | loss: 1.2149 | lr: 0.0000 | type: training | acc_task0: 0.5400 | sens_task0: 0.0000 | spec_task0: 1.0000 | acc_task1: 0.4680 | sens_task1: 1.0000 | spec_task1: 0.0000 | acc_task2: 0.5224 | sens_task2: 0.0000 | spec_task2: 1.0000 | acc_task3: 0.4689 | sens_task3: 0.9060 | spec_task3: 0.0565 | acc_task4: 0.5735 | sens_task4: 1.0000 | spec_task4: 0.0000 | acc_task5: 0.7169 | sens_task5: 1.0000 | spec_task5: 0.0000\n"
     ]
    },
    {
     "name": "stdout",
     "output_type": "stream",
     "text": [
      "\n",
      "Step 300 (Epoch 1):\n",
      "Loss: 1.2963\n",
      "Learning rate: 0.000016\n",
      "Accuracy:     T0:0.52  T1:0.49  T2:0.50  T3:0.51  T4:0.60  T5:0.74  \n",
      "Sensitivity:  T0:0.00  T1:1.00  T2:0.00  T3:0.93  T4:1.00  T5:1.00  \n",
      "Specificity:  T0:1.00  T1:0.00  T2:1.00  T3:0.08  T4:0.00  T5:0.00  \n"
     ]
    },
    {
     "name": "stderr",
     "output_type": "stream",
     "text": [
      "2025-05-28 18:10:18,766 - INFO - iteration: 300 | epoch: 0 | loss: 1.2963 | lr: 0.0000 | type: training | acc_task0: 0.5200 | sens_task0: 0.0000 | spec_task0: 1.0000 | acc_task1: 0.4916 | sens_task1: 1.0000 | spec_task1: 0.0000 | acc_task2: 0.5000 | sens_task2: 0.0000 | spec_task2: 1.0000 | acc_task3: 0.5087 | sens_task3: 0.9252 | spec_task3: 0.0775 | acc_task4: 0.5976 | sens_task4: 1.0000 | spec_task4: 0.0000 | acc_task5: 0.7376 | sens_task5: 1.0000 | spec_task5: 0.0000\n"
     ]
    },
    {
     "name": "stdout",
     "output_type": "stream",
     "text": [
      "\n",
      "Step 350 (Epoch 1):\n",
      "Loss: 1.0985\n",
      "Learning rate: 0.000016\n",
      "Accuracy:     T0:0.54  T1:0.47  T2:0.52  T3:0.50  T4:0.57  T5:0.71  \n",
      "Sensitivity:  T0:0.00  T1:1.00  T2:0.00  T3:0.93  T4:1.00  T5:1.00  \n",
      "Specificity:  T0:1.00  T1:0.00  T2:1.00  T3:0.08  T4:0.00  T5:0.00  \n"
     ]
    },
    {
     "name": "stderr",
     "output_type": "stream",
     "text": [
      "2025-05-28 18:12:24,527 - INFO - iteration: 350 | epoch: 0 | loss: 1.0985 | lr: 0.0000 | type: training | acc_task0: 0.5429 | sens_task0: 0.0000 | spec_task0: 1.0000 | acc_task1: 0.4713 | sens_task1: 1.0000 | spec_task1: 0.0000 | acc_task2: 0.5190 | sens_task2: 0.0000 | spec_task2: 1.0000 | acc_task3: 0.5000 | sens_task3: 0.9337 | spec_task3: 0.0814 | acc_task4: 0.5744 | sens_task4: 1.0000 | spec_task4: 0.0000 | acc_task5: 0.7059 | sens_task5: 1.0000 | spec_task5: 0.0000\n"
     ]
    },
    {
     "name": "stdout",
     "output_type": "stream",
     "text": [
      "\n",
      "Step 400 (Epoch 1):\n",
      "Loss: 1.3401\n",
      "Learning rate: 0.000016\n",
      "Accuracy:     T0:0.52  T1:0.49  T2:0.50  T3:0.51  T4:0.60  T5:0.73  \n",
      "Sensitivity:  T0:0.00  T1:1.00  T2:0.00  T3:0.92  T4:1.00  T5:1.00  \n",
      "Specificity:  T0:1.00  T1:0.00  T2:1.00  T3:0.07  T4:0.00  T5:0.00  \n"
     ]
    },
    {
     "name": "stderr",
     "output_type": "stream",
     "text": [
      "2025-05-28 18:14:18,512 - INFO - iteration: 400 | epoch: 0 | loss: 1.3401 | lr: 0.0000 | type: training | acc_task0: 0.5200 | sens_task0: 0.0000 | spec_task0: 1.0000 | acc_task1: 0.4925 | sens_task1: 1.0000 | spec_task1: 0.0000 | acc_task2: 0.4974 | sens_task2: 0.0000 | spec_task2: 1.0000 | acc_task3: 0.5104 | sens_task3: 0.9242 | spec_task3: 0.0745 | acc_task4: 0.5964 | sens_task4: 1.0000 | spec_task4: 0.0000 | acc_task5: 0.7326 | sens_task5: 1.0000 | spec_task5: 0.0000\n",
      "/.local/lib/python3.10/site-packages/torch/optim/lr_scheduler.py:139: UserWarning: Detected call of `lr_scheduler.step()` before `optimizer.step()`. In PyTorch 1.1.0 and later, you should call them in the opposite order: `optimizer.step()` before `lr_scheduler.step()`.  Failure to do this will result in PyTorch skipping the first value of the learning rate schedule. See more details at https://pytorch.org/docs/stable/optim.html#how-to-adjust-learning-rate\n",
      "  warnings.warn(\"Detected call of `lr_scheduler.step()` before `optimizer.step()`. \"\n",
      "/.local/lib/python3.10/site-packages/torch/optim/lr_scheduler.py:139: UserWarning: Detected call of `lr_scheduler.step()` before `optimizer.step()`. In PyTorch 1.1.0 and later, you should call them in the opposite order: `optimizer.step()` before `lr_scheduler.step()`.  Failure to do this will result in PyTorch skipping the first value of the learning rate schedule. See more details at https://pytorch.org/docs/stable/optim.html#how-to-adjust-learning-rate\n",
      "  warnings.warn(\"Detected call of `lr_scheduler.step()` before `optimizer.step()`. \"\n"
     ]
    },
    {
     "name": "stdout",
     "output_type": "stream",
     "text": [
      "\n",
      "Step 500 (Epoch 1):\n",
      "Loss: 1.3393\n",
      "Learning rate: 0.000016\n",
      "Accuracy:     T0:0.50  T1:0.51  T2:0.48  T3:0.52  T4:0.60  T5:0.73  \n",
      "Sensitivity:  T0:0.00  T1:1.00  T2:0.00  T3:0.93  T4:1.00  T5:1.00  \n",
      "Specificity:  T0:1.00  T1:0.00  T2:1.00  T3:0.07  T4:0.00  T5:0.00  \n"
     ]
    },
    {
     "name": "stderr",
     "output_type": "stream",
     "text": [
      "2025-05-28 18:18:09,311 - INFO - iteration: 500 | epoch: 0 | loss: 1.3393 | lr: 0.0000 | type: training | acc_task0: 0.5020 | sens_task0: 0.0000 | spec_task0: 1.0000 | acc_task1: 0.5080 | sens_task1: 1.0000 | spec_task1: 0.0000 | acc_task2: 0.4817 | sens_task2: 0.0000 | spec_task2: 1.0000 | acc_task3: 0.5237 | sens_task3: 0.9336 | spec_task3: 0.0655 | acc_task4: 0.6038 | sens_task4: 1.0000 | spec_task4: 0.0000 | acc_task5: 0.7288 | sens_task5: 1.0000 | spec_task5: 0.0000\n"
     ]
    },
    {
     "name": "stdout",
     "output_type": "stream",
     "text": [
      "\n",
      "Step 550 (Epoch 1):\n",
      "Loss: 1.1443\n",
      "Learning rate: 0.000016\n",
      "Accuracy:     T0:0.51  T1:0.50  T2:0.49  T3:0.52  T4:0.59  T5:0.72  \n",
      "Sensitivity:  T0:0.00  T1:1.00  T2:0.00  T3:0.93  T4:1.00  T5:1.00  \n",
      "Specificity:  T0:1.00  T1:0.00  T2:1.00  T3:0.07  T4:0.00  T5:0.00  \n"
     ]
    },
    {
     "name": "stderr",
     "output_type": "stream",
     "text": [
      "2025-05-28 18:19:38,043 - INFO - iteration: 550 | epoch: 0 | loss: 1.1443 | lr: 0.0000 | type: training | acc_task0: 0.5127 | sens_task0: 0.0000 | spec_task0: 1.0000 | acc_task1: 0.4964 | sens_task1: 1.0000 | spec_task1: 0.0000 | acc_task2: 0.4926 | sens_task2: 0.0000 | spec_task2: 1.0000 | acc_task3: 0.5169 | sens_task3: 0.9348 | spec_task3: 0.0698 | acc_task4: 0.5910 | sens_task4: 1.0000 | spec_task4: 0.0000 | acc_task5: 0.7202 | sens_task5: 1.0000 | spec_task5: 0.0000\n"
     ]
    },
    {
     "name": "stdout",
     "output_type": "stream",
     "text": [
      "\n",
      "Step 600 (Epoch 1):\n",
      "Loss: 1.3148\n",
      "Learning rate: 0.000016\n",
      "Accuracy:     T0:0.52  T1:0.49  T2:0.50  T3:0.52  T4:0.59  T5:0.72  \n",
      "Sensitivity:  T0:0.00  T1:1.00  T2:0.00  T3:0.94  T4:1.00  T5:1.00  \n",
      "Specificity:  T0:1.00  T1:0.00  T2:1.00  T3:0.07  T4:0.00  T5:0.00  \n"
     ]
    },
    {
     "name": "stderr",
     "output_type": "stream",
     "text": [
      "2025-05-28 18:21:03,379 - INFO - iteration: 600 | epoch: 0 | loss: 1.3148 | lr: 0.0000 | type: training | acc_task0: 0.5183 | sens_task0: 0.0000 | spec_task0: 1.0000 | acc_task1: 0.4916 | sens_task1: 1.0000 | spec_task1: 0.0000 | acc_task2: 0.4975 | sens_task2: 0.0000 | spec_task2: 1.0000 | acc_task3: 0.5155 | sens_task3: 0.9394 | spec_task3: 0.0707 | acc_task4: 0.5893 | sens_task4: 1.0000 | spec_task4: 0.0000 | acc_task5: 0.7188 | sens_task5: 1.0000 | spec_task5: 0.0000\n"
     ]
    },
    {
     "name": "stdout",
     "output_type": "stream",
     "text": [
      "\n",
      "Step 650 (Epoch 1):\n",
      "Loss: 1.3863\n",
      "Learning rate: 0.000016\n",
      "Accuracy:     T0:0.52  T1:0.49  T2:0.50  T3:0.52  T4:0.59  T5:0.71  \n",
      "Sensitivity:  T0:0.00  T1:1.00  T2:0.00  T3:0.94  T4:1.00  T5:1.00  \n",
      "Specificity:  T0:1.00  T1:0.00  T2:1.00  T3:0.07  T4:0.00  T5:0.00  \n"
     ]
    },
    {
     "name": "stderr",
     "output_type": "stream",
     "text": [
      "2025-05-28 18:23:17,703 - INFO - iteration: 650 | epoch: 0 | loss: 1.3863 | lr: 0.0000 | type: training | acc_task0: 0.5200 | sens_task0: 0.0000 | spec_task0: 1.0000 | acc_task1: 0.4892 | sens_task1: 1.0000 | spec_task1: 0.0000 | acc_task2: 0.4984 | sens_task2: 0.0000 | spec_task2: 1.0000 | acc_task3: 0.5183 | sens_task3: 0.9437 | spec_task3: 0.0749 | acc_task4: 0.5882 | sens_task4: 1.0000 | spec_task4: 0.0000 | acc_task5: 0.7124 | sens_task5: 1.0000 | spec_task5: 0.0000\n"
     ]
    },
    {
     "name": "stdout",
     "output_type": "stream",
     "text": [
      "\n",
      "Step 700 (Epoch 1):\n",
      "Loss: 1.0728\n",
      "Learning rate: 0.000016\n",
      "Accuracy:     T0:0.52  T1:0.49  T2:0.50  T3:0.52  T4:0.59  T5:0.72  \n",
      "Sensitivity:  T0:0.00  T1:1.00  T2:0.00  T3:0.95  T4:1.00  T5:1.00  \n",
      "Specificity:  T0:1.00  T1:0.00  T2:1.00  T3:0.07  T4:0.00  T5:0.00  \n"
     ]
    },
    {
     "name": "stderr",
     "output_type": "stream",
     "text": [
      "2025-05-28 18:24:57,938 - INFO - iteration: 700 | epoch: 0 | loss: 1.0728 | lr: 0.0000 | type: training | acc_task0: 0.5214 | sens_task0: 0.0000 | spec_task0: 1.0000 | acc_task1: 0.4892 | sens_task1: 1.0000 | spec_task1: 0.0000 | acc_task2: 0.4985 | sens_task2: 0.0000 | spec_task2: 1.0000 | acc_task3: 0.5185 | sens_task3: 0.9477 | spec_task3: 0.0725 | acc_task4: 0.5931 | sens_task4: 1.0000 | spec_task4: 0.0000 | acc_task5: 0.7164 | sens_task5: 1.0000 | spec_task5: 0.0000\n"
     ]
    },
    {
     "name": "stdout",
     "output_type": "stream",
     "text": [
      "\n",
      "Step 750 (Epoch 1):\n",
      "Loss: 1.1685\n",
      "Learning rate: 0.000016\n",
      "Accuracy:     T0:0.51  T1:0.50  T2:0.49  T3:0.52  T4:0.60  T5:0.72  \n",
      "Sensitivity:  T0:0.00  T1:1.00  T2:0.00  T3:0.95  T4:1.00  T5:1.00  \n",
      "Specificity:  T0:1.00  T1:0.00  T2:1.00  T3:0.07  T4:0.00  T5:0.00  \n"
     ]
    },
    {
     "name": "stderr",
     "output_type": "stream",
     "text": [
      "2025-05-28 18:26:15,920 - INFO - iteration: 750 | epoch: 0 | loss: 1.1685 | lr: 0.0000 | type: training | acc_task0: 0.5147 | sens_task0: 0.0000 | spec_task0: 1.0000 | acc_task1: 0.4966 | sens_task1: 1.0000 | spec_task1: 0.0000 | acc_task2: 0.4918 | sens_task2: 0.0000 | spec_task2: 1.0000 | acc_task3: 0.5242 | sens_task3: 0.9465 | spec_task3: 0.0716 | acc_task4: 0.5994 | sens_task4: 1.0000 | spec_task4: 0.0000 | acc_task5: 0.7231 | sens_task5: 1.0000 | spec_task5: 0.0000\n"
     ]
    },
    {
     "name": "stdout",
     "output_type": "stream",
     "text": [
      "\n",
      "Step 800 (Epoch 1):\n",
      "Loss: 1.1559\n",
      "Learning rate: 0.000016\n",
      "Accuracy:     T0:0.51  T1:0.50  T2:0.48  T3:0.53  T4:0.61  T5:0.73  \n",
      "Sensitivity:  T0:0.00  T1:1.00  T2:0.00  T3:0.94  T4:1.00  T5:1.00  \n",
      "Specificity:  T0:1.00  T1:0.00  T2:1.00  T3:0.07  T4:0.00  T5:0.00  \n"
     ]
    },
    {
     "name": "stderr",
     "output_type": "stream",
     "text": [
      "2025-05-28 18:27:58,570 - INFO - iteration: 800 | epoch: 0 | loss: 1.1559 | lr: 0.0000 | type: training | acc_task0: 0.5088 | sens_task0: 0.0000 | spec_task0: 1.0000 | acc_task1: 0.5044 | sens_task1: 1.0000 | spec_task1: 0.0000 | acc_task2: 0.4834 | sens_task2: 0.0000 | spec_task2: 1.0000 | acc_task3: 0.5299 | sens_task3: 0.9432 | spec_task3: 0.0712 | acc_task4: 0.6072 | sens_task4: 1.0000 | spec_task4: 0.0000 | acc_task5: 0.7281 | sens_task5: 1.0000 | spec_task5: 0.0000\n"
     ]
    },
    {
     "name": "stdout",
     "output_type": "stream",
     "text": [
      "\n",
      "Step 850 (Epoch 1):\n",
      "Loss: 1.2433\n",
      "Learning rate: 0.000016\n",
      "Accuracy:     T0:0.51  T1:0.51  T2:0.48  T3:0.53  T4:0.61  T5:0.72  \n",
      "Sensitivity:  T0:0.00  T1:1.00  T2:0.00  T3:0.94  T4:1.00  T5:1.00  \n",
      "Specificity:  T0:1.00  T1:0.00  T2:1.00  T3:0.07  T4:0.00  T5:0.00  \n"
     ]
    },
    {
     "name": "stderr",
     "output_type": "stream",
     "text": [
      "2025-05-28 18:29:46,154 - INFO - iteration: 850 | epoch: 0 | loss: 1.2433 | lr: 0.0000 | type: training | acc_task0: 0.5059 | sens_task0: 0.0000 | spec_task0: 1.0000 | acc_task1: 0.5077 | sens_task1: 1.0000 | spec_task1: 0.0000 | acc_task2: 0.4789 | sens_task2: 0.0000 | spec_task2: 1.0000 | acc_task3: 0.5336 | sens_task3: 0.9402 | spec_task3: 0.0729 | acc_task4: 0.6084 | sens_task4: 1.0000 | spec_task4: 0.0000 | acc_task5: 0.7247 | sens_task5: 1.0000 | spec_task5: 0.0000\n"
     ]
    },
    {
     "name": "stdout",
     "output_type": "stream",
     "text": [
      "\n",
      "Step 900 (Epoch 1):\n",
      "Loss: 1.2944\n",
      "Learning rate: 0.000016\n",
      "Accuracy:     T0:0.50  T1:0.51  T2:0.47  T3:0.54  T4:0.61  T5:0.73  \n",
      "Sensitivity:  T0:0.00  T1:1.00  T2:0.00  T3:0.94  T4:1.00  T5:1.00  \n",
      "Specificity:  T0:1.00  T1:0.00  T2:1.00  T3:0.07  T4:0.00  T5:0.00  \n"
     ]
    },
    {
     "name": "stderr",
     "output_type": "stream",
     "text": [
      "2025-05-28 18:31:21,506 - INFO - iteration: 900 | epoch: 0 | loss: 1.2944 | lr: 0.0000 | type: training | acc_task0: 0.5011 | sens_task0: 0.0000 | spec_task0: 1.0000 | acc_task1: 0.5123 | sens_task1: 1.0000 | spec_task1: 0.0000 | acc_task2: 0.4744 | sens_task2: 0.0000 | spec_task2: 1.0000 | acc_task3: 0.5386 | sens_task3: 0.9440 | spec_task3: 0.0720 | acc_task4: 0.6121 | sens_task4: 1.0000 | spec_task4: 0.0000 | acc_task5: 0.7281 | sens_task5: 1.0000 | spec_task5: 0.0000\n"
     ]
    },
    {
     "name": "stdout",
     "output_type": "stream",
     "text": [
      "\n",
      "Step 950 (Epoch 1):\n",
      "Loss: 1.3106\n",
      "Learning rate: 0.000016\n",
      "Accuracy:     T0:0.50  T1:0.51  T2:0.47  T3:0.54  T4:0.61  T5:0.73  \n",
      "Sensitivity:  T0:0.00  T1:1.00  T2:0.00  T3:0.95  T4:1.00  T5:1.00  \n",
      "Specificity:  T0:1.00  T1:0.00  T2:1.00  T3:0.07  T4:0.00  T5:0.00  \n"
     ]
    },
    {
     "name": "stderr",
     "output_type": "stream",
     "text": [
      "2025-05-28 18:32:59,967 - INFO - iteration: 950 | epoch: 0 | loss: 1.3106 | lr: 0.0000 | type: training | acc_task0: 0.5000 | sens_task0: 0.0000 | spec_task0: 1.0000 | acc_task1: 0.5127 | sens_task1: 1.0000 | spec_task1: 0.0000 | acc_task2: 0.4736 | sens_task2: 0.0000 | spec_task2: 1.0000 | acc_task3: 0.5398 | sens_task3: 0.9470 | spec_task3: 0.0704 | acc_task4: 0.6135 | sens_task4: 1.0000 | spec_task4: 0.0000 | acc_task5: 0.7254 | sens_task5: 1.0000 | spec_task5: 0.0000\n"
     ]
    },
    {
     "name": "stdout",
     "output_type": "stream",
     "text": [
      "\n",
      "Step 1000 (Epoch 1):\n",
      "Loss: 1.1157\n",
      "Learning rate: 0.000016\n",
      "Accuracy:     T0:0.50  T1:0.52  T2:0.47  T3:0.54  T4:0.62  T5:0.73  \n",
      "Sensitivity:  T0:0.00  T1:1.00  T2:0.00  T3:0.95  T4:1.00  T5:1.00  \n",
      "Specificity:  T0:1.00  T1:0.00  T2:1.00  T3:0.07  T4:0.00  T5:0.00  \n"
     ]
    },
    {
     "name": "stderr",
     "output_type": "stream",
     "text": [
      "2025-05-28 18:34:59,676 - INFO - iteration: 1000 | epoch: 0 | loss: 1.1157 | lr: 0.0000 | type: training | acc_task0: 0.4970 | sens_task0: 0.0000 | spec_task0: 1.0000 | acc_task1: 0.5166 | sens_task1: 1.0000 | spec_task1: 0.0000 | acc_task2: 0.4703 | sens_task2: 0.0000 | spec_task2: 1.0000 | acc_task3: 0.5425 | sens_task3: 0.9462 | spec_task3: 0.0698 | acc_task4: 0.6188 | sens_task4: 1.0000 | spec_task4: 0.0000 | acc_task5: 0.7294 | sens_task5: 1.0000 | spec_task5: 0.0000\n"
     ]
    },
    {
     "name": "stdout",
     "output_type": "stream",
     "text": [
      "\n",
      "Step 1050 (Epoch 1):\n",
      "Loss: 1.1837\n",
      "Learning rate: 0.000016\n",
      "Accuracy:     T0:0.50  T1:0.52  T2:0.47  T3:0.54  T4:0.62  T5:0.73  \n",
      "Sensitivity:  T0:0.00  T1:1.00  T2:0.00  T3:0.95  T4:1.00  T5:1.00  \n",
      "Specificity:  T0:1.00  T1:0.00  T2:1.00  T3:0.07  T4:0.00  T5:0.00  \n"
     ]
    },
    {
     "name": "stderr",
     "output_type": "stream",
     "text": [
      "2025-05-28 18:36:30,930 - INFO - iteration: 1050 | epoch: 0 | loss: 1.1837 | lr: 0.0000 | type: training | acc_task0: 0.4981 | sens_task0: 0.0000 | spec_task0: 1.0000 | acc_task1: 0.5177 | sens_task1: 1.0000 | spec_task1: 0.0000 | acc_task2: 0.4698 | sens_task2: 0.0000 | spec_task2: 1.0000 | acc_task3: 0.5414 | sens_task3: 0.9470 | spec_task3: 0.0664 | acc_task4: 0.6199 | sens_task4: 1.0000 | spec_task4: 0.0000 | acc_task5: 0.7314 | sens_task5: 1.0000 | spec_task5: 0.0000\n"
     ]
    },
    {
     "name": "stdout",
     "output_type": "stream",
     "text": [
      "\n",
      "Step 1100 (Epoch 1):\n",
      "Loss: 1.0708\n",
      "Learning rate: 0.000016\n",
      "Accuracy:     T0:0.50  T1:0.52  T2:0.47  T3:0.54  T4:0.62  T5:0.73  \n",
      "Sensitivity:  T0:0.00  T1:1.00  T2:0.00  T3:0.95  T4:1.00  T5:1.00  \n",
      "Specificity:  T0:1.00  T1:0.00  T2:1.00  T3:0.07  T4:0.00  T5:0.00  \n"
     ]
    },
    {
     "name": "stderr",
     "output_type": "stream",
     "text": [
      "2025-05-28 18:38:28,845 - INFO - iteration: 1100 | epoch: 0 | loss: 1.0708 | lr: 0.0000 | type: training | acc_task0: 0.4973 | sens_task0: 0.0000 | spec_task0: 1.0000 | acc_task1: 0.5188 | sens_task1: 1.0000 | spec_task1: 0.0000 | acc_task2: 0.4694 | sens_task2: 0.0000 | spec_task2: 1.0000 | acc_task3: 0.5432 | sens_task3: 0.9495 | spec_task3: 0.0673 | acc_task4: 0.6210 | sens_task4: 1.0000 | spec_task4: 0.0000 | acc_task5: 0.7332 | sens_task5: 1.0000 | spec_task5: 0.0000\n"
     ]
    },
    {
     "name": "stdout",
     "output_type": "stream",
     "text": [
      "\n",
      "Step 1150 (Epoch 1):\n",
      "Loss: 1.3350\n",
      "Learning rate: 0.000016\n",
      "Accuracy:     T0:0.49  T1:0.52  T2:0.47  T3:0.54  T4:0.62  T5:0.74  \n",
      "Sensitivity:  T0:0.00  T1:1.00  T2:0.00  T3:0.95  T4:1.00  T5:1.00  \n",
      "Specificity:  T0:1.00  T1:0.00  T2:1.00  T3:0.06  T4:0.00  T5:0.00  \n"
     ]
    },
    {
     "name": "stderr",
     "output_type": "stream",
     "text": [
      "2025-05-28 18:40:04,622 - INFO - iteration: 1150 | epoch: 0 | loss: 1.3350 | lr: 0.0000 | type: training | acc_task0: 0.4939 | sens_task0: 0.0000 | spec_task0: 1.0000 | acc_task1: 0.5219 | sens_task1: 1.0000 | spec_task1: 0.0000 | acc_task2: 0.4667 | sens_task2: 0.0000 | spec_task2: 1.0000 | acc_task3: 0.5450 | sens_task3: 0.9502 | spec_task3: 0.0648 | acc_task4: 0.6233 | sens_task4: 1.0000 | spec_task4: 0.0000 | acc_task5: 0.7367 | sens_task5: 1.0000 | spec_task5: 0.0000\n"
     ]
    },
    {
     "name": "stdout",
     "output_type": "stream",
     "text": [
      "\n",
      "Step 1200 (Epoch 1):\n",
      "Loss: 1.3697\n",
      "Learning rate: 0.000016\n",
      "Accuracy:     T0:0.49  T1:0.52  T2:0.47  T3:0.55  T4:0.62  T5:0.74  \n",
      "Sensitivity:  T0:0.00  T1:1.00  T2:0.00  T3:0.95  T4:1.00  T5:1.00  \n",
      "Specificity:  T0:1.00  T1:0.00  T2:1.00  T3:0.06  T4:0.00  T5:0.00  \n"
     ]
    },
    {
     "name": "stderr",
     "output_type": "stream",
     "text": [
      "2025-05-28 18:41:42,656 - INFO - iteration: 1200 | epoch: 0 | loss: 1.3697 | lr: 0.0000 | type: training | acc_task0: 0.4942 | sens_task0: 0.0000 | spec_task0: 1.0000 | acc_task1: 0.5214 | sens_task1: 1.0000 | spec_task1: 0.0000 | acc_task2: 0.4668 | sens_task2: 0.0000 | spec_task2: 1.0000 | acc_task3: 0.5466 | sens_task3: 0.9524 | spec_task3: 0.0642 | acc_task4: 0.6241 | sens_task4: 1.0000 | spec_task4: 0.0000 | acc_task5: 0.7401 | sens_task5: 1.0000 | spec_task5: 0.0000\n"
     ]
    },
    {
     "name": "stdout",
     "output_type": "stream",
     "text": [
      "\n",
      "Step 1250 (Epoch 1):\n",
      "Loss: 1.2517\n",
      "Learning rate: 0.000016\n",
      "Accuracy:     T0:0.50  T1:0.52  T2:0.47  T3:0.54  T4:0.62  T5:0.74  \n",
      "Sensitivity:  T0:0.00  T1:1.00  T2:0.00  T3:0.95  T4:1.00  T5:1.00  \n",
      "Specificity:  T0:1.00  T1:0.00  T2:1.00  T3:0.06  T4:0.00  T5:0.00  \n"
     ]
    },
    {
     "name": "stderr",
     "output_type": "stream",
     "text": [
      "2025-05-28 18:43:03,794 - INFO - iteration: 1250 | epoch: 0 | loss: 1.2517 | lr: 0.0000 | type: training | acc_task0: 0.4960 | sens_task0: 0.0000 | spec_task0: 1.0000 | acc_task1: 0.5197 | sens_task1: 1.0000 | spec_task1: 0.0000 | acc_task2: 0.4690 | sens_task2: 0.0000 | spec_task2: 1.0000 | acc_task3: 0.5434 | sens_task3: 0.9511 | spec_task3: 0.0631 | acc_task4: 0.6239 | sens_task4: 1.0000 | spec_task4: 0.0000 | acc_task5: 0.7438 | sens_task5: 1.0000 | spec_task5: 0.0000\n"
     ]
    },
    {
     "name": "stdout",
     "output_type": "stream",
     "text": [
      "\n",
      "Step 1300 (Epoch 1):\n",
      "Loss: 1.4093\n",
      "Learning rate: 0.000016\n",
      "Accuracy:     T0:0.50  T1:0.52  T2:0.47  T3:0.54  T4:0.62  T5:0.74  \n",
      "Sensitivity:  T0:0.00  T1:1.00  T2:0.00  T3:0.95  T4:1.00  T5:1.00  \n",
      "Specificity:  T0:1.00  T1:0.00  T2:1.00  T3:0.07  T4:0.00  T5:0.00  \n"
     ]
    },
    {
     "name": "stderr",
     "output_type": "stream",
     "text": [
      "2025-05-28 18:44:49,937 - INFO - iteration: 1300 | epoch: 0 | loss: 1.4093 | lr: 0.0000 | type: training | acc_task0: 0.4985 | sens_task0: 0.0000 | spec_task0: 1.0000 | acc_task1: 0.5171 | sens_task1: 1.0000 | spec_task1: 0.0000 | acc_task2: 0.4722 | sens_task2: 0.0000 | spec_task2: 1.0000 | acc_task3: 0.5421 | sens_task3: 0.9527 | spec_task3: 0.0653 | acc_task4: 0.6195 | sens_task4: 1.0000 | spec_task4: 0.0000 | acc_task5: 0.7387 | sens_task5: 1.0000 | spec_task5: 0.0000\n"
     ]
    },
    {
     "name": "stdout",
     "output_type": "stream",
     "text": [
      "\n",
      "Step 1350 (Epoch 1):\n",
      "Loss: 1.3679\n",
      "Learning rate: 0.000016\n",
      "Accuracy:     T0:0.49  T1:0.53  T2:0.46  T3:0.55  T4:0.63  T5:0.74  \n",
      "Sensitivity:  T0:0.00  T1:1.00  T2:0.00  T3:0.95  T4:1.00  T5:1.00  \n",
      "Specificity:  T0:1.00  T1:0.00  T2:1.00  T3:0.07  T4:0.00  T5:0.00  \n"
     ]
    },
    {
     "name": "stderr",
     "output_type": "stream",
     "text": [
      "2025-05-28 18:46:42,751 - INFO - iteration: 1350 | epoch: 0 | loss: 1.3679 | lr: 0.0000 | type: training | acc_task0: 0.4904 | sens_task0: 0.0000 | spec_task0: 1.0000 | acc_task1: 0.5250 | sens_task1: 1.0000 | spec_task1: 0.0000 | acc_task2: 0.4645 | sens_task2: 0.0000 | spec_task2: 1.0000 | acc_task3: 0.5486 | sens_task3: 0.9522 | spec_task3: 0.0655 | acc_task4: 0.6255 | sens_task4: 1.0000 | spec_task4: 0.0000 | acc_task5: 0.7423 | sens_task5: 1.0000 | spec_task5: 0.0000\n"
     ]
    },
    {
     "name": "stdout",
     "output_type": "stream",
     "text": [
      "\n",
      "Step 1400 (Epoch 1):\n",
      "Loss: 1.3887\n",
      "Learning rate: 0.000016\n",
      "Accuracy:     T0:0.49  T1:0.53  T2:0.46  T3:0.55  T4:0.63  T5:0.75  \n",
      "Sensitivity:  T0:0.00  T1:1.00  T2:0.00  T3:0.95  T4:1.00  T5:1.00  \n",
      "Specificity:  T0:1.00  T1:0.00  T2:1.00  T3:0.07  T4:0.00  T5:0.00  \n"
     ]
    },
    {
     "name": "stderr",
     "output_type": "stream",
     "text": [
      "2025-05-28 18:48:40,053 - INFO - iteration: 1400 | epoch: 0 | loss: 1.3887 | lr: 0.0000 | type: training | acc_task0: 0.4886 | sens_task0: 0.0000 | spec_task0: 1.0000 | acc_task1: 0.5277 | sens_task1: 1.0000 | spec_task1: 0.0000 | acc_task2: 0.4618 | sens_task2: 0.0000 | spec_task2: 1.0000 | acc_task3: 0.5517 | sens_task3: 0.9528 | spec_task3: 0.0654 | acc_task4: 0.6287 | sens_task4: 1.0000 | spec_task4: 0.0000 | acc_task5: 0.7455 | sens_task5: 1.0000 | spec_task5: 0.0000\n"
     ]
    },
    {
     "name": "stdout",
     "output_type": "stream",
     "text": [
      "\n",
      "Step 1450 (Epoch 1):\n",
      "Loss: 1.1636\n",
      "Learning rate: 0.000016\n",
      "Accuracy:     T0:0.49  T1:0.53  T2:0.46  T3:0.55  T4:0.63  T5:0.75  \n",
      "Sensitivity:  T0:0.00  T1:1.00  T2:0.00  T3:0.95  T4:1.00  T5:1.00  \n",
      "Specificity:  T0:1.00  T1:0.00  T2:1.00  T3:0.07  T4:0.00  T5:0.00  \n"
     ]
    },
    {
     "name": "stderr",
     "output_type": "stream",
     "text": [
      "2025-05-28 18:50:38,288 - INFO - iteration: 1450 | epoch: 0 | loss: 1.1636 | lr: 0.0000 | type: training | acc_task0: 0.4876 | sens_task0: 0.0000 | spec_task0: 1.0000 | acc_task1: 0.5288 | sens_task1: 1.0000 | spec_task1: 0.0000 | acc_task2: 0.4599 | sens_task2: 0.0000 | spec_task2: 1.0000 | acc_task3: 0.5517 | sens_task3: 0.9494 | spec_task3: 0.0651 | acc_task4: 0.6298 | sens_task4: 1.0000 | spec_task4: 0.0000 | acc_task5: 0.7483 | sens_task5: 1.0000 | spec_task5: 0.0000\n"
     ]
    },
    {
     "name": "stdout",
     "output_type": "stream",
     "text": [
      "\n",
      "Step 1500 (Epoch 1):\n",
      "Loss: 1.0557\n",
      "Learning rate: 0.000016\n",
      "Accuracy:     T0:0.48  T1:0.53  T2:0.46  T3:0.55  T4:0.63  T5:0.75  \n",
      "Sensitivity:  T0:0.00  T1:1.00  T2:0.00  T3:0.95  T4:1.00  T5:1.00  \n",
      "Specificity:  T0:1.00  T1:0.00  T2:1.00  T3:0.06  T4:0.00  T5:0.00  \n"
     ]
    },
    {
     "name": "stderr",
     "output_type": "stream",
     "text": [
      "2025-05-28 18:52:22,370 - INFO - iteration: 1500 | epoch: 0 | loss: 1.0557 | lr: 0.0000 | type: training | acc_task0: 0.4847 | sens_task0: 0.0000 | spec_task0: 1.0000 | acc_task1: 0.5316 | sens_task1: 1.0000 | spec_task1: 0.0000 | acc_task2: 0.4575 | sens_task2: 0.0000 | spec_task2: 1.0000 | acc_task3: 0.5531 | sens_task3: 0.9488 | spec_task3: 0.0647 | acc_task4: 0.6326 | sens_task4: 1.0000 | spec_task4: 0.0000 | acc_task5: 0.7512 | sens_task5: 1.0000 | spec_task5: 0.0000\n"
     ]
    },
    {
     "name": "stdout",
     "output_type": "stream",
     "text": [
      "\n",
      "Step 1550 (Epoch 1):\n",
      "Loss: 0.7158\n",
      "Learning rate: 0.000016\n",
      "Accuracy:     T0:0.48  T1:0.53  T2:0.46  T3:0.56  T4:0.63  T5:0.75  \n",
      "Sensitivity:  T0:0.00  T1:1.00  T2:0.00  T3:0.94  T4:1.00  T5:1.00  \n",
      "Specificity:  T0:1.00  T1:0.00  T2:1.00  T3:0.07  T4:0.00  T5:0.00  \n"
     ]
    },
    {
     "name": "stderr",
     "output_type": "stream",
     "text": [
      "2025-05-28 18:53:58,797 - INFO - iteration: 1550 | epoch: 0 | loss: 0.7158 | lr: 0.0000 | type: training | acc_task0: 0.4826 | sens_task0: 0.0000 | spec_task0: 1.0000 | acc_task1: 0.5332 | sens_task1: 1.0000 | spec_task1: 0.0000 | acc_task2: 0.4562 | sens_task2: 0.0000 | spec_task2: 1.0000 | acc_task3: 0.5553 | sens_task3: 0.9446 | spec_task3: 0.0731 | acc_task4: 0.6325 | sens_task4: 1.0000 | spec_task4: 0.0000 | acc_task5: 0.7496 | sens_task5: 1.0000 | spec_task5: 0.0000\n"
     ]
    },
    {
     "name": "stdout",
     "output_type": "stream",
     "text": [
      "\n",
      "Step 1650 (Epoch 1):\n",
      "Loss: 1.2528\n",
      "Learning rate: 0.000016\n",
      "Accuracy:     T0:0.48  T1:0.53  T2:0.46  T3:0.56  T4:0.63  T5:0.75  \n",
      "Sensitivity:  T0:0.00  T1:1.00  T2:0.00  T3:0.94  T4:1.00  T5:1.00  \n",
      "Specificity:  T0:1.00  T1:0.00  T2:1.00  T3:0.08  T4:0.00  T5:0.00  \n"
     ]
    },
    {
     "name": "stderr",
     "output_type": "stream",
     "text": [
      "2025-05-28 18:57:06,490 - INFO - iteration: 1650 | epoch: 0 | loss: 1.2528 | lr: 0.0000 | type: training | acc_task0: 0.4830 | sens_task0: 0.0000 | spec_task0: 1.0000 | acc_task1: 0.5324 | sens_task1: 1.0000 | spec_task1: 0.0000 | acc_task2: 0.4554 | sens_task2: 0.0000 | spec_task2: 1.0000 | acc_task3: 0.5581 | sens_task3: 0.9400 | spec_task3: 0.0831 | acc_task4: 0.6338 | sens_task4: 1.0000 | spec_task4: 0.0000 | acc_task5: 0.7523 | sens_task5: 1.0000 | spec_task5: 0.0000\n"
     ]
    },
    {
     "name": "stdout",
     "output_type": "stream",
     "text": [
      "\n",
      "Step 1700 (Epoch 1):\n",
      "Loss: 1.0461\n",
      "Learning rate: 0.000016\n",
      "Accuracy:     T0:0.49  T1:0.53  T2:0.46  T3:0.56  T4:0.63  T5:0.75  \n",
      "Sensitivity:  T0:0.00  T1:1.00  T2:0.00  T3:0.94  T4:1.00  T5:1.00  \n",
      "Specificity:  T0:1.00  T1:0.00  T2:1.00  T3:0.08  T4:0.00  T5:0.00  \n"
     ]
    },
    {
     "name": "stderr",
     "output_type": "stream",
     "text": [
      "2025-05-28 18:58:36,299 - INFO - iteration: 1700 | epoch: 0 | loss: 1.0461 | lr: 0.0000 | type: training | acc_task0: 0.4853 | sens_task0: 0.0000 | spec_task0: 1.0000 | acc_task1: 0.5297 | sens_task1: 1.0000 | spec_task1: 0.0000 | acc_task2: 0.4585 | sens_task2: 0.0000 | spec_task2: 1.0000 | acc_task3: 0.5557 | sens_task3: 0.9393 | spec_task3: 0.0841 | acc_task4: 0.6322 | sens_task4: 1.0000 | spec_task4: 0.0000 | acc_task5: 0.7508 | sens_task5: 1.0000 | spec_task5: 0.0000\n"
     ]
    },
    {
     "name": "stdout",
     "output_type": "stream",
     "text": [
      "\n",
      "Step 1750 (Epoch 1):\n",
      "Loss: 1.1908\n",
      "Learning rate: 0.000016\n",
      "Accuracy:     T0:0.49  T1:0.53  T2:0.46  T3:0.56  T4:0.63  T5:0.75  \n",
      "Sensitivity:  T0:0.00  T1:1.00  T2:0.00  T3:0.94  T4:1.00  T5:1.00  \n",
      "Specificity:  T0:1.00  T1:0.00  T2:1.00  T3:0.09  T4:0.00  T5:0.00  \n"
     ]
    },
    {
     "name": "stderr",
     "output_type": "stream",
     "text": [
      "2025-05-28 19:00:06,798 - INFO - iteration: 1750 | epoch: 0 | loss: 1.1908 | lr: 0.0000 | type: training | acc_task0: 0.4874 | sens_task0: 0.0000 | spec_task0: 1.0000 | acc_task1: 0.5280 | sens_task1: 1.0000 | spec_task1: 0.0000 | acc_task2: 0.4606 | sens_task2: 0.0000 | spec_task2: 1.0000 | acc_task3: 0.5561 | sens_task3: 0.9386 | spec_task3: 0.0904 | acc_task4: 0.6292 | sens_task4: 1.0000 | spec_task4: 0.0000 | acc_task5: 0.7466 | sens_task5: 1.0000 | spec_task5: 0.0000\n"
     ]
    },
    {
     "name": "stdout",
     "output_type": "stream",
     "text": [
      "\n",
      "Step 1850 (Epoch 1):\n",
      "Loss: 1.1080\n",
      "Learning rate: 0.000016\n",
      "Accuracy:     T0:0.49  T1:0.53  T2:0.46  T3:0.56  T4:0.63  T5:0.75  \n",
      "Sensitivity:  T0:0.00  T1:1.00  T2:0.00  T3:0.93  T4:1.00  T5:1.00  \n",
      "Specificity:  T0:1.00  T1:0.00  T2:1.00  T3:0.10  T4:0.00  T5:0.00  \n"
     ]
    },
    {
     "name": "stderr",
     "output_type": "stream",
     "text": [
      "2025-05-28 19:04:07,120 - INFO - iteration: 1850 | epoch: 0 | loss: 1.1080 | lr: 0.0000 | type: training | acc_task0: 0.4859 | sens_task0: 0.0000 | spec_task0: 1.0000 | acc_task1: 0.5286 | sens_task1: 1.0000 | spec_task1: 0.0000 | acc_task2: 0.4606 | sens_task2: 0.0000 | spec_task2: 1.0000 | acc_task3: 0.5561 | sens_task3: 0.9329 | spec_task3: 0.0978 | acc_task4: 0.6279 | sens_task4: 1.0000 | spec_task4: 0.0000 | acc_task5: 0.7457 | sens_task5: 1.0000 | spec_task5: 0.0000\n"
     ]
    },
    {
     "name": "stdout",
     "output_type": "stream",
     "text": [
      "\n",
      "Step 1900 (Epoch 1):\n",
      "Loss: 1.1860\n",
      "Learning rate: 0.000016\n",
      "Accuracy:     T0:0.49  T1:0.53  T2:0.46  T3:0.55  T4:0.63  T5:0.75  \n",
      "Sensitivity:  T0:0.00  T1:1.00  T2:0.00  T3:0.93  T4:1.00  T5:1.00  \n",
      "Specificity:  T0:1.00  T1:0.00  T2:1.00  T3:0.10  T4:0.00  T5:0.00  \n"
     ]
    },
    {
     "name": "stderr",
     "output_type": "stream",
     "text": [
      "2025-05-28 19:06:14,302 - INFO - iteration: 1900 | epoch: 0 | loss: 1.1860 | lr: 0.0000 | type: training | acc_task0: 0.4858 | sens_task0: 0.0000 | spec_task0: 1.0000 | acc_task1: 0.5289 | sens_task1: 1.0000 | spec_task1: 0.0000 | acc_task2: 0.4605 | sens_task2: 0.0000 | spec_task2: 1.0000 | acc_task3: 0.5550 | sens_task3: 0.9277 | spec_task3: 0.1013 | acc_task4: 0.6287 | sens_task4: 1.0000 | spec_task4: 0.0000 | acc_task5: 0.7458 | sens_task5: 1.0000 | spec_task5: 0.0000\n"
     ]
    },
    {
     "name": "stdout",
     "output_type": "stream",
     "text": [
      "\n",
      "Step 1950 (Epoch 1):\n",
      "Loss: 1.0243\n",
      "Learning rate: 0.000016\n",
      "Accuracy:     T0:0.49  T1:0.53  T2:0.46  T3:0.55  T4:0.63  T5:0.75  \n",
      "Sensitivity:  T0:0.00  T1:1.00  T2:0.00  T3:0.93  T4:1.00  T5:1.00  \n",
      "Specificity:  T0:1.00  T1:0.00  T2:1.00  T3:0.11  T4:0.00  T5:0.00  \n"
     ]
    },
    {
     "name": "stderr",
     "output_type": "stream",
     "text": [
      "2025-05-28 19:07:41,013 - INFO - iteration: 1950 | epoch: 0 | loss: 1.0243 | lr: 0.0000 | type: training | acc_task0: 0.4862 | sens_task0: 0.0000 | spec_task0: 1.0000 | acc_task1: 0.5282 | sens_task1: 1.0000 | spec_task1: 0.0000 | acc_task2: 0.4615 | sens_task2: 0.0000 | spec_task2: 1.0000 | acc_task3: 0.5546 | sens_task3: 0.9255 | spec_task3: 0.1054 | acc_task4: 0.6260 | sens_task4: 1.0000 | spec_task4: 0.0000 | acc_task5: 0.7455 | sens_task5: 1.0000 | spec_task5: 0.0000\n"
     ]
    },
    {
     "name": "stdout",
     "output_type": "stream",
     "text": [
      "\n",
      "Step 2000 (Epoch 1):\n",
      "Loss: 1.0850\n",
      "Learning rate: 0.000016\n",
      "Accuracy:     T0:0.49  T1:0.53  T2:0.46  T3:0.56  T4:0.62  T5:0.74  \n",
      "Sensitivity:  T0:0.00  T1:1.00  T2:0.00  T3:0.92  T4:1.00  T5:1.00  \n",
      "Specificity:  T0:1.00  T1:0.00  T2:1.00  T3:0.11  T4:0.00  T5:0.00  \n"
     ]
    },
    {
     "name": "stderr",
     "output_type": "stream",
     "text": [
      "2025-05-28 19:09:39,292 - INFO - iteration: 2000 | epoch: 0 | loss: 1.0850 | lr: 0.0000 | type: training | acc_task0: 0.4860 | sens_task0: 0.0000 | spec_task0: 1.0000 | acc_task1: 0.5285 | sens_task1: 1.0000 | spec_task1: 0.0000 | acc_task2: 0.4612 | sens_task2: 0.0000 | spec_task2: 1.0000 | acc_task3: 0.5553 | sens_task3: 0.9246 | spec_task3: 0.1074 | acc_task4: 0.6249 | sens_task4: 1.0000 | spec_task4: 0.0000 | acc_task5: 0.7436 | sens_task5: 1.0000 | spec_task5: 0.0000\n"
     ]
    },
    {
     "name": "stdout",
     "output_type": "stream",
     "text": [
      "\n",
      "Step 2050 (Epoch 1):\n",
      "Loss: 0.8545\n",
      "Learning rate: 0.000016\n",
      "Accuracy:     T0:0.49  T1:0.53  T2:0.46  T3:0.55  T4:0.62  T5:0.74  \n",
      "Sensitivity:  T0:0.00  T1:1.00  T2:0.00  T3:0.91  T4:1.00  T5:1.00  \n",
      "Specificity:  T0:1.00  T1:0.00  T2:1.00  T3:0.12  T4:0.00  T5:0.00  \n"
     ]
    },
    {
     "name": "stderr",
     "output_type": "stream",
     "text": [
      "2025-05-28 19:11:13,523 - INFO - iteration: 2050 | epoch: 0 | loss: 0.8545 | lr: 0.0000 | type: training | acc_task0: 0.4863 | sens_task0: 0.0000 | spec_task0: 1.0000 | acc_task1: 0.5283 | sens_task1: 1.0000 | spec_task1: 0.0010 | acc_task2: 0.4619 | sens_task2: 0.0000 | spec_task2: 1.0000 | acc_task3: 0.5542 | sens_task3: 0.9134 | spec_task3: 0.1193 | acc_task4: 0.6241 | sens_task4: 1.0000 | spec_task4: 0.0015 | acc_task5: 0.7419 | sens_task5: 1.0000 | spec_task5: 0.0000\n"
     ]
    },
    {
     "name": "stdout",
     "output_type": "stream",
     "text": [
      "\n",
      "Step 2100 (Epoch 1):\n",
      "Loss: 1.1591\n",
      "Learning rate: 0.000016\n",
      "Accuracy:     T0:0.49  T1:0.53  T2:0.46  T3:0.55  T4:0.62  T5:0.74  \n",
      "Sensitivity:  T0:0.00  T1:1.00  T2:0.00  T3:0.91  T4:1.00  T5:1.00  \n",
      "Specificity:  T0:1.00  T1:0.00  T2:1.00  T3:0.13  T4:0.00  T5:0.00  \n"
     ]
    },
    {
     "name": "stderr",
     "output_type": "stream",
     "text": [
      "2025-05-28 19:13:15,617 - INFO - iteration: 2100 | epoch: 0 | loss: 1.1591 | lr: 0.0000 | type: training | acc_task0: 0.4881 | sens_task0: 0.0000 | spec_task0: 1.0000 | acc_task1: 0.5266 | sens_task1: 1.0000 | spec_task1: 0.0010 | acc_task2: 0.4638 | sens_task2: 0.0000 | spec_task2: 1.0000 | acc_task3: 0.5534 | sens_task3: 0.9071 | spec_task3: 0.1280 | acc_task4: 0.6219 | sens_task4: 1.0000 | spec_task4: 0.0015 | acc_task5: 0.7419 | sens_task5: 1.0000 | spec_task5: 0.0000\n"
     ]
    },
    {
     "name": "stdout",
     "output_type": "stream",
     "text": [
      "\n",
      "Step 2150 (Epoch 1):\n",
      "Loss: 0.8679\n",
      "Learning rate: 0.000016\n",
      "Accuracy:     T0:0.49  T1:0.53  T2:0.46  T3:0.55  T4:0.62  T5:0.74  \n",
      "Sensitivity:  T0:0.00  T1:1.00  T2:0.00  T3:0.90  T4:1.00  T5:1.00  \n",
      "Specificity:  T0:1.00  T1:0.00  T2:1.00  T3:0.14  T4:0.00  T5:0.00  \n"
     ]
    },
    {
     "name": "stderr",
     "output_type": "stream",
     "text": [
      "2025-05-28 19:14:33,205 - INFO - iteration: 2150 | epoch: 0 | loss: 0.8679 | lr: 0.0000 | type: training | acc_task0: 0.4874 | sens_task0: 0.0000 | spec_task0: 1.0000 | acc_task1: 0.5275 | sens_task1: 1.0000 | spec_task1: 0.0010 | acc_task2: 0.4632 | sens_task2: 0.0000 | spec_task2: 1.0000 | acc_task3: 0.5536 | sens_task3: 0.8996 | spec_task3: 0.1368 | acc_task4: 0.6224 | sens_task4: 1.0000 | spec_task4: 0.0014 | acc_task5: 0.7440 | sens_task5: 1.0000 | spec_task5: 0.0000\n"
     ]
    },
    {
     "name": "stdout",
     "output_type": "stream",
     "text": [
      "\n",
      "Step 2200 (Epoch 1):\n",
      "Loss: 1.0087\n",
      "Learning rate: 0.000016\n",
      "Accuracy:     T0:0.49  T1:0.53  T2:0.47  T3:0.55  T4:0.62  T5:0.74  \n",
      "Sensitivity:  T0:0.00  T1:1.00  T2:0.00  T3:0.89  T4:1.00  T5:1.00  \n",
      "Specificity:  T0:1.00  T1:0.00  T2:1.00  T3:0.14  T4:0.00  T5:0.00  \n"
     ]
    },
    {
     "name": "stderr",
     "output_type": "stream",
     "text": [
      "2025-05-28 19:16:23,485 - INFO - iteration: 2200 | epoch: 0 | loss: 1.0087 | lr: 0.0000 | type: training | acc_task0: 0.4895 | sens_task0: 0.0000 | spec_task0: 1.0000 | acc_task1: 0.5255 | sens_task1: 1.0000 | spec_task1: 0.0010 | acc_task2: 0.4654 | sens_task2: 0.0000 | spec_task2: 1.0000 | acc_task3: 0.5499 | sens_task3: 0.8911 | spec_task3: 0.1424 | acc_task4: 0.6207 | sens_task4: 1.0000 | spec_task4: 0.0014 | acc_task5: 0.7418 | sens_task5: 1.0000 | spec_task5: 0.0000\n"
     ]
    },
    {
     "name": "stdout",
     "output_type": "stream",
     "text": [
      "\n",
      "Step 2250 (Epoch 1):\n",
      "Loss: 0.0640\n",
      "Learning rate: 0.000016\n",
      "Accuracy:     T0:0.49  T1:0.53  T2:0.47  T3:0.55  T4:0.62  T5:0.74  \n",
      "Sensitivity:  T0:0.00  T1:1.00  T2:0.00  T3:0.88  T4:1.00  T5:1.00  \n",
      "Specificity:  T0:1.00  T1:0.00  T2:1.00  T3:0.15  T4:0.00  T5:0.00  \n"
     ]
    },
    {
     "name": "stderr",
     "output_type": "stream",
     "text": [
      "2025-05-28 19:17:59,015 - INFO - iteration: 2250 | epoch: 0 | loss: 0.0640 | lr: 0.0000 | type: training | acc_task0: 0.4893 | sens_task0: 0.0000 | spec_task0: 1.0000 | acc_task1: 0.5256 | sens_task1: 1.0000 | spec_task1: 0.0009 | acc_task2: 0.4655 | sens_task2: 0.0000 | spec_task2: 1.0000 | acc_task3: 0.5503 | sens_task3: 0.8842 | spec_task3: 0.1522 | acc_task4: 0.6200 | sens_task4: 1.0000 | spec_task4: 0.0014 | acc_task5: 0.7427 | sens_task5: 1.0000 | spec_task5: 0.0000\n"
     ]
    },
    {
     "name": "stdout",
     "output_type": "stream",
     "text": [
      "\n",
      "Step 2300 (Epoch 1):\n",
      "Loss: 0.9819\n",
      "Learning rate: 0.000016\n",
      "Accuracy:     T0:0.49  T1:0.52  T2:0.47  T3:0.55  T4:0.62  T5:0.74  \n",
      "Sensitivity:  T0:0.00  T1:1.00  T2:0.00  T3:0.88  T4:1.00  T5:1.00  \n",
      "Specificity:  T0:1.00  T1:0.00  T2:1.00  T3:0.16  T4:0.00  T5:0.00  \n"
     ]
    },
    {
     "name": "stderr",
     "output_type": "stream",
     "text": [
      "2025-05-28 19:20:16,559 - INFO - iteration: 2300 | epoch: 0 | loss: 0.9819 | lr: 0.0000 | type: training | acc_task0: 0.4917 | sens_task0: 0.0000 | spec_task0: 1.0000 | acc_task1: 0.5228 | sens_task1: 1.0000 | spec_task1: 0.0009 | acc_task2: 0.4685 | sens_task2: 0.0000 | spec_task2: 1.0000 | acc_task3: 0.5501 | sens_task3: 0.8795 | spec_task3: 0.1624 | acc_task4: 0.6163 | sens_task4: 1.0000 | spec_task4: 0.0013 | acc_task5: 0.7413 | sens_task5: 1.0000 | spec_task5: 0.0000\n"
     ]
    },
    {
     "name": "stdout",
     "output_type": "stream",
     "text": [
      "\n",
      "Step 2350 (Epoch 1):\n",
      "Loss: 1.0242\n",
      "Learning rate: 0.000016\n",
      "Accuracy:     T0:0.49  T1:0.52  T2:0.47  T3:0.55  T4:0.62  T5:0.74  \n",
      "Sensitivity:  T0:0.00  T1:1.00  T2:0.00  T3:0.88  T4:1.00  T5:1.00  \n",
      "Specificity:  T0:1.00  T1:0.00  T2:1.00  T3:0.17  T4:0.00  T5:0.00  \n"
     ]
    },
    {
     "name": "stderr",
     "output_type": "stream",
     "text": [
      "2025-05-28 19:22:12,344 - INFO - iteration: 2350 | epoch: 0 | loss: 1.0242 | lr: 0.0000 | type: training | acc_task0: 0.4915 | sens_task0: 0.0000 | spec_task0: 1.0000 | acc_task1: 0.5228 | sens_task1: 1.0000 | spec_task1: 0.0009 | acc_task2: 0.4681 | sens_task2: 0.0000 | spec_task2: 1.0000 | acc_task3: 0.5497 | sens_task3: 0.8756 | spec_task3: 0.1657 | acc_task4: 0.6162 | sens_task4: 1.0000 | spec_task4: 0.0013 | acc_task5: 0.7411 | sens_task5: 1.0000 | spec_task5: 0.0000\n"
     ]
    },
    {
     "name": "stdout",
     "output_type": "stream",
     "text": [
      "\n",
      "Step 2400 (Epoch 1):\n",
      "Loss: 0.9816\n",
      "Learning rate: 0.000016\n",
      "Accuracy:     T0:0.49  T1:0.52  T2:0.47  T3:0.55  T4:0.62  T5:0.74  \n",
      "Sensitivity:  T0:0.00  T1:1.00  T2:0.00  T3:0.87  T4:1.00  T5:1.00  \n",
      "Specificity:  T0:1.00  T1:0.00  T2:1.00  T3:0.17  T4:0.00  T5:0.00  \n"
     ]
    },
    {
     "name": "stderr",
     "output_type": "stream",
     "text": [
      "2025-05-28 19:23:31,279 - INFO - iteration: 2400 | epoch: 0 | loss: 0.9816 | lr: 0.0000 | type: training | acc_task0: 0.4913 | sens_task0: 0.0000 | spec_task0: 1.0000 | acc_task1: 0.5236 | sens_task1: 1.0000 | spec_task1: 0.0009 | acc_task2: 0.4670 | sens_task2: 0.0000 | spec_task2: 1.0000 | acc_task3: 0.5495 | sens_task3: 0.8688 | spec_task3: 0.1720 | acc_task4: 0.6173 | sens_task4: 1.0000 | spec_task4: 0.0013 | acc_task5: 0.7410 | sens_task5: 1.0000 | spec_task5: 0.0000\n"
     ]
    },
    {
     "name": "stdout",
     "output_type": "stream",
     "text": [
      "\n",
      "Step 2450 (Epoch 1):\n",
      "Loss: 0.8961\n",
      "Learning rate: 0.000016\n",
      "Accuracy:     T0:0.49  T1:0.52  T2:0.47  T3:0.55  T4:0.62  T5:0.74  \n",
      "Sensitivity:  T0:0.00  T1:1.00  T2:0.00  T3:0.86  T4:1.00  T5:1.00  \n",
      "Specificity:  T0:1.00  T1:0.00  T2:1.00  T3:0.18  T4:0.00  T5:0.00  \n"
     ]
    },
    {
     "name": "stderr",
     "output_type": "stream",
     "text": [
      "2025-05-28 19:25:29,297 - INFO - iteration: 2450 | epoch: 0 | loss: 0.8961 | lr: 0.0000 | type: training | acc_task0: 0.4910 | sens_task0: 0.0000 | spec_task0: 1.0000 | acc_task1: 0.5235 | sens_task1: 1.0000 | spec_task1: 0.0009 | acc_task2: 0.4673 | sens_task2: 0.0000 | spec_task2: 1.0000 | acc_task3: 0.5479 | sens_task3: 0.8606 | spec_task3: 0.1785 | acc_task4: 0.6170 | sens_task4: 1.0000 | spec_task4: 0.0012 | acc_task5: 0.7410 | sens_task5: 1.0000 | spec_task5: 0.0000\n"
     ]
    },
    {
     "name": "stdout",
     "output_type": "stream",
     "text": [
      "\n",
      "Step 2500 (Epoch 1):\n",
      "Loss: 0.7679\n",
      "Learning rate: 0.000016\n",
      "Accuracy:     T0:0.49  T1:0.52  T2:0.47  T3:0.55  T4:0.62  T5:0.74  \n",
      "Sensitivity:  T0:0.00  T1:1.00  T2:0.00  T3:0.86  T4:1.00  T5:1.00  \n",
      "Specificity:  T0:1.00  T1:0.00  T2:1.00  T3:0.18  T4:0.00  T5:0.00  \n"
     ]
    },
    {
     "name": "stderr",
     "output_type": "stream",
     "text": [
      "2025-05-28 19:27:07,197 - INFO - iteration: 2500 | epoch: 0 | loss: 0.7679 | lr: 0.0000 | type: training | acc_task0: 0.4916 | sens_task0: 0.0000 | spec_task0: 1.0000 | acc_task1: 0.5230 | sens_task1: 1.0000 | spec_task1: 0.0008 | acc_task2: 0.4675 | sens_task2: 0.0000 | spec_task2: 1.0000 | acc_task3: 0.5473 | sens_task3: 0.8571 | spec_task3: 0.1820 | acc_task4: 0.6175 | sens_task4: 1.0000 | spec_task4: 0.0012 | acc_task5: 0.7412 | sens_task5: 1.0000 | spec_task5: 0.0000\n"
     ]
    },
    {
     "name": "stdout",
     "output_type": "stream",
     "text": [
      "\n",
      "Step 2550 (Epoch 1):\n",
      "Loss: 0.7534\n",
      "Learning rate: 0.000016\n",
      "Accuracy:     T0:0.49  T1:0.52  T2:0.47  T3:0.55  T4:0.62  T5:0.74  \n",
      "Sensitivity:  T0:0.00  T1:1.00  T2:0.00  T3:0.84  T4:1.00  T5:1.00  \n",
      "Specificity:  T0:1.00  T1:0.00  T2:1.00  T3:0.19  T4:0.00  T5:0.00  \n"
     ]
    },
    {
     "name": "stderr",
     "output_type": "stream",
     "text": [
      "2025-05-28 19:28:48,702 - INFO - iteration: 2550 | epoch: 0 | loss: 0.7534 | lr: 0.0000 | type: training | acc_task0: 0.4902 | sens_task0: 0.0000 | spec_task0: 1.0000 | acc_task1: 0.5242 | sens_task1: 1.0000 | spec_task1: 0.0008 | acc_task2: 0.4656 | sens_task2: 0.0000 | spec_task2: 1.0000 | acc_task3: 0.5450 | sens_task3: 0.8433 | spec_task3: 0.1901 | acc_task4: 0.6198 | sens_task4: 1.0000 | spec_task4: 0.0012 | acc_task5: 0.7435 | sens_task5: 1.0000 | spec_task5: 0.0000\n"
     ]
    },
    {
     "name": "stdout",
     "output_type": "stream",
     "text": [
      "\n",
      "Step 2600 (Epoch 1):\n",
      "Loss: 1.0651\n",
      "Learning rate: 0.000016\n",
      "Accuracy:     T0:0.49  T1:0.52  T2:0.47  T3:0.54  T4:0.62  T5:0.74  \n",
      "Sensitivity:  T0:0.00  T1:1.00  T2:0.00  T3:0.83  T4:1.00  T5:1.00  \n",
      "Specificity:  T0:1.00  T1:0.00  T2:1.00  T3:0.20  T4:0.00  T5:0.00  \n"
     ]
    },
    {
     "name": "stderr",
     "output_type": "stream",
     "text": [
      "2025-05-28 19:30:25,394 - INFO - iteration: 2600 | epoch: 0 | loss: 1.0651 | lr: 0.0000 | type: training | acc_task0: 0.4908 | sens_task0: 0.0000 | spec_task0: 1.0000 | acc_task1: 0.5235 | sens_task1: 1.0000 | spec_task1: 0.0008 | acc_task2: 0.4664 | sens_task2: 0.0000 | spec_task2: 1.0000 | acc_task3: 0.5423 | sens_task3: 0.8322 | spec_task3: 0.1983 | acc_task4: 0.6191 | sens_task4: 1.0000 | spec_task4: 0.0012 | acc_task5: 0.7427 | sens_task5: 1.0000 | spec_task5: 0.0000\n"
     ]
    },
    {
     "name": "stdout",
     "output_type": "stream",
     "text": [
      "\n",
      "Step 2650 (Epoch 1):\n",
      "Loss: 1.0409\n",
      "Learning rate: 0.000016\n",
      "Accuracy:     T0:0.49  T1:0.52  T2:0.47  T3:0.54  T4:0.62  T5:0.74  \n",
      "Sensitivity:  T0:0.00  T1:1.00  T2:0.00  T3:0.82  T4:1.00  T5:1.00  \n",
      "Specificity:  T0:1.00  T1:0.00  T2:1.00  T3:0.21  T4:0.00  T5:0.00  \n"
     ]
    },
    {
     "name": "stderr",
     "output_type": "stream",
     "text": [
      "2025-05-28 19:32:08,356 - INFO - iteration: 2650 | epoch: 0 | loss: 1.0409 | lr: 0.0000 | type: training | acc_task0: 0.4917 | sens_task0: 0.0000 | spec_task0: 1.0000 | acc_task1: 0.5227 | sens_task1: 1.0000 | spec_task1: 0.0008 | acc_task2: 0.4675 | sens_task2: 0.0000 | spec_task2: 1.0000 | acc_task3: 0.5425 | sens_task3: 0.8222 | spec_task3: 0.2119 | acc_task4: 0.6184 | sens_task4: 1.0000 | spec_task4: 0.0012 | acc_task5: 0.7434 | sens_task5: 1.0000 | spec_task5: 0.0000\n"
     ]
    },
    {
     "name": "stdout",
     "output_type": "stream",
     "text": [
      "\n",
      "Step 2700 (Epoch 1):\n",
      "Loss: 0.9775\n",
      "Learning rate: 0.000016\n",
      "Accuracy:     T0:0.49  T1:0.52  T2:0.47  T3:0.54  T4:0.62  T5:0.75  \n",
      "Sensitivity:  T0:0.00  T1:1.00  T2:0.00  T3:0.81  T4:1.00  T5:1.00  \n",
      "Specificity:  T0:1.00  T1:0.00  T2:1.00  T3:0.22  T4:0.00  T5:0.00  \n"
     ]
    },
    {
     "name": "stderr",
     "output_type": "stream",
     "text": [
      "2025-05-28 19:34:03,932 - INFO - iteration: 2700 | epoch: 0 | loss: 0.9775 | lr: 0.0000 | type: training | acc_task0: 0.4915 | sens_task0: 0.0000 | spec_task0: 1.0000 | acc_task1: 0.5225 | sens_task1: 0.9993 | spec_task1: 0.0008 | acc_task2: 0.4675 | sens_task2: 0.0000 | spec_task2: 1.0000 | acc_task3: 0.5406 | sens_task3: 0.8113 | spec_task3: 0.2206 | acc_task4: 0.6187 | sens_task4: 1.0000 | spec_task4: 0.0011 | acc_task5: 0.7453 | sens_task5: 1.0000 | spec_task5: 0.0000\n"
     ]
    },
    {
     "name": "stdout",
     "output_type": "stream",
     "text": [
      "\n",
      "Step 2750 (Epoch 1):\n",
      "Loss: 0.8443\n",
      "Learning rate: 0.000016\n",
      "Accuracy:     T0:0.49  T1:0.52  T2:0.47  T3:0.54  T4:0.62  T5:0.75  \n",
      "Sensitivity:  T0:0.00  T1:1.00  T2:0.00  T3:0.80  T4:1.00  T5:1.00  \n",
      "Specificity:  T0:1.00  T1:0.00  T2:1.00  T3:0.23  T4:0.00  T5:0.00  \n"
     ]
    },
    {
     "name": "stderr",
     "output_type": "stream",
     "text": [
      "2025-05-28 19:35:35,442 - INFO - iteration: 2750 | epoch: 0 | loss: 0.8443 | lr: 0.0000 | type: training | acc_task0: 0.4916 | sens_task0: 0.0000 | spec_task0: 1.0000 | acc_task1: 0.5220 | sens_task1: 0.9993 | spec_task1: 0.0008 | acc_task2: 0.4679 | sens_task2: 0.0000 | spec_task2: 1.0000 | acc_task3: 0.5410 | sens_task3: 0.8035 | spec_task3: 0.2307 | acc_task4: 0.6196 | sens_task4: 1.0000 | spec_task4: 0.0011 | acc_task5: 0.7470 | sens_task5: 1.0000 | spec_task5: 0.0000\n"
     ]
    },
    {
     "name": "stdout",
     "output_type": "stream",
     "text": [
      "\n",
      "Step 2800 (Epoch 1):\n",
      "Loss: 1.0574\n",
      "Learning rate: 0.000016\n",
      "Accuracy:     T0:0.49  T1:0.52  T2:0.47  T3:0.54  T4:0.62  T5:0.75  \n",
      "Sensitivity:  T0:0.00  T1:1.00  T2:0.00  T3:0.80  T4:1.00  T5:1.00  \n",
      "Specificity:  T0:1.00  T1:0.00  T2:1.00  T3:0.24  T4:0.00  T5:0.00  \n"
     ]
    },
    {
     "name": "stderr",
     "output_type": "stream",
     "text": [
      "2025-05-28 19:37:06,961 - INFO - iteration: 2800 | epoch: 0 | loss: 1.0574 | lr: 0.0000 | type: training | acc_task0: 0.4936 | sens_task0: 0.0000 | spec_task0: 1.0000 | acc_task1: 0.5200 | sens_task1: 0.9993 | spec_task1: 0.0008 | acc_task2: 0.4699 | sens_task2: 0.0000 | spec_task2: 1.0000 | acc_task3: 0.5429 | sens_task3: 0.7986 | spec_task3: 0.2432 | acc_task4: 0.6168 | sens_task4: 1.0000 | spec_task4: 0.0011 | acc_task5: 0.7451 | sens_task5: 1.0000 | spec_task5: 0.0000\n"
     ]
    },
    {
     "name": "stdout",
     "output_type": "stream",
     "text": [
      "\n",
      "Step 2850 (Epoch 1):\n",
      "Loss: 1.0081\n",
      "Learning rate: 0.000016\n",
      "Accuracy:     T0:0.49  T1:0.52  T2:0.47  T3:0.54  T4:0.62  T5:0.74  \n",
      "Sensitivity:  T0:0.00  T1:1.00  T2:0.00  T3:0.79  T4:1.00  T5:1.00  \n",
      "Specificity:  T0:1.00  T1:0.00  T2:1.00  T3:0.25  T4:0.00  T5:0.00  \n"
     ]
    },
    {
     "name": "stderr",
     "output_type": "stream",
     "text": [
      "2025-05-28 19:38:50,983 - INFO - iteration: 2850 | epoch: 0 | loss: 1.0081 | lr: 0.0000 | type: training | acc_task0: 0.4937 | sens_task0: 0.0000 | spec_task0: 1.0000 | acc_task1: 0.5193 | sens_task1: 0.9986 | spec_task1: 0.0007 | acc_task2: 0.4705 | sens_task2: 0.0000 | spec_task2: 1.0000 | acc_task3: 0.5408 | sens_task3: 0.7906 | spec_task3: 0.2488 | acc_task4: 0.6159 | sens_task4: 1.0000 | spec_task4: 0.0011 | acc_task5: 0.7445 | sens_task5: 1.0000 | spec_task5: 0.0000\n"
     ]
    },
    {
     "name": "stdout",
     "output_type": "stream",
     "text": [
      "\n",
      "Step 2900 (Epoch 1):\n",
      "Loss: 0.9448\n",
      "Learning rate: 0.000016\n",
      "Accuracy:     T0:0.49  T1:0.52  T2:0.47  T3:0.54  T4:0.62  T5:0.75  \n",
      "Sensitivity:  T0:0.00  T1:1.00  T2:0.00  T3:0.78  T4:1.00  T5:1.00  \n",
      "Specificity:  T0:1.00  T1:0.00  T2:1.00  T3:0.26  T4:0.00  T5:0.00  \n"
     ]
    },
    {
     "name": "stderr",
     "output_type": "stream",
     "text": [
      "2025-05-28 19:41:01,221 - INFO - iteration: 2900 | epoch: 0 | loss: 0.9448 | lr: 0.0000 | type: training | acc_task0: 0.4924 | sens_task0: 0.0000 | spec_task0: 1.0000 | acc_task1: 0.5207 | sens_task1: 0.9987 | spec_task1: 0.0007 | acc_task2: 0.4692 | sens_task2: 0.0000 | spec_task2: 1.0000 | acc_task3: 0.5407 | sens_task3: 0.7815 | spec_task3: 0.2576 | acc_task4: 0.6168 | sens_task4: 1.0000 | spec_task4: 0.0011 | acc_task5: 0.7465 | sens_task5: 1.0000 | spec_task5: 0.0000\n"
     ]
    },
    {
     "name": "stdout",
     "output_type": "stream",
     "text": [
      "\n",
      "Step 2950 (Epoch 1):\n",
      "Loss: 1.0869\n",
      "Learning rate: 0.000016\n",
      "Accuracy:     T0:0.49  T1:0.52  T2:0.47  T3:0.54  T4:0.62  T5:0.75  \n",
      "Sensitivity:  T0:0.00  T1:1.00  T2:0.00  T3:0.77  T4:1.00  T5:1.00  \n",
      "Specificity:  T0:1.00  T1:0.00  T2:1.00  T3:0.27  T4:0.00  T5:0.00  \n"
     ]
    },
    {
     "name": "stderr",
     "output_type": "stream",
     "text": [
      "2025-05-28 19:42:52,545 - INFO - iteration: 2950 | epoch: 0 | loss: 1.0869 | lr: 0.0000 | type: training | acc_task0: 0.4922 | sens_task0: 0.0000 | spec_task0: 1.0000 | acc_task1: 0.5207 | sens_task1: 0.9987 | spec_task1: 0.0007 | acc_task2: 0.4690 | sens_task2: 0.0000 | spec_task2: 1.0000 | acc_task3: 0.5398 | sens_task3: 0.7729 | spec_task3: 0.2656 | acc_task4: 0.6164 | sens_task4: 1.0000 | spec_task4: 0.0010 | acc_task5: 0.7465 | sens_task5: 1.0000 | spec_task5: 0.0000\n"
     ]
    }
   ],
   "source": [
    "## Install required packages first\n",
    "\n",
    "import os\n",
    "import subprocess\n",
    "# Set required environment variables\n",
    "os.environ[\"MASTER_ADDR\"] = \"localhost\"\n",
    "os.environ[\"MASTER_PORT\"] = \"29500\"\n",
    "os.environ[\"RANK\"] = \"0\"\n",
    "os.environ[\"WORLD_SIZE\"] = \"2\"\n",
    "os.environ[\"LOCAL_RANK\"] = \"0\"\n",
    "os.environ[\"LOCAL_WORLD_SIZE\"] = \"2\"\n",
    "\n",
    "# Build the command with --install-packages flag removed\n",
    "command = [\n",
    "    \"python3\",\n",
    "    \"/rsrch1/ip/msalehjahromi/codes/FineTune/multiGPU/n_GPU_A100_v2/2_run_fineTune_ddp_launcher.py\", ##changed\n",
    "    \"--num-gpus\", \"2\",\n",
    "    \"--csv\", \"/rsrch1/ip/msalehjahromi/codes/FineTune/nlst_event_train_val_.csv\",\n",
    "    \"--accum-steps\", \"500\", ###############\n",
    "    \"--num-workers\", \"5\",\n",
    "    \"--epochs\", \"200\", ###############\n",
    "    \"--lr\", \"0.0004\", ###############\n",
    "    \"--weight-decay\", \"0.0001\",\n",
    "    \"--optimizer\", \"adamw\",\n",
    "    \"--num-attn-heads\", \"3\",\n",
    "    \"--num-layers\", \"2\",\n",
    "    \"--dropout\", \"0.35\",\n",
    "    \"--unfreeze-strategy\", \"all\",  \n",
    "    \"--output\", \"/rsrch1/ip/msalehjahromi/codes/FineTune/multiGPU/n_GPU_A100_v2/output_ddp_p16_23_1150_ac2000\",\n",
    "    \"--print-every\", \"50\", ################ 2000\n",
    "    \"--val-every\", \"10000\", ################ 50k\n",
    "    \"--metrics-dir\", \"/rsrch1/ip/msalehjahromi/codes/FineTune/multiGPU/metrics_multi_gpu\"\n",
    "]\n",
    "\n",
    "# Run the command\n",
    "try:\n",
    "    subprocess.run(command, check=True)\n",
    "except subprocess.CalledProcessError as e:\n",
    "    print(f\"Error occurred: {e}\")\n",
    "    print(f\"Command output: {e.output if hasattr(e, 'output') else 'No output available'}\")"
   ]
  },
  {
   "cell_type": "code",
   "execution_count": null,
   "id": "7ee68b16",
   "metadata": {},
   "outputs": [],
   "source": []
  },
  {
   "cell_type": "code",
   "execution_count": null,
   "id": "89188a29",
   "metadata": {},
   "outputs": [],
   "source": []
  }
 ],
 "metadata": {
  "kernelspec": {
   "display_name": "Python 3 (ipykernel)",
   "language": "python",
   "name": "python3"
  },
  "language_info": {
   "codemirror_mode": {
    "name": "ipython",
    "version": 3
   },
   "file_extension": ".py",
   "mimetype": "text/x-python",
   "name": "python",
   "nbconvert_exporter": "python",
   "pygments_lexer": "ipython3",
   "version": "3.10.12"
  }
 },
 "nbformat": 4,
 "nbformat_minor": 5
}
